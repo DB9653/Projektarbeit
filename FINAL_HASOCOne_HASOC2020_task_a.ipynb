{
  "nbformat": 4,
  "nbformat_minor": 0,
  "metadata": {
    "colab": {
      "name": "FINAL_HASOCOne_HASOC2020_task_a.ipynb",
      "provenance": [],
      "collapsed_sections": [
        "EpWushM2_YqA",
        "xfRoTjQB_bmA",
        "MCLlv1e9_dwZ",
        "0zR-uxcY_qBS",
        "Cu3Tnb8__vdI",
        "m_uSgl5N_0E7",
        "uLCAUX3gABhU"
      ],
      "include_colab_link": true
    },
    "kernelspec": {
      "name": "python3",
      "display_name": "Python 3"
    },
    "language_info": {
      "name": "python"
    },
    "accelerator": "GPU"
  },
  "cells": [
    {
      "cell_type": "markdown",
      "metadata": {
        "id": "view-in-github",
        "colab_type": "text"
      },
      "source": [
        "<a href=\"https://colab.research.google.com/github/DB9653/Projektarbeit/blob/main/FINAL_HASOCOne_HASOC2020_task_a.ipynb\" target=\"_parent\"><img src=\"https://colab.research.google.com/assets/colab-badge.svg\" alt=\"Open In Colab\"/></a>"
      ]
    },
    {
      "cell_type": "markdown",
      "source": [
        "# CUDA"
      ],
      "metadata": {
        "id": "EpWushM2_YqA"
      }
    },
    {
      "cell_type": "code",
      "execution_count": null,
      "metadata": {
        "id": "6hgYsraKkT7s"
      },
      "outputs": [],
      "source": [
        "## https://github.com/suman101112/hasoc-fire-2020/blob/main/HASOCOne_team_german_task_a.ipynb\n",
        "\n",
        "import torch\n",
        "\n",
        "if torch.cuda.is_available():    \n",
        "    device = torch.device(\"cuda\")\n",
        "else:\n",
        "    device = torch.device(\"cpu\")\n",
        "\n"
      ]
    },
    {
      "cell_type": "code",
      "source": [
        "device\n"
      ],
      "metadata": {
        "id": "BBue_bUGlw9m",
        "colab": {
          "base_uri": "https://localhost:8080/"
        },
        "outputId": "15639729-d1cd-46a0-ea7b-ea7e7e9c0a6c"
      },
      "execution_count": null,
      "outputs": [
        {
          "output_type": "execute_result",
          "data": {
            "text/plain": [
              "device(type='cuda')"
            ]
          },
          "metadata": {},
          "execution_count": 2
        }
      ]
    },
    {
      "cell_type": "markdown",
      "source": [
        "# DATA"
      ],
      "metadata": {
        "id": "xfRoTjQB_bmA"
      }
    },
    {
      "cell_type": "code",
      "source": [
        "import pandas as pd\n",
        "import math\n",
        "from sklearn import preprocessing"
      ],
      "metadata": {
        "id": "NXRlE4wfizq-"
      },
      "execution_count": null,
      "outputs": []
    },
    {
      "cell_type": "code",
      "source": [
        "# df_train = pd.read_csv(\"/content/german_dataset2019.tsv\",sep=\"\\t\", converters={'tweet_id':int})\n",
        "\n",
        "df_train = pd.read_excel(\"/content/hasoc_2020_de_train_new_b.xlsx\", converters={'tweet_id':int})\n",
        "#df_train = df_train.dropna()\n",
        "\n",
        "df_test = pd.read_csv(\"/content/german_test_1509.csv\", converters={'tweet_id':int})\n",
        "\n",
        "#task = 'task2'\n",
        "#task_2019 = 'task_2'"
      ],
      "metadata": {
        "id": "NKH9ZxLBi2MC"
      },
      "execution_count": null,
      "outputs": []
    },
    {
      "cell_type": "code",
      "source": [
        "task = 'task1'\n",
        "task_2019 = 'task_1'\n",
        "\n",
        "#2019 datasets also\n",
        "\n",
        "\n",
        "#file_2019_1 = pd.read_csv(\"2019/german_dataset/german_dataset/hasoc_de_test_gold.tsv\",sep='\\t')\n",
        "#file_2019_2 = pd.read_csv(\"2019/german_dataset/german_dataset/german_dataset.tsv\",sep=\"\\t\") \n",
        "\n",
        "file_2019_1 = pd.read_csv(\"/content/hasoc_de_test_gold.tsv\",sep='\\t')\n",
        "file_2019_2 = pd.read_csv(\"/content/german_dataset2019.tsv\",sep=\"\\t\")\n",
        "\n",
        "\n",
        "sentences_2019_1 = list(file_2019_1['text'].values)\n",
        "sentences_2019_2 = list(file_2019_2['text'].values)\n",
        "\n",
        "labels_2019_1 = list(file_2019_1[task_2019].values)\n",
        "labels_2019_2 = list(file_2019_2[task_2019].values)\n",
        "\n",
        "print(len(df_train))\n",
        "print(df_train.head())\n",
        "\n",
        "total_sentences = list(df_train['text'].values)\n",
        "total_labels = list(df_train[task].values)\n",
        "\n",
        "total_sentences.extend(sentences_2019_1)\n",
        "total_sentences.extend(sentences_2019_2)\n",
        "\n",
        "total_labels.extend(labels_2019_1)\n",
        "total_labels.extend(labels_2019_2)\n",
        "\n",
        "test_sentences = list(df_test['text'].values)\n",
        "test_labels = list(df_test[task].values)\n",
        "\n",
        "\n",
        "\n",
        "\n",
        "\n"
      ],
      "metadata": {
        "id": "Prw9wxTelz1D",
        "colab": {
          "base_uri": "https://localhost:8080/"
        },
        "outputId": "d91fd7eb-ccf7-4625-ab60-3f0e3eceb01e"
      },
      "execution_count": null,
      "outputs": [
        {
          "output_type": "stream",
          "name": "stdout",
          "text": [
            "2373\n",
            "              tweet_id                                               text  \\\n",
            "0  1133388798925189122  Deutsche rothaarige porno reife deutsche fraue...   \n",
            "1  1127134592517980161  RT @NDRinfo: Die deutsche Klimaaktivistin Luis...   \n",
            "2  1128897106171842560  @ruhrbahn jeden Morgen eine neue „Fahrzeugstör...   \n",
            "3  1123576753199484928  @Junge_Freiheit Die Inkas hatten sich schon dä...   \n",
            "4  1128743783393312768  RT @technosteron: leute die 'boar' schreiben l...   \n",
            "\n",
            "  task1 task2                  ID  \n",
            "0   NOT  NONE  hasoc_2020_de_2684  \n",
            "1   NOT  NONE  hasoc_2020_de_1042  \n",
            "2   NOT  NONE   hasoc_2020_de_774  \n",
            "3   NOT  NONE   hasoc_2020_de_559  \n",
            "4   HOF  PRFN  hasoc_2020_de_1969  \n"
          ]
        }
      ]
    },
    {
      "cell_type": "markdown",
      "source": [
        "# Cleaning, Transforming, Encoding"
      ],
      "metadata": {
        "id": "MCLlv1e9_dwZ"
      }
    },
    {
      "cell_type": "code",
      "source": [
        "def clean_text(sentences):\n",
        "    for index,line in enumerate(sentences):\n",
        "        if \"\\n\" in line:\n",
        "            sentences[index] = line.replace(\"\\n\",\"\")\n",
        "    return sentences\n",
        "        \n",
        "total_sentences = clean_text(total_sentences)\n",
        "test_sentences = clean_text(test_sentences)\n",
        "\n",
        "def clean_labels(labels):\n",
        "    new_list= []\n",
        "    for value in labels:\n",
        "        new_list.append(value.strip())\n",
        "    return new_list"
      ],
      "metadata": {
        "id": "57Rx3jjVjN7h"
      },
      "execution_count": null,
      "outputs": []
    },
    {
      "cell_type": "code",
      "source": [
        "total_labels = clean_labels(total_labels)\n",
        "test_labels = clean_labels(test_labels)\n",
        "\n",
        "le = preprocessing.LabelEncoder()\n",
        "le.fit(total_labels)\n",
        "encoded_labels = le.transform(total_labels)\n",
        "encoded_test_labels = le.transform(test_labels)\n",
        "print(set(encoded_labels))\n",
        "\n",
        "print(len(total_sentences),len(encoded_labels),len(test_sentences),len(encoded_test_labels))\n",
        "\n",
        "print(df_test)"
      ],
      "metadata": {
        "colab": {
          "base_uri": "https://localhost:8080/"
        },
        "id": "0zyw3N9LjKwf",
        "outputId": "a78f56a0-ace7-4a6d-9e84-051ac8c394f3"
      },
      "execution_count": null,
      "outputs": [
        {
          "output_type": "stream",
          "name": "stdout",
          "text": [
            "{0, 1}\n",
            "7042 7042 526 526\n",
            "                tweet_id                                               text  \\\n",
            "0    1129095874242650112    @derCarsti Boykottieren hört sich besser an. 💙💙   \n",
            "1    1129004308396236800  RT @ibikus31: Es wird spekuliert, ob Merkel ei...   \n",
            "2    1130896929355907080  Hat #Hitler wirklich den Krieg in der Wüste ve...   \n",
            "3    1132251534329307136  RT @Beatrix_vStorch: #May tritt in UK unter Tr...   \n",
            "4    1124941869115498496  @justmeDoro Eher nicht. Das Gänse hauen wieder...   \n",
            "..                   ...                                                ...   \n",
            "521  1124809878546128897  RT @ChanMachtSo: SCHMERZEN!!!! Au!!! Mein Gehi...   \n",
            "522  1132433240000798720  Die Zerstörung der Grünen. https://t.co/SIYDJj...   \n",
            "523  1127366294255357958  RT @PParzival: \"Antideutsche\" Pseudo-linke Ide...   \n",
            "524  1124362090460975105                         Klug reden und dumm leben.   \n",
            "525  1131487097293103104  Wissen wir schon lange....hat das die Merkel e...   \n",
            "\n",
            "    task1 task2                  ID  \n",
            "0     NOT  NONE  hasoc_2020_de_1053  \n",
            "1     NOT  NONE   hasoc_2020_de_671  \n",
            "2     NOT  NONE  hasoc_2020_de_2977  \n",
            "3     NOT  NONE  hasoc_2020_de_1746  \n",
            "4     NOT  NONE  hasoc_2020_de_2416  \n",
            "..    ...   ...                 ...  \n",
            "521   NOT  NONE   hasoc_2020_de_486  \n",
            "522   NOT  NONE  hasoc_2020_de_3388  \n",
            "523   NOT  NONE  hasoc_2020_de_2745  \n",
            "524   NOT  NONE   hasoc_2020_de_236  \n",
            "525   NOT  NONE  hasoc_2020_de_2850  \n",
            "\n",
            "[526 rows x 5 columns]\n"
          ]
        }
      ]
    },
    {
      "cell_type": "code",
      "source": [
        "labelsss = df_train['task1']\n",
        "print(labelsss.value_counts())"
      ],
      "metadata": {
        "id": "iQ4M7wS_yimN",
        "colab": {
          "base_uri": "https://localhost:8080/"
        },
        "outputId": "da5b8c1b-2ba2-4609-d5ac-28793c39b733"
      },
      "execution_count": null,
      "outputs": [
        {
          "output_type": "stream",
          "name": "stdout",
          "text": [
            "NOT    1700\n",
            "HOF     673\n",
            "Name: task1, dtype: int64\n"
          ]
        }
      ]
    },
    {
      "cell_type": "code",
      "source": [
        "!pip install transformers"
      ],
      "metadata": {
        "id": "MHd42czcnMvh",
        "colab": {
          "base_uri": "https://localhost:8080/"
        },
        "outputId": "b2c6e376-89a6-4bfc-eae4-01cef2e24ba2"
      },
      "execution_count": null,
      "outputs": [
        {
          "output_type": "stream",
          "name": "stdout",
          "text": [
            "Requirement already satisfied: transformers in /usr/local/lib/python3.7/dist-packages (4.18.0)\n",
            "Requirement already satisfied: filelock in /usr/local/lib/python3.7/dist-packages (from transformers) (3.6.0)\n",
            "Requirement already satisfied: tokenizers!=0.11.3,<0.13,>=0.11.1 in /usr/local/lib/python3.7/dist-packages (from transformers) (0.12.1)\n",
            "Requirement already satisfied: importlib-metadata in /usr/local/lib/python3.7/dist-packages (from transformers) (4.11.3)\n",
            "Requirement already satisfied: numpy>=1.17 in /usr/local/lib/python3.7/dist-packages (from transformers) (1.21.6)\n",
            "Requirement already satisfied: tqdm>=4.27 in /usr/local/lib/python3.7/dist-packages (from transformers) (4.64.0)\n",
            "Requirement already satisfied: pyyaml>=5.1 in /usr/local/lib/python3.7/dist-packages (from transformers) (6.0)\n",
            "Requirement already satisfied: packaging>=20.0 in /usr/local/lib/python3.7/dist-packages (from transformers) (21.3)\n",
            "Requirement already satisfied: requests in /usr/local/lib/python3.7/dist-packages (from transformers) (2.23.0)\n",
            "Requirement already satisfied: huggingface-hub<1.0,>=0.1.0 in /usr/local/lib/python3.7/dist-packages (from transformers) (0.5.1)\n",
            "Requirement already satisfied: regex!=2019.12.17 in /usr/local/lib/python3.7/dist-packages (from transformers) (2019.12.20)\n",
            "Requirement already satisfied: sacremoses in /usr/local/lib/python3.7/dist-packages (from transformers) (0.0.53)\n",
            "Requirement already satisfied: typing-extensions>=3.7.4.3 in /usr/local/lib/python3.7/dist-packages (from huggingface-hub<1.0,>=0.1.0->transformers) (4.2.0)\n",
            "Requirement already satisfied: pyparsing!=3.0.5,>=2.0.2 in /usr/local/lib/python3.7/dist-packages (from packaging>=20.0->transformers) (3.0.8)\n",
            "Requirement already satisfied: zipp>=0.5 in /usr/local/lib/python3.7/dist-packages (from importlib-metadata->transformers) (3.8.0)\n",
            "Requirement already satisfied: urllib3!=1.25.0,!=1.25.1,<1.26,>=1.21.1 in /usr/local/lib/python3.7/dist-packages (from requests->transformers) (1.24.3)\n",
            "Requirement already satisfied: certifi>=2017.4.17 in /usr/local/lib/python3.7/dist-packages (from requests->transformers) (2021.10.8)\n",
            "Requirement already satisfied: chardet<4,>=3.0.2 in /usr/local/lib/python3.7/dist-packages (from requests->transformers) (3.0.4)\n",
            "Requirement already satisfied: idna<3,>=2.5 in /usr/local/lib/python3.7/dist-packages (from requests->transformers) (2.10)\n",
            "Requirement already satisfied: joblib in /usr/local/lib/python3.7/dist-packages (from sacremoses->transformers) (1.1.0)\n",
            "Requirement already satisfied: click in /usr/local/lib/python3.7/dist-packages (from sacremoses->transformers) (7.1.2)\n",
            "Requirement already satisfied: six in /usr/local/lib/python3.7/dist-packages (from sacremoses->transformers) (1.15.0)\n"
          ]
        }
      ]
    },
    {
      "cell_type": "code",
      "source": [
        "from transformers import BertTokenizer\n",
        "\n",
        "\n",
        "tokenizer = BertTokenizer.from_pretrained('bert-base-multilingual-cased')\n",
        "\n",
        "max_length = 0\n",
        "for sentence in total_sentences:\n",
        "    #print(sentence)\n",
        "    length = len(tokenizer.tokenize(sentence))\n",
        "    if length > max_length:\n",
        "        max_length  = length\n",
        "print(\"max token length is: \",max_length)\n",
        "# max token length obtained is 50\n",
        "# bert tokens are limited to 514 bytes.\n",
        "\n"
      ],
      "metadata": {
        "id": "vkEu9mIGm9pB",
        "colab": {
          "base_uri": "https://localhost:8080/"
        },
        "outputId": "656655f3-19ad-4401-98ac-ec5393dfc415"
      },
      "execution_count": null,
      "outputs": [
        {
          "output_type": "stream",
          "name": "stdout",
          "text": [
            "max token length is:  175\n"
          ]
        }
      ]
    },
    {
      "cell_type": "code",
      "source": [
        "def encoder_generator(sentences,labels):\n",
        "    \n",
        "    sent_index = []\n",
        "    input_ids = []\n",
        "    attention_masks =[]\n",
        "\n",
        "    for index,sent in enumerate(sentences):\n",
        "        \n",
        "        sent_index.append(index)\n",
        "        \n",
        "        encoded_dict = tokenizer.encode_plus(sent,\n",
        "                                             add_special_tokens=True,\n",
        "                                             max_length=max_length,\n",
        "\n",
        "                                             #deprecation, padding geändert\n",
        "                                             padding='max_length',\n",
        "\n",
        "                                             truncation = True,\n",
        "                                             return_attention_mask=True,\n",
        "                                             return_tensors='pt')\n",
        "        input_ids.append(encoded_dict['input_ids'])\n",
        "\n",
        "        attention_masks.append(encoded_dict['attention_mask'])\n",
        "\n",
        "    input_ids = torch.cat(input_ids,dim=0)\n",
        "    attention_masks = torch.cat(attention_masks,dim=0)\n",
        "    labels = torch.tensor(labels)\n",
        "    sent_index = torch.tensor(sent_index)\n",
        "\n",
        "    return sent_index,input_ids,attention_masks,labels\n",
        "\n",
        "sent_index,input_ids,attention_masks,encoded_label_tensors = encoder_generator(total_sentences,encoded_labels)\n",
        "test_sent_index,test_input_ids,test_attention_masks,encoded_test_label_tensors = encoder_generator(test_sentences,encoded_test_labels)\n",
        "print('Original: ', total_sentences[0])\n",
        "print('Token IDs:', input_ids[0])\n",
        "#print(encoded_label_tensors)\n",
        "#print(encoded_test_label_tensors)"
      ],
      "metadata": {
        "id": "KIuVOy8dnWLG",
        "colab": {
          "base_uri": "https://localhost:8080/"
        },
        "outputId": "3dfdf5bc-3730-4f08-b483-81444fd0393d"
      },
      "execution_count": null,
      "outputs": [
        {
          "output_type": "stream",
          "name": "stdout",
          "text": [
            "Original:  Deutsche rothaarige porno reife deutsche frauen porno. Deutsche politessen pornos porno deutsch inzets. https://t.co/xAag87Y0Jd\n",
            "Token IDs: tensor([   101,  15389,  64354,  55200,  45854,  10183,  10343,  14243,  14601,\n",
            "         17486,  10628,  25733,  10183,  10343,    119,  15389,  91929, 100319,\n",
            "         10115,  10183,  14386,  10183,  10343,  24722,  10106,  17931,  10107,\n",
            "           119,  14120,    131,    120,    120,    188,    119,  11170,    120,\n",
            "           192,  10738,  14520,  11396,  11305,  14703,  10929,  15417,  10162,\n",
            "           102,      0,      0,      0,      0,      0,      0,      0,      0,\n",
            "             0,      0,      0,      0,      0,      0,      0,      0,      0,\n",
            "             0,      0,      0,      0,      0,      0,      0,      0,      0,\n",
            "             0,      0,      0,      0,      0,      0,      0,      0,      0,\n",
            "             0,      0,      0,      0,      0,      0,      0,      0,      0,\n",
            "             0,      0,      0,      0,      0,      0,      0,      0,      0,\n",
            "             0,      0,      0,      0,      0,      0,      0,      0,      0,\n",
            "             0,      0,      0,      0,      0,      0,      0,      0,      0,\n",
            "             0,      0,      0,      0,      0,      0,      0,      0,      0,\n",
            "             0,      0,      0,      0,      0,      0,      0,      0,      0,\n",
            "             0,      0,      0,      0,      0,      0,      0,      0,      0,\n",
            "             0,      0,      0,      0,      0,      0,      0,      0,      0,\n",
            "             0,      0,      0,      0,      0,      0,      0,      0,      0,\n",
            "             0,      0,      0,      0,      0,      0,      0,      0,      0,\n",
            "             0,      0,      0,      0])\n"
          ]
        }
      ]
    },
    {
      "cell_type": "markdown",
      "source": [
        "# Split into Train, Validation and Test Data"
      ],
      "metadata": {
        "id": "0zR-uxcY_qBS"
      }
    },
    {
      "cell_type": "code",
      "source": [
        "from torch.utils.data import TensorDataset,random_split\n",
        "\n",
        "dataset = TensorDataset(input_ids,attention_masks,encoded_label_tensors)\n",
        "test_dataset = TensorDataset(test_sent_index,test_input_ids,test_attention_masks,encoded_test_label_tensors)\n",
        "\n",
        "train_size = int(0.75*len(dataset))\n",
        "\n",
        "val_size = len(dataset)-train_size\n",
        "\n",
        "train_dataset,val_dataset = random_split(dataset,[train_size,val_size])\n",
        "\n",
        "print('train data samples is {}'.format(len(train_dataset)))\n",
        "print(\"valid data samples is {}\".format(len(val_dataset)))\n",
        "print(\"test data samples is {}\".format(len(test_dataset)))"
      ],
      "metadata": {
        "id": "aK5wwI1mneix",
        "colab": {
          "base_uri": "https://localhost:8080/"
        },
        "outputId": "3f3e07ef-00b4-46ca-ff90-a6820106bb19"
      },
      "execution_count": null,
      "outputs": [
        {
          "output_type": "stream",
          "name": "stdout",
          "text": [
            "train data samples is 5281\n",
            "valid data samples is 1761\n",
            "test data samples is 526\n"
          ]
        }
      ]
    },
    {
      "cell_type": "code",
      "source": [
        "from torch.utils.data import DataLoader,RandomSampler,SequentialSampler\n",
        "\n",
        "bs=8\n",
        "\n",
        "train_data_loader = DataLoader(train_dataset,\n",
        "                              sampler=RandomSampler(train_dataset),\n",
        "                              batch_size=bs)\n",
        "valid_data_loader = DataLoader(val_dataset,\n",
        "                              sampler=SequentialSampler(val_dataset),\n",
        "                              batch_size=bs)\n",
        "test_data_loader = DataLoader(test_dataset,\n",
        "                            sampler=SequentialSampler(test_dataset),\n",
        "                            batch_size=bs)\n",
        "\n"
      ],
      "metadata": {
        "id": "8rWvpVBNnh3h"
      },
      "execution_count": null,
      "outputs": []
    },
    {
      "cell_type": "markdown",
      "source": [
        "# MODEL"
      ],
      "metadata": {
        "id": "Cu3Tnb8__vdI"
      }
    },
    {
      "cell_type": "code",
      "source": [
        "from transformers import BertForSequenceClassification, AdamW\n",
        "\n",
        "model = BertForSequenceClassification.from_pretrained('bert-base-multilingual-cased',\n",
        "                                                     num_labels=len(le.classes_),\n",
        "                                                     output_attentions=False,\n",
        "                                                     output_hidden_states=False,\n",
        "                                                     )\n",
        "model.cuda()\n",
        "#model.cpu()\n",
        "\n"
      ],
      "metadata": {
        "id": "64ggq7hRnq5h",
        "colab": {
          "base_uri": "https://localhost:8080/"
        },
        "outputId": "c54e4a20-c2fc-49d5-ee17-bd707ad27141"
      },
      "execution_count": null,
      "outputs": [
        {
          "output_type": "stream",
          "name": "stderr",
          "text": [
            "Some weights of the model checkpoint at bert-base-multilingual-cased were not used when initializing BertForSequenceClassification: ['cls.seq_relationship.bias', 'cls.predictions.bias', 'cls.predictions.decoder.weight', 'cls.predictions.transform.LayerNorm.weight', 'cls.predictions.transform.LayerNorm.bias', 'cls.predictions.transform.dense.weight', 'cls.seq_relationship.weight', 'cls.predictions.transform.dense.bias']\n",
            "- This IS expected if you are initializing BertForSequenceClassification from the checkpoint of a model trained on another task or with another architecture (e.g. initializing a BertForSequenceClassification model from a BertForPreTraining model).\n",
            "- This IS NOT expected if you are initializing BertForSequenceClassification from the checkpoint of a model that you expect to be exactly identical (initializing a BertForSequenceClassification model from a BertForSequenceClassification model).\n",
            "Some weights of BertForSequenceClassification were not initialized from the model checkpoint at bert-base-multilingual-cased and are newly initialized: ['classifier.weight', 'classifier.bias']\n",
            "You should probably TRAIN this model on a down-stream task to be able to use it for predictions and inference.\n"
          ]
        },
        {
          "output_type": "execute_result",
          "data": {
            "text/plain": [
              "BertForSequenceClassification(\n",
              "  (bert): BertModel(\n",
              "    (embeddings): BertEmbeddings(\n",
              "      (word_embeddings): Embedding(119547, 768, padding_idx=0)\n",
              "      (position_embeddings): Embedding(512, 768)\n",
              "      (token_type_embeddings): Embedding(2, 768)\n",
              "      (LayerNorm): LayerNorm((768,), eps=1e-12, elementwise_affine=True)\n",
              "      (dropout): Dropout(p=0.1, inplace=False)\n",
              "    )\n",
              "    (encoder): BertEncoder(\n",
              "      (layer): ModuleList(\n",
              "        (0): BertLayer(\n",
              "          (attention): BertAttention(\n",
              "            (self): BertSelfAttention(\n",
              "              (query): Linear(in_features=768, out_features=768, bias=True)\n",
              "              (key): Linear(in_features=768, out_features=768, bias=True)\n",
              "              (value): Linear(in_features=768, out_features=768, bias=True)\n",
              "              (dropout): Dropout(p=0.1, inplace=False)\n",
              "            )\n",
              "            (output): BertSelfOutput(\n",
              "              (dense): Linear(in_features=768, out_features=768, bias=True)\n",
              "              (LayerNorm): LayerNorm((768,), eps=1e-12, elementwise_affine=True)\n",
              "              (dropout): Dropout(p=0.1, inplace=False)\n",
              "            )\n",
              "          )\n",
              "          (intermediate): BertIntermediate(\n",
              "            (dense): Linear(in_features=768, out_features=3072, bias=True)\n",
              "            (intermediate_act_fn): GELUActivation()\n",
              "          )\n",
              "          (output): BertOutput(\n",
              "            (dense): Linear(in_features=3072, out_features=768, bias=True)\n",
              "            (LayerNorm): LayerNorm((768,), eps=1e-12, elementwise_affine=True)\n",
              "            (dropout): Dropout(p=0.1, inplace=False)\n",
              "          )\n",
              "        )\n",
              "        (1): BertLayer(\n",
              "          (attention): BertAttention(\n",
              "            (self): BertSelfAttention(\n",
              "              (query): Linear(in_features=768, out_features=768, bias=True)\n",
              "              (key): Linear(in_features=768, out_features=768, bias=True)\n",
              "              (value): Linear(in_features=768, out_features=768, bias=True)\n",
              "              (dropout): Dropout(p=0.1, inplace=False)\n",
              "            )\n",
              "            (output): BertSelfOutput(\n",
              "              (dense): Linear(in_features=768, out_features=768, bias=True)\n",
              "              (LayerNorm): LayerNorm((768,), eps=1e-12, elementwise_affine=True)\n",
              "              (dropout): Dropout(p=0.1, inplace=False)\n",
              "            )\n",
              "          )\n",
              "          (intermediate): BertIntermediate(\n",
              "            (dense): Linear(in_features=768, out_features=3072, bias=True)\n",
              "            (intermediate_act_fn): GELUActivation()\n",
              "          )\n",
              "          (output): BertOutput(\n",
              "            (dense): Linear(in_features=3072, out_features=768, bias=True)\n",
              "            (LayerNorm): LayerNorm((768,), eps=1e-12, elementwise_affine=True)\n",
              "            (dropout): Dropout(p=0.1, inplace=False)\n",
              "          )\n",
              "        )\n",
              "        (2): BertLayer(\n",
              "          (attention): BertAttention(\n",
              "            (self): BertSelfAttention(\n",
              "              (query): Linear(in_features=768, out_features=768, bias=True)\n",
              "              (key): Linear(in_features=768, out_features=768, bias=True)\n",
              "              (value): Linear(in_features=768, out_features=768, bias=True)\n",
              "              (dropout): Dropout(p=0.1, inplace=False)\n",
              "            )\n",
              "            (output): BertSelfOutput(\n",
              "              (dense): Linear(in_features=768, out_features=768, bias=True)\n",
              "              (LayerNorm): LayerNorm((768,), eps=1e-12, elementwise_affine=True)\n",
              "              (dropout): Dropout(p=0.1, inplace=False)\n",
              "            )\n",
              "          )\n",
              "          (intermediate): BertIntermediate(\n",
              "            (dense): Linear(in_features=768, out_features=3072, bias=True)\n",
              "            (intermediate_act_fn): GELUActivation()\n",
              "          )\n",
              "          (output): BertOutput(\n",
              "            (dense): Linear(in_features=3072, out_features=768, bias=True)\n",
              "            (LayerNorm): LayerNorm((768,), eps=1e-12, elementwise_affine=True)\n",
              "            (dropout): Dropout(p=0.1, inplace=False)\n",
              "          )\n",
              "        )\n",
              "        (3): BertLayer(\n",
              "          (attention): BertAttention(\n",
              "            (self): BertSelfAttention(\n",
              "              (query): Linear(in_features=768, out_features=768, bias=True)\n",
              "              (key): Linear(in_features=768, out_features=768, bias=True)\n",
              "              (value): Linear(in_features=768, out_features=768, bias=True)\n",
              "              (dropout): Dropout(p=0.1, inplace=False)\n",
              "            )\n",
              "            (output): BertSelfOutput(\n",
              "              (dense): Linear(in_features=768, out_features=768, bias=True)\n",
              "              (LayerNorm): LayerNorm((768,), eps=1e-12, elementwise_affine=True)\n",
              "              (dropout): Dropout(p=0.1, inplace=False)\n",
              "            )\n",
              "          )\n",
              "          (intermediate): BertIntermediate(\n",
              "            (dense): Linear(in_features=768, out_features=3072, bias=True)\n",
              "            (intermediate_act_fn): GELUActivation()\n",
              "          )\n",
              "          (output): BertOutput(\n",
              "            (dense): Linear(in_features=3072, out_features=768, bias=True)\n",
              "            (LayerNorm): LayerNorm((768,), eps=1e-12, elementwise_affine=True)\n",
              "            (dropout): Dropout(p=0.1, inplace=False)\n",
              "          )\n",
              "        )\n",
              "        (4): BertLayer(\n",
              "          (attention): BertAttention(\n",
              "            (self): BertSelfAttention(\n",
              "              (query): Linear(in_features=768, out_features=768, bias=True)\n",
              "              (key): Linear(in_features=768, out_features=768, bias=True)\n",
              "              (value): Linear(in_features=768, out_features=768, bias=True)\n",
              "              (dropout): Dropout(p=0.1, inplace=False)\n",
              "            )\n",
              "            (output): BertSelfOutput(\n",
              "              (dense): Linear(in_features=768, out_features=768, bias=True)\n",
              "              (LayerNorm): LayerNorm((768,), eps=1e-12, elementwise_affine=True)\n",
              "              (dropout): Dropout(p=0.1, inplace=False)\n",
              "            )\n",
              "          )\n",
              "          (intermediate): BertIntermediate(\n",
              "            (dense): Linear(in_features=768, out_features=3072, bias=True)\n",
              "            (intermediate_act_fn): GELUActivation()\n",
              "          )\n",
              "          (output): BertOutput(\n",
              "            (dense): Linear(in_features=3072, out_features=768, bias=True)\n",
              "            (LayerNorm): LayerNorm((768,), eps=1e-12, elementwise_affine=True)\n",
              "            (dropout): Dropout(p=0.1, inplace=False)\n",
              "          )\n",
              "        )\n",
              "        (5): BertLayer(\n",
              "          (attention): BertAttention(\n",
              "            (self): BertSelfAttention(\n",
              "              (query): Linear(in_features=768, out_features=768, bias=True)\n",
              "              (key): Linear(in_features=768, out_features=768, bias=True)\n",
              "              (value): Linear(in_features=768, out_features=768, bias=True)\n",
              "              (dropout): Dropout(p=0.1, inplace=False)\n",
              "            )\n",
              "            (output): BertSelfOutput(\n",
              "              (dense): Linear(in_features=768, out_features=768, bias=True)\n",
              "              (LayerNorm): LayerNorm((768,), eps=1e-12, elementwise_affine=True)\n",
              "              (dropout): Dropout(p=0.1, inplace=False)\n",
              "            )\n",
              "          )\n",
              "          (intermediate): BertIntermediate(\n",
              "            (dense): Linear(in_features=768, out_features=3072, bias=True)\n",
              "            (intermediate_act_fn): GELUActivation()\n",
              "          )\n",
              "          (output): BertOutput(\n",
              "            (dense): Linear(in_features=3072, out_features=768, bias=True)\n",
              "            (LayerNorm): LayerNorm((768,), eps=1e-12, elementwise_affine=True)\n",
              "            (dropout): Dropout(p=0.1, inplace=False)\n",
              "          )\n",
              "        )\n",
              "        (6): BertLayer(\n",
              "          (attention): BertAttention(\n",
              "            (self): BertSelfAttention(\n",
              "              (query): Linear(in_features=768, out_features=768, bias=True)\n",
              "              (key): Linear(in_features=768, out_features=768, bias=True)\n",
              "              (value): Linear(in_features=768, out_features=768, bias=True)\n",
              "              (dropout): Dropout(p=0.1, inplace=False)\n",
              "            )\n",
              "            (output): BertSelfOutput(\n",
              "              (dense): Linear(in_features=768, out_features=768, bias=True)\n",
              "              (LayerNorm): LayerNorm((768,), eps=1e-12, elementwise_affine=True)\n",
              "              (dropout): Dropout(p=0.1, inplace=False)\n",
              "            )\n",
              "          )\n",
              "          (intermediate): BertIntermediate(\n",
              "            (dense): Linear(in_features=768, out_features=3072, bias=True)\n",
              "            (intermediate_act_fn): GELUActivation()\n",
              "          )\n",
              "          (output): BertOutput(\n",
              "            (dense): Linear(in_features=3072, out_features=768, bias=True)\n",
              "            (LayerNorm): LayerNorm((768,), eps=1e-12, elementwise_affine=True)\n",
              "            (dropout): Dropout(p=0.1, inplace=False)\n",
              "          )\n",
              "        )\n",
              "        (7): BertLayer(\n",
              "          (attention): BertAttention(\n",
              "            (self): BertSelfAttention(\n",
              "              (query): Linear(in_features=768, out_features=768, bias=True)\n",
              "              (key): Linear(in_features=768, out_features=768, bias=True)\n",
              "              (value): Linear(in_features=768, out_features=768, bias=True)\n",
              "              (dropout): Dropout(p=0.1, inplace=False)\n",
              "            )\n",
              "            (output): BertSelfOutput(\n",
              "              (dense): Linear(in_features=768, out_features=768, bias=True)\n",
              "              (LayerNorm): LayerNorm((768,), eps=1e-12, elementwise_affine=True)\n",
              "              (dropout): Dropout(p=0.1, inplace=False)\n",
              "            )\n",
              "          )\n",
              "          (intermediate): BertIntermediate(\n",
              "            (dense): Linear(in_features=768, out_features=3072, bias=True)\n",
              "            (intermediate_act_fn): GELUActivation()\n",
              "          )\n",
              "          (output): BertOutput(\n",
              "            (dense): Linear(in_features=3072, out_features=768, bias=True)\n",
              "            (LayerNorm): LayerNorm((768,), eps=1e-12, elementwise_affine=True)\n",
              "            (dropout): Dropout(p=0.1, inplace=False)\n",
              "          )\n",
              "        )\n",
              "        (8): BertLayer(\n",
              "          (attention): BertAttention(\n",
              "            (self): BertSelfAttention(\n",
              "              (query): Linear(in_features=768, out_features=768, bias=True)\n",
              "              (key): Linear(in_features=768, out_features=768, bias=True)\n",
              "              (value): Linear(in_features=768, out_features=768, bias=True)\n",
              "              (dropout): Dropout(p=0.1, inplace=False)\n",
              "            )\n",
              "            (output): BertSelfOutput(\n",
              "              (dense): Linear(in_features=768, out_features=768, bias=True)\n",
              "              (LayerNorm): LayerNorm((768,), eps=1e-12, elementwise_affine=True)\n",
              "              (dropout): Dropout(p=0.1, inplace=False)\n",
              "            )\n",
              "          )\n",
              "          (intermediate): BertIntermediate(\n",
              "            (dense): Linear(in_features=768, out_features=3072, bias=True)\n",
              "            (intermediate_act_fn): GELUActivation()\n",
              "          )\n",
              "          (output): BertOutput(\n",
              "            (dense): Linear(in_features=3072, out_features=768, bias=True)\n",
              "            (LayerNorm): LayerNorm((768,), eps=1e-12, elementwise_affine=True)\n",
              "            (dropout): Dropout(p=0.1, inplace=False)\n",
              "          )\n",
              "        )\n",
              "        (9): BertLayer(\n",
              "          (attention): BertAttention(\n",
              "            (self): BertSelfAttention(\n",
              "              (query): Linear(in_features=768, out_features=768, bias=True)\n",
              "              (key): Linear(in_features=768, out_features=768, bias=True)\n",
              "              (value): Linear(in_features=768, out_features=768, bias=True)\n",
              "              (dropout): Dropout(p=0.1, inplace=False)\n",
              "            )\n",
              "            (output): BertSelfOutput(\n",
              "              (dense): Linear(in_features=768, out_features=768, bias=True)\n",
              "              (LayerNorm): LayerNorm((768,), eps=1e-12, elementwise_affine=True)\n",
              "              (dropout): Dropout(p=0.1, inplace=False)\n",
              "            )\n",
              "          )\n",
              "          (intermediate): BertIntermediate(\n",
              "            (dense): Linear(in_features=768, out_features=3072, bias=True)\n",
              "            (intermediate_act_fn): GELUActivation()\n",
              "          )\n",
              "          (output): BertOutput(\n",
              "            (dense): Linear(in_features=3072, out_features=768, bias=True)\n",
              "            (LayerNorm): LayerNorm((768,), eps=1e-12, elementwise_affine=True)\n",
              "            (dropout): Dropout(p=0.1, inplace=False)\n",
              "          )\n",
              "        )\n",
              "        (10): BertLayer(\n",
              "          (attention): BertAttention(\n",
              "            (self): BertSelfAttention(\n",
              "              (query): Linear(in_features=768, out_features=768, bias=True)\n",
              "              (key): Linear(in_features=768, out_features=768, bias=True)\n",
              "              (value): Linear(in_features=768, out_features=768, bias=True)\n",
              "              (dropout): Dropout(p=0.1, inplace=False)\n",
              "            )\n",
              "            (output): BertSelfOutput(\n",
              "              (dense): Linear(in_features=768, out_features=768, bias=True)\n",
              "              (LayerNorm): LayerNorm((768,), eps=1e-12, elementwise_affine=True)\n",
              "              (dropout): Dropout(p=0.1, inplace=False)\n",
              "            )\n",
              "          )\n",
              "          (intermediate): BertIntermediate(\n",
              "            (dense): Linear(in_features=768, out_features=3072, bias=True)\n",
              "            (intermediate_act_fn): GELUActivation()\n",
              "          )\n",
              "          (output): BertOutput(\n",
              "            (dense): Linear(in_features=3072, out_features=768, bias=True)\n",
              "            (LayerNorm): LayerNorm((768,), eps=1e-12, elementwise_affine=True)\n",
              "            (dropout): Dropout(p=0.1, inplace=False)\n",
              "          )\n",
              "        )\n",
              "        (11): BertLayer(\n",
              "          (attention): BertAttention(\n",
              "            (self): BertSelfAttention(\n",
              "              (query): Linear(in_features=768, out_features=768, bias=True)\n",
              "              (key): Linear(in_features=768, out_features=768, bias=True)\n",
              "              (value): Linear(in_features=768, out_features=768, bias=True)\n",
              "              (dropout): Dropout(p=0.1, inplace=False)\n",
              "            )\n",
              "            (output): BertSelfOutput(\n",
              "              (dense): Linear(in_features=768, out_features=768, bias=True)\n",
              "              (LayerNorm): LayerNorm((768,), eps=1e-12, elementwise_affine=True)\n",
              "              (dropout): Dropout(p=0.1, inplace=False)\n",
              "            )\n",
              "          )\n",
              "          (intermediate): BertIntermediate(\n",
              "            (dense): Linear(in_features=768, out_features=3072, bias=True)\n",
              "            (intermediate_act_fn): GELUActivation()\n",
              "          )\n",
              "          (output): BertOutput(\n",
              "            (dense): Linear(in_features=3072, out_features=768, bias=True)\n",
              "            (LayerNorm): LayerNorm((768,), eps=1e-12, elementwise_affine=True)\n",
              "            (dropout): Dropout(p=0.1, inplace=False)\n",
              "          )\n",
              "        )\n",
              "      )\n",
              "    )\n",
              "    (pooler): BertPooler(\n",
              "      (dense): Linear(in_features=768, out_features=768, bias=True)\n",
              "      (activation): Tanh()\n",
              "    )\n",
              "  )\n",
              "  (dropout): Dropout(p=0.1, inplace=False)\n",
              "  (classifier): Linear(in_features=768, out_features=2, bias=True)\n",
              ")"
            ]
          },
          "metadata": {},
          "execution_count": 34
        }
      ]
    },
    {
      "cell_type": "code",
      "source": [
        "# deprecation, AdamW zu torch.optim.AdamW\n",
        "optimizer = torch.optim.AdamW(model.parameters(),lr=2e-5,eps=1e-8)\n",
        "\n",
        "from transformers import get_linear_schedule_with_warmup\n",
        "\n",
        "epochs=10\n",
        "total_steps = len(train_data_loader) * epochs\n",
        "\n",
        "scheduler = get_linear_schedule_with_warmup(optimizer,\n",
        "                                           num_warmup_steps=0,\n",
        "                                           num_training_steps=total_steps)\n",
        "\n"
      ],
      "metadata": {
        "id": "bLzfX87Anuw-"
      },
      "execution_count": null,
      "outputs": []
    },
    {
      "cell_type": "code",
      "source": [
        "import numpy as np\n",
        "\n",
        "def predictions_labels(preds,labels):\n",
        "    pred = np.argmax(preds,axis=1).flatten()\n",
        "    label = labels.flatten()\n",
        "    return pred,label\n",
        "\n"
      ],
      "metadata": {
        "id": "NW3kkqbnnz6U"
      },
      "execution_count": null,
      "outputs": []
    },
    {
      "cell_type": "code",
      "source": [
        "import random\n",
        "import numpy as np\n",
        "import time\n",
        "from sklearn.metrics import classification_report,accuracy_score,f1_score\n",
        "\n",
        "total_t0 = time.time()\n",
        "\n",
        "seed_val = 42\n",
        "\n",
        "random.seed(seed_val)\n",
        "np.random.seed(seed_val)\n",
        "torch.manual_seed(seed_val)\n",
        "torch.cuda.manual_seed_all(seed_val)\n",
        "\n"
      ],
      "metadata": {
        "id": "wlngmNsFn2rY"
      },
      "execution_count": null,
      "outputs": []
    },
    {
      "cell_type": "code",
      "source": [
        "torch.FloatTensor.device"
      ],
      "metadata": {
        "id": "E7o4bCjjt0F-",
        "colab": {
          "base_uri": "https://localhost:8080/"
        },
        "outputId": "1e177588-7481-44f3-c5da-eb97b1f756e2"
      },
      "execution_count": null,
      "outputs": [
        {
          "output_type": "execute_result",
          "data": {
            "text/plain": [
              "<attribute 'device' of 'torch._C._TensorBase' objects>"
            ]
          },
          "metadata": {},
          "execution_count": 38
        }
      ]
    },
    {
      "cell_type": "markdown",
      "source": [
        "# Train and evaluate model"
      ],
      "metadata": {
        "id": "m_uSgl5N_0E7"
      }
    },
    {
      "cell_type": "code",
      "source": [
        "def categorical_accuracy(preds, y):\n",
        "    \"\"\"\n",
        "    Returns accuracy per batch, i.e. if you get 8/10 right, this returns 0.8, NOT 8\n",
        "    \"\"\"\n",
        "    max_preds = preds.argmax(dim = 1, keepdim = True) # get the index of the max probability\n",
        "    correct = max_preds.squeeze(1).eq(y)\n",
        "    #return correct.sum() / torch.FloatTensor([y.shape[0]]).cuda()-1\n",
        "\n",
        "    return correct.sum() / torch.FloatTensor([y.shape[0]]).cuda()\n",
        "    #return correct.sum() \n",
        "def predictions_labels(preds,labels):\n",
        "    pred = np.argmax(preds,axis=1).flatten()\n",
        "    label = labels.flatten()\n",
        "    return pred,label\n",
        "\n"
      ],
      "metadata": {
        "id": "EQeJyxSUn5XQ"
      },
      "execution_count": null,
      "outputs": []
    },
    {
      "cell_type": "code",
      "source": [
        "#print(torch.FloatTensor.parameters().device)\n",
        "print(torch.FloatTensor.device)\n",
        "\n",
        "print(next(model.parameters()).device)"
      ],
      "metadata": {
        "id": "J-xXgcSOrlOX",
        "colab": {
          "base_uri": "https://localhost:8080/"
        },
        "outputId": "3ec2fca6-bf44-4241-ce8b-3bbcf109e8ca"
      },
      "execution_count": null,
      "outputs": [
        {
          "output_type": "stream",
          "name": "stdout",
          "text": [
            "<attribute 'device' of 'torch._C._TensorBase' objects>\n",
            "cuda:0\n"
          ]
        }
      ]
    },
    {
      "cell_type": "code",
      "source": [
        "\"\"\"\n",
        "# memory footprint support libraries/code\n",
        "#!ln -sf /opt/bin/nvidia-smi /usr/bin/nvidia-smi\n",
        "#!pip install gputil\n",
        "#!pip install psutil\n",
        "#!pip install humanize\n",
        "\n",
        "import psutil\n",
        "import humanize\n",
        "import os\n",
        "import GPUtil as GPU\n",
        "\n",
        "GPUs = GPU.getGPUs()\n",
        "# XXX: only one GPU on Colab and isn’t guaranteed\n",
        "gpu = GPUs[0]\n",
        "def printm():\n",
        "    process = psutil.Process(os.getpid())\n",
        "    print(\"Gen RAM Free: \" + humanize.naturalsize(psutil.virtual_memory().available), \" |     Proc size: \" + humanize.naturalsize(process.memory_info().rss))\n",
        "    print(\"GPU RAM Free: {0:.0f}MB | Used: {1:.0f}MB | Util {2:3.0f}% | Total     {3:.0f}MB\".format(gpu.memoryFree, gpu.memoryUsed, gpu.memoryUtil*100, gpu.memoryTotal))\n",
        "printm()\n",
        "\"\"\""
      ],
      "metadata": {
        "id": "zJPlKtDe03AJ"
      },
      "execution_count": null,
      "outputs": []
    },
    {
      "cell_type": "code",
      "source": [
        "def train():\n",
        "    total_train_loss = 0\n",
        "    total_train_acc = 0\n",
        "    \n",
        "    model.train() # set model in train mode for batchnorm and dropout layers in bert model\n",
        "    \n",
        "    for step,batch in enumerate(train_data_loader):\n",
        "        b_input_ids = batch[0].to(device)\n",
        "        b_input_mask = batch[1].to(device)\n",
        "        b_labels = batch[2].to(device)\n",
        "        model.zero_grad()\n",
        "            \n",
        "        #loss,logits = model(b_input_ids,\n",
        "        #                    attention_mask = b_input_mask,\n",
        "        #                    labels = b_labels.long()).values() \n",
        "                            #return_dict = False\n",
        "                            #).values()\n",
        "\n",
        "\n",
        "        output = model(b_input_ids, token_type_ids=None, attention_mask=b_input_mask, labels=b_labels)\n",
        "        loss = output[0]\n",
        "        logits = output[1]\n",
        "            \n",
        "        total_train_loss += loss.item()\n",
        "        total_train_acc += categorical_accuracy(logits,b_labels).item()\n",
        "            \n",
        "        loss.backward()\n",
        "            \n",
        "        torch.nn.utils.clip_grad_norm_(model.parameters(),1.0)\n",
        "            \n",
        "        optimizer.step()\n",
        "            \n",
        "        scheduler.step() #go ahead and update the learning rate\n",
        "            \n",
        "    avg_train_loss = total_train_loss/len(train_data_loader)\n",
        "    avg_train_acc = total_train_acc/len(train_data_loader)\n",
        "    \n",
        "    return avg_train_loss,avg_train_acc"
      ],
      "metadata": {
        "id": "WWfFay6CoAFm"
      },
      "execution_count": null,
      "outputs": []
    },
    {
      "cell_type": "code",
      "source": [
        "def evaluate():\n",
        "    model.eval()\n",
        "        \n",
        "    total_eval_accuracy = 0\n",
        "    total_eval_loss = 0\n",
        "    number_of_eval_steps= 0\n",
        "    \n",
        "    all_true_labels = []\n",
        "    all_pred_labels = []\n",
        "\n",
        "    for batch in valid_data_loader:\n",
        "        b_input_ids = batch[0].to(device)\n",
        "        b_input_mask = batch[1].to(device)\n",
        "        b_labels = batch[2].to(device)\n",
        "\n",
        "        with torch.no_grad():\n",
        "\n",
        "            loss, logits = model(b_input_ids,\n",
        "                                attention_mask= b_input_mask,\n",
        "                                labels = b_labels.long()).values()\n",
        "                                #return_dict = False\n",
        "                                #).values()\n",
        "            \n",
        "            #answer_start_scores, answer_end_scores = model(**inputs).values()\n",
        "\n",
        "            #outputs = model(**inputs)\n",
        "            #answer_start_scores = outputs.start_logits\n",
        "            #answer_end_scores = outputs.end_logits\n",
        "\n",
        "        total_eval_loss += loss.item()\n",
        "\n",
        "        logits = logits.detach().cpu().numpy()\n",
        "\n",
        "        label_ids = b_labels.to('cpu').numpy()\n",
        "\n",
        "        pred,true = predictions_labels(logits,label_ids)\n",
        "        \n",
        "        all_pred_labels.extend(pred)\n",
        "        all_true_labels.extend(true)\n",
        "\n",
        "    print(classification_report(all_pred_labels,all_true_labels))\n",
        "    avg_val_accuracy = accuracy_score(all_pred_labels,all_true_labels)\n",
        "    macro_f1_score = f1_score(all_pred_labels,all_true_labels,average='macro')\n",
        "    \n",
        "    avg_val_loss = total_eval_loss/len(valid_data_loader)\n",
        "\n",
        "    print(\"accuracy = {0:.2f}\".format(avg_val_accuracy))\n",
        "    \n",
        "    return avg_val_loss,avg_val_accuracy,macro_f1_score"
      ],
      "metadata": {
        "id": "mHxCJxKDoD8K"
      },
      "execution_count": null,
      "outputs": []
    },
    {
      "cell_type": "code",
      "source": [
        "import time\n",
        "def epoch_time(start_time, end_time):\n",
        "    elapsed_time = end_time - start_time\n",
        "    elapsed_mins = int(elapsed_time / 60)\n",
        "    elapsed_secs = int(elapsed_time - (elapsed_mins * 60))\n",
        "    return elapsed_mins, elapsed_secs"
      ],
      "metadata": {
        "id": "1SPiy_h1oHPW"
      },
      "execution_count": null,
      "outputs": []
    },
    {
      "cell_type": "code",
      "source": [
        "epochs = 7\n",
        "\n",
        "best_macro_f1 = float('0')\n",
        "\n",
        "for epoch in range(epochs):\n",
        "    \n",
        "    start_time = time.time()\n",
        "    train_loss,train_acc = train()\n",
        "    valid_loss,valid_acc,macro_f1 = evaluate()\n",
        "    \n",
        "    end_time = time.time()\n",
        "        \n",
        "    epoch_mins, epoch_secs = epoch_time(start_time, end_time)\n",
        "        \n",
        "    if macro_f1 > best_macro_f1:\n",
        "        best_macro_f1 = macro_f1\n",
        "        torch.save(model,'model_HASOCOne_Hasoc2020_german_task_a.pt')\n",
        "    \n",
        "    print(f'Epoch: {epoch+1:02} | Epoch Time: {epoch_mins}m {epoch_secs}s')\n",
        "    print(f'\\tTrain Loss: {train_loss:.3f} | Train Acc: {train_acc*100:.2f}%')\n",
        "    print(f'\\t Val. Loss: {valid_loss:.3f} |  Val. Acc: {valid_acc*100:.2f}%')"
      ],
      "metadata": {
        "id": "Wii9_GAZoKkF",
        "colab": {
          "base_uri": "https://localhost:8080/"
        },
        "outputId": "5cecd284-f206-40a0-cd53-3f9b6586c650"
      },
      "execution_count": null,
      "outputs": [
        {
          "output_type": "stream",
          "name": "stdout",
          "text": [
            "              precision    recall  f1-score   support\n",
            "\n",
            "           0       0.33      0.79      0.47       119\n",
            "           1       0.98      0.89      0.93      1642\n",
            "\n",
            "    accuracy                           0.88      1761\n",
            "   macro avg       0.66      0.84      0.70      1761\n",
            "weighted avg       0.94      0.88      0.90      1761\n",
            "\n",
            "accuracy = 0.88\n",
            "Epoch: 01 | Epoch Time: 7m 7s\n",
            "\tTrain Loss: 0.426 | Train Acc: 84.36%\n",
            "\t Val. Loss: 0.364 |  Val. Acc: 87.90%\n",
            "              precision    recall  f1-score   support\n",
            "\n",
            "           0       0.49      0.65      0.56       213\n",
            "           1       0.95      0.91      0.93      1548\n",
            "\n",
            "    accuracy                           0.88      1761\n",
            "   macro avg       0.72      0.78      0.74      1761\n",
            "weighted avg       0.89      0.88      0.88      1761\n",
            "\n",
            "accuracy = 0.88\n",
            "Epoch: 02 | Epoch Time: 7m 6s\n",
            "\tTrain Loss: 0.352 | Train Acc: 88.22%\n",
            "\t Val. Loss: 0.403 |  Val. Acc: 87.68%\n",
            "              precision    recall  f1-score   support\n",
            "\n",
            "           0       0.49      0.67      0.57       208\n",
            "           1       0.95      0.91      0.93      1553\n",
            "\n",
            "    accuracy                           0.88      1761\n",
            "   macro avg       0.72      0.79      0.75      1761\n",
            "weighted avg       0.90      0.88      0.89      1761\n",
            "\n",
            "accuracy = 0.88\n",
            "Epoch: 03 | Epoch Time: 7m 6s\n",
            "\tTrain Loss: 0.284 | Train Acc: 91.87%\n",
            "\t Val. Loss: 0.548 |  Val. Acc: 87.96%\n",
            "              precision    recall  f1-score   support\n",
            "\n",
            "           0       0.39      0.74      0.51       148\n",
            "           1       0.97      0.89      0.93      1613\n",
            "\n",
            "    accuracy                           0.88      1761\n",
            "   macro avg       0.68      0.82      0.72      1761\n",
            "weighted avg       0.93      0.88      0.90      1761\n",
            "\n",
            "accuracy = 0.88\n",
            "Epoch: 04 | Epoch Time: 7m 7s\n",
            "\tTrain Loss: 0.212 | Train Acc: 94.89%\n",
            "\t Val. Loss: 0.574 |  Val. Acc: 88.07%\n",
            "              precision    recall  f1-score   support\n",
            "\n",
            "           0       0.49      0.65      0.56       210\n",
            "           1       0.95      0.91      0.93      1551\n",
            "\n",
            "    accuracy                           0.88      1761\n",
            "   macro avg       0.72      0.78      0.74      1761\n",
            "weighted avg       0.90      0.88      0.88      1761\n",
            "\n",
            "accuracy = 0.88\n",
            "Epoch: 05 | Epoch Time: 7m 7s\n",
            "\tTrain Loss: 0.140 | Train Acc: 96.84%\n",
            "\t Val. Loss: 0.653 |  Val. Acc: 87.62%\n",
            "              precision    recall  f1-score   support\n",
            "\n",
            "           0       0.43      0.72      0.54       167\n",
            "           1       0.97      0.90      0.93      1594\n",
            "\n",
            "    accuracy                           0.88      1761\n",
            "   macro avg       0.70      0.81      0.74      1761\n",
            "weighted avg       0.92      0.88      0.90      1761\n",
            "\n",
            "accuracy = 0.88\n",
            "Epoch: 06 | Epoch Time: 7m 7s\n",
            "\tTrain Loss: 0.101 | Train Acc: 97.81%\n",
            "\t Val. Loss: 0.672 |  Val. Acc: 88.25%\n",
            "              precision    recall  f1-score   support\n",
            "\n",
            "           0       0.47      0.68      0.55       194\n",
            "           1       0.96      0.90      0.93      1567\n",
            "\n",
            "    accuracy                           0.88      1761\n",
            "   macro avg       0.71      0.79      0.74      1761\n",
            "weighted avg       0.90      0.88      0.89      1761\n",
            "\n",
            "accuracy = 0.88\n",
            "Epoch: 07 | Epoch Time: 7m 7s\n",
            "\tTrain Loss: 0.060 | Train Acc: 98.79%\n",
            "\t Val. Loss: 0.825 |  Val. Acc: 87.96%\n"
          ]
        }
      ]
    },
    {
      "cell_type": "markdown",
      "source": [
        "# Load trained model and run on test data"
      ],
      "metadata": {
        "id": "uLCAUX3gABhU"
      }
    },
    {
      "cell_type": "code",
      "source": [
        "del model\n",
        "import gc\n",
        "gc.collect()\n",
        "\n",
        "model = torch.load('model_HASOCOne_Hasoc2020_german_task_a.pt')\n",
        "model = model.to(device)\n",
        "\n"
      ],
      "metadata": {
        "id": "NYO-CbnAoM-N"
      },
      "execution_count": null,
      "outputs": []
    },
    {
      "cell_type": "code",
      "source": [
        "#del model\n",
        "#import gc\n",
        "#gc.collect()\n",
        "\n",
        "#model = torch.load('model_german_task_a.pt')\n",
        "#model = model.to(device)\n",
        "\n",
        "def evaluate_test():\n",
        "    model.eval()\n",
        "        \n",
        "    total_eval_accuracy = 0\n",
        "    total_eval_loss = 0\n",
        "    number_of_eval_steps= 0\n",
        "    \n",
        "    all_true_labels = []\n",
        "    all_pred_labels = []\n",
        "    \n",
        "    all_sentence_id=[]\n",
        "\n",
        "    for batch in test_data_loader:\n",
        "        b_sentence_id = batch[0].to(device)\n",
        "        b_input_ids = batch[1].to(device)\n",
        "        b_input_mask = batch[2].to(device)\n",
        "        b_labels = batch[3].to(device)\n",
        "\n",
        "        sent_ids = b_sentence_id.to('cpu').numpy()\n",
        "        all_sentence_id.extend(sent_ids)\n",
        "        \n",
        "        with torch.no_grad():\n",
        "\n",
        "            loss, logits = model(b_input_ids,\n",
        "                                attention_mask= b_input_mask,\n",
        "                                labels = b_labels.long(),\n",
        "                                return_dict = False)\n",
        "        total_eval_loss+=loss.item()\n",
        "\n",
        "        logits = logits.detach().cpu().numpy()\n",
        "\n",
        "        label_ids = b_labels.to('cpu').numpy()\n",
        "        \n",
        "\n",
        "        pred,true = predictions_labels(logits,label_ids)\n",
        "        \n",
        "        all_pred_labels.extend(pred)\n",
        "        \n",
        "        all_true_labels.extend(true)\n",
        "\n",
        "    print(classification_report(all_pred_labels,all_true_labels))\n",
        "    avg_val_accuracy = accuracy_score(all_pred_labels,all_true_labels)\n",
        "    \n",
        "    avg_val_loss = total_eval_loss/len(valid_data_loader)\n",
        "\n",
        "    print(\"accuracy = {0:.2f}\".format(avg_val_accuracy))\n",
        "    \n",
        "    return avg_val_loss,avg_val_accuracy,all_sentence_id,all_pred_labels\n",
        "\n",
        "valid_loss,valid_acc,all_sentence_id,all_pred_labels = evaluate_test()\n",
        "\n"
      ],
      "metadata": {
        "id": "lBTRC1VjojV8",
        "colab": {
          "base_uri": "https://localhost:8080/"
        },
        "outputId": "f3eefed9-9ea1-435d-f62e-21c0bea7e1b8"
      },
      "execution_count": null,
      "outputs": [
        {
          "output_type": "stream",
          "name": "stdout",
          "text": [
            "              precision    recall  f1-score   support\n",
            "\n",
            "           0       0.71      0.59      0.65       160\n",
            "           1       0.83      0.89      0.86       366\n",
            "\n",
            "    accuracy                           0.80       526\n",
            "   macro avg       0.77      0.74      0.75       526\n",
            "weighted avg       0.80      0.80      0.80       526\n",
            "\n",
            "accuracy = 0.80\n"
          ]
        }
      ]
    },
    {
      "cell_type": "code",
      "source": [
        "pred_labels = list(le.inverse_transform(all_pred_labels))"
      ],
      "metadata": {
        "id": "9KPODAy3onI5"
      },
      "execution_count": null,
      "outputs": []
    },
    {
      "cell_type": "code",
      "source": [
        "from collections import OrderedDict\n",
        "dict_index_y_value = {}\n",
        "\n",
        "for index,y_value in zip(all_sentence_id,pred_labels):\n",
        "    dict_index_y_value[index] = y_value\n",
        "\n",
        "od = OrderedDict(sorted(dict_index_y_value.items()))\n",
        "\n",
        "sorted_y_predicts = []\n",
        "for k,v in od.items():\n",
        "    sorted_y_predicts.append(v)\n",
        "\n"
      ],
      "metadata": {
        "id": "2m-kfaCoopM7"
      },
      "execution_count": null,
      "outputs": []
    },
    {
      "cell_type": "code",
      "source": [
        "test_tweet_id = list(df_test['tweet_id'].values)\n",
        "test_ID = list(df_test['ID'].values)\n",
        "\n",
        "test_final = pd.DataFrame(zip(test_tweet_id,sorted_y_predicts,test_ID),columns=['tweet_id',task,'ID'])\n",
        "\n",
        "if task == 'task1':\n",
        "    test_final.to_csv(\"HASOC2020_HASOCOne_submission_DE_A.csv\",index=False)\n",
        "\n",
        "if task == 'task2':\n",
        "    test_final.to_csv(\"HASOC2020_HASOCOne_submission_DE_B.csv\",index=False)\n",
        "\n"
      ],
      "metadata": {
        "id": "tSmuFDTKor8d"
      },
      "execution_count": null,
      "outputs": []
    },
    {
      "cell_type": "code",
      "source": [
        "del model\n",
        "import gc\n",
        "gc.collect()\n",
        "\n"
      ],
      "metadata": {
        "id": "ng1_PSmAovNQ",
        "colab": {
          "base_uri": "https://localhost:8080/"
        },
        "outputId": "bde4040b-c78c-4a2d-e32d-552487e2306f"
      },
      "execution_count": null,
      "outputs": [
        {
          "output_type": "execute_result",
          "data": {
            "text/plain": [
              "59"
            ]
          },
          "metadata": {},
          "execution_count": 50
        }
      ]
    },
    {
      "cell_type": "code",
      "source": [
        "#from google.colab import drive\n",
        "#drive.mount('/content/drive')"
      ],
      "metadata": {
        "colab": {
          "base_uri": "https://localhost:8080/"
        },
        "id": "HMCfj2Fvh5wf",
        "outputId": "9b39b78b-2972-48cf-80a5-02ea343ffb82"
      },
      "execution_count": null,
      "outputs": [
        {
          "output_type": "stream",
          "name": "stdout",
          "text": [
            "Mounted at /content/drive\n"
          ]
        }
      ]
    },
    {
      "cell_type": "code",
      "source": [
        "#model = torch.load(\"/content/model_HASOCOne_Hasoc2020_german_task_a.pt\")\n",
        "\n",
        "#path = \"/content/drive/MyDrive/Colab Notebooks/{model_HASOCOne_Hasoc2020_german_task_a.pt}\" \n",
        "#torch.save(model.state_dict(), path)"
      ],
      "metadata": {
        "id": "JwHcAKqQiGOs"
      },
      "execution_count": null,
      "outputs": []
    }
  ]
}