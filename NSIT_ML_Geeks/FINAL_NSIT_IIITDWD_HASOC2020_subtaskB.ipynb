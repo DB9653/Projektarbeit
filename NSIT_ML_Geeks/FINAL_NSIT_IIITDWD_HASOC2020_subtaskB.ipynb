{
  "nbformat": 4,
  "nbformat_minor": 0,
  "metadata": {
    "colab": {
      "name": "FINAL_NSIT_IIITDWD_HASOC2020_subtaskB.ipynb",
      "provenance": [],
      "include_colab_link": true
    },
    "kernelspec": {
      "name": "python3",
      "display_name": "Python 3"
    },
    "language_info": {
      "name": "python"
    },
    "accelerator": "GPU"
  },
  "cells": [
    {
      "cell_type": "markdown",
      "metadata": {
        "id": "view-in-github",
        "colab_type": "text"
      },
      "source": [
        "<a href=\"https://colab.research.google.com/github/DB9653/Projektarbeit/blob/main/FINAL_NSIT_IIITDWD_HASOC2020_subtaskB.ipynb\" target=\"_parent\"><img src=\"https://colab.research.google.com/assets/colab-badge.svg\" alt=\"Open In Colab\"/></a>"
      ]
    },
    {
      "cell_type": "code",
      "execution_count": null,
      "metadata": {
        "colab": {
          "base_uri": "https://localhost:8080/",
          "height": 35
        },
        "id": "3WrM9fC_cBQb",
        "outputId": "5132bf95-b926-4b9b-c007-4ead5955ee0d"
      },
      "outputs": [
        {
          "output_type": "execute_result",
          "data": {
            "text/plain": [
              "'/device:GPU:0'"
            ],
            "application/vnd.google.colaboratory.intrinsic+json": {
              "type": "string"
            }
          },
          "metadata": {},
          "execution_count": 1
        }
      ],
      "source": [
        "import tensorflow as tf\n",
        "tf.test.gpu_device_name()"
      ]
    },
    {
      "cell_type": "markdown",
      "source": [
        "# Dataset Reading\n"
      ],
      "metadata": {
        "id": "ich9pK22c2lR"
      }
    },
    {
      "cell_type": "code",
      "source": [
        "import pandas as pd \n",
        "import csv\n",
        "data = pd.read_excel('/content/hasoc_2020_de_train_new_a.xlsx', converters={'tweet_id':int})\n",
        "pd.set_option('display.max_colwidth',150)\n",
        "data.head(10)"
      ],
      "metadata": {
        "colab": {
          "base_uri": "https://localhost:8080/",
          "height": 363
        },
        "id": "tv-xvP9bc3nv",
        "outputId": "178cea25-a042-46ae-ef61-6aabf86d12f9"
      },
      "execution_count": null,
      "outputs": [
        {
          "output_type": "execute_result",
          "data": {
            "text/plain": [
              "              tweet_id  \\\n",
              "0  1133388798925189122   \n",
              "1  1127134592517980161   \n",
              "2  1128897106171842560   \n",
              "3  1123576753199484928   \n",
              "4  1128743783393312768   \n",
              "5  1134139256375525376   \n",
              "6  1132759271618293761   \n",
              "7  1131107693123526657   \n",
              "8  1133093570229997573   \n",
              "9  1126898700683501569   \n",
              "\n",
              "                                                                                                                                           text  \\\n",
              "0               Deutsche rothaarige porno reife deutsche frauen porno. Deutsche politessen pornos porno deutsch inzets. https://t.co/xAag87Y0Jd   \n",
              "1  RT @NDRinfo: Die deutsche Klimaaktivistin Luisa Neubauer wirft Kanzlerin Merkel wegen ihrer fehlenden Unterstützung für den europäischen Kl…   \n",
              "2                                                           @ruhrbahn jeden Morgen eine neue „Fahrzeugstörung“, ihr seid einfach nur zum Kotzen   \n",
              "3    @Junge_Freiheit Die Inkas hatten sich schon dämlich angestellt, bei den spanischen Eindringlingen, aber der Deutsche toppt dann doch alles   \n",
              "4                       RT @technosteron: leute die 'boar' schreiben lassen sich bestimmt auch von ihren analphabetischen Vater in arsch ficken   \n",
              "5                                                              ich habe mir gerade diese dorne aus meinem arsch gezogen https://t.co/x40mpKgBZN   \n",
              "6                                                                     RT @Schrammi44: Er ist einfach der GOAT @Bouncaay https://t.co/bb9b5SWaKi   \n",
              "7  KFM Deutsche Mittelstand AG: Deutscher Mittelstandsanleihen FONDS zeichnet neue Hörmann-Anleihe mit Mindest-Kupon 4… https://t.co/5HeRedf9cx   \n",
              "8                                      @mentalshards_ ich will jetzt nicht offenden oder so, ich will einfach nur, das die scheiße weniger wird   \n",
              "9                                                                                RT @SteinbachErika: Einfach skandalös! https://t.co/dC5NXFbviQ   \n",
              "\n",
              "  task1 task2                  ID  \n",
              "0   NOT  NONE  hasoc_2020_de_2684  \n",
              "1   NOT  NONE  hasoc_2020_de_1042  \n",
              "2   NOT  NONE   hasoc_2020_de_774  \n",
              "3   NOT  NONE   hasoc_2020_de_559  \n",
              "4   HOF  PRFN  hasoc_2020_de_1969  \n",
              "5   HOF  PRFN  hasoc_2020_de_2926  \n",
              "6   NOT  NONE  hasoc_2020_de_2994  \n",
              "7   NOT  NONE  hasoc_2020_de_1574  \n",
              "8   HOF  PRFN  hasoc_2020_de_1480  \n",
              "9   NOT  NONE  hasoc_2020_de_3224  "
            ],
            "text/html": [
              "\n",
              "  <div id=\"df-d0c18c4b-462d-477c-9b35-48aafc642df7\">\n",
              "    <div class=\"colab-df-container\">\n",
              "      <div>\n",
              "<style scoped>\n",
              "    .dataframe tbody tr th:only-of-type {\n",
              "        vertical-align: middle;\n",
              "    }\n",
              "\n",
              "    .dataframe tbody tr th {\n",
              "        vertical-align: top;\n",
              "    }\n",
              "\n",
              "    .dataframe thead th {\n",
              "        text-align: right;\n",
              "    }\n",
              "</style>\n",
              "<table border=\"1\" class=\"dataframe\">\n",
              "  <thead>\n",
              "    <tr style=\"text-align: right;\">\n",
              "      <th></th>\n",
              "      <th>tweet_id</th>\n",
              "      <th>text</th>\n",
              "      <th>task1</th>\n",
              "      <th>task2</th>\n",
              "      <th>ID</th>\n",
              "    </tr>\n",
              "  </thead>\n",
              "  <tbody>\n",
              "    <tr>\n",
              "      <th>0</th>\n",
              "      <td>1133388798925189122</td>\n",
              "      <td>Deutsche rothaarige porno reife deutsche frauen porno. Deutsche politessen pornos porno deutsch inzets. https://t.co/xAag87Y0Jd</td>\n",
              "      <td>NOT</td>\n",
              "      <td>NONE</td>\n",
              "      <td>hasoc_2020_de_2684</td>\n",
              "    </tr>\n",
              "    <tr>\n",
              "      <th>1</th>\n",
              "      <td>1127134592517980161</td>\n",
              "      <td>RT @NDRinfo: Die deutsche Klimaaktivistin Luisa Neubauer wirft Kanzlerin Merkel wegen ihrer fehlenden Unterstützung für den europäischen Kl…</td>\n",
              "      <td>NOT</td>\n",
              "      <td>NONE</td>\n",
              "      <td>hasoc_2020_de_1042</td>\n",
              "    </tr>\n",
              "    <tr>\n",
              "      <th>2</th>\n",
              "      <td>1128897106171842560</td>\n",
              "      <td>@ruhrbahn jeden Morgen eine neue „Fahrzeugstörung“, ihr seid einfach nur zum Kotzen</td>\n",
              "      <td>NOT</td>\n",
              "      <td>NONE</td>\n",
              "      <td>hasoc_2020_de_774</td>\n",
              "    </tr>\n",
              "    <tr>\n",
              "      <th>3</th>\n",
              "      <td>1123576753199484928</td>\n",
              "      <td>@Junge_Freiheit Die Inkas hatten sich schon dämlich angestellt, bei den spanischen Eindringlingen, aber der Deutsche toppt dann doch alles</td>\n",
              "      <td>NOT</td>\n",
              "      <td>NONE</td>\n",
              "      <td>hasoc_2020_de_559</td>\n",
              "    </tr>\n",
              "    <tr>\n",
              "      <th>4</th>\n",
              "      <td>1128743783393312768</td>\n",
              "      <td>RT @technosteron: leute die 'boar' schreiben lassen sich bestimmt auch von ihren analphabetischen Vater in arsch ficken</td>\n",
              "      <td>HOF</td>\n",
              "      <td>PRFN</td>\n",
              "      <td>hasoc_2020_de_1969</td>\n",
              "    </tr>\n",
              "    <tr>\n",
              "      <th>5</th>\n",
              "      <td>1134139256375525376</td>\n",
              "      <td>ich habe mir gerade diese dorne aus meinem arsch gezogen https://t.co/x40mpKgBZN</td>\n",
              "      <td>HOF</td>\n",
              "      <td>PRFN</td>\n",
              "      <td>hasoc_2020_de_2926</td>\n",
              "    </tr>\n",
              "    <tr>\n",
              "      <th>6</th>\n",
              "      <td>1132759271618293761</td>\n",
              "      <td>RT @Schrammi44: Er ist einfach der GOAT @Bouncaay https://t.co/bb9b5SWaKi</td>\n",
              "      <td>NOT</td>\n",
              "      <td>NONE</td>\n",
              "      <td>hasoc_2020_de_2994</td>\n",
              "    </tr>\n",
              "    <tr>\n",
              "      <th>7</th>\n",
              "      <td>1131107693123526657</td>\n",
              "      <td>KFM Deutsche Mittelstand AG: Deutscher Mittelstandsanleihen FONDS zeichnet neue Hörmann-Anleihe mit Mindest-Kupon 4… https://t.co/5HeRedf9cx</td>\n",
              "      <td>NOT</td>\n",
              "      <td>NONE</td>\n",
              "      <td>hasoc_2020_de_1574</td>\n",
              "    </tr>\n",
              "    <tr>\n",
              "      <th>8</th>\n",
              "      <td>1133093570229997573</td>\n",
              "      <td>@mentalshards_ ich will jetzt nicht offenden oder so, ich will einfach nur, das die scheiße weniger wird</td>\n",
              "      <td>HOF</td>\n",
              "      <td>PRFN</td>\n",
              "      <td>hasoc_2020_de_1480</td>\n",
              "    </tr>\n",
              "    <tr>\n",
              "      <th>9</th>\n",
              "      <td>1126898700683501569</td>\n",
              "      <td>RT @SteinbachErika: Einfach skandalös! https://t.co/dC5NXFbviQ</td>\n",
              "      <td>NOT</td>\n",
              "      <td>NONE</td>\n",
              "      <td>hasoc_2020_de_3224</td>\n",
              "    </tr>\n",
              "  </tbody>\n",
              "</table>\n",
              "</div>\n",
              "      <button class=\"colab-df-convert\" onclick=\"convertToInteractive('df-d0c18c4b-462d-477c-9b35-48aafc642df7')\"\n",
              "              title=\"Convert this dataframe to an interactive table.\"\n",
              "              style=\"display:none;\">\n",
              "        \n",
              "  <svg xmlns=\"http://www.w3.org/2000/svg\" height=\"24px\"viewBox=\"0 0 24 24\"\n",
              "       width=\"24px\">\n",
              "    <path d=\"M0 0h24v24H0V0z\" fill=\"none\"/>\n",
              "    <path d=\"M18.56 5.44l.94 2.06.94-2.06 2.06-.94-2.06-.94-.94-2.06-.94 2.06-2.06.94zm-11 1L8.5 8.5l.94-2.06 2.06-.94-2.06-.94L8.5 2.5l-.94 2.06-2.06.94zm10 10l.94 2.06.94-2.06 2.06-.94-2.06-.94-.94-2.06-.94 2.06-2.06.94z\"/><path d=\"M17.41 7.96l-1.37-1.37c-.4-.4-.92-.59-1.43-.59-.52 0-1.04.2-1.43.59L10.3 9.45l-7.72 7.72c-.78.78-.78 2.05 0 2.83L4 21.41c.39.39.9.59 1.41.59.51 0 1.02-.2 1.41-.59l7.78-7.78 2.81-2.81c.8-.78.8-2.07 0-2.86zM5.41 20L4 18.59l7.72-7.72 1.47 1.35L5.41 20z\"/>\n",
              "  </svg>\n",
              "      </button>\n",
              "      \n",
              "  <style>\n",
              "    .colab-df-container {\n",
              "      display:flex;\n",
              "      flex-wrap:wrap;\n",
              "      gap: 12px;\n",
              "    }\n",
              "\n",
              "    .colab-df-convert {\n",
              "      background-color: #E8F0FE;\n",
              "      border: none;\n",
              "      border-radius: 50%;\n",
              "      cursor: pointer;\n",
              "      display: none;\n",
              "      fill: #1967D2;\n",
              "      height: 32px;\n",
              "      padding: 0 0 0 0;\n",
              "      width: 32px;\n",
              "    }\n",
              "\n",
              "    .colab-df-convert:hover {\n",
              "      background-color: #E2EBFA;\n",
              "      box-shadow: 0px 1px 2px rgba(60, 64, 67, 0.3), 0px 1px 3px 1px rgba(60, 64, 67, 0.15);\n",
              "      fill: #174EA6;\n",
              "    }\n",
              "\n",
              "    [theme=dark] .colab-df-convert {\n",
              "      background-color: #3B4455;\n",
              "      fill: #D2E3FC;\n",
              "    }\n",
              "\n",
              "    [theme=dark] .colab-df-convert:hover {\n",
              "      background-color: #434B5C;\n",
              "      box-shadow: 0px 1px 3px 1px rgba(0, 0, 0, 0.15);\n",
              "      filter: drop-shadow(0px 1px 2px rgba(0, 0, 0, 0.3));\n",
              "      fill: #FFFFFF;\n",
              "    }\n",
              "  </style>\n",
              "\n",
              "      <script>\n",
              "        const buttonEl =\n",
              "          document.querySelector('#df-d0c18c4b-462d-477c-9b35-48aafc642df7 button.colab-df-convert');\n",
              "        buttonEl.style.display =\n",
              "          google.colab.kernel.accessAllowed ? 'block' : 'none';\n",
              "\n",
              "        async function convertToInteractive(key) {\n",
              "          const element = document.querySelector('#df-d0c18c4b-462d-477c-9b35-48aafc642df7');\n",
              "          const dataTable =\n",
              "            await google.colab.kernel.invokeFunction('convertToInteractive',\n",
              "                                                     [key], {});\n",
              "          if (!dataTable) return;\n",
              "\n",
              "          const docLinkHtml = 'Like what you see? Visit the ' +\n",
              "            '<a target=\"_blank\" href=https://colab.research.google.com/notebooks/data_table.ipynb>data table notebook</a>'\n",
              "            + ' to learn more about interactive tables.';\n",
              "          element.innerHTML = '';\n",
              "          dataTable['output_type'] = 'display_data';\n",
              "          await google.colab.output.renderOutput(dataTable, element);\n",
              "          const docLink = document.createElement('div');\n",
              "          docLink.innerHTML = docLinkHtml;\n",
              "          element.appendChild(docLink);\n",
              "        }\n",
              "      </script>\n",
              "    </div>\n",
              "  </div>\n",
              "  "
            ]
          },
          "metadata": {},
          "execution_count": 2
        }
      ]
    },
    {
      "cell_type": "code",
      "source": [
        "data.shape"
      ],
      "metadata": {
        "colab": {
          "base_uri": "https://localhost:8080/"
        },
        "id": "w8IxXXfXdNVx",
        "outputId": "fc472fee-276e-4ea8-f4d0-0a0ca468d7fa"
      },
      "execution_count": null,
      "outputs": [
        {
          "output_type": "execute_result",
          "data": {
            "text/plain": [
              "(2373, 5)"
            ]
          },
          "metadata": {},
          "execution_count": 3
        }
      ]
    },
    {
      "cell_type": "code",
      "source": [
        "print(data.dtypes)"
      ],
      "metadata": {
        "colab": {
          "base_uri": "https://localhost:8080/"
        },
        "id": "EU26LSyOdN9K",
        "outputId": "3ecb9638-808a-47cd-d2cd-e2b8871d1932"
      },
      "execution_count": null,
      "outputs": [
        {
          "output_type": "stream",
          "name": "stdout",
          "text": [
            "tweet_id     int64\n",
            "text        object\n",
            "task1       object\n",
            "task2       object\n",
            "ID          object\n",
            "dtype: object\n"
          ]
        }
      ]
    },
    {
      "cell_type": "markdown",
      "source": [
        "\n",
        "# Making of \"label\" Variable\n"
      ],
      "metadata": {
        "id": "NjSsHoeadSze"
      }
    },
    {
      "cell_type": "code",
      "source": [
        "\n",
        "\n",
        "label = data['task2']\n",
        "label.head(10)\n",
        "\n"
      ],
      "metadata": {
        "colab": {
          "base_uri": "https://localhost:8080/"
        },
        "id": "KRrfXosPdQYN",
        "outputId": "7c7b9dff-8273-43a8-c7cd-1afeab3a199f"
      },
      "execution_count": null,
      "outputs": [
        {
          "output_type": "execute_result",
          "data": {
            "text/plain": [
              "0    NONE\n",
              "1    NONE\n",
              "2    NONE\n",
              "3    NONE\n",
              "4    PRFN\n",
              "5    PRFN\n",
              "6    NONE\n",
              "7    NONE\n",
              "8    PRFN\n",
              "9    NONE\n",
              "Name: task2, dtype: object"
            ]
          },
          "metadata": {},
          "execution_count": 5
        }
      ]
    },
    {
      "cell_type": "markdown",
      "source": [
        "\n",
        "# Checking Dataset Balancing\n"
      ],
      "metadata": {
        "id": "-PgL8mGGdWkR"
      }
    },
    {
      "cell_type": "code",
      "source": [
        "\n",
        "\n",
        "print(label.value_counts())\n",
        "import matplotlib.pyplot as plt\n",
        "label.value_counts().plot(kind='bar', color='blue')\n",
        "\n"
      ],
      "metadata": {
        "colab": {
          "base_uri": "https://localhost:8080/",
          "height": 392
        },
        "id": "8gvrsn0DdU9s",
        "outputId": "fc27ee9f-a5d0-4743-8ed5-322a1f04c269"
      },
      "execution_count": null,
      "outputs": [
        {
          "output_type": "stream",
          "name": "stdout",
          "text": [
            "NONE    1700\n",
            "PRFN     387\n",
            "HATE     146\n",
            "OFFN     140\n",
            "Name: task2, dtype: int64\n"
          ]
        },
        {
          "output_type": "execute_result",
          "data": {
            "text/plain": [
              "<matplotlib.axes._subplots.AxesSubplot at 0x7f21e4716710>"
            ]
          },
          "metadata": {},
          "execution_count": 6
        },
        {
          "output_type": "display_data",
          "data": {
            "text/plain": [
              "<Figure size 432x288 with 1 Axes>"
            ],
            "image/png": "[encoded data removed]"
          },
          "metadata": {
            "needs_background": "light"
          }
        }
      ]
    },
    {
      "cell_type": "markdown",
      "source": [
        "# Convering label into \"0-NONE\", \"1-HATE\", \"2-OFFN\", and \"3-PRFN\"\n"
      ],
      "metadata": {
        "id": "O1DunZhmdd4p"
      }
    },
    {
      "cell_type": "code",
      "source": [
        "\n",
        "\n",
        "\n",
        "import numpy as np\n",
        "classes_list = [\"NONE\",\"HATE\",\"OFFN\",\"PRFN\"]\n",
        "label_index = data['task2'].apply(classes_list.index)\n",
        "final_label = np.asarray(label_index)\n",
        "print(final_label[:50])\n",
        "\n"
      ],
      "metadata": {
        "colab": {
          "base_uri": "https://localhost:8080/"
        },
        "id": "p7yhna5pdY1o",
        "outputId": "388d3777-4a2f-4f05-ea14-3b15fde28de8"
      },
      "execution_count": null,
      "outputs": [
        {
          "output_type": "stream",
          "name": "stdout",
          "text": [
            "[0 0 0 0 3 3 0 0 3 0 3 0 0 0 3 2 0 0 0 3 2 0 0 0 0 0 3 1 0 3 0 0 0 0 0 0 0\n",
            " 0 1 0 0 0 1 0 0 2 3 0 0 0]\n"
          ]
        }
      ]
    },
    {
      "cell_type": "code",
      "source": [
        "\n",
        "\n",
        "from keras.utils.np_utils import to_categorical\n",
        "label_twoDimension = to_categorical(final_label, num_classes=4)\n",
        "\n"
      ],
      "metadata": {
        "id": "469fZJpmdhnp"
      },
      "execution_count": null,
      "outputs": []
    },
    {
      "cell_type": "code",
      "source": [
        "print(label_twoDimension[:10])"
      ],
      "metadata": {
        "colab": {
          "base_uri": "https://localhost:8080/"
        },
        "id": "E5sBJU10djb0",
        "outputId": "21d7d6b3-6b5f-4bfe-c7c4-3f5c6867b64d"
      },
      "execution_count": null,
      "outputs": [
        {
          "output_type": "stream",
          "name": "stdout",
          "text": [
            "[[1. 0. 0. 0.]\n",
            " [1. 0. 0. 0.]\n",
            " [1. 0. 0. 0.]\n",
            " [1. 0. 0. 0.]\n",
            " [0. 0. 0. 1.]\n",
            " [0. 0. 0. 1.]\n",
            " [1. 0. 0. 0.]\n",
            " [1. 0. 0. 0.]\n",
            " [0. 0. 0. 1.]\n",
            " [1. 0. 0. 0.]]\n"
          ]
        }
      ]
    },
    {
      "cell_type": "markdown",
      "source": [
        "# Making of \"text\" Variable\n"
      ],
      "metadata": {
        "id": "DokLz_PPdm6s"
      }
    },
    {
      "cell_type": "code",
      "source": [
        "\n",
        "\n",
        "text = data['text']\n",
        "text.head(10)\n",
        "\n"
      ],
      "metadata": {
        "colab": {
          "base_uri": "https://localhost:8080/"
        },
        "id": "a5GsU-mydnws",
        "outputId": "4fcb2dfe-c55f-4702-aa5d-4081d7cb2f31"
      },
      "execution_count": null,
      "outputs": [
        {
          "output_type": "execute_result",
          "data": {
            "text/plain": [
              "0                 Deutsche rothaarige porno reife deutsche frauen porno. Deutsche politessen pornos porno deutsch inzets. https://t.co/xAag87Y0Jd\n",
              "1    RT @NDRinfo: Die deutsche Klimaaktivistin Luisa Neubauer wirft Kanzlerin Merkel wegen ihrer fehlenden Unterstützung für den europäischen Kl…\n",
              "2                                                             @ruhrbahn jeden Morgen eine neue „Fahrzeugstörung“, ihr seid einfach nur zum Kotzen\n",
              "3      @Junge_Freiheit Die Inkas hatten sich schon dämlich angestellt, bei den spanischen Eindringlingen, aber der Deutsche toppt dann doch alles\n",
              "4                         RT @technosteron: leute die 'boar' schreiben lassen sich bestimmt auch von ihren analphabetischen Vater in arsch ficken\n",
              "5                                                                ich habe mir gerade diese dorne aus meinem arsch gezogen https://t.co/x40mpKgBZN\n",
              "6                                                                       RT @Schrammi44: Er ist einfach der GOAT @Bouncaay https://t.co/bb9b5SWaKi\n",
              "7    KFM Deutsche Mittelstand AG: Deutscher Mittelstandsanleihen FONDS zeichnet neue Hörmann-Anleihe mit Mindest-Kupon 4… https://t.co/5HeRedf9cx\n",
              "8                                        @mentalshards_ ich will jetzt nicht offenden oder so, ich will einfach nur, das die scheiße weniger wird\n",
              "9                                                                                  RT @SteinbachErika: Einfach skandalös! https://t.co/dC5NXFbviQ\n",
              "Name: text, dtype: object"
            ]
          },
          "metadata": {},
          "execution_count": 10
        }
      ]
    },
    {
      "cell_type": "markdown",
      "source": [
        "# Dataset Pre-processing\n"
      ],
      "metadata": {
        "id": "M8nthYnNdsFk"
      }
    },
    {
      "cell_type": "code",
      "source": [
        "def remove_umlaut(string):\n",
        "    \"\"\"\n",
        "    Removes umlauts from strings and replaces them with the letter+e convention\n",
        "    :param string: string to remove umlauts from\n",
        "    :return: unumlauted string\n",
        "    \"\"\"\n",
        "    u = 'ü'.encode()\n",
        "    U = 'Ü'.encode()\n",
        "    a = 'ä'.encode()\n",
        "    A = 'Ä'.encode()\n",
        "    o = 'ö'.encode()\n",
        "    O = 'Ö'.encode()\n",
        "    ss = 'ß'.encode()\n",
        "\n",
        "    string = string.encode()\n",
        "    string = string.replace(u, b'ue')\n",
        "    string = string.replace(U, b'Ue')\n",
        "    string = string.replace(a, b'ae')\n",
        "    string = string.replace(A, b'Ae')\n",
        "    string = string.replace(o, b'oe')\n",
        "    string = string.replace(O, b'Oe')\n",
        "    string = string.replace(ss, b'ss')\n",
        "\n",
        "    string = string.decode('utf-8')\n",
        "    return string"
      ],
      "metadata": {
        "id": "Fk5AauNLaKGo"
      },
      "execution_count": null,
      "outputs": []
    },
    {
      "cell_type": "code",
      "source": [
        "text_wo_umlauts = text.apply(lambda x:remove_umlaut(x))\n",
        "text_wo_umlauts.head(10)"
      ],
      "metadata": {
        "colab": {
          "base_uri": "https://localhost:8080/"
        },
        "id": "zz5KnmBqaN0u",
        "outputId": "af073f5e-926c-44be-ff08-9cef1271d0fc"
      },
      "execution_count": null,
      "outputs": [
        {
          "output_type": "execute_result",
          "data": {
            "text/plain": [
              "0                    Deutsche rothaarige porno reife deutsche frauen porno. Deutsche politessen pornos porno deutsch inzets. https://t.co/xAag87Y0Jd\n",
              "1    RT @NDRinfo: Die deutsche Klimaaktivistin Luisa Neubauer wirft Kanzlerin Merkel wegen ihrer fehlenden Unterstuetzung fuer den europaeischen Kl…\n",
              "2                                                               @ruhrbahn jeden Morgen eine neue „Fahrzeugstoerung“, ihr seid einfach nur zum Kotzen\n",
              "3        @Junge_Freiheit Die Inkas hatten sich schon daemlich angestellt, bei den spanischen Eindringlingen, aber der Deutsche toppt dann doch alles\n",
              "4                            RT @technosteron: leute die 'boar' schreiben lassen sich bestimmt auch von ihren analphabetischen Vater in arsch ficken\n",
              "5                                                                   ich habe mir gerade diese dorne aus meinem arsch gezogen https://t.co/x40mpKgBZN\n",
              "6                                                                          RT @Schrammi44: Er ist einfach der GOAT @Bouncaay https://t.co/bb9b5SWaKi\n",
              "7      KFM Deutsche Mittelstand AG: Deutscher Mittelstandsanleihen FONDS zeichnet neue Hoermann-Anleihe mit Mindest-Kupon 4… https://t.co/5HeRedf9cx\n",
              "8                                          @mentalshards_ ich will jetzt nicht offenden oder so, ich will einfach nur, das die scheisse weniger wird\n",
              "9                                                                                    RT @SteinbachErika: Einfach skandaloes! https://t.co/dC5NXFbviQ\n",
              "Name: text, dtype: object"
            ]
          },
          "metadata": {},
          "execution_count": 12
        }
      ]
    },
    {
      "cell_type": "code",
      "source": [
        "\n",
        "\n",
        "import re \n",
        "\n",
        "def text_clean(text):\n",
        "    ''' Pre process and convert texts to a list of words '''\n",
        "    \n",
        "    text=text.lower()\n",
        "\n",
        "    # Clean the text\n",
        "    text = re.sub(r\"[^A-Za-z0-9^,!.\\/'+-=]\", \" \", text)\n",
        "    \n",
        "    text = re.sub('https?://\\S+|www\\.\\S+', \"\", text)\n",
        "    text = re.sub(r\",\", \" \", text)\n",
        "    text = re.sub(r\"\\.\", \" \", text)\n",
        "    text = re.sub(r\"!\", \" ! \", text)\n",
        "    text = re.sub(r\"\\/\", \" \", text)\n",
        "    text = re.sub(r\"\\^\", \" ^ \", text)\n",
        "    text = re.sub(r\"\\+\", \" + \", text)\n",
        "    text = re.sub(r\"\\-\", \" - \", text)\n",
        "    text = re.sub(r\"\\=\", \" = \", text)\n",
        "    text = re.sub(r\"'\", \" \", text)\n",
        "    text = re.sub(r\"rt\", \" \", text)\n",
        "   \n",
        "    text = re.sub(r\":\", \" : \", text)\n",
        "   \n",
        "\n",
        "  \n",
        "    return text\n",
        "\n"
      ],
      "metadata": {
        "id": "yvDvSeItdtV2"
      },
      "execution_count": null,
      "outputs": []
    },
    {
      "cell_type": "code",
      "source": [
        "clean_text = text_wo_umlauts.apply(lambda x:text_clean(x))"
      ],
      "metadata": {
        "id": "0iXgjLHjdvri"
      },
      "execution_count": null,
      "outputs": []
    },
    {
      "cell_type": "code",
      "source": [
        "clean_text.head(10)"
      ],
      "metadata": {
        "colab": {
          "base_uri": "https://localhost:8080/"
        },
        "id": "cJLgVu3gdxOw",
        "outputId": "d74dde12-8a63-45c6-e8a8-56470b84a12e"
      },
      "execution_count": null,
      "outputs": [
        {
          "output_type": "execute_result",
          "data": {
            "text/plain": [
              "0                                            deutsche rothaarige porno reife deutsche frauen porno  deutsche politessen pornos porno deutsch inzets  \n",
              "1       ndrinfo :  die deutsche klimaaktivistin luisa neubauer wirft kanzlerin merkel wegen ihrer fehlenden unterstuetzung fuer den europaeischen kl \n",
              "2                                                                 ruhrbahn jeden morgen eine neue  fahrzeugstoerung   ihr seid einfach nur zum kotzen\n",
              "3          junge freiheit die inkas hatten sich schon daemlich angestellt  bei den spanischen eindringlingen  aber der deutsche toppt dann doch alles\n",
              "4                               technosteron :  leute die  boar  schreiben lassen sich bestimmt auch von ihren analphabetischen vater in arsch ficken\n",
              "5                                                                                           ich habe mir gerade diese dorne aus meinem arsch gezogen \n",
              "6                                                                                                    schrammi44 :  er ist einfach der goat  bouncaay \n",
              "7                        kfm deutsche mittelstand ag :  deutscher mittelstandsanleihen fonds zeichnet neue hoermann - anleihe mit mindest - kupon 4  \n",
              "8                                            mentalshards  ich will jetzt nicht offenden oder so  ich will einfach nur  das die scheisse weniger wird\n",
              "9                                                                                                            steinbacherika :  einfach skandaloes !  \n",
              "Name: text, dtype: object"
            ]
          },
          "metadata": {},
          "execution_count": 15
        }
      ]
    },
    {
      "cell_type": "markdown",
      "source": [
        "# Removing stopwords\n"
      ],
      "metadata": {
        "id": "zYf95_-6d0D0"
      }
    },
    {
      "cell_type": "code",
      "source": [
        "\n",
        "\n",
        "import nltk\n",
        "from nltk.corpus import stopwords\n",
        "nltk.download('stopwords')\n",
        "def stop_words_removal(text1):\n",
        "    text1=[w for w in  text1.split(\" \")  if w not in stopwords.words('german')]\n",
        "    return \" \".join(text1)\n",
        "\n"
      ],
      "metadata": {
        "colab": {
          "base_uri": "https://localhost:8080/"
        },
        "id": "vUJWDMt2dypJ",
        "outputId": "379d9c37-36fe-4c8e-ddb3-e417bc5b011e"
      },
      "execution_count": null,
      "outputs": [
        {
          "output_type": "stream",
          "name": "stdout",
          "text": [
            "[nltk_data] Downloading package stopwords to /root/nltk_data...\n",
            "[nltk_data]   Unzipping corpora/stopwords.zip.\n"
          ]
        }
      ]
    },
    {
      "cell_type": "code",
      "source": [
        "clean_text_ns=clean_text.apply(lambda x: stop_words_removal(x))"
      ],
      "metadata": {
        "id": "Wv3Chd76d2ka"
      },
      "execution_count": null,
      "outputs": []
    },
    {
      "cell_type": "code",
      "source": [
        "print(clean_text_ns.head(10))"
      ],
      "metadata": {
        "colab": {
          "base_uri": "https://localhost:8080/"
        },
        "id": "DrwsVIeAd4Bt",
        "outputId": "949c57b2-6d42-4cd4-f86a-b1b0187e0567"
      },
      "execution_count": null,
      "outputs": [
        {
          "output_type": "stream",
          "name": "stdout",
          "text": [
            "0                              deutsche rothaarige porno reife deutsche frauen porno  deutsche politessen pornos porno deutsch inzets  \n",
            "1       ndrinfo :  deutsche klimaaktivistin luisa neubauer wirft kanzlerin merkel wegen fehlenden unterstuetzung fuer europaeischen kl \n",
            "2                                                                          ruhrbahn morgen neue  fahrzeugstoerung   seid einfach kotzen\n",
            "3                                             junge freiheit inkas schon daemlich angestellt  spanischen eindringlingen  deutsche toppt\n",
            "4                                            technosteron :  leute  boar  schreiben lassen bestimmt analphabetischen vater arsch ficken\n",
            "5                                                                                                           gerade dorne arsch gezogen \n",
            "6                                                                                                 schrammi44 :  einfach goat  bouncaay \n",
            "7              kfm deutsche mittelstand ag :  deutscher mittelstandsanleihen fonds zeichnet neue hoermann - anleihe mindest - kupon 4  \n",
            "8                                                                                     mentalshards  offenden  einfach  scheisse weniger\n",
            "9                                                                                              steinbacherika :  einfach skandaloes !  \n",
            "Name: text, dtype: object\n"
          ]
        }
      ]
    },
    {
      "cell_type": "markdown",
      "source": [
        "# Stemming\n"
      ],
      "metadata": {
        "id": "W19O3gmld7iD"
      }
    },
    {
      "cell_type": "code",
      "source": [
        "\n",
        "\n",
        "# Stemming\n",
        "from nltk.stem import SnowballStemmer \n",
        "stemmer = SnowballStemmer(\"german\")\n",
        "\n",
        "def word_stemmer(text):\n",
        "    stem_text = \"\".join([stemmer.stem(i) for i in text])\n",
        "    return stem_text\n",
        "\n"
      ],
      "metadata": {
        "id": "FcfCOemUd8WD"
      },
      "execution_count": null,
      "outputs": []
    },
    {
      "cell_type": "code",
      "source": [
        "clean_text_stem = clean_text_ns.apply(lambda x : word_stemmer(x))"
      ],
      "metadata": {
        "id": "H2tICe3Ad95f"
      },
      "execution_count": null,
      "outputs": []
    },
    {
      "cell_type": "code",
      "source": [
        "print(clean_text_stem.head(10))"
      ],
      "metadata": {
        "colab": {
          "base_uri": "https://localhost:8080/"
        },
        "id": "c7XuAFV6d_ZB",
        "outputId": "6c49333d-bd9f-4167-8635-4ee5ca095dd7"
      },
      "execution_count": null,
      "outputs": [
        {
          "output_type": "stream",
          "name": "stdout",
          "text": [
            "0                              deutsche rothaarige porno reife deutsche frauen porno  deutsche politessen pornos porno deutsch inzets  \n",
            "1       ndrinfo :  deutsche klimaaktivistin luisa neubauer wirft kanzlerin merkel wegen fehlenden unterstuetzung fuer europaeischen kl \n",
            "2                                                                          ruhrbahn morgen neue  fahrzeugstoerung   seid einfach kotzen\n",
            "3                                             junge freiheit inkas schon daemlich angestellt  spanischen eindringlingen  deutsche toppt\n",
            "4                                            technosteron :  leute  boar  schreiben lassen bestimmt analphabetischen vater arsch ficken\n",
            "5                                                                                                           gerade dorne arsch gezogen \n",
            "6                                                                                                 schrammi44 :  einfach goat  bouncaay \n",
            "7              kfm deutsche mittelstand ag :  deutscher mittelstandsanleihen fonds zeichnet neue hoermann - anleihe mindest - kupon 4  \n",
            "8                                                                                     mentalshards  offenden  einfach  scheisse weniger\n",
            "9                                                                                              steinbacherika :  einfach skandaloes !  \n",
            "Name: text, dtype: object\n"
          ]
        }
      ]
    },
    {
      "cell_type": "markdown",
      "source": [
        "\n",
        "# Tokenization using \"keras\"\n"
      ],
      "metadata": {
        "id": "yWLBcRPDeCdS"
      }
    },
    {
      "cell_type": "code",
      "source": [
        "\n",
        "\n",
        "import keras\n",
        "import tensorflow\n",
        "from keras.preprocessing.text import Tokenizer\n",
        "tok_all = Tokenizer(filters='!\"#$%&\\'()*+,-./:;<=>?@[\\\\]^_`{|}~', lower=True, char_level = False)\n",
        "tok_all.fit_on_texts(clean_text_stem)\n",
        "\n"
      ],
      "metadata": {
        "id": "sa0pVmhpeAwb"
      },
      "execution_count": null,
      "outputs": []
    },
    {
      "cell_type": "markdown",
      "source": [
        "# Making Vocab for words\n"
      ],
      "metadata": {
        "id": "rIR6uS8_eHju"
      }
    },
    {
      "cell_type": "code",
      "source": [
        "\n",
        "\n",
        "vocabulary_all = len(tok_all.word_counts)\n",
        "print(vocabulary_all)\n",
        "\n"
      ],
      "metadata": {
        "colab": {
          "base_uri": "https://localhost:8080/"
        },
        "id": "CLqD49ineGJD",
        "outputId": "b72d437a-ead4-4205-8a31-bf891f0eff28"
      },
      "execution_count": null,
      "outputs": [
        {
          "output_type": "stream",
          "name": "stdout",
          "text": [
            "8769\n"
          ]
        }
      ]
    },
    {
      "cell_type": "code",
      "source": [
        "\n",
        "\n",
        "l = tok_all.word_index\n",
        "print(l)\n",
        "\n"
      ],
      "metadata": {
        "colab": {
          "base_uri": "https://localhost:8080/"
        },
        "id": "fvtMd9wUeJ2E",
        "outputId": "d61b831e-5d23-4fa2-ce9d-cba1bc8ce33a"
      },
      "execution_count": null,
      "outputs": [
        {
          "output_type": "stream",
          "name": "stdout",
          "text": [
            "{'einfach': 1, 'deutsche': 2, 'arsch': 3, 'merkel': 4, 'schon': 5, 'fuer': 6, 'gt': 7, 'mal': 8, 'gruenen': 9, 'scheiss': 10, 'nazis': 11, 'dumm': 12, 'frauen': 13, 'halt': 14, 'ab': 15, 'porno': 16, 'welt': 17, 'linken': 18, 'mehr': 19, 'tagesschau': 20, 'hurensohn': 21, 'ja': 22, 'zurueck': 23, 'echt': 24, 'gibt': 25, 'gratis': 26, 'gruene': 27, 'scheisse': 28, 'islam': 29, 'deutschland': 30, 'immer': 31, 'e': 32, 'frau': 33, 'politiker': 34, 'hoe': 35, 'linke': 36, 'pack': 37, 's': 38, 'warum': 39, 'kopf': 40, 'erst': 41, 'eigentlich': 42, 'leute': 43, 'fresse': 44, 'stimmt': 45, 'ueber': 46, 'idioten': 47, '2': 48, 'dumme': 49, 'n': 50, 'afd': 51, 'zdfheute': 52, 'macht': 53, 'waere': 54, 'en': 55, '1': 56, 'd': 57, 'kinder': 58, 'kotzen': 59, 'europa': 60, 'nazi': 61, 'moechte': 62, 'deutschen': 63, 'deutsch': 64, 'lassen': 65, 'politik': 66, 'pa': 67, 'i': 68, 'wuerde': 69, 'ma': 70, 'raus': 71, 'koennte': 72, 'zeit': 73, 'geld': 74, 'schulz': 75, 'merkels': 76, 'a': 77, 'neue': 78, 'zdf': 79, 'gabriel': 80, 'geiler': 81, 'heute': 82, 'sitzen': 83, 'besser': 84, 'pornos': 85, 'ficken': 86, 'seit': 87, 'eher': 88, 'is': 89, 'bekommen': 90, 'medien': 91, 'koennen': 92, 'voll': 93, 'zeigt': 94, 'ne': 95, 'geht': 96, '3': 97, 'u': 98, 'ei': 99, 'wer': 100, 'maas': 101, 'via': 102, 'bild': 103, 'hitler': 104, 'sehen': 105, 'ganze': 106, 'heikomaas': 107, 'leben': 108, 'lange': 109, 'gesicht': 110, 'cdu': 111, 'eu': 112, 'moslems': 113, 'geile': 114, 'kommen': 115, 'wand': 116, 'junge': 117, 'de': 118, 'haette': 119, 'spiegelonline': 120, 'kopftuch': 121, 'land': 122, 'ha': 123, 'o': 124, 'nie': 125, 'eien': 126, 'gehoe': 127, 'gehirn': 128, 'h': 129, 'ahnung': 130, 'sagen': 131, 'k': 132, 'typ': 133, 'sawsanchebli': 134, 'hirn': 135, 'willkommen': 136, 'zeitonline': 137, '2019': 138, 'zusammen': 139, 'lass': 140, 'kurz': 141, 'gruen': 142, 'genau': 143, 'maul': 144, 'gerade': 145, 'ach': 146, 'mutter': 147, 'video': 148, 'ganzen': 149, 'luegen': 150, 'sorry': 151, 'menschen': 152, 'hasse': 153, 'ueberhaupt': 154, 'weiss': 155, 'deren': 156, 'bald': 157, 'kommt': 158, 'kleine': 159, 'volk': 160, 'genug': 161, 'harvard': 162, 'sexy': 163, '05': 164, 'glaube': 165, 'europawahl2019': 166, 'trump': 167, 'drdavidberger': 168, 'frueher': 169, 'f': 170, 'rot': 171, 'sieht': 172, 'gesagt': 173, 'news': 174, 'sofo': 175, 'bitte': 176, 'abschaum': 177, 'deutscher': 178, 'meisten': 179, 'eh': 180, 've': 181, 'regierung': 182, 'muessen': 183, 'paar': 184, 'wa': 185, 'et': 186, 'angela': 187, 't': 188, 'wirklich': 189, 'wegen': 190, 'sau': 191, 'w': 192, '18': 193, 'seehofer': 194, 'schwanz': 195, 'tritt': 196, 'schlimmer': 197, 'usa': 198, 'videos': 199, 'gerne': 200, 'denkt': 201, 'v': 202, 'viele': 203, 'dummheit': 204, 'essen': 205, 'b': 206, 'mittlerweile': 207, 'sta': 208, 'amp': 209, 'kostenlose': 210, 'fick': 211, 'helllud123': 212, 'seid': 213, 'egal': 214, 'gar': 215, 'journalisten': 216, 'ddr': 217, 'niemand': 218, 'antifa': 219, 'stegner': 220, 'bundeskanzlerin': 221, 'krippmarie': 222, 'm': 223, 'hey': 224, 'tuerken': 225, 'waehler': 226, 'spass': 227, 'arschloch': 228, 'dummes': 229, 'waehlt': 230, 'verdammt': 231, 'fette': 232, '5': 233, 'strache': 234, 'spd': 235, 'erwa': 236, 'sollen': 237, 'tuerkei': 238, 'jouwatch': 239, 'porn': 240, 'brauchen': 241, 'schwarz': 242, 'denen': 243, 'neuen': 244, 'ka': 245, 'mann': 246, 'dicke': 247, 'sex': 248, 'sagt': 249, 'wohl': 250, 'kind': 251, '4': 252, 'free': 253, 'retten': 254, 'opfer': 255, 'darf': 256, 'system': 257, 'dafuer': 258, 'groessten': 259, 'ralf': 260, 'ekelhaft': 261, 'stehen': 262, '50': 263, 'ig': 264, 'dummen': 265, 'rechte': 266, 'sehe': 267, 'geilen': 268, 'habt': 269, 'probleme': 270, 'reicht': 271, 'do': 272, 'https': 273, '7': 274, 'duemmer': 275, 'los': 276, 'krieg': 277, 'heisst': 278, 'sirschnee': 279, 'gauland': 280, 'lawyerberlin': 281, 'buerger': 282, 'china': 283, 'hass': 284, 'ende': 285, 'waehlen': 286, 'roth': 287, 'bestimmt': 288, 'genauso': 289, 'kaum': 290, 'fluechtlinge': 291, 'richtig': 292, 'fucking': 293, 'we': 294, 'sch': 295, 'akk': 296, 'lauterbach': 297, 'schande': 298, 'gehoeren': 299, 'islamisten': 300, 'damals': 301, 'g': 302, 'haut': 303, 'bloed': 304, 'sowas': 305, 'wieso': 306, 'gemacht': 307, 'ruecken': 308, 'janboehm': 309, 'wahl': 310, 'tragen': 311, 'schauen': 312, 'faschisten': 313, 'naja': 314, 'geil': 315, 'l': 316, 'gewaehlt': 317, 'muell': 318, 'nen': 319, 'berliner': 320, 'x': 321, 'deutsch365': 322, '12': 323, 'hetze': 324, 'net': 325, 'anal': 326, 'ganz': 327, 'reife': 328, 'steinbacherika': 329, '0': 330, 'z': 331, 'fickt': 332, 'hoffentlich': 333, 'verschwinden': 334, 'dreck': 335, 'religion': 336, 'verkaufen': 337, 'grund': 338, 'ragen': 339, '14': 340, 'entsorgt': 341, 'kriegen': 342, 'hilfe': 343, 'j': 344, 'chef': 345, 'klimaschutz': 346, 'schafft': 347, 'langsam': 348, 'rezo': 349, 'irgendwie': 350, 'co': 351, 'endlich': 352, 'zerstoe': 353, 'nehmen': 354, 'kostenlos': 355, 'schlampe': 356, 'rezomusik': 357, 'roten': 358, 'nix': 359, 'nein': 360, 'voellig': 361, 'jungen': 362, 'gefickt': 363, 'gewalt': 364, 'jemand': 365, 'oeffentlich': 366, 'stock': 367, 'verusoss1': 368, 'erdogan': 369, 'single': 370, 'hunde': 371, 'heiko': 372, 'braucht': 373, 'zukunft': 374, 'nackte': 375, 'spo': 376, 'richtige': 377, 'europawahl': 378, 'barley': 379, 'mega': 380, 'job': 381, 'heuchler': 382, 'arbeiten': 383, 'sag': 384, 'au': 385, 'berlin': 386, 'rede': 387, 'tage': 388, 'sesso': 389, 'claudia': 390, 'the': 391, 'daemlich': 392, 'ag': 393, 'r': 394, 'maxotte': 395, 'says': 396, '13': 397, 'ueberall': 398, 'horst': 399, 'weber': 400, 'top': 401, '000': 402, 'koennt': 403, 'burger': 404, 'redet': 405, 'lieben': 406, 'eltern': 407, 'alkohol': 408, 'stadt': 409, 'leuten': 410, 'absolut': 411, 'weltnews': 412, 'un': 413, 'direkt': 414, 'hd': 415, 'kirche': 416, 'karl': 417, 'kuehne': 418, 'verbrecher': 419, 'ausser': 420, '6': 421, 'muesste': 422, 'denken': 423, 'beim': 424, 'vergewaltigt': 425, 'wi': 426, 'haarige': 427, 'aufklaerer2017': 428, 'lecken': 429, 'generation': 430, 'nimmt': 431, 'kueche': 432, 'hoch': 433, 'regsprecher': 434, 'wuerden': 435, 'ung': 436, 'abschieben': 437, 'eier': 438, 'komm': 439, 'geh': 440, 'politische': 441, 'fordern': 442, 'hose': 443, 'bezeichnen': 444, 'wuensche': 445, 'auslaender': 446, 'meinung': 447, 'retweet': 448, 'maenner': 449, 'jahren': 450, 'ca': 451, 'bruder': 452, 'auto': 453, '99': 454, 'wissenschaftler': 455, 'erste': 456, 'ard': 457, 'stars': 458, 'pille': 459, 'hassen': 460, 'maltekaufmann': 461, 'leise': 462, 'fckafd': 463, 'zieh': 464, 'alte': 465, 'oma': 466, 'sed': 467, 'schulen': 468, 'ueberfluessig': 469, 'weissen': 470, 'waehrend': 471, 'gross': 472, 'duerfen': 473, 'aufgewachtewelt': 474, 'schoen': 475, 'gehen': 476, 'pinkcrazypony': 477, 'holt': 478, 'altpa': 479, 'willst': 480, 'mathe': 481, 'sachen': 482, 'holen': 483, 'frage': 484, 'max': 485, 'holgerewald1': 486, 'drauf': 487, 'protest': 488, 'telekom': 489, 'kanzlerin': 490, 'schreiben': 491, 'werbung': 492, 'peinlich': 493, 'xxx': 494, 'extrem': 495, 'hbf': 496, '15': 497, '24': 498, 'kriminellen': 499, 'monaten': 500, 'deutschlands': 501, 'folgen': 502, 'unterwegs': 503, 'stelle': 504, 'for': 505, 'rechten': 506, 'st': 507, 'bezahlt': 508, 'fe': 509, 'kultur': 510, 'heulen': 511, 'widerliches': 512, 'geben': 513, 'vorstellen': 514, 'unfassbar': 515, 'schickt': 516, 'alicewo18626168': 517, 'kennst': 518, 'neueste': 519, '1933': 520, 'super': 521, 'spinner': 522, 'kleinen': 523, 'schade': 524, 'rest': 525, 'daniel': 526, 'lang': 527, 'lasst': 528, 'doktorarbeit': 529, 'weit': 530, 'that': 531, 'jugend': 532, 'oesterreich': 533, 'forde': 534, 'tun': 535, 'milf': 536, 'boserer': 537, 'prozent': 538, 'hure': 539, 'chris': 540, 'erklae': 541, 'ff': 542, 'spiegel': 543, 'el': 544, 'c': 545, 'groesste': 546, 'schwarze': 547, 'anleitung': 548, 'islamisierung': 549, 'labern': 550, '33': 551, '40': 552, 'mund': 553, 'herr': 554, 'schwule': 555, 'meuthen': 556, 'haelt': 557, 'verantwo': 558, 'braun': 559, 'di': 560, 'y': 561, 'arme': 562, 'stueck': 563, 'veru': 564, 'kriminelle': 565, 'ziemlich': 566, 'germany': 567, 'haha': 568, 'brief': 569, 'fachkraefte': 570, 'nich': 571, 'gekommen': 572, 'passie': 573, 'hund': 574, 'stuerzen': 575, 'jahre': 576, 'porsche': 577, 'grade': 578, 'danach': 579, 'fragt': 580, 'alter': 581, 'kanacke': 582, 'vergessen': 583, 'lebt': 584, 'lobbyisten': 585, 'meldet': 586, 'rassist': 587, 'hauptsache': 588, 'aufs': 589, 'wirkt': 590, 'nehm': 591, 'sixtus': 592, 'up': 593, 'wtf': 594, 'bringt': 595, 'ideen': 596, 'rock': 597, 'natuerlich': 598, 'sack': 599, 'co2': 600, 'steuer': 601, 'montanablack': 602, 'tradesfeed': 603, 'aktivisten': 604, 'schlauer': 605, 'gab': 606, 'frank': 607, 'usw': 608, 'eigenes': 609, 'komplett': 610, 'sebastian': 611, 'glauben': 612, 'oh': 613, 'boah': 614, 'zitat': 615, 'fuers': 616, 'verbreitet': 617, 'hh': 618, 'halten': 619, 'nem': 620, 'kennt': 621, 'verbietet': 622, 'krank': 623, 'staatsfunk': 624, 'sowieso': 625, 'lernen': 626, 'xd': 627, 'compactmagazin': 628, 'ideologie': 629, 'findet': 630, 'kriegst': 631, 'ficke': 632, 'dabei': 633, 'he': 634, 'muschi': 635, 'habeck': 636, 'wolf': 637, 'halts': 638, 'at': 639, 'waeren': 640, 'links': 641, 'bahn': 642, 'haltet': 643, 'logik': 644, 'liebst': 645, 'db': 646, 'fpoe': 647, 'sei': 648, 'eindruck': 649, 'gib': 650, 'hoer': 651, 'dr': 652, 'wusste': 653, 'zwei': 654, 'rein': 655, 'europaeischen': 656, 'freiheit': 657, 'lesben': 658, 'musst': 659, 'handeln': 660, 'al': 661, 'heuteshow': 662, 'beiden': 663, 'us': 664, 'mdchen': 665, 'momentan': 666, 'ausfall': 667, 'grad': 668, 'dreckiger': 669, 'waer': 670, 'schlagabtausch': 671, 'clans': 672, 'kampf': 673, '10': 674, 'vo': 675, 'toptomch': 676, 'jan': 677, 'rum': 678, 'interessie': 679, 'skandal': 680, 'euro': 681, 'politischen': 682, 'freund': 683, 'laecheln': 684, 'schlampen': 685, 'verlogene': 686, '11': 687, 'bernd471': 688, 'fast': 689, 'sitzt': 690, 'herrn': 691, 'pass': 692, 'macron': 693, 'wunder': 694, 'verloren': 695, 'gaebe': 696, 'familien': 697, 'herz': 698, 'klima': 699, '2018': 700, 'stoppt': 701, 'rapper': 702, 'merken': 703, 'total': 704, 'fakt': 705, 'komisch': 706, 'cha': 707, 'tages': 708, 're': 709, 'schmid': 710, 'blond': 711, 'doof': 712, 'samsung': 713, 'filter': 714, '31': 715, '17': 716, 'sven': 717, 'giegold': 718, 'hoelle': 719, 'bock': 720, 'muschis': 721, 'clip': 722, 'legt': 723, 'euwahl19': 724, 'zeigen': 725, 'tweets': 726, 'asylanten': 727, 'behinde': 728, 'just': 729, 'andreasstraub': 730, '34': 731, 'stuttga': 732, '19': 733, 'faeh': 734, 'bleibt': 735, '90': 736, 'bereits': 737, 'csu': 738, 'europaeische': 739, '8': 740, 'tu': 741, 'arbeitsplatz': 742, 'lebensformation': 743, 'soviel': 744, 'laber': 745, 'eilt': 746, 'idee': 747, 'halte': 748, 'rechtlichen': 749, 'ganzes': 750, 'gamerbr0ski': 751, 'kappa': 752, 'miriamozen': 753, 'eingeschaetzt': 754, '20': 755, 'kevin': 756, 'omas': 757, 'rechts': 758, 'tagen': 759, 'mariomayl': 760, 'muslimische': 761, 'donald': 762, 'englisch': 763, 'hadmut': 764, 'exgruene': 765, 'enteignen': 766, 'palmer': 767, 'zwickau': 768, 'verjagten': 769, 'adolf': 770, 'imam': 771, 'folgendes': 772, 'gluecklich': 773, 'sterben': 774, 'finden': 775, 'nic': 776, 'fern': 777, 'brd': 778, 'hauen': 779, 'buntland': 780, 'weige': 781, 'unterstuetzen': 782, 'tyske': 783, 'rauchen': 784, 'ex': 785, 'emma': 786, 'terror': 787, 'eigene': 788, 'tschemal': 789, 'brutal': 790, 'versohlen': 791, 'minute': 792, 'game': 793, 'plauen': 794, 'gleichberechtigung': 795, 'fuck': 796, 'fuern': 797, 'traegt': 798, 'gehtwaehlen': 799, 'brandenburg': 800, 'sir': 801, 'schnee': 802, 'fuehrer': 803, 'ungebeten1': 804, 'duerre': 805, 'blasen': 806, 'led': 807, 'eur': 808, 'fett': 809, 'weiber': 810, 'shoutoutxobella': 811, 'minuten': 812, 'demokratie': 813, 'loch': 814, 'p': 815, 'sprechen': 816, 'nahles': 817, 'krahmax': 818, 'post': 819, 'download': 820, 'yooli': 821, 'derechte': 822, 'klar': 823, 'passt': 824, 'juden': 825, 'moegen': 826, 'verdienen': 827, 'nazisraus': 828, 'merkt': 829, 'brandt': 830, 'fridaysforfuture': 831, 'solch': 832, 'seh': 833, 'relotiuspresse': 834, 'kosummoralisten': 835, 'batu': 836, '0699': 837, 'eben': 838, 'widerspruch': 839, 'eigenen': 840, 'herren': 841, 'letzte': 842, 'thomas': 843, 'bareiss': 844, 'mensch': 845, 'fressen': 846, 'totale': 847, 'dasperfektedinner': 848, 'nice': 849, 'alicologne': 850, 'oezdemir': 851, 'praesidenten': 852, 'fehlt': 853, 'amt': 854, 'muesse': 855, 'dieserbutzi': 856, 'gb': 857, 'diepa': 858, 'sicher': 859, 'mia': 860, 'haessliche': 861, 'grundeis': 862, 'salvini': 863, 'andreaschlegel3': 864, 'eig': 865, 'her': 866, 'tatsaechlich': 867, 'platz': 868, 'gesehen': 869, 'versteht': 870, 'niemals': 871, 'bus': 872, 'ige': 873, 'mrsl0nelyy': 874, 'gelb': 875, 'fo': 876, 'http': 877, 'hallaschka': 878, 'bloedsinn': 879, 'strafe': 880, 'schaffen': 881, 'muesst': 882, 'zeichnen': 883, 'schicken': 884, 'oesterreichs': 885, 'angola': 886, 'gntmfinale': 887, 'kommentar': 888, 'opfa': 889, 'falls': 890, 'suesse': 891, 'your': 892, 'mature': 893, 'trinken': 894, 'lachen': 895, 'zucker': 896, 'aktie': 897, 'kid': 898, 'sagte': 899, 'per': 900, 'wokeup777': 901, 'fotze': 902, 'besonders': 903, 'fcbayern': 904, 'ziehen': 905, 'freunde': 906, 'problem': 907, 'hilft': 908, 'raeaeaechds': 909, 'dfacheck': 910, 'all': 911, 'interview': 912, 'huawei': 913, 'wurden': 914, 'bhvr': 915, 'hochheimer': 916, 'kaese': 917, 'sohn': 918, 'alt': 919, 'privat': 920, 'fr': 921, 'cute': 922, 'me': 923, 'stadtraetin': 924, 'eilter': 925, 'reden': 926, 'zerstoeren': 927, 'ehrendoktorwuerde': 928, 'haus': 929, 'schei': 930, 'schreibt': 931, 'polizei': 932, 'sauber': 933, 'ntvde': 934, 'titten': 935, 'insonneborn': 936, 'niveau': 937, 'selten': 938, 'amis': 939, 'gutmenschen': 940, 'html': 941, 'donalphonso': 942, 'bzw': 943, 'augen': 944, 'ichbinkoelnerin': 945, 'stellen': 946, 'geschrieben': 947, 'sueszling': 948, 'schieben': 949, 'wahlplakate': 950, 'grunde': 951, 'verkauft': 952, 'reiss': 953, 'puppe': 954, 'veranstaltung': 955, 'lieb': 956, 'bekomme': 957, 'konze': 958, 'bilder': 959, 'ey': 960, 'blowjob': 961, 'oft': 962, 'hallo': 963, 'polizeisachsen': 964, 'lady': 965, 'na': 966, 'bayern': 967, 'federer': 968, 'bremen': 969, 'pro': 970, 'boden': 971, 'presse': 972, 'on': 973, 'hoffe': 974, 'vfb': 975, 'pepper46477330': 976, 'natur': 977, 'dd': 978, 'muslime': 979, 'gef': 980, 'trend': 981, 'cambridge': 982, 'bullshit': 983, 'hast': 984, 'moralisch': 985, 'npd': 986, 'seo': 987, 'schweine': 988, 'zerstoerung': 989, 'darauf': 990, 'teutonia': 991, 'fleabag': 992, 'wirft': 993, 'fahrzeugstoerung': 994, 'vater': 995, 'gezogen': 996, 'zeichnet': 997, 'weniger': 998, 'apple': 999, 'unnoetig': 1000, 'media': 1001, 'florianfoli': 1002, 'verdient': 1003, 'ok': 1004, 'wuppe': 1005, 'gerufen': 1006, 'fluechtlingen': 1007, 'desnudas': 1008, 'canal': 1009, 'friedens': 1010, 'fisten': 1011, 'nichtmal': 1012, 'waehlern': 1013, 'blues': 1014, 'twitterde': 1015, 'anscheinend': 1016, 'haufen': 1017, 'rastadler': 1018, 'erbaermlich': 1019, 'wisse': 1020, 'diesel': 1021, 'stuerzt': 1022, 'auslaendische': 1023, 'feie': 1024, '87': 1025, 'vollzeitjonas': 1026, 'publikum': 1027, 'kuendigt': 1028, 'domi': 1029, 'twr': 1030, 'richtiges': 1031, 'aufruf': 1032, 'echten': 1033, 'go73729092': 1034, 'privaten': 1035, 'jesus': 1036, 'namens': 1037, 'ale': 1038, 'gg': 1039, 'bb12': 1040, 'kunkelmuhme': 1041, 'schlaege': 1042, 'dinger': 1043, 'hasserfuellte': 1044, 'betruegen': 1045, 'arroganz': 1046, 'kenn': 1047, 'pls': 1048, 'rolandtichy': 1049, 'wetter': 1050, 'huebsche': 1051, 'neben': 1052, 'eil': 1053, 'stargamestv69': 1054, 'tim0cy': 1055, 'heissen': 1056, 'sucht': 1057, 'anna': 1058, 'za': 1059, 'te': 1060, 'sodass': 1061, 'si': 1062, 'benutze': 1063, 'spdberlin': 1064, 'gabischoff': 1065, 'rainerwinklerde': 1066, 'fliegt': 1067, 'illegale': 1068, 'hurensohne': 1069, 'vonschwer': 1070, 'politikern': 1071, 'tukyabitch': 1072, 'reist': 1073, 'bisschen': 1074, 'geboren': 1075, 'betrunken': 1076, 'kern': 1077, 'paedo': 1078, 'sekte': 1079, 'geschmeiss': 1080, 'pompeo': 1081, 'koelner': 1082, 'untaetigkeit': 1083, 'nudes': 1084, 'adidas': 1085, 'rorsted': 1086, 'rechnet': 1087, 'europaeer': 1088, 'vasallen': 1089, 'tatsache': 1090, 'abgelenkt': 1091, 'sad': 1092, 'achja': 1093, 'alphonso': 1094, 'brechen': 1095, 'klimaneutralitaet': 1096, '2050': 1097, 'arminwolf': 1098, 'bester': 1099, 'bazi': 1100, 'milliarden': 1101, 'hoshimusikdesign': 1102, 'soundcloud': 1103, 'np': 1104, '30': 1105, 'spritzen': 1106, 'brauchts': 1107, 'redaktion': 1108, 'bodoramelow': 1109, 'chauvinistischen': 1110, 'familie': 1111, 'scheinbar': 1112, 'erreicht': 1113, 'telford': 1114, 'tigers': 1115, 'ricarda': 1116, 'schuld': 1117, 'rechtsruck': 1118, 'schautnichtweg': 1119, 'taugt': 1120, 'fest': 1121, 'jugendzimmer': 1122, 'morreu': 1123, 'wahlen': 1124, 'ro': 1125, 'freiheizstatue': 1126, 'achimspiegel': 1127, 'tausende': 1128, 'beduerftige': 1129, 'doktor': 1130, 'vallah': 1131, 'leckst': 1132, 'teufel': 1133, 'erfahren': 1134, 'rettet': 1135, 'deutschrap': 1136, 'moza': 1137, 'wussten': 1138, 'woe': 1139, 'ern': 1140, 'ausgeliefe': 1141, 'punkt': 1142, 'betrogen': 1143, 'hi': 1144, 'sonjadelarosa7': 1145, 'grillkohle': 1146, 'steak': 1147, 'lacht': 1148, 'real': 1149, 'austauschschueler': 1150, 'aufnehmen': 1151, 'gestern': 1152, 'pkk': 1153, 'afdberlin': 1154, 'nurnoch': 1155, 'zimmer': 1156, 'gramm': 1157, 'sebastianhampel': 1158, 'rap': 1159, 'claudio': 1160, 'tatenlos': 1161, 'fun': 1162, 'blaue': 1163, 'haare': 1164, 'com': 1165, 'fetisch': 1166, 'premium': 1167, '16': 1168, '29': 1169, 'teilausfall': 1170, 'hurensoehne': 1171, 'gay': 1172, 'ass': 1173, 'fisting': 1174, 'konservativer': 1175, 'versagen': 1176, 'naked': 1177, 'behaa': 1178, 'teppich': 1179, 'verwoehnen': 1180, 'narrhallamarsch': 1181, 'abo': 1182, 'ausschlag': 1183, 'gewaltig': 1184, 'freie': 1185, 'linksextremisten': 1186, 'gefallen': 1187, 'aka': 1188, 'bi': 1189, 'umwelt': 1190, 'deut': 1191, 'fehler': 1192, 'recht': 1193, 'klasse': 1194, 'lavievagabonde': 1195, 'naechsten': 1196, 'dunkle': 1197, 'debil': 1198, 'rassisten': 1199, 'gif': 1200, 'wohnen': 1201, 'ranking': 1202, 'riesen': 1203, 'bleiben': 1204, 'dreckspack': 1205, 'nsfw': 1206, 'kla': 1207, 'ext': 1208, 'spieglein': 1209, 'herrnewstime': 1210, 'wuenschte': 1211, 'eins': 1212, 'hop': 1213, 'tuerkischen': 1214, 'variante': 1215, 'entweder': 1216, 'veganhure': 1217, 'expe': 1218, 'einzig': 1219, 'positive': 1220, 'denk': 1221, 'produktivitaet': 1222, 'waerme': 1223, 'leistungsfaehiger': 1224, 'joerg': 1225, 'aktivist': 1226, 'trifft': 1227, 'ideologen': 1228, 'wichtig': 1229, '180': 1230, 'letztendlich': 1231, 'anwalt': 1232, 'strafanzeige': 1233, 'mitarbeiter': 1234, 'amthor': 1235, 'aeussern': 1236, 'srfnews': 1237, 'empfohlen': 1238, 'zuwanderern': 1239, 'finger': 1240, 'behoerden': 1241, 'funktionie': 1242, 'propaganda': 1243, 'gegoennt': 1244, 'mussten': 1245, 'framing': 1246, 'versager': 1247, 'bmw': 1248, 'kannste': 1249, 'bayer': 1250, 'legende': 1251, 'spiel': 1252, 'lich': 1253, 'kehren': 1254, 'reminder': 1255, 'ainyrockstar': 1256, 'singen': 1257, 'staat': 1258, 'af': 1259, 'schwache': 1260, 'eysvog3l': 1261, 'sm100d': 1262, 'sapereaudede': 1263, 'ahmad': 1264, 'player': 1265, 'mazematze': 1266, 'offener': 1267, 'steve': 1268, 'direktflug': 1269, 'dauerrentner': 1270, 'anreise': 1271, 'geldboerse': 1272, 'bheinzlmaier': 1273, 'q': 1274, 'distanzie': 1275, 'heftiger': 1276, 'kritiker': 1277, 'unerhoe': 1278, 'langweilig': 1279, 'haesslich': 1280, 'charakter': 1281, 'bundesjustizminister': 1282, 'fluechtete': 1283, 'erkanallesffm': 1284, 'laesst': 1285, 'allah': 1286, 'insekten': 1287, 'landschaft': 1288, 'keineafd2017': 1289, 'marschieren': 1290, 'strassen': 1291, 'sverband': 1292, 'wahrheit': 1293, 'greta': 1294, 'lappen': 1295, 'unge': 1296, 'ws': 1297, 'joke': 1298, 'verfickten': 1299, 'derzeit': 1300, 'insel': 1301, 'felt': 1302, 'pilotprojekt': 1303, 'rentner': 1304, 'guck': 1305, 'mitleid': 1306, 'millionenfach': 1307, 'toeten': 1308, 'rasse': 1309, 'offeln': 1310, 'richte': 1311, 'derspiegel': 1312, 'timber': 1313, 'ossi': 1314, 'diktatur': 1315, 'vie': 1316, 'daniengel6': 1317, 'traum': 1318, 'baerbeli04': 1319, 'menschenrecht': 1320, 'erklaeren': 1321, 'nackt': 1322, 'tube': 1323, 'waehle': 1324, 'piraten': 1325, 'wechseln': 1326, 'missbraucht': 1327, 'druecken': 1328, 'helfen': 1329, 'it': 1330, 'woche': 1331, 'inside': 1332, 'bb': 1333, 'spast': 1334, 'freiwillig': 1335, 'pip': 1336, 'treffen': 1337, 'gehts': 1338, 'gu': 1339, 'mittelalter': 1340, 'ze': 1341, 'schaff': 1342, 'tacosk': 1343, '68': 1344, 'debatte': 1345, 'mischt': 1346, 'nogruene': 1347, 'flixbus': 1348, 'folgten': 1349, 'fuehrerin': 1350, 'zeiten': 1351, 'tote': 1352, 'zoepfe': 1353, 'vollpfosten': 1354, 'emorapper': 1355, 'korsett': 1356, 'foetzchen': 1357, 'unbeliebt': 1358, 'laeuft': 1359, 'luege': 1360, 'postet': 1361, 'praesentie': 1362, 'hahaha': 1363, 'original': 1364, 'populisten': 1365, 'groko': 1366, 'manipulieren': 1367, 'fan': 1368, 'erinne': 1369, '1945': 1370, 'widerlich': 1371, 'witze': 1372, 'durchgehen': 1373, 'potenzial': 1374, 'hahah': 1375, 'jz': 1376, 'info': 1377, 'fuehren': 1378, 'lak': 1379, 'muratserin69': 1380, 'feld': 1381, 'wasser': 1382, 'ansehen': 1383, '80': 1384, 'passen': 1385, 'arasbacho': 1386, 'fuehlen': 1387, 'grundgesetz': 1388, 'philippinen': 1389, 'muenchen': 1390, 'kriegsfuehrung': 1391, 'interessant': 1392, 'bleib': 1393, 'lehrer': 1394, 'pimmel': 1395, 'dielinke': 1396, 'aufhoeren': 1397, 'same': 1398, 'erkennt': 1399, 'heimlich': 1400, 'digga': 1401, 'schweigt': 1402, 'korallenherz': 1403, '38': 1404, 'uedio': 1405, 'sigmar': 1406, 'kolumne': 1407, 'ehrendoktor': 1408, 'guete': 1409, 'kaise': 1410, 'reitschuster': 1411, 'roll': 1412, 'punk': 1413, 'samba': 1414, 'musik': 1415, 'ekelt': 1416, 'hsv': 1417, 'heil': 1418, 'fascho': 1419, 'saar': 1420, 'ferne': 1421, 'priiizzyy': 1422, 'herrmann': 1423, 'mzudemoffiziell': 1424, 'heu': 1425, 'rockstarleben': 1426, 'chaos': 1427, 'ersten': 1428, 'deswegen': 1429, 'ge': 1430, 'angel': 1431, 'frankfu': 1432, 'signie': 1433, 'league': 1434, 'loesch': 1435, 'pech': 1436, 'unhatebar': 1437, 'erstmal': 1438, 'ots': 1439, 'kfw': 1440, 'arsenal': 1441, 'intro': 1442, 'lust': 1443, 'cem': 1444, 'constschreiber': 1445, 'schneller': 1446, 'terroristen': 1447, 'unglaublich': 1448, 'anime': 1449, 'dopa': 1450, 'nagelsmann': 1451, 'aki': 1452, 'abspritzen': 1453, 'echauffieren': 1454, 'schreiber': 1455, 'euwahl2019': 1456, 'stress': 1457, 'putas': 1458, 'griff': 1459, 'istanbul': 1460, 'imamoglu': 1461, 'westen': 1462, 'talita': 1463, 'kum76': 1464, 'sozialen': 1465, 'regulieren': 1466, 'erziehung': 1467, 'nackten': 1468, 'repo': 1469, 'marie': 1470, 'muelleimer': 1471, 'glueck': 1472, 'schwachsinn': 1473, 'wenige': 1474, 'praesidentin': 1475, 'twitter': 1476, 'posten': 1477, 'kachelmann': 1478, 'kennen': 1479, 'kurzen': 1480, 'fordere': 1481, 'morgenpost': 1482, 'europas': 1483, 'gebraucht': 1484, 'niemamovassat': 1485, 'lul': 1486, 'wdr': 1487, 'fotos': 1488, 'autos': 1489, 'insbesondere': 1490, 'unterschaetzt': 1491, 'dealo': 1492, 'ru': 1493, 'maedchen': 1494, 'florianklenk': 1495, 'nhausfrauen': 1496, 'fuehl': 1497, 'bewohnt': 1498, 'regie': 1499, 'obsession': 1500, 'grundschule': 1501, 'kam': 1502, 'hause': 1503, 'haste': 1504, 'kess': 1505, 'gute': 1506, 'mob': 1507, 'glaubt': 1508, 'solange': 1509, 'beleidigen': 1510, 'leipzig': 1511, 'spahn': 1512, 'ntv': 1513, 'methoden': 1514, 'wunderschoen': 1515, 'suess': 1516, 'mauer': 1517, '400': 1518, 'gefuehl': 1519, 'fani': 1520, 'emmxbellechrist': 1521, 'leck': 1522, 'stimme': 1523, 'ging': 1524, 'soros': 1525, 'ebenso': 1526, 'gepampe': 1527, 'malte': 1528, 'nicole': 1529, 'schaut': 1530, 'beides': 1531, 'song': 1532, 'bruessel': 1533, 'hieven': 1534, 'igen': 1535, 'hannahneedshugs': 1536, 'gemerkt': 1537, 'schlechte': 1538, 'freundin': 1539, 'lauter': 1540, 'ehemaliger': 1541, 'vorbeigehen': 1542, 'europaparlament': 1543, 'and': 1544, 'phones': 1545, 'nrw': 1546, 'echo': 1547, 'drogen': 1548, 'amthorvideo': 1549, 'yuma': 1550, 'lein': 1551, 'schwierig': 1552, '2015': 1553, 'getreten': 1554, 'empoe': 1555, 'gntm': 1556, 'eindeutig': 1557, '69': 1558, 'tut': 1559, 'texas': 1560, 'anabell2301': 1561, 'frankundfreya': 1562, 'komischen': 1563, 'linksradikalen': 1564, 'heyitsmebuboy': 1565, 'pc': 1566, 'cheers': 1567, 'afterwork': 1568, 'fraktionen': 1569, 'beklagen': 1570, 'ausschluss': 1571, 'attackieren': 1572, 'einheitsfeier': 1573, 'leistung': 1574, 'ohren': 1575, 'destroysboys': 1576, 'heller': 1577, 'ablenken': 1578, 'hoehenflug': 1579, 'wann': 1580, 'kriegste': 1581, 'runter': 1582, 'chillen': 1583, 'frikawies': 1584, 'clinton': 1585, 'kauft': 1586, 'luegenpresse': 1587, 'befinden': 1588, 'teil': 1589, 'be': 1590, 'supermarkt': 1591, 'nochmal': 1592, 'steh': 1593, 'stolz': 1594, 'appell': 1595, 'schaftsaussichten': 1596, 'nationalsozialismus': 1597, 'scyltara': 1598, 'trauen': 1599, 'sehrlesbisch': 1600, 'nextlvlbastard': 1601, 'kulturbolschewi': 1602, '66norweger66': 1603, 'cn': 1604, 'se': 1605, 'offizielle': 1606, 'millionen': 1607, 'verdammte': 1608, 'permanent': 1609, 'young': 1610, 'riskieren': 1611, 'bannon': 1612, 'bekomm': 1613, 'mokoffizieil': 1614, 'ft': 1615, 'ih': 1616, 'nahe': 1617, 'but': 1618, 'heutigen': 1619, 'veganer': 1620, 'austria': 1621, 'quaelen': 1622, 'kleiner': 1623, 'suarez': 1624, 'azeckenbiss': 1625, 'ami': 1626, 'knoepft': 1627, 'n26': 1628, 'ralf64904117': 1629, 'nl': 1630, 'niemehrcdu': 1631, 'siehe': 1632, 'krueger': 1633, 'schwulemiker': 1634, 'stellt': 1635, 'wieviel': 1636, 'willnurschreibn': 1637, 'grenzen': 1638, 'deutschsprachige': 1639, 'ebay': 1640, '1999': 1641, 'carerra': 1642, 'garnicht': 1643, 'christen': 1644, 'ofenschlampe': 1645, 'poggenburgandre': 1646, 'afrikaner': 1647, 'jagen': 1648, 'cnn': 1649, 'folge': 1650, 'irrsinn': 1651, 'hutzel': 1652, 'kurzer': 1653, 'baden': 1654, 'ms': 1655, 'seite': 1656, 'magazin': 1657, 'polenz': 1658, 'hitlergruss': 1659, 'ruelpser': 1660, 'magengas': 1661, 'vergas': 1662, 'versucht': 1663, 'maennern': 1664, 'final': 1665, 'satz': 1666, 'prank': 1667, 'juergen': 1668, 'fritz': 1669, 'ergebnis': 1670, 'falsch': 1671, 'not': 1672, 'wiede': 1673, 'newswirenow': 1674, 'erdolf': 1675, 'argument': 1676, 'geflogen': 1677, 'kacken': 1678, 'erhaelt': 1679, 'spoe': 1680, 'tagesthemen': 1681, 'wochenende': 1682, 'oida': 1683, 'uebersetzt': 1684, 'behandelt': 1685, 'russland': 1686, 'wunde': 1687, 'erzaehlen': 1688, 'freude': 1689, 'kangen': 1690, 'schau': 1691, '100': 1692, 'jaja': 1693, 'schlechtigkeit': 1694, 'weltanschauung': 1695, 'xrapidsandro': 1696, 'nh': 1697, 'impfanoffiziell': 1698, 'schne': 1699, 'shaming': 1700, 'abwe': 1701, 'erding': 1702, 'verleumdet': 1703, 'stuerzenberger': 1704, 'aufgerissen': 1705, 'anhaenger': 1706, 'pasemann': 1707, 'faellt': 1708, 'denke': 1709, 'adam': 1710, 'rammstein': 1711, 'herd': 1712, 'liest': 1713, 'mach': 1714, 'arschficken': 1715, 'feinstaub': 1716, 'kuh': 1717, 'goennen': 1718, 'gratulation': 1719, 'nicosemsrott': 1720, 'teufels': 1721, 'rechter': 1722, 'beide': 1723, 'fakten': 1724, 'tv': 1725, 'geschichten': 1726, 'tag': 1727, 'studium': 1728, 'merk': 1729, 'vergisst': 1730, 'aufhoe': 1731, 'autofahrer': 1732, 'leichte': 1733, 'aussehen': 1734, 'uli': 1735, 'postings': 1736, 'ar': 1737, 'trikotwahl': 1738, 'maschmeyer': 1739, 'quirinweber': 1740, 'verstand': 1741, 'unterschreiben': 1742, 'andreanahlesspd': 1743, 'spielen': 1744, 'engelge': 1745, 'muellerliesche': 1746, 'mei': 1747, 'geraldgrosz': 1748, 'liebsten': 1749, 'chrisjuko': 1750, 'bedarf': 1751, 'benutzen': 1752, 'eva': 1753, 'herman': 1754, 'vieles': 1755, 'kolle': 1756, 'menschheit': 1757, 'genommen': 1758, 'zei': 1759, 'neues': 1760, 'publizistikon': 1761, 'hate': 1762, 'frei': 1763, 'update': 1764, 'extremisten': 1765, 'dritten': 1766, 'pl0105': 1767, 'minecraft': 1768, 'verbloedung': 1769, 'justinkolo': 1770, 'mone': 1771, 'auftritt': 1772, 'picco94115398': 1773, 'hinterlassen': 1774, 'liegt': 1775, 'daran': 1776, 'einhorngangbang': 1777, 'pueppchen': 1778, 'alexander': 1779, 'wahlpa': 1780, 'buehne': 1781, 'siegstyle': 1782, 'verbrechen': 1783, 'entfernt': 1784, 'stadion': 1785, 'ki': 1786, 'mi': 1787, 'pssst': 1788, 'heimat': 1789, 'normal': 1790, 'aussagen': 1791, 'junioren': 1792, 'ts': 1793, '1000': 1794, 'gibts': 1795, 'paesse': 1796, 'nackter': 1797, 'nachm': 1798, 'cet': 1799, 'telekomdown': 1800, 'beck': 1801, 'rueckwae': 1802, 'friedhof': 1803, 'indoktrination': 1804, 'hahahahaha': 1805, 'bengies5': 1806, 'gzuz': 1807, 'moje': 1808, 'dupe': 1809, 'dankee': 1810, 'verraeter': 1811, 'sachsen': 1812, 'schweizok2': 1813, 'iphone': 1814, 'fassen': 1815, 'alice': 1816, 'bekleidung': 1817, 'watch': 1818, 'bastard': 1819, 'dracheschaut': 1820, 'bestaetigt': 1821, 'idk': 1822, 'laecherlich': 1823, 'lara': 1824, 'lt': 1825, 'masturbieren': 1826, 'gottchen': 1827, 'fernandes': 1828, 'dominic': 1829, 'roger': 1830, 'etwa': 1831, 'weib': 1832, 'fetten': 1833, 'lebe': 1834, 'irre': 1835, 'stbrandner': 1836, 'selbe': 1837, 'nwbrs1': 1838, '21': 1839, 'vegesack': 1840, 'copy': 1841, 'paste': 1842, 'krasser': 1843, 'cms': 1844, 'kleben': 1845, 'mobbing': 1846, 'faerben': 1847, 'booth': 1848, 'heiko31086906': 1849, 'besten': 1850, 'hashtag': 1851, 'mon': 1852, 'send': 1853, 'korrupten': 1854, 'erfindet': 1855, 'brauchst': 1856, 'ku': 1857, 'modal': 1858, 'hahahah': 1859, 'spricht': 1860, 'nicolangecdu': 1861, 'virgen48': 1862, 'glueckwunsch': 1863, 'gemeinsam': 1864, 'ruf': 1865, 'ruinie': 1866, 'knie': 1867, 'now': 1868, 'phiiosoph': 1869, 'raste': 1870, 'lache': 1871, 'cool': 1872, 'dj': 1873, 'wahren': 1874, 'keh': 1875, 'zahlschwein': 1876, 'jeds': 1877, 'geschwafel': 1878, 'dfb': 1879, 'kunst': 1880, 'brauch': 1881, 'farid': 1882, 'bang': 1883, 'gesellschaftliche': 1884, 'billie': 1885, 'eilish': 1886, 'rezovideo': 1887, 'schwanger': 1888, 'michelreimon': 1889, 'widerwae': 1890, 'revolverblatt': 1891, 'peter': 1892, 'snack': 1893, 'union': 1894, 'genannt': 1895, 'sexo': 1896, 'sunshine': 1897, 'bierflasche': 1898, 'hand': 1899, 'konform': 1900, 'ikel': 1901, 'zieht': 1902, 'migranten': 1903, 'vermutlich': 1904, 'keller': 1905, 'sellner': 1906, 'aperol': 1907, 'annewill': 1908, 'schlagen': 1909, 'vereinbar': 1910, 'ninja': 1911, '25': 1912, 'doppelmoral': 1913, 'internet': 1914, '00': 1915, 'prallen': 1916, 'meint': 1917, 'musclebear66': 1918, 'gutes': 1919, 'akw': 1920, '22': 1921, 'kulturverein': 1922, 'eingestaendnis': 1923, 'ausrufen': 1924, 'krypto': 1925, 'boerse': 1926, 'rp19': 1927, 'weird': 1928, 'dfdi': 1929, 'kollegin': 1930, 'menge': 1931, 'wahr': 1932, 'strickanleitung': 1933, 'melanie': 1934, 'mielinger': 1935, 'anleitungen': 1936, 'schule': 1937, 'hinten': 1938, 'fotzen': 1939, 'schlecht': 1940, 'stark': 1941, 'koeln': 1942, 'fussirud': 1943, 'absolute': 1944, 'schlaegt': 1945, 'manchmal': 1946, 'anstatt': 1947, 'motivie': 1948, 'legen': 1949, 'panik': 1950, 'schwester': 1951, 'fridayforfuture': 1952, 'dank': 1953, 'teen': 1954, 'eidigen': 1955, '1977': 1956, 'tobias': 1957, 'seb': 1958, 'baehr': 1959, 'gebu': 1960, 'hazard': 1961, 'cringe': 1962, 'reduzie': 1963, 'interesse': 1964, 'schwuchteltier': 1965, 'michael': 1966, 'symphony': 1967, 'magic': 1968, 'petition': 1969, 'bro': 1970, 'altcoin': 1971, 'parlament': 1972, 'line': 1973, 'werberat': 1974, 'havard': 1975, 'fuehlst': 1976, 'magst': 1977, 'sperma': 1978, 'erzaehlt': 1979, '2030': 1980, 'gezaehlt': 1981, 'anfang': 1982, 'bezahlen': 1983, 'erkennen': 1984, 'treibt': 1985, 'abechieben': 1986, 'schlaf': 1987, 'nachdem': 1988, 'steckt': 1989, 'rothaarige': 1990, 'politessen': 1991, 'inzets': 1992, 'ndrinfo': 1993, 'klimaaktivistin': 1994, 'luisa': 1995, 'neubauer': 1996, 'fehlenden': 1997, 'unterstuetzung': 1998, 'kl': 1999, 'ruhrbahn': 2000, 'morgen': 2001, 'inkas': 2002, 'angestellt': 2003, 'spanischen': 2004, 'eindringlingen': 2005, 'toppt': 2006, 'technosteron': 2007, 'boar': 2008, 'analphabetischen': 2009, 'dorne': 2010, 'schrammi44': 2011, 'goat': 2012, 'bouncaay': 2013, 'kfm': 2014, 'mittelstand': 2015, 'mittelstandsanleihen': 2016, 'fonds': 2017, 'hoermann': 2018, 'anleihe': 2019, 'mindest': 2020, 'kupon': 2021, 'mentalshards': 2022, 'offenden': 2023, 'skandaloes': 2024, 'zugreifen': 2025, 'holzraspler': 2026, 'botometer': 2027, 'touchbar': 2028, 'xcode': 2029, '2003': 2030, 'xxl': 2031, 'weights': 2032, 'v1': 2033, 'fs19': 2034, 'kizer': 2035, 'zero': 2036, 'aquila': 2037, 'agora': 2038, 'deutsches': 2039, 'ehepaar': 2040, 'ffentlichkeit': 2041, 'muschilecken': 2042, 'johannesgrune': 2043, 'armselig': 2044, 'esc2019': 2045, 'iceland': 2046, 'effekt': 2047, 'sieg': 2048, 'immernoch': 2049, 'lucky': 2050, 'joahlen': 2051, 'sueggest': 2052, 'movies': 2053, 'plz': 2054, 'ty': 2055, 'einjanik': 2056, 'mhp2002': 2057, 'konrad1000': 2058, 'lvz': 2059, 'koerperverletzung': 2060, 'antut': 2061, 'taeter': 2062, 'kundgebug': 2063, 'dunklen': 2064, 'repression': 2065, 'humanitaere': 2066, 'aufnahme': 2067, 'wohngege': 2068, 'kopalken': 2069, 'hasselfeld': 2070, 'wahlkampfhelferin': 2071, 'gescher': 2072, 'christdemokrat': 2073, 'gaense': 2074, 'naturschutzgebiet': 2075, 'berkeltal': 2076, 'schwgerin': 2077, 'italiani': 2078, 'chat': 2079, 'satireunfreiesd': 2080, 'hube': 2081, 'zulu': 2082, 'nilzee011': 2083, 'linotobi': 2084, 'dieserroman': 2085, 'estar': 2086, 'unterwrfige': 2087, 'hotpants': 2088, 'lianepoost': 2089, 'beziehe': 2090, 'sozialistische': 2091, 'unproduktiv': 2092, 'brunipamder237': 2093, 'sonnenbebrillt3': 2094, 'altonese86': 2095, 'unfair': 2096, 'yungatakan': 2097, 'rau': 2098, 'deacon': 2099, 'zuruf': 2100, 'bots': 2101, 'sawsan': 2102, 'arbeitskraft': 2103, 'stundenlohn': 2104, 'nwbrb58': 2105, 'osnabrueck': 2106, '26': 2107, 'delmenhorst': 2108, 'joergrmayer': 2109, 'lichtmesz': 2110, 'versorgungsposten': 2111, 'naeckige': 2112, 'karrierist': 2113, 'miese': 2114, 'sozialisten': 2115, 'antifanten': 2116, '451': 2117, 'benziner': 2118, 'xrxss': 2119, 'wireless': 2120, 'charging': 2121, 'pads': 2122, 'katerfrieden': 2123, 'geschoss': 2124, 'braindead': 2125, 'xy': 2126, 'kotzt': 2127, 'johannesw82': 2128, 'bellefired': 2129, 'belieben': 2130, 'einfuegen': 2131, 'regierungsgesteue': 2132, 'dementsprechendem': 2133, 'verleih': 2134, 'crusher': 2135, 'neomagazin': 2136, 'carpool': 2137, 'karaoke': 2138, 'dotheyknowitseurope': 2139, 'kamp': 2140, 'kgb': 2141, 'hihi97948034': 2142, 'mero': 2143, 'knapp': 2144, 'kollegen': 2145, 'arbeitest': 2146, 'sprachst': 2147, 'assi': 2148, 'kreisel': 2149, 'blinkt': 2150, 'autobahn': 2151, 'blinken': 2152, 'eilhaft': 2153, 'busfahrer': 2154, 'evp': 2155, 'spitzenkandidat': 2156, 'wahlarena': 2157, 'berufsleben': 2158, 'aaaain': 2159, 'hintergrundmusik': 2160, 'mobilfunkwerbung': 2161, 'escorf': 2162, 'og': 2163, 'julius': 2164, 'michaelhaenel3': 2165, 'bewah': 2166, 'fusionbleibt': 2167, 'xmerve021': 2168, 'haraldbecker80': 2169, 'gegenbeispiel': 2170, 'gezeigt': 2171, '900': 2172, 'ausland': 2173, 'ruche4': 2174, 'poids': 2175, '2kg': 2176, 'infos': 2177, '47': 2178, '56': 2179, 'ssbm': 2180, 'rupps': 2181, 'unserwir': 2182, 'atomreisfleisch': 2183, 'jacky': 2184, 'lope': 2185, 'elektro': 2186, 'geheule': 2187, 'leut': 2188, 'rachsuechtige': 2189, 'mysogynie': 2190, 'hinte': 2191, 'westlichen': 2192, 'bundeslaendern': 2193, 'abstossend': 2194, 'pokehita97': 2195, 'overreacted': 2196, 'overreact': 2197, 'sry': 2198, 'can': 2199, 'radikale': 2200, 'nationalistische': 2201, 'verschwiegenenen': 2202, 'obi': 2203, 'kenobii': 2204, 'walkerjole': 2205, 'siege': 2206, 'cod': 2207, 'ihrerseits': 2208, 'klimafalle': 2209, 'radiale': 2210, 'massnahmen': 2211, 'inaholst': 2212, 'rudolfuz': 2213, 'extrarechte': 2214, 'bigotterie': 2215, 'aushaltbar': 2216, 'fck': 2217, 'plakaten': 2218, 'flyer': 2219, 'verankernlul': 2220, 'papaplatte': 2221, 'zeitve': 2222, 'reib': 2223, 'tlaytweet': 2224, 'befindet': 2225, 'normale': 2226, 'peterzobel4': 2227, 'zusammenarbeit': 2228, 'gutschein': 2229, 'rebelita': 2230, 'fleecepulover': 2231, 'hofheim': 2232, 'hobbyhure': 2233, 'taschengeld': 2234, 'positionen': 2235, 'vermitteln': 2236, 'konnten': 2237, 'verachtung': 2238, 'educaaunfifi': 2239, 'ulrik': 2240, 'raedsalehberlin': 2241, 'logo': 2242, 'heteros': 2243, 'jetz': 2244, 'habter': 2245, 'etzala': 2246, 'piratenpa': 2247, 'gequatsche': 2248, 'migration': 2249, 'gesinnungsterror': 2250, 'nicerlucas': 2251, 'alki': 2252, 'danyvause': 2253, 'maynstream': 2254, 'tip': 2255, 'motivator': 2256, 'fuxki': 2257, 'bauchschmerzen': 2258, 'homasbruns': 2259, 'dt': 2260, 'demnach': 2261, 'waehlte': 2262, 'abgehakt': 2263, 'schwangerschaft': 2264, 'firefox': 2265, 'nekrosex': 2266, 'zar2001doz': 2267, 'dezember': 2268, 'bescheid': 2269, 'versetzt': 2270, 'anzeiger': 2271, 'glockto': 2272, 'blumenkohl': 2273, 'zubereite': 2274, 'seziere': 2275, 'kolleginnen': 2276, 'kolleg': 2277, 'zuckerbienchen': 2278, '222': 2279, 'followern': 2280, 'ausziehen': 2281, 'untenistoben': 2282, 'wulfschmiese': 2283, 'vorgelogen': 2284, 'unheilvolle': 2285, 'milkiriveri': 2286, 'beisst': 2287, 'tabeayy': 2288, 'tante': 2289, 'familiengruppe': 2290, 'spiegelanti': 2291, 'heldenmythos': 2292, 'don': 2293, 'komische': 2294, 'vanhimbeeren': 2295, 'spalterische': 2296, 'eurorettungspolitik': 2297, 'entpuppt': 2298, 'fiskalisches': 2299, 'fiasko': 2300, 'taeuschungskonstrukt': 2301, 'scheissegal': 2302, 'luftblase': 2303, 'strebt': 2304, 'tulpa2230': 2305, 'pete': 2306, 'oitberg': 2307, 'schadet': 2308, 'diskurs': 2309, 'schwa': 2310, 'ht': 2311, 'internetbazi': 2312, 'kulierjarolina': 2313, 'golzheimer': 2314, 'resultat': 2315, 'kassie': 2316, 'aufbau': 2317, 'ryan': 2318, 'riback': 2319, 'eyes': 2320, 'kikivega': 2321, 'krasse': 2322, 'aktion': 2323, 'strasse': 2324, 'hobby': 2325, 'teens': 2326, 'realverlust': 2327, 'schwesterfd': 2328, 'dieter': 2329, 'grind': 2330, 'staatlich': 2331, 'organisie': 2332, 'gfickt': 2333, 'schaffens': 2334, 'kna': 2335, 'hmm': 2336, 'unterstuetzte': 2337, 'mietpreis': 2338, 'wucherer': 2339, 'styropor': 2340, '434italo': 2341, 'eingerichtet': 2342, 'sailorvicious': 2343, 'jusederjude': 2344, 'quadratmetern': 2345, 'vierkoepfigen': 2346, 'wohnkonzepte': 2347, 'serie': 2348, 'club28': 2349, 'silke1974geb': 2350, 'mrchentante1': 2351, 'sudelheft': 2352, 'extension': 2353, 'mitchell': 2354, 'nihl': 2355, 'konservative': 2356, 'identitaetspolitik': 2357, 'deshalb': 2358, 'loveguerillos': 2359, 'thorser62': 2360, 'luciame': 2361, 'kmw2904': 2362, 'fake': 2363, 'mmnews': 2364, 'citylayer': 2365, 'packs': 2366, 'balkonlage': 2367, 'coffeiniker': 2368, 'aluhut': 2369, 'restliche': 2370, 'zerquetscht': 2371, 'enrico95151143': 2372, 'irritierend': 2373, 'diw': 2374, 'praesident': 2375, 'fratzscher': 2376, 'adora': 2377, 'belle': 2378, 'unpolitisch': 2379, 'beschaeftigt': 2380, 'mimimi': 2381, 'fakenew': 2382, 'vquaschning': 2383, 'paris': 2384, 'aktueller': 2385, 'wirds': 2386, '2200': 2387, 'thorsmetkeller': 2388, 'bestell': 2389, 'dansgame': 2390, 'juristen': 2391, 'kaliber': 2392, 'yohbuh': 2393, 'zeelikezorro': 2394, 'mooorizzle': 2395, 'craftergut5': 2396, 'wollten': 2397, 'putschen': 2398, 'hcsmussweg': 2399, 'alextv': 2400, 'puffs': 2401, 'wahldesaster': 2402, 'stroemungsuebergreifend': 2403, 'nachha': 2404, 'alkoholiker': 2405, 'chil': 2406, 'zerfall': 2407, 'armut': 2408, 'unterdrueckung': 2409, 'grottekbrutal': 2410, 'traumurlaub': 2411, 'bytepirat': 2412, 'lebensmittel': 2413, 'verschenken': 2414, 'pparzival': 2415, 'aufstehen': 2416, 'pseudolinken': 2417, 'vormalige': 2418, 'friedenspa': 2419, 'schrillsten': 2420, 'kriegspa': 2421, 'gemause': 2422, 'homeforwhovians': 2423, 'weilkp1': 2424, 'fraue': 2425, 'ausb': 2426, 'faznet': 2427, 'randyraudi': 2428, 'religionen': 2429, 'symphatische': 2430, 'vorzeigekandidatin': 2431, 'erstwaehler': 2432, 'kreux': 2433, 'lukasinho01': 2434, 'bloede': 2435, 'scheinheilige': 2436, 'richt': 2437, 'euwahl': 2438, 'jahrelange': 2439, 'massen': 2440, 'verbrecherinvasion': 2441, 'muelldeponie': 2442, 'veralteten': 2443, 'zaehlen': 2444, 'aljaseas': 2445, 'puh': 2446, 'kollossale': 2447, 'faven': 2448, 'texten': 2449, 'hauptsaechlich': 2450, 'misogyne': 2451, 'misogynes': 2452, 'insz': 2453, 'xxxtentacion': 2454, 'ulrichham': 2455, 'abgezockt': 2456, 'belogen': 2457, 'h4': 2458, 'altersarmut': 2459, 'leiharbeit': 2460, 'thetrvevarg': 2461, 'bedeutungslosigkeit': 2462, 'bedenkt': 2463, 'einst': 2464, 'besc': 2465, 'eddie': 2466, '1412': 2467, 'darkcat90': 2468, 'himmelsreich': 2469, 'vielflieger': 2470, 'stiftung': 2471, 'warentest': 2472, 'tropenholz': 2473, 'grillen': 2474, 'staub6760': 2475, 'aua': 2476, 'depositodetiras': 2477, 'por': 2478, 'charles': 2479, 'frauweh': 2480, 'bogenschuetzen': 2481, 'dezimieren': 2482, 'prinzen': 2483, 'gurkenplaysyt': 2484, 'chrisfcn1900': 2485, 'dreckig': 2486, 'beatehaubrock': 2487, 'mokomokai': 2488, 'kjpgehrden': 2489, 'identifikationmitdemaggressor': 2490, 'samelou': 2491, 'seltsame': 2492, 'zensur': 2493, 'satzes': 2494, 'beleidigung': 2495, 'verleumdung': 2496, 'entw': 2497, 'oklara': 2498, 'reality': 2499, 'kings': 2500, 'vogeln': 2501, 'geschieht': 2502, 'uebliche': 2503, 'teenager': 2504, 'muehsal': 2505, 'sitcom': 2506, 'temmuzkacak': 2507, 'terrorpkk': 2508, 'freiheitskaempfer': 2509, 'irakische': 2510, 'burka': 2511, 'ausziehe': 2512, 'gaengster': 2513, 'verbloeden': 2514, 'buchzitat': 2515, 'irgendeinem': 2516, 'schlange': 2517, 'ghostikun': 2518, 'sexistische': 2519, 'kackscheisse': 2520, 'krise': 2521, 'brabaxbln': 2522, 'ill': 2523, 'zitronenjette20': 2524, 'morgaine620': 2525, 'dgh': 2526, 'treppenhaus': 2527, 'liebs': 2528, 'wahlomat': 2529, 'irgendeinen': 2530, 'bewaehrungsstrafe': 2531, 'schwarzafrikanischen': 2532, 'asyltouristen': 2533, 'kirchentreppe': 2534, 'milch': 2535, 'lesbensexvideos': 2536, 'blonde': 2537, 'schwiegermtter': 2538, '98763': 2539, 'volltreffer': 2540, 'raetsel': 2541, 'wozu': 2542, 'schaftsverbaende': 2543, 'bande': 2544, 'daddyatze': 2545, 'goil': 2546, 'cookiesforjoon': 2547, 'fandest': 2548, 'skototaxis': 2549, 'trafen': 2550, 'reifen': 2551, 'wrge': 2552, 'da29': 2553, '00020b': 2554, 'haf': 2555, 'cin': 2556, 'exp': 2557, 'refrigerator': 2558, 'water': 2559, 'white': 2560, 'aufschrei': 2561, 'bruestung': 2562, 'gehoben': 2563, 'nwbre14': 2564, 'borken': 2565, 'westf': 2566, 'dorsten': 2567, 'froehliches': 2568, 'allahu': 2569, 'akbe': 2570, 'wennst': 2571, 'zuhoerst': 2572, 'choked': 2573, 'veganem': 2574, 'dings': 2575, 'mecces': 2576, 'dringe': 2577, 'ranziges': 2578, 'rindfleisch': 2579, 'videoaufrufe': 2580, 'kaufende': 2581, 'fistplay': 2582, 'assplay': 2583, 'fistingtime': 2584, 'xyz': 2585, 'causa': 2586, 'schiesst': 2587, 'tricksen': 2588, 'geltendes': 2589, 'transnutte': 2590, 'verwechseln': 2591, 'schreckt': 2592, 'cubcgn1': 2593, 'davidhf92': 2594, 'spargel': 2595, 'erbeeren': 2596, 'president': 2597, 'rambe': 2598, 'hururensooohn': 2599, 'okok': 2600, 'stopp': 2601, 'mission': 2602, 'faltiger': 2603, 'realantizion77': 2604, 'nettilatte': 2605, 'akifpirincci': 2606, 'hcstrachefp': 2607, 'anonymer': 2608, 'zeigender': 2609, 'bonner': 2610, 'stricher': 2611, 'pillepa47127736': 2612, 'umweltbelastung': 2613, 'beitraegt': 2614, 'trends': 2615, 'branche': 2616, 'spoga': 2617, 'gafa': 2618, 'bjrn17547904': 2619, 'gruenenrw': 2620, 'nationalmasochismus': 2621, 'geisteskranken': 2622, 'larsweisbrod': 2623, 'verlieben': 2624, 'ess': 2625, 'steffen': 2626, 'goldstuecke': 2627, 'facharbeiter': 2628, 'aelydysdenossi': 2629, 'morastmops': 2630, 'politicalbeauty': 2631, 'naziaufmaersche': 2632, 'meinungsaeusserung': 2633, 'demorecht': 2634, 'genemigt': 2635, 'bodoloettgen': 2636, 'linksextrem': 2637, 'fachkraeften': 2638, 'nnaschneider': 2639, 'kroenung': 2640, 'oekofeminismus': 2641, 'hstrike': 2642, 'zuliebe': 2643, 'brinkhaus': 2644, 'dennoch': 2645, 'maximal': 2646, 'mariboncw': 2647, 'schuhcreme': 2648, 'bastelt': 2649, 'herrje': 2650, 'yuumatsukumo': 2651, '67': 2652, 'verblendet': 2653, 'leimen': 2654, 's60': 2655, 'boeblingen': 2656, 'schwabstr': 2657, 'maichingen': 2658, 'sbahnstgt': 2659, 'gifev': 2660, 'kompetenzgruppe': 2661, 'aktuelle': 2662, 'projektgruppen': 2663, 'wohnformen': 2664, 'mikrolagen': 2665, 'grossstaedte': 2666, 'einlauf': 2667, 'spasti': 2668, 'gottessohn13': 2669, 'fackel': 2670, 'umzuege': 2671, 'dagilp': 2672, 'lbh': 2673, '1lisschen93': 2674, 'b24pt': 2675, 'contrata': 2676, 'ao': 2677, 'hoffenheim': 2678, 'fwa': 2679, 'great': 2680, 'naku64': 2681, 'quin': 2682, '3te': 2683, 'untote': 2684, 'stimmenve': 2685, 'eilung': 2686, 'buendnis': 2687, 'ue50': 2688, 'gestossen': 2689, 'aende': 2690, 'sera': 2691, 'gegenseitig': 2692, 'schickten': 2693, 'pbern12': 2694, 'community': 2695, 'deutlicher': 2696, 'garfieldine': 2697, 'sexismobserver': 2698, 'hamburger': 2699, 'hafen': 2700, 'botschaft': 2701, 'stefan': 2702, 'beatrix': 2703, 'vstorch': 2704, 'doener': 2705, 'dicherheit': 2706, 'jungs': 2707, 'meinte': 2708, 'so': 2709, 'gewaltbereitschaft': 2710, 'thinspo': 2711, 'bootboss': 2712, 'spitzenkandidaten': 2713, 'kurzpo': 2714, 'raet': 2715, 'kandidatencheck': 2716, 'itsdesey': 2717, 'perkz': 2718, 'gunlike': 2719, 'groesseren': 2720, 'schwulen': 2721, 'aufgestiegen': 2722, 'geringere': 2723, 'anzahl': 2724, 'eienblock': 2725, 'staffel': 2726, 'voltron': 2727, 'trd': 2728, 'fall': 2729, 'evorox750': 2730, 'schlaefst': 2731, 'jodl': 2732, 'merkur': 2733, 'auswae': 2734, 'igesamt': 2735, 'ep21': 2736, 'attraction': 2737, 'outet': 2738, 'gedichtw': 2739, 'herrnaumann': 2740, 'dergazetteur': 2741, 'erster': 2742, 'besuch': 2743, 'mjwock': 2744, 'allemal': 2745, 'oekolinx': 2746, 'polizistmensch': 2747, 'schnischna1992': 2748, 'alla': 2749, 'klassische': 2750, 'xhamster': 2751, 'orgasmus': 2752, 'edgyluwuca': 2753, 'umfrage': 2754, 'wuerdest': 2755, 'fragst': 2756, 'personalentscheidungen': 2757, 'bk': 2758, 'kingrighteous': 2759, 'raleigh': 2760, 'durham': 2761, 'musashi': 2762, 'haiku': 2763, 'haltung': 2764, 'genialewelt': 2765, 'waldnattern': 2766, 'melden': 2767, 'puls': 2768, 'zitter': 2769, 'zusammenreissen': 2770, 'loszudiskutieren': 2771, 'haraldrostock': 2772, 'renommie': 2773, 'wilfried': 2774, 'schmitz': 2775, 'amtlichen': 2776, 'bet': 2777, 'tisch': 2778, 'gekeh': 2779, 'coraxaroc': 2780, 'neons': 2781, 'reklame': 2782, 'fische': 2783, 'leuchten': 2784, 'huebsch': 2785, 'bunt': 2786, 'wetlook': 2787, 'showoff': 2788, 'talk': 2789, 'primitive': 2790, 'gesindel': 2791, 'd4ncingmonkey': 2792, 'tod': 2793, 'luaks030': 2794, 'gabku': 2795, 'curdinv': 2796, 'grautoene': 2797, 'uebrig': 2798, 'nim': 2799, 'reiner02192679': 2800, 'beziehung': 2801, 'schlimmsten': 2802, 'flxmydlseases': 2803, 'heiner': 2804, 'gesper': 2805, 'alexarusss': 2806, 'linksoma': 2807, 'untaetig': 2808, 'steuerkarussell': 2809, 'raubzug': 2810, 'erschuet': 2811, 'obviant': 2812, 'buloneee': 2813, 'antwo': 2814, 'pflegefall': 2815, 'trackmaniagamer': 2816, 'lord': 2817, 'abbadon': 2818, 'wurd': 2819, 'finanzberater': 2820, 'forderung': 2821, 'schnaps': 2822, 'nap': 2823, 'masyaf': 2824, 'sy': 2825, 'groben': 2826, 'unfug': 2827, 'effektiver': 2828, 'reppinum': 2829, 'kriegt': 2830, 'monat': 2831, 'inaktiv': 2832, 'nicjt': 2833, 'sprinten': 2834, 'daffyfuq': 2835, 'gummipuppe': 2836, 'hochladet': 2837, 'hl': 2838, 'h2o': 2839, 'leg': 2840, 'schatulle': 2841, 'schliesse': 2842, 'garantie': 2843, 'bpl': 2844, 'sbc': 2845, 'foerde': 2846, 'arabische': 2847, 'schmarotzer': 2848, 'taugenichtse': 2849, 'uebe': 2850, 'sinnfrei': 2851, '200l': 2852, '60l': 2853, 'tank': 2854, 'fuellen': 2855, 'wegfahren': 2856, 'verstaatlichung': 2857, 'ausdenken': 2858, 'zskaveyt': 2859, 'sypherox': 2860, 'luuxaa': 2861, 'gangmembergaara': 2862, 'zkidaa': 2863, 'habebrot': 2864, 'paedagogin': 2865, 'txm3rx': 2866, 'benizzel1': 2867, 'klagt': 2868, 'voelkermord': 2869, 'doomed': 2870, 'richtlinie': 2871, 'schlag': 2872, 'kleinaktionaere': 2873, 'griffinthepeter': 2874, 'herumhackt': 2875, 'schliesslich': 2876, 'ju': 2877, 'betze': 2878, 'spiegelt': 2879, 'fuehrungetage': 2880, 'passfehler': 2881, '1967gorzata': 2882, 'sbunners': 2883, 'fanatisch': 2884, 'unverantwo': 2885, 'gagadaily': 2886, 'hair': 2887, 'pfarrer': 2888, 'gegendemo': 2889, 'starnberg': 2890, 'besen': 2891, 'kirchplatz': 2892, 'htt': 2893, 'michellemalkin': 2894, 'freespeechfriday': 2895, 'fightthecensors': 2896, 'pjnet': 2897, 'tcot': 2898, 'patrioten': 2899, 'strophe': 2900, 'deutschlandliedes': 2901, 'sulemannmalik': 2902, 'saekularer': 2903, 'entsprechend': 2904, 'timokloepper': 2905, 'fff': 2906, 'angesicht': 2907, 'grossprobleme': 2908, 'hielte': 2909, 'arnd': 2910, 'schumacher': 2911, 'timmermanseu': 2912, 'aussenpolitik': 2913, 'sorgt': 2914, 'migrations': 2915, 'halia': 2916, 'yee': 2917, 'durex': 2918, 'trojan': 2919, 'dwd': 2920, 'warnlagebericht': 2921, 'zuenden': 2922, 'taeglichen': 2923, 'brauchern': 2924, 'asoziales': 2925, 'tilojung': 2926, 'groesser': 2927, 'linear': 2928, 'tinten': 2929, 'killer': 2930, 'nichttweeterin': 2931, 'italienisches': 2932, 'nasir': 2933, 'ablegen': 2934, 'kallepilsbier': 2935, 'fabrikle': 2936, 'global': 2937, 'unternehmensgeschichte': 2938, 'hanserliter': 2939, 'volkslehrer': 2940, 'ingo': 2941, 'reconquista': 2942, 'germanica': 2943, 'bundesk': 2944, 'undeaniable': 2945, 'hofmeyr': 2946, 'kaizer': 2947, 'chiefs': 2948, 'n3rdy': 2949, 'nacken': 2950, 'krault': 2951, 'stefanskibbe': 2952, 'jap': 2953, 'milfdiana2': 2954, 'match': 2955, 'issn': 2956, 'verdammtes': 2957, 'atotheiex': 2958, 'edzardernst': 2959, 'extra3': 2960, 'jnfingerle': 2961, 'klimaschaedlichen': 2962, 'treibhausgase': 2963, 'klinger291259': 2964, 'kapazitaeten': 2965, 'eurowahl': 2966, 'jahrhunde': 2967, 'frans': 2968, 'timmermans': 2969, 'kommissionspraes': 2970, 'oezil': 2971, 'berichterstattung': 2972, 'schnappschuss': 2973, 'hoeferjunge': 2974, 'markt': 2975, 'wirken': 2976, 'kontrollieren': 2977, 'doerfer': 2978, 'zwangsumsiedeln': 2979, 'sarr': 2980, 'einbuergerungsverbot': 2981, 'mehrehen': 2982, 'geschichtlich': 2983, 'oede': 2984, 'nebenbei': 2985, 'antifaschist': 2986, 'haramizemer': 2987, 'gedanke': 2988, 'spaltet': 2989, 'typisch': 2990, 'davidgeorge91': 2991, 'karllagerfeld': 2992, 'trage': 2993, 'jogginghose': 2994, 'daraschi': 2995, 'iblali': 2996, 'youtubevideos': 2997, 'relativie': 2998, 'feminismus': 2999, 'yep': 3000, 'its': 3001, 'kotze': 3002, 'unnoetige': 3003, 'hyperbushido': 3004, '1923': 3005, 'putschversuch': 3006, 'knast': 3007, 'ccrunk9': 3008, 'england': 3009, 'ausbilden': 3010, 'lernt': 3011, 'vergewaltig': 3012, 'tomatenhass': 3013, 'kastor': 3014, 'akielos': 3015, 'patmair1': 3016, 'afdbraunschweig': 3017, 'verspargeln': 3018, 'todesanlagen': 3019, 'erinnern': 3020, 'plauen0105': 3021, 'plau': 3022, 'barbarakaufmann': 3023, 'verhaeltnis': 3024, 'zerruettet': 3025, 'nr': 3026, 'meinerstesmal': 3027, 'licht': 3028, 'lou': 3029, 'lorenz': 3030, 'sonjaablinger': 3031, 'maennerwg': 3032, 'laessig': 3033, 'abgeordnete': 3034, 'froh': 3035, 'rabensalat': 3036, 'ranajeanne': 3037, 'kuendigen': 3038, 'kinderbetreuung': 3039, 'umziehen': 3040, 'anfragen': 3041, 'gemeinderat': 3042, 'ehrliche': 3043, 'klarheit': 3044, 'transparenz': 3045, 'sexi': 3046, 'flotter': 3047, 'dreier': 3048, 'textvergessen': 3049, 'organspender': 3050, 'falle': 3051, 'ablebens': 3052, 'heike': 3053, 'gassmann': 3054, 'thunberg': 3055, 'diskutierst': 3056, 'gewinnt': 3057, 'madcapkostia': 3058, 'winstspencer2': 3059, 'dung': 3060, 'spfugang': 3061, 'tantetictac': 3062, 'rehe': 3063, 'dystopische': 3064, 'hundesoehne': 3065, 'thefabohd': 3066, 'draufklatschen': 3067, 'saltyironflower': 3068, 'uebernimmt': 3069, 'klischkoe': 3070, 'staerkeren': 3071, 'ansicht': 3072, 'juenger': 3073, 'bagge': 3074, 'eliter': 3075, 'domm': 3076, 'lukede': 3077, 'ypda': 3078, 'kiche': 3079, 'raunigmichael': 3080, 'scheisst': 3081, 'verschwoerung': 3082, 'ibiza': 3083, 'errol': 3084, 'verkoerperung': 3085, 'persoenlichkeit': 3086, 'abgebrannt': 3087, 'beharrlich': 3088, 'verheiratete': 3089, 'tunesier': 3090, 'muetze': 3091, 'abzune': 3092, 'derherrschulz': 3093, 'neoliberale': 3094, 'autoritaere': 3095, 'rassismusgetriebene': 3096, 'staatsumbau': 3097, 'lenkt': 3098, 'lovelisa18x': 3099, 'liebt': 3100, 'schwaenze': 3101, 'stecken': 3102, 'koenntest': 3103, 'lemurian1897': 3104, 'krustytheboss': 3105, 'stefans56831841': 3106, 'linksgruenes': 3107, 'ryuuly': 3108, 'goethe': 3109, 'animal': 3110, 'crossing': 3111, 'really': 3112, 'mediarings': 3113, 'dean': 3114, 'stua': 3115, 'illustrations': 3116, 'dirk': 3117, 'petzold': 3118, 'productdesign': 3119, 'designthinking': 3120, 'designinspiration': 3121, 'graphic': 3122, 'aerith': 3123, 'vergeblich': 3124, 'vincent': 3125, 'valentines': 3126, 'reitbares': 3127, 'liiamichel': 3128, 'ahmadmansour': 3129, 'zugucken': 3130, 'verweige': 3131, 'kommunikation': 3132, 'fensterheber': 3133, 'laraistanbul': 3134, 'hipsterschlampe': 3135, 'anschwillt': 3136, 'gluten': 3137, 'isst': 3138, 'lovefefee': 3139, 'davor': 3140, 'schrecken': 3141, 'harmloser': 3142, 'vorbilder': 3143, 'user': 3144, '167067272': 3145, 'juso': 3146, 'radikal': 3147, 'tagtraeume': 3148, 'cloud': 3149, 'plays': 3150, 'rapid': 3151, 'chilljo1': 3152, 'ava': 3153, 'uff': 3154, 'patrickgensing': 3155, 'profil': 3156, 'dora': 3157, 'bromberger': 3158, 'sperrung': 3159, 'schwesteraccount': 3160, 'spon': 3161, 'regierungsmonitor': 3162, 'beliebter': 3163, 'schuetzen': 3164, 'johanna': 3165, 'auswandern': 3166, 'gzsz': 3167, 'afcajax': 3168, 'today': 3169, 'ing': 3170, 'xi': 3171, 'ajaxo19': 3172, 'reiziger': 3173, 'kasanwirjo': 3174, 'rensch': 3175, 'salah': 3176, 'eddine': 3177, 'taylor': 3178, 'llansana': 3179, 'hans': 3180, 'dominie': 3181, 'nationalisten': 3182, 'gepraegt': 3183, 'cornelianoack': 3184, 'schaeme': 3185, 'zutiefst': 3186, 'fremd': 3187, 'peaches1804': 3188, 'reich': 3189, 'leiten': 3190, 'pop': 3191, 'bethaeuser': 3192, 'kirchen': 3193, 'grolmori': 3194, 'gestampft': 3195, 'lyon': 3196, 'algerier': 3197, 'gestaendnis': 3198, 'naegeln': 3199, 'versehene': 3200, 'bombe': 3201, 'fussgaenger': 3202, 'einnisten': 3203, 'sozialsysteme': 3204, 'steuern': 3205, 'sozialabgaben': 3206, 'hbsche': 3207, 'gefesselte': 3208, 'oon': 3209, 'ralph': 3210, 'bremer': 3211, 'ehrlich': 3212, 'freiheitlich': 3213, 'nehmt': 3214, 'jasmin': 3215, 'pur': 3216, 'mr': 3217, 'empty': 3218, 'km': 3219, 'baehnk': 3220, 'bouncytitaction': 3221, 'fishnets': 3222, 'tenhagen': 3223, 'stromanbieter': 3224, 'afghane': 3225, 'tritten': 3226, 'gestorben': 3227, 'strafmass': 3228, 'fabianphx': 3229, 'gazighost': 3230, 'kimmichs': 3231, 'assist': 3232, 'fazos': 3233, 'shell': 3234, 'tops': 3235, 'ndaktuell': 3236, 'miserabel': 3237, 'loehne': 3238, 'jens': 3239, 'grey': 3240, 'anatomy': 3241, 'bbabyaleyna': 3242, 'aceofm': 3243, 'namelstprogramm': 3244, 'lassmichbitteee': 3245, 'wkeyen': 3246, 'hanvoi': 3247, 'bundesaufsicht': 3248, 'gestellt': 3249, 'braunen': 3250, 'aufgeraeumt': 3251, 'gehalten': 3252, 'tony': 3253, 'konnotation': 3254, 'hetzern': 3255, 'ruketsueki': 3256, 'madicegg': 3257, 'engstirniger': 3258, 'eurozentrismus': 3259, 'dunkles': 3260, 'mtg': 3261, 'arena': 3262, 'event': 3263, 'bilbuha': 3264, 'ir': 3265, 'faerbt': 3266, 'roht': 3267, 'verpeiltetomate': 3268, 'rausgeraeumt': 3269, 'wiegt': 3270, 'derriccardo': 3271, 'klauer': 3272, 'shahbabrarya': 3273, 'deins': 3274, 'noeu': 3275, 'nijazi': 3276, 'runtergeholt': 3277, 'leobietton': 3278, 'bahnhofbuffets': 3279, 'solothurn': 3280, '20h': 3281, 'voelkische': 3282, 'intelligenzallergiker': 3283, 'geoutet': 3284, 'casperxofficial': 3285, 'linksextremer': 3286, 'wirsindmehr': 3287, 'versaut': 3288, 'purnu': 3289, 'wnsche': 3290, 'www': 3291, 'erotik': 3292, 'arbeitsscheinwerfer': 3293, 'ly8012': 3294, '12v': 3295, '24v': 3296, 'eckig': 3297, 'new': 3298, 'lampen': 3299, 'beleuchtung': 3300, 'arbeitsscheinwe': 3301, 'zockt': 3302, 'wordpressdotcom': 3303, 'starr': 3304, 'blanke': 3305, 'aleska': 3306, 'diamond': 3307, 'dessous': 3308, 'erotische': 3309, 'vzvhds': 3310, 'nationalromantiker': 3311, 'didn': 3312, 'inhale': 3313, 'rechtsextremen': 3314, 'sozis': 3315, 'bedingungslose': 3316, 'willkommenpolitik': 3317, 'woll': 3318, 'praktizier': 3319, 'propagandageschwafel': 3320, 'europarl': 3321, 'vergiss': 3322, 'expat': 3323, 'waehlerverzeichnis': 3324, 'einzutragen': 3325, 'mpse': 3326, 'videis': 3327, 'pirno': 3328, 'ozraeliavi': 3329, 'because': 3330, 'told': 3331, 'zuckerberg': 3332, 'bineuerboss': 3333, 'mjungclaus': 3334, 'umweltschaender': 3335, 'beweis': 3336, 'billah': 3337, 'spaeter': 3338, 'likes': 3339, 'mond': 3340, 'daherreden': 3341, 'onryouyuurei': 3342, 'holdudieladio': 3343, 'autobauer': 3344, 'zensierung': 3345, 'eingeleitet': 3346, 'aba': 3347, 'iger': 3348, 'luegner': 3349, 'neider': 3350, 'komplexe': 3351, 'aryeshalicar': 3352, 'regierungen': 3353, 'ideel': 3354, 'finanziell': 3355, 'guenstlinge': 3356, 'hauf': 3357, 'einladen': 3358, 'rechens': 3359, 'ballern': 3360, 'pointen': 3361, 'moewennase': 3362, 'scharfen': 3363, 'skalpell': 3364, 'verunstalten': 3365, 'still': 3366, 'luuucaby': 3367, 'qualzucht': 3368, 'tiermediziner': 3369, 'milchkuehe': 3370, 'maximalen': 3371, 'rag': 3372, 'getrimmt': 3373, 'jezabiii': 3374, 'michaelagrasser': 3375, 'entspannter': 3376, 'feierabend': 3377, 'innenpolitik': 3378, 'souveraenen': 3379, 'landes': 3380, 'poli': 3381, 'glubb': 3382, 'maschinia2024': 3383, 'fcn': 3384, 'mathenia': 3385, 'kranzschwinger': 3386, 'tuerkinnen': 3387, 'araberinnen': 3388, 'aufbauten': 3389, 'nora50moya': 3390, 'karriere': 3391, 'soziai': 3392, 'rantingronja': 3393, 'agumon': 3394, 'lasse': 3395, 'bemerkenswe': 3396, 'vaterlandsverraeter': 3397, 'checkt': 3398, 'aufjedenfall': 3399, 'wahlbuero': 3400, 'laufen': 3401, 'empfaenger': 3402, 'weltspiegel': 3403, 'pelixulas': 3404, 'bokep': 3405, 'camillelothezh': 3406, 'goennst': 3407, 'deli': 3408, 'finds': 3409, 'kinda': 3410, 'verallgemeinern': 3411, 'verscheiede': 3412, 'herkommen': 3413, 'gewagten': 3414, 'abstoss': 3415, 'rummenigge': 3416, 'mittlere': 3417, 'stromkasteriks': 3418, 'geschlemme': 3419, 'kafeel': 3420, 'kafeer': 3421, 'kafir': 3422, 'mitzat': 3423, 'blackboxvs': 3424, 'leichtmatrosen': 3425, 'wasserschutzpolizei': 3426, 'angestrengt': 3427, 'landgewinne': 3428, 'bigfrager': 3429, 'prozentzahl': 3430, 'uebergriffe': 3431, 'liebevoll': 3432, 'mum': 3433, 'angesprochen': 3434, 'verharmlosen': 3435, 'nat': 3436, 'ak': 3437, 'hipp': 3438, '70y': 3439, 'juhuu': 3440, 'iht': 3441, 'lonelyumut': 3442, 'ironicguerreiro': 3443, '25m': 3444, 'demirbay': 3445, 'leverkusen': 3446, '28m': 3447, 'fluege': 3448, 'manila': 3449, 'september': 3450, 'oktober': 3451, '387': 3452, 'golinehatai': 3453, 'allererste': 3454, 'kennzeichnung': 3455, 'bewegung': 3456, 'asymmetrische': 3457, 'satiriker': 3458, 'schuster': 3459, 'leisten': 3460, 'furc': 3461, 'konflikt': 3462, 'zwingen': 3463, 'unehrenhaft': 3464, 'rikeraven': 3465, 'volksverpetzer': 3466, 'angrinsen': 3467, 'bildungs': 3468, 'verdummt': 3469, 'maulkorb': 3470, 'bundesjugendspiele': 3471, 'daemlichste': 3472, 'schullaufbahn': 3473, 'lowcarbrudi': 3474, 'rocken': 3475, 'mehikaner': 3476, 'diehumanisten': 3477, 'attacd': 3478, 'ranzmann': 3479, 'zerbrxsler': 3480, 'gprealomon': 3481, 'ardde': 3482, 'fachkundige': 3483, 'psychiaters': 3484, 'gedacht': 3485, 'indische': 3486, 'cognata': 3487, 'ttowie': 3488, 'deanfan123urban': 3489, 'hashtags': 3490, 'muten': 3491, 'moormoewe': 3492, 'make': 3493, 'morgens': 3494, 'drei': 3495, 'club': 3496, 'perfekt': 3497, 'peppermind': 3498, 'kater': 3499, 'strecken': 3500, 'badrepuwhy': 3501, 'grundrente': 3502, 'faulenzer': 3503, 'weswegen': 3504, 'dietagespost': 3505, 'national': 3506, 'glueckskeks': 3507, 'fabrik': 3508, 'titeln': 3509, 'hwsq': 3510, 'gronkh': 3511, 'blondine': 3512, 'virgin': 3513, 'kippo2o': 3514, 'nintendo': 3515, 'bimbas': 3516, 'world': 3517, 'desaster': 3518, 'chefin': 3519, 'pflegesystem': 3520, 'gepumpt': 3521, 'berichte': 3522, 'missstaende': 3523, 'heimen': 3524, 'ebben': 3525, 'sozialistin': 3526, 'angeschlagen': 3527, 'aktuell': 3528, 'versammelt': 3529, 'du0105': 3530, 'bundestagsabgeordneter': 3531, 'mehreren': 3532, 'tageszeitungen': 3533, 'bekommt': 3534, 'leer': 3535, 'ausgegangen': 3536, 'ultras': 3537, 'digitec': 3538, 'ipads': 3539, 'rajan87': 3540, 'meins': 3541, 'eingereusch': 3542, 'bbyfrkmcgzx': 3543, 'grknzrstrr': 3544, 'zock': 3545, 'linux': 3546, 'empfindliche': 3547, 'schlimm': 3548, 'empfinden': 3549, 'herzblutbluete': 3550, 'herzen': 3551, 'seele': 3552, 'enricotokareu': 3553, 'nazispack': 3554, 'dera': 3555, '62': 3556, 'rohstoffbrief': 3557, 'fresnillo': 3558, 'silberproduzent': 3559, 'liefe': 3560, 'q1': 3561, 'zahlen': 3562, 'analysten': 3563, 'glau': 3564, 'scpaderborn07': 3565, 'titz': 3566, 'keentech': 3567, 'godcoder': 3568, 'inholubek3': 3569, 'over': 3570, 'immergeil82': 3571, 'lehrbuda': 3572, 'edreisvogt': 3573, 'moritur': 3574, 'ride': 3575, 'rauszuhauen': 3576, 'adhs': 3577, 'roman': 3578, 'hurenso': 3579, 'jeonpokpok': 3580, 'henlooooo': 3581, 'oomf': 3582, 'h3h3': 3583, 'derpsichologe': 3584, 'burhan': 3585, 'diggi': 3586, 'denkst': 3587, 'fasten': 3588, 'widerliche': 3589, 'verlogenheit': 3590, 'kippa': 3591, 'kameras': 3592, 'kevinneuwi': 3593, 'wen': 3594, 'abteil': 3595, 'bt': 3596, 'indampf': 3597, 'nanunan32440900': 3598, 'chinationalist9': 3599, 'diebe': 3600, 'haende': 3601, 'scheidung': 3602, 'fremdgehen': 3603, 'steinigung': 3604, 'hassrede': 3605, 'koepfen': 3606, 'homosex': 3607, 'davescustomxxx': 3608, 'heideenytes': 3609, 'bellainksclips': 3610, 'versohlt': 3611, 'flinten': 3612, 'uschi': 3613, 'rausschmeissen': 3614, 'vernuenftig': 3615, 'geregelt': 3616, 'traumatisch': 3617, 'empfundenen': 3618, 'erlebnis': 3619, 'berichtet': 3620, 'nachrichten': 3621, 'bezwecken': 3622, 'fahrschule': 3623, 'vernachlaessigt': 3624, 'theater': 3625, 'museumsdoerfer': 3626, 'fallenlassen': 3627, 'heisse': 3628, 'offel': 3629, 'sobal': 3630, 'sensusnoctis': 3631, 'lostboislim': 3632, 'fass': 3633, 'drippst': 3634, 'lovebeatshb': 3635, 'mimimimi': 3636, 'noafd': 3637, 'franz': 3638, 'salzmann': 3639, 'minister': 3640, 'benoetigt': 3641, 'schulabschluss': 3642, 'kermit': 3643, 'red': 3644, 'andy': 3645, 'heooo': 3646, 'torwa': 3647, 'offchem': 3648, 'linksfunk': 3649, 'rosamwolfgang': 3650, 'wesentlich': 3651, 'mitverursacht': 3652, 'oevp': 3653, 'alleinregie': 3654, 'lola': 3655, 'barista': 3656, 'okaaaay': 3657, 'trau': 3658, 'thcaltan': 3659, 'fauler': 3660, 'moni': 3661, 'hift': 3662, 'stief': 3663, 'enkel': 3664, 'wehnemann': 3665, 'verdoppelt': 3666, 'derzeitige': 3667, 'plata': 3668, 'plomo': 3669, 'banana': 3670, 'fishxx': 3671, 'helden': 3672, 'versteigern': 3673, 'getragenen': 3674, 'trikots': 3675, 'endphase': 3676, 'wahlkampfs': 3677, 'eroeffnet': 3678, 'ethopianm': 3679, 'kaufmannskrimis': 3680, 'kleinbuergerliche': 3681, 'imponiergehabe': 3682, 'triplepsn': 3683, 'honecker': 3684, 'mussolini': 3685, 'onkommd': 3686, 'people': 3687, 'abi2019': 3688, 'wisst': 3689, 'abi': 3690, 'weitergeht': 3691, 'oxensepp': 3692, 'katjakipping': 3693, 'katja': 3694, 'genauer': 3695, 'mwinteron': 3696, 'incl': 3697, 'teils': 3698, 'sog': 3699, 'opposition': 3700, 'geritten': 3701, 'ifo': 3702, 'mittelstandsbarometer': 3703, 'mittelstaendisches': 3704, 'geschaeftsklima': 3705, 'unterwerfung': 3706, 'dahlia': 3707, 'sky': 3708, 'fremden': 3709, 'grobe': 3710, 'rollenspiele': 3711, 'fantasy': 3712, 'domtendo': 3713, 'fixen': 3714, 'gebummst': 3715, 'gebunden': 3716, 'lukasderrapper': 3717, 'gewitter': 3718, 'benjamin': 3719, 'jessd': 3720, 'sssollte': 3721, 'tssservakis': 3722, 'sstzunge': 3723, 'sssehen': 3724, 'tststss': 3725, 'nutellaflxke': 3726, 'liebeskummer': 3727, 'drecksscheisse': 3728, 'gamergateblogde': 3729, 'krebsgeschwuer': 3730, 'mithilfe': 3731, 'ausbreitet': 3732, 'realshira': 3733, 'naschkatze86': 3734, 'paradoxe': 3735, 'gefrierbrand': 3736, 'holzeisenbahn': 3737, 'wahlpflichtfach': 3738, 'doppelhaushaelfe': 3739, 'selbsthilfegruppe': 3740, 'oekonazis': 3741, 'ionblackout': 3742, 'nomadex2': 3743, 'heftig': 3744, 'geschissen': 3745, 'allee': 3746, 'angelaulrichrbb': 3747, 'g5sahel': 3748, 'burkinafaso': 3749, 'mo': 3750, 'trombozytenspender': 3751, 'eintragen': 3752, 'dna': 3753, 'miiiaa': 3754, 'schoener': 3755, 'lu41598225': 3756, 'frontal21': 3757, 'eindeutiges': 3758, 'unterdrueckungsmerkmal': 3759, 'darstellt': 3760, 'timolamme': 3761, 'tribuene': 3762, 'ground': 3763, 'biermitdir': 3764, 'gamescom': 3765, 'jungfrauen': 3766, 'tuchel': 3767, 'schneiss': 3768, 'goet': 3769, 'nichtmehr': 3770, 'schimpf': 3771, 'bot': 3772, 'schnauze': 3773, 'amk': 3774, 'asiaticas': 3775, 'peludas': 3776, 'sauerwald': 3777, 'wahlergebnisse': 3778, 'minderheit': 3779, 'ministerin': 3780, 'hilflos': 3781, 'rekomen': 3782, 'username': 3783, 'cigsafterimsak': 3784, 'fatalitybaerlis': 3785, 'fladdermues': 3786, 'tibhubay': 3787, 'nanu': 3788, 'linker': 3789, 'antifant': 3790, 'vorstellig': 3791, 'panisch': 3792, 'ta': 3793, 'fakuum': 3794, 'geduldeten': 3795, 'muessten': 3796, 'urspruenglichen': 3797, 'grundwe': 3798, 'zurueckkehren': 3799, 'pisser': 3800, 'interagie': 3801, 'poste': 3802, 'gekonnt': 3803, 'ignorie': 3804, 'mandeln': 3805, 'giorap90': 3806, 'herrentag': 3807, 'zelebrie': 3808, 'omavotze': 3809, 'peruanas': 3810, 'klimaforscher': 3811, 'ottmar': 3812, 'edenhofer': 3813, 'pik': 3814, 'emissionen': 3815, 'konkurrent': 3816, 'kaeme': 3817, 'pavle': 3818, 'toastermatthi': 3819, 'wineslvt': 3820, 'zaubermaus57': 3821, 'warnt': 3822, 'gemaessigten': 3823, 'ofdarkhumor': 3824, 'ostirboeck': 3825, 'einschraenken': 3826, 'realherrsammy': 3827, 'mk': 3828, 'hosting': 3829, '1x': 3830, 'rootserver': 3831, 'kerne': 3832, 'ram': 3833, 'hdd': 3834, 'festplatten': 3835, 'speicher': 3836, 'laufzeit': 3837, 'marleneschfer1': 3838, 'sorgen': 3839, 'ordnung': 3840, 'vegane': 3841, 'humor': 3842, 'satan': 3843, 'dominakristin': 3844, 'zofe': 3845, 'nylonkittel': 3846, 'schlaegen': 3847, 'bewirkt': 3848, 'erstaunliche': 3849, 'brav': 3850, 'l800mph': 3851, 'flagged': 3852, 'kushner': 3853, 'money': 3854, 'laundering': 3855, 'bstarkimarm': 3856, 'putzig': 3857, 'bundesfrauenrat': 3858, 'froschdomse': 3859, 'liegen': 3860, 'sprach': 3861, 'bundeswehrinfo': 3862, 'kristin': 3863, 'brinker': 3864, 'altar': 3865, 'kurzfristiger': 3866, 'waehlerstimmen': 3867, 'geopfe': 3868, 'starkeschulden': 3869, 'orenishikiddo': 3870, 'profraika': 3871, 'sage': 3872, 'irren': 3873, 'nege': 3874, 'ninal1999': 3875, 'beklatscht': 3876, 'alumni': 3877, 'association': 3878, 'bedankte': 3879, 'umjubelten': 3880, 'nu': 3881, 'hagen': 3882, 'rether': 3883, 'unterzahl': 3884, 'mbu1959': 3885, 'hassprediger': 3886, 'spitze': 3887, 'fussvolk': 3888, 'stimmvieh': 3889, 'verhetzen': 3890, 'maulwerker1': 3891, 'netreaper': 3892, 'miatamuc': 3893, 'gaaarrrrnix': 3894, 'iparaadox': 3895, 'innenminister': 3896, 'matteo': 3897, 'stoeraktion': 3898, 'wahlkampf': 3899, 'faxen': 3900, 'demonstra': 3901, 'tuncayoezdamar': 3902, 'regulierung': 3903, 'meinungsaeusserungen': 3904, 'irgendwoher': 3905, '333goltz': 3906, 'auffaellig': 3907, 'gruppen': 3908, 'raf': 3909, 'morde': 3910, 'brandstiftungen': 3911, 'haraldlaatsch': 3912, 'verspricht': 3913, 'freudiger': 3914, 'verursacht': 3915, 'dutzende': 3916, '100e': 3917, 'lpsebo': 3918, 'haahahaha': 3919, 'cueueueueues': 3920, 'dokkan': 3921, 'phy': 3922, 'sv': 3923, 'maternus': 3924, 'werfe': 3925, 'claque': 3926, 'fanatische': 3927, 'unverschaemte': 3928, 'mig': 3929, 'zuruecktritt': 3930, 'islamisches': 3931, 'auswande': 3932, 'freigang': 3933, 'eventyrj': 3934, 'einladung': 3935, 'alten': 3936, 'fdj': 3937, 'fuchtel': 3938, 'schaedlichsten': 3939, 'radtour': 3940, 'eisbecher': 3941, 'mitesser': 3942, 'ihelzer': 3943, 'mehlprinzessin': 3944, 'thema': 3945, 'sexualisie': 3946, 'tinder': 3947, 'useful': 3948, 'frag': 3949, 'plaene': 3950, 'taugen': 3951, 'zuerst': 3952, 'patriarchat': 3953, 'rollenbilder': 3954, 'ebenfalls': 3955, 'monitorex': 3956, 'maximariegoldt': 3957, 'kollektiv': 3958, 'herbeiredete': 3959, 'bewege': 3960, 'bigfoot': 3961, 'amkrpinfo': 3962, 'fav': 3963, 'retweete': 3964, 'laufgruppen': 3965, 'entgegen': 3966, 'christianhelms': 3967, 'aufgabe': 3968, 'erledigt': 3969, 'bub': 3970, 'reingeraten': 3971, 'bigdaddytom143': 3972, 'vor8vie': 3973, 'jaa': 3974, 'personen': 3975, 'kdrama': 3976, 'person': 3977, 'mg': 3978, 'pikachumagbier': 3979, 'annalist': 3980, 'diente': 3981, 'verdeutlichung': 3982, 'sorgearbeit': 3983, 'mitgezaehlt': 3984, 'christophaviv': 3985, 'beyenburgerin': 3986, 'irenekellner': 3987, 'saefken': 3988, 'charlottemacht': 3989, 'heutejournal': 3990, 'vanessavu': 3991, 'seifenkistenrennen': 3992, 'absagen': 3993, 'kin': 3994, 'wissen': 3995, 'welterbe': 3996, 'selous': 3997, 'reservat': 3998, '1500': 3999, 'quadratkilometer': 4000, 'abgeholzt': 4001, 'mehrere': 4002, 'nationalparks': 4003, 'rei': 4004, 'joleffers': 4005, 'badehose': 4006, '112': 4007, 'eroeffnete': 4008, 'strandbad': 4009, 'wannsee': 4010, 'einestages': 4011, 'archiv': 4012, 'andreasandy3131': 4013, 'schwaecher': 4014, 'dastehen': 4015, 'leh': 4016, 'aufregung': 4017, 'konseq': 4018, 'vorgehen': 4019, 'barbara': 4020, 'schoeneurgghhh': 4021, 'fml': 4022, 'verblasste': 4023, 'merle': 4024, 'edgy': 4025, 'sahne': 4026, 'wtrappmann': 4027, 'journalist': 4028, 'venezuelanischen': 4029, 'knst': 4030, 'sass': 4031, 'omarhedeya': 4032, 'bo30': 4033, 'opfermythos': 4034, 'alliie': 4035, 'tantepiep': 4036, 'bring': 4037, 'hamburg': 4038, 'verpisst': 4039, 'lol': 4040, 'tabatabayi': 4041, 'capyossarian': 4042, 'verfassungschutz': 4043, 'inlandsgeheimdienst': 4044, 'waf': 4045, 'florian161': 4046, 'lifehack': 4047, 'reconquistainternet': 4048, 'gebtname': 4049, 'hinschmeisst': 4050, 'aufgibst': 4051, 'chrisvelten1': 4052, 'bereichernde': 4053, 'imponieren': 4054, 'leb': 4055, 'gelebt': 4056, 'nerdanziehung': 4057, 'df': 4058, 'parallel': 4059, 'letztwaehlern': 4060, 'letztgewaehlte': 4061, 'tommycassells': 4062, 'niger': 4063, 'instabilitaet': 4064, 'giesskannenprinzip': 4065, 'steuerg': 4066, 'locker': 4067, 'regel': 4068, 'abiklasse': 4069, 'pruegeln': 4070, 'huuuuuunte': 4071, 'pablaer': 4072, 'vollstrecker': 4073, 'juviatears': 4074, 'zahls': 4075, 'einf': 4076, 'dfakenews1': 4077, 'rauhnacht': 4078, 'stellst': 4079, 'ungesunde': 4080, 'miley': 4081, 'cyrus': 4082, 'prognosen': 4083, '78warschoen': 4084, 'fckoeln': 4085, 'horn': 4086, 'ausfaellt': 4087, 'missschmaguelze': 4088, 'who': 4089, 'annett': 4090, 'abballern': 4091, 'rhythm': 4092, 'rhymes': 4093, 'boot': 4094, 'splitternackt': 4095, 'streaming': 4096, 'gripskrams': 4097, 'leogfischer': 4098, 'meidoragon': 4099, 'verfliegt': 4100, 'echsenkrafthaus': 4101, 'opas': 4102, 'toechter': 4103, 'ehemaenner': 4104, 'chokemeat6am': 4105, 'gelogen': 4106, 'versenkung': 4107, 'verschwindet': 4108, 'volksfest': 4109, 'schlossgrabenhock': 4110, 'ehrenkirchen': 4111, 'kirchhofen': 4112, 'messerangriff': 4113, 'unzaehligen': 4114, 'diesbezueglich': 4115, 'franzosen': 4116, 'tschechen': 4117, 'entso': 4118, 'muestras': 4119, 'brste': 4120, 'zorras': 4121, 'maduras': 4122, 'kamuezue': 4123, 'naechste': 4124, 'erstw': 4125, 'liz': 4126, 'rathaus': 4127, 'srwle19': 4128, 'schnurri': 4129, 'rumhaenge': 4130, 'bundesdeutsche': 4131, 'geheimwaffe': 4132, 'allahkultus': 4133, 'niewiedercducsuspdgruenefdplinke': 4134, 'parkplaetze': 4135, 'uebelsten': 4136, 'herbeigefueh': 4137, 'staatsstreich': 4138, 'aussieguylive': 4139, 'josiejobee': 4140, 'sunnycanderson': 4141, 'femnationwatch': 4142, 'samanthaluvhe': 4143, 'wundereileen': 4144, 'mircow': 4145, 'nicihood': 4146, 'bleiberecht': 4147, 'hei': 4148, 'abschiebung': 4149, 'begreifen': 4150, 'glueckskekse1': 4151, 'alicanglobal': 4152, 'daenischer': 4153, 'abwehr': 4154, 'rasmus': 4155, 'marcfelixserrao': 4156, 'gluecklicherweise': 4157, 'libanon': 4158, 'jordanien': 4159, 'destabilisierung': 4160, 'fiomythoughts': 4161, 'glubscht': 4162, 'gei': 4163, 'afrika': 4164, 'weltweite': 4165, 'expansion': 4166, 'markushammer9': 4167, 'weis': 4168, 'bedeutet': 4169, 'zyklon': 4170, 'indien': 4171, 'huren': 4172, 'pube': 4173, 'ietende': 4174, 'julianabolika': 4175, 'zeh': 4176, 'gesplitte': 4177, 'sproede': 4178, 'blumi': 4179, 'patriots': 4180, 'menschaffe': 4181, 'sonnenklar': 4182, 'stur': 4183, 'wuerd': 4184, 'soleylifa': 4185, 'checker': 4186, 'mitmachkriterium': 4187, 'blablabla': 4188, 'aussenstehenden': 4189, 'betra': 4190, 'alterosa7': 4191, 'marcelsardo': 4192, 'propapanda666': 4193, 'endeffekt': 4194, 'uose': 4195, 'boom': 4196, 'dat': 4197, 'murksel': 4198, 'blassen': 4199, 'willi': 4200, 'thron': 4201, 'christianender': 4202, 'staatsangehoerigkeit': 4203, 'erworben': 4204, 'mus': 4205, 'mensworldzone': 4206, 'endet': 4207, 'block': 4208, 'psychbsc': 4209, 'fanvomscf': 4210, 'canstatt93': 4211, 'fcunion': 4212, 'absteigen': 4213, 'kohleausstieg': 4214, 'kohle': 4215, 'tweetet': 4216, 'wide': 4217, 'befreundet': 4218, 'fred': 4219, 'ahoi': 4220, 'gier': 4221, 'eichef': 4222, 'cornelia': 4223, 'cagol': 4224, 'welcome': 4225, 'euphorie': 4226, 'gaenzlich': 4227, 'belange': 4228, 'staatsbediensteten': 4229, 'gaby3101': 4230, 'behaupten': 4231, 'zugenommen': 4232, 'proviant': 4233, 'null': 4234, 'einziehen': 4235, 'traijan': 4236, 'misterlemonade': 4237, 'maudado': 4238, 'deutschlandvolt': 4239, 'immerh': 4240, 'struggeln': 4241, 'traue': 4242, 'jumpsuit': 4243, 'qwq': 4244, 'masken': 4245, 'gesaess': 4246, 'bauch': 4247, 'nsa': 4248, 'schlangen': 4249, 'sof': 4250, 'floooryy': 4251, 'xdeturns': 4252, 'myrahawo': 4253, 'kanack': 4254, 'mac': 4255, 'heiseonline': 4256, 'monate': 4257, 'kaufe': 4258, 'kolumbien': 4259, 'wahnsinnigen': 4260, 'landtag': 4261, 'gesetz': 4262, 'zugestimmt': 4263, 'ichbinschoener': 4264, 'pbreyer': 4265, 'szagunn': 4266, 'freigabe': 4267, 'justizsenator': 4268, 'bezirksbuergermeisterin': 4269, 'bagdadi': 4270, 'gehduschen69': 4271, 'boy': 4272, 'spitze19': 4273, 'namifay': 4274, 'nooirine': 4275, 'arschloche': 4276, 'offelfresser': 4277, 'thailand': 4278, 'cazuraa11': 4279, 'witz': 4280, 'no': 4281, 'hochprozentig': 4282, 'klamotten': 4283, 'laden': 4284, 'bedienen': 4285, 'blog': 4286, '2002': 4287, 'wende': 4288, 'vizekanzler': 4289, 'kimberlyhot4': 4290, 'double': 4291, 'penetration': 4292, 'gleichzeitig': 4293, 'bescheue': 4294, 'senat': 4295, 'zurueckkehrende': 4296, 'herbe': 4297, 'eingeladen': 4298, 'undankbares': 4299, 'inschulz': 4300, 'nah': 4301, 'nahestehen': 4302, 'vault': 4303, '999': 4304, 'namenskind': 4305, 'bettercallaxel': 4306, 'angegriffen': 4307, 'besserer': 4308, 'boi69': 4309, 'bearbeite': 4310, 'rekordergebnis': 4311, 'erzielen': 4312, 'wahlkampfplakaten': 4313, 'marieskyler13': 4314, 'kasperletheater': 4315, 'ztareid': 4316, 'multr4br41n': 4317, 'harit04': 4318, 'justin44243406': 4319, 'dermalteduerr': 4320, 'unterschiedmacher': 4321, 'teamquintus': 4322, 'verschwitzten': 4323, 'lendenschurz': 4324, 'dude': 4325, 'anzuzie': 4326, 'obijuankenobi6': 4327, 'reklamedame': 4328, 'hater': 4329, 'abstempeln': 4330, 'face': 4331, 'simyiscw': 4332, 'deepwaterblue': 4333, 'released': 4334, 'stabiles': 4335, 'downloaden': 4336, 'dieseroskar': 4337, 'unterdruecken': 4338, 'gezwungen': 4339, 'tja': 4340, 'unfaehig': 4341, 'indire': 4342, 'didinable': 4343, 'greeeengurl': 4344, 'ps': 4345, 'xbox': 4346, 'einlaeuten': 4347, 'freierfeie': 4348, 'itsaperoloclock': 4349, 'ourhood': 4350, 'lieblingsnachbar': 4351, 'geribarreti': 4352, 'rauchermuell': 4353, 'ordnungsgemaess': 4354, 'antiraucher': 4355, 'blackandwhitephotography': 4356, 'ungewohnt': 4357, 'old': 4358, 'grumpy': 4359, 'heidi': 4360, 'klum': 4361, 'peinlicher': 4362, 'gesamte': 4363, 'karpreturns': 4364, 'klingt': 4365, 'ulkig': 4366, 'legit': 4367, 'synchronsprecher': 4368, 'rucksaecke': 4369, 'pandas': 4370, 'lamas': 4371, 'abstehenden': 4372, 'beissender': 4373, 'hai': 4374, 'einzelfallinfos': 4375, 'verharmloser': 4376, 'religioesen': 4377, 'kopftuechern': 4378, 'ugugu': 4379, 'studie': 4380, 'unglaeubig': 4381, 'wahlresultate': 4382, 'ehemals': 4383, 'hochburgen': 4384, 'mittel': 4385, 'sueditalien': 4386, 'abgeraeumt': 4387, 'gliederschmerzen': 4388, 'vollhorst': 4389, 'erfunden': 4390, 'boxer': 4391, 'verde': 4392, 'chicodesnudo': 4393, 'bauer': 4394, 'vermummungsverbot': 4395, 'gilt': 4396, 'entlee': 4397, 'vogelbach': 4398, 'favorite': 4399, 'nachti': 4400, 'nani': 4401, 'ausch': 4402, 'segretaria': 4403, 'sklavin': 4404, 'disfosgen': 4405, 'umsetzung': 4406, 'marsch': 4407, 'totalitaeren': 4408, 'slake180': 4409, 'kafunow': 4410, 'zusammenbrechen': 4411, 'vorstellung': 4412, 'malaysia': 4413, 'muellhalde': 4414, 'tonnenweise': 4415, 'impo': 4416, 'ie': 4417, 'absender': 4418, 'abfa': 4419, 'danslesfiammes': 4420, 'erdnussbutter': 4421, 'kelbt': 4422, 'auristrahl': 4423, 'vestalentracht': 4424, 'einher': 4425, 'wirf': 4426, 'geflutet': 4427, 'ange': 4428, 'spielzeug': 4429, 'grobi': 4430, 'grobsen': 4431, 'chefs': 4432, 'lau': 4433, 'ergebnissen': 4434, 'absoluten': 4435, 'panikmodus': 4436, 'verbreiten': 4437, 'dummdreiste': 4438, 'po': 4439, 'kalorien': 4440, 'reinstopfen': 4441, 'ehliz': 4442, 'gersvk': 4443, 'eishockeywm': 4444, 'kifferbarbie': 4445, 'irgendein': 4446, 'maaaaamaaaaa': 4447, 'akebanbluepaw': 4448, 'verarsche': 4449, 'omapornos': 4450, 'krankenschwestern': 4451, 'redtobe': 4452, 'nutte': 4453, 'eiern': 4454, 'brudervom': 4455, 'fluechtling': 4456, 'wohnungen': 4457, 'campingplatz': 4458, 'ziemlichmuede': 4459, 'yess': 4460, 'fuehlt': 4461, 'powercell': 4462, 'sackt': 4463, 'positionieren': 4464, 'uhhhhhhh': 4465, 'vanishedleaf': 4466, 'kannst': 4467, 'teaser': 4468, 'richtet': 4469, 'flammenden': 4470, 'studenten': 4471, 'reisen': 4472, 'bekritteln': 4473, 'rudirocka': 4474, 'inazann': 4475, 'fehlen': 4476, 'oetzemir': 4477, 'oezekuz': 4478, 'barlay': 4479, 'chebli': 4480, 'fahimi': 4481, 'kuenast': 4482, 'schul': 4483, 'geisterradler': 4484, 'versorgungssicherheit': 4485, 'stromversorgung': 4486, 'buettel': 4487, 'systems': 4488, 'beamte': 4489, 'ueberbau': 4490, 'schuettel': 4491, 'normalisierungsarbeit': 4492, 'vereinfachen': 4493, 'spott': 4494, 'anwendet': 4495, 'tomgoerdy': 4496, 'bischte': 4497, 'grossmaeulig': 4498, 'angekuendigte': 4499, 'abstrafen': 4500, 'callmesmz': 4501, 'unterbelichtet': 4502, 'einfallen': 4503, 'einfachen': 4504, 'arb': 4505, 'mikotomunakata': 4506, 'chefkochroci': 4507, 'moviepilot': 4508, 'handsome': 4509, 'jack': 4510, 'collection': 4511, 'sale': 4512, 'steam': 4513, 'haet': 4514, 'blocken': 4515, 'vate': 4516, 'mali': 4517, 'hochburg': 4518, 'menschenschmuggler': 4519, 'ueberwacht': 4520, 'persoenlich': 4521, 'bevoelkerungsaustausch': 4522, 'susannchen01': 4523, 'komplementaerfarbe': 4524, 'erkrankung': 4525, 'placebo': 4526, 'schlucken': 4527, 'zeitmanagement': 4528, 'zerficke': 4529, 'huendin': 4530, 'koeter': 4531, 'momentsammlerin': 4532, 'ableismus': 4533, 'bundesamtfvs': 4534, 'veroeffentlicht': 4535, 'zahl': 4536, 'jetsetcata': 4537, 'chefket': 4538, 'saudi': 4539, 'arabien': 4540, 'schilder': 4541, 'pools': 4542, 'durchgestrichen': 4543, 'surprisedtodoku': 4544, 'veemo2k19': 4545, 'nite': 4546, 'optimized': 4547, 'tbh': 4548, 'pupnsfd': 4549, 'hmph': 4550, 'fine': 4551, 'netzentdecker': 4552, 'russiatoday': 4553, 'googleale': 4554, 'golem': 4555, 'flugtaxi': 4556, 'fuenfsitziger': 4557, 'lilium': 4558, 'jet': 4559, 'hebt': 4560, 'erstmals': 4561, 'elektroflieger': 4562, 'avalanchegerman': 4563, 'zecken': 4564, 'mennschenverachtend': 4565, 'beschweren': 4566, 'cdus': 4567, 'klimapolitik': 4568, 'iggerichte': 4569, 'zutaten': 4570, 'anfnger': 4571, 'home': 4572, 'mpg': 4573, 'ansonsten': 4574, 'tweety': 4575, 'dong': 4576, 'frohmann': 4577, 'hafentaenzerin': 4578, 'eimer': 4579, 'zeitung': 4580, 'janamll15178714': 4581, 'stalingrad': 4582, 'nowplaying': 4583, 'robin': 4584, 'speechless': 4585, 'erika': 4586, 'sirola': 4587, 'clean': 4588, 'ios': 4589, 'android': 4590, 'gustafgabel': 4591, 'nvidiageforcede': 4592, 'geiles': 4593, 'feiern': 4594, 'letztens': 4595, 'traditionell': 4596, 'verdacht': 4597, 'ruestungsindustrie': 4598, 'weils': 4599, 'lieblingsfarbe': 4600, 'gtzfrmming': 4601, 'witzig': 4602, 'untersagen': 4603, 'seinerzeit': 4604, 'pgdeutschland': 4605, 'drecksbayern': 4606, 'iven': 4607, 'axen': 4608, 'blitzschutz': 4609, 'gmbh': 4610, 'mitternacht': 4611, 'beschaeftigen': 4612, 'trans': 4613, 'here': 4614, 'are': 4615, 'asapfuro': 4616, 'fler': 4617, 'flowt': 4618, 'gaensehaut': 4619, 'christinabroth': 4620, 'graeben': 4621, 'organisiere': 4622, 'uebrigens': 4623, 'gesichtspunkten': 4624, 'purelove3103': 4625, 'sirkcaligo': 4626, 'holyprincessch1': 4627, 'bloecke': 4628, 'psychopathen': 4629, 'yagorljoozma': 4630, 'zeppelin': 4631, 'gegenstand': 4632, 'teilt': 4633, 'kauf': 4634, 'zeig': 4635, 'iiioritz': 4636, 'kamar2019': 4637, 'votestrache': 4638, 'seits': 4639, 'cafepress': 4640, 'commerce': 4641, 'verkaeufe': 4642, 'provisionen': 4643, 'pr': 4644, 'ziehe': 4645, 'cr7': 4646, 'dorabromberger': 4647, 'kaschieren': 4648, 'massiv': 4649, 'aufwiegeln': 4650, 'furkan': 4651, 'ak3010': 4652, 'kinderfickerreligion': 4653, 'nnamrreherdna': 4654, 'saechsischer': 4655, 'verharmlost': 4656, 'saechsische': 4657, 'journ': 4658, 'vonbuehlau': 4659, 'zecke': 4660, 'nieder': 4661, 'sicherheitsluecken': 4662, 'onlinebank': 4663, 'finanzaufsicht': 4664, 'bafin': 4665, 'ryulayy': 4666, 'gelaufen': 4667, 'liebling': 4668, 'pornofilme': 4669, 'superior': 4670, 'moglie': 4671, 'erontmaloku': 4672, 'loredana': 4673, 'sterbe': 4674, 'verleiht': 4675, 'weiblichkeit': 4676, 'dennsiewissennichtwaspassie': 4677, 'faschistisch': 4678, 'eppelheim': 4679, 'frisoer': 4680, 'bitangei': 4681, 'kerokerodevito': 4682, 'hochmut': 4683, 'beschaemend': 4684, 'insb': 4685, 'pabgee': 4686, '113': 4687, 'pofetisch': 4688, 'rubewaehrung': 4689, 'statistik': 4690, 'huepfen': 4691, 'nazinetzwerk': 4692, 'enttarnt': 4693, 'loswerden': 4694, 'clas': 4695, 'hannes': 4696, '98': 4697, 'warums': 4698, 'co2steu': 4699, 'claudiazettel': 4700, 'hofer': 4701, 'getauscht': 4702, 'weitermachen': 4703, 'zwunchen': 4704, 'sissil': 4705, '75': 4706, 'keineaggrosmehr': 4707, 'abwaegung': 4708, 'zb': 4709, 'impfpflicht': 4710, 'rivotrilmitstil': 4711, 'liga': 4712, 'del': 4713, 'aeh': 4714, 'elon': 4715, 'musks': 4716, 'vergesst': 4717, 'gesellschaften': 4718, 'mehrheit': 4719, 'seht': 4720, 'welc': 4721, 'bekaeme': 4722, 'pleonasmus': 4723, 'dopetobetattoo': 4724, 'offenen': 4725, 'sozialstaat': 4726, 'migraten': 4727, 'finanzieren': 4728, 'renten': 4729, 'sexvideo': 4730, 'bel': 4731, 'kompetenzwolf': 4732, 'brxkentears': 4733, 'scribatz': 4734, 'kevinbtw': 4735, 'simbabwe': 4736, 'porsches': 4737, 'unterhalte': 4738, 'freundinnen': 4739, 'oeffentlichkeit': 4740, 'kerle': 4741, 'hoerwe': 4742, 'reiben': 4743, 'asylunterkuenften': 4744, 'dummm': 4745, 'ausbuergern': 4746, 'bauen': 4747, 'funko': 4748, 'gundam': 4749, 'gf': 4750, 'kahrs': 4751, 'mazze791': 4752, 'neo': 4753, 'justskda': 4754, 'literally': 4755, 'getraenk': 4756, 'cola': 4757, 'bruderych': 4758, 'eliteuni': 4759, 'duepie': 4760, 'trum': 4761, 'koelnerpeter': 4762, 'ueberrollt': 4763, 'talkrunden': 4764, 'darueb': 4765, 'einheit': 4766, 'wahres': 4767, 'fuerchte': 4768, 'bereichen': 4769, 'schm': 4770, 'exotriox52415': 4771, 'raidr': 4772, 'fn': 4773, 'kek': 4774, 'skaltenbrunner': 4775, 'einziga': 4776, 'oest': 4777, 'angelobung': 4778, 'veranstalten': 4779, 'gelocke': 4780, 'poperze': 4781, 'juwelchen': 4782, 'schatzkaestleins': 4783, 'gehuldigt': 4784, 'platonstochter': 4785, 'wue': 4786, 'temberg': 4787, 'landeschef': 4788, 'trendet': 4789, 'jacobyjost': 4790, 'sinkenden': 4791, 'dampfer': 4792, 'werdenden': 4793, 'gewechs': 4794, 'manager': 4795, 'gruender': 4796, 'keilt': 4797, 'lustig': 4798, 'ignoranz': 4799, 'ggue': 4800, 'seitens': 4801, 'telefonie': 4802, 'neuem': 4803, 'ukrainischen': 4804, 'igitt': 4805, 'ekliges': 4806, 'monats': 4807, 'scheine': 4808, 'umlauf': 4809, 'lachknaller': 4810, 'politikerin': 4811, 'goebbels': 4812, 'ziat': 4813, 'tabui': 4814, 'hhavink62': 4815, 'memetohneh': 4816, 'heulst': 4817, 'ramadans': 4818, 'belei': 4819, 'aender': 4820, 'destination': 4821, 'citizen': 4822, 'kane': 4823, 'bereich': 4824, 'toten': 4825, 'verschleisst': 4826, 'alexlntc': 4827, 'toilette': 4828, 'howie': 4829, 'official': 4830, 'ersma': 4831, 'heavenlyuri': 4832, 'schneeridara': 4833, 'soass': 4834, 'verdorben': 4835, 'spaesse': 4836, 'amri': 4837, 'fatalen': 4838, 'myers': 4839, 'mcote': 4840, 'paulieesther1': 4841, 'deadbybhvr': 4842, 'lmclean': 4843, 'patricia': 4844, 'queen': 4845, 'lukifuttrader': 4846, 'fynnfut': 4847, 'taktische': 4848, 'meisterleistung': 4849, 'disasterclass': 4850, 'barca': 4851, 'ba': 4852, 'bodenfahrzeug': 4853, 'beschaedigt': 4854, 'regierungsmaschine': 4855, 'toni62574625': 4856, 'erfolgslose': 4857, 'kloeckner': 4858, 'turgayardahanli': 4859, 'albundy': 4860, 'babys': 4861, 'hinrichten': 4862, 'vergewaltigen': 4863, 'famous': 4864, 'blubb': 4865, 'unpassend': 4866, 'we3lash': 4867, 'heulend': 4868, 'rausgerannt': 4869, 'byebye': 4870, 'filmte': 4871, 'aufdeckte': 4872, 'moscheen': 4873, 'gehetzt': 4874, 'kysoltix': 4875, '200iq': 4876, 'darkskin': 4877, 'men': 4878, 'verpiss': 4879, 'jazellah': 4880, 'koerper': 4881, 'incel': 4882, 'apatzwahl': 4883, 'wahrheiten': 4884, 'fpoeblockwa': 4885, 'leokohlbauer': 4886, 'leo': 4887, 'sweetdiamond': 4888, 'gigi': 4889, 'deppe': 4890, 'ausgestiegen': 4891, 'verpasst': 4892, 'eygulli': 4893, 'hydraor': 4894, 'leonard07226586': 4895, 'haesslicher': 4896, 'hahahahah': 4897, 'hanseat1966': 4898, 'verbracht': 4899, 'vernachlaessig': 4900, 'singleboerse': 4901, 'pat': 4902, 'hoechst': 4903, 'croix': 4904, 'nord': 4905, 'glueckes': 4906, 'schmied': 4907, 'hammer': 4908, 'gywermelanie': 4909, 'parkbank': 4910, 'verliebt': 4911, 'tiny60s': 4912, 'hanyuuvent': 4913, 'orange': 4914, 'schnieke': 4915, 'orf': 4916, 'schuettelt': 4917, 'berueh': 4918, 'densotm': 4919, 'maybach': 4920, 'ron': 4921, 'dduric': 4922, 'nuecht': 4923, 'divinity': 4924, 'ego': 4925, 'draconis': 4926, 'duemmsten': 4927, 'amatre': 4928, 'suche': 4929, 'erotikmassage': 4930, 'emo': 4931, 'nenas': 4932, 'pissende': 4933, 'einkauf': 4934, 'russiagoto': 4935, 'beeinflussen': 4936, 'edward': 4937, 'ussi': 4938, 'ausgrenzung': 4939, 'verir': 4940, 'zugehoerigkeit': 4941, 'vers': 4942, 'geschlechtergetrennte': 4943, 'lenasnape2': 4944, 'abfuckt': 4945, 'noice': 4946, 'gaumen': 4947, 'douglas': 4948, 'stinkt': 4949, 'huhuhuee': 4950, 'unveil': 4951, 'mara': 4952, 'donner10': 4953, 'angeliciuv': 4954, 'luegt': 4955, '85': 4956, 'rueberkommt': 4957, 'derfuetsch': 4958, 'lotion': 4959, 'creme': 4960, 'sollst': 4961, 'hufeisen': 4962, 'rekordspende': 4963, 'erklaerungsnot': 4964, 'suedwestmetall': 4965, 'klimasekte': 4966, 'erwachsene': 4967, 'kleinkinder': 4968, 'auffuehren': 4969, 'grasimar': 4970, 'schafdas': 4971, 'msp': 4972, 'pictures': 4973, 'wengier': 4974, 'unglueck': 4975, 'jarvis1187': 4976, 'angeboren': 4977, 'religi': 4978, 'heinzsc51846951': 4979, 'croqisunshine': 4980, 'vasall': 4981, 'haldenwang': 4982, 'verstaerkten': 4983, 'rechtsextremi': 4984, 'antisemitismus': 4985, 'jude': 4986, 'kimmich': 4987, 'wrld': 4988, 'wolltest': 4989, 'merke': 4990, 'milchmitzucker': 4991, 'c3llofrau': 4992, 'heilt': 4993, 'schiebt': 4994, 'cam': 4995, 'elektrogeraete': 4996, 'talksh': 4997, 'analyse': 4998, 'infineon': 4999, 'technologies': 5000, 'kursrutsch': 5001, 'aufwae': 5002, 'strend': 5003, 'monte': 5004, 'beleidige': 5005, 'zulassen': 5006, 'rechtspopulismus': 5007, 'staerker': 5008, 'lehrerin': 5009, 'xnxxx': 5010, 'tuesmavieg': 5011, 'body': 5012, 'end': 5013, 'zyendra1': 5014, 'khinnek': 5015, 'edelnickel': 5016, 'kinderlose': 5017, 'haett': 5018, 'absage': 5019, 'eismelone': 5020, 'jaehriges': 5021, 'veeenox': 5022, 'scumpofoptic88': 5023, 'unfruchtbares': 5024, 'streitgespraech': 5025, 'sektenstil': 5026, 'enmachuk': 5027, 'gittern': 5028, 'dauern': 5029, 'garooozis': 5030, 'goataiga': 5031, 'bbbbuddha': 5032, 'rrxsky': 5033, 'reselation': 5034, 'aufreizen': 5035, '0siegfried': 5036, 'hofieren': 5037, 'maulkoerbe': 5038, 'verordnen': 5039, 'lyrics': 5040, 'ick': 5041, 'versteh': 5042, 'geraeuschen': 5043, 'schaedlingen': 5044, 'hendricus56': 5045, 'bear': 5046, 'greeter': 5047, 'drguidoknapp': 5048, 'mindestlohn': 5049, 'buecken': 5050, 'helalbeauty': 5051, 'hochamt': 5052, 'erbauung': 5053, 'hirnlosen': 5054, 'potential': 5055, 'anziehen': 5056, 'afdimbundestag': 5057, 'turkogermane': 5058, 'detlefstoldt': 5059, 'genderklo': 5060, 'lesbischen': 5061, 'angelamerkel': 5062, 'harvarduniversity': 5063, 'finedilettante': 5064, 'tinido': 5065, 'juedischeonline': 5066, 'schatti030': 5067, 'kreditinstitut': 5068, 'deutschebank': 5069, 'globale': 5070, 'finanzkrise': 5071, 'sinofspeed': 5072, 'neulich': 5073, 'konrad': 5074, 'andenauer': 5075, 'fipsi': 5076, 'paule': 5077, 'champagnenihal': 5078, 'drogensachen': 5079, 'keske': 5080, 'yanimda': 5081, 'olsa': 5082, 'ederdim': 5083, 'journaliszt': 5084, 'verstehen': 5085, 'kreuzacht': 5086, 'bandidos': 5087, 'verschworenes': 5088, 'rechtsextremes': 5089, 'angetrunken': 5090, 'baut': 5091, 'umarmung': 5092, 'umarmt': 5093, 'erreiche': 5094, 'hausverwaltung': 5095, 'polit': 5096, 'junkie': 5097, 'saechsischen': 5098, 'justcumm': 5099, 'princess': 5100, 'tsnina': 5101, 'minipimmell': 5102, 'zeitfresser': 5103, 'nichtzahler': 5104, 'negativ': 5105, 'timewaster': 5106, 'matthiashauer': 5107, 'trete': 5108, 'carlderotter': 5109, 'aufgaben': 5110, 'englischunterricht': 5111, 'unueberlegt': 5112, 'vorallem': 5113, 'alexande': 5114, 'ill5': 5115, 'dragonball': 5116, 'dragonballz': 5117, 'philhackemann': 5118, 'schicksalswahl': 5119, 'dribbling': 5120, 'flankt': 5121, 'mueller': 5122, 'hintere': 5123, 'mittelfeld': 5124, 'ding': 5125, 'zielsicher': 5126, 'bumsen': 5127, 'lecke': 5128, 'geschwaetz': 5129, 'derzeroy': 5130, 'stadtbekannt': 5131, 'laeriaa': 5132, 'rr': 5133, 'umstaende': 5134, 'winkel': 5135, 'awuuu': 5136, 'silberner': 5137, 'everyone': 5138, 'ruft': 5139, 'realbrandiblack': 5140, 'huebscher': 5141, 'kompetenzsimba': 5142, 'unwissende': 5143, 'faule': 5144, 'pute': 5145, 'chrisepunkt': 5146, 'not1proud': 5147, 'peperarno': 5148, 'derdems': 5149, 'auszeiten': 5150, 'raeglicher': 5151, 'mobi': 5152, 'feslegen': 5153, 'frht2208': 5154, 'hoechsten': 5155, 'christlichen': 5156, 'karfreitsg': 5157, 'turbomyu': 5158, 'schweinekopf': 5159, 'parkplatz': 5160, 'reiche': 5161, 'massage': 5162, 'braeden': 5163, 'lemasters': 5164, 'braedenlemaster': 5165, 'nato': 5166, 'uno': 5167, 'winnetou': 5168, 'pjakobs': 5169, 'gen': 5170, 'isolieren': 5171, 'newscompact': 5172, 'thrvaim': 5173, 'obacht': 5174, 'fallen': 5175, 'antoniosv97': 5176, 'luisamneubauer': 5177, 'schulze': 5178, 'maximaler': 5179, 'ansagen': 5180, 'unerfuellte': 5181, 'zus': 5182, 'ugmads': 5183, 'lueftet': 5184, 'pikantes': 5185, 'geheimnis': 5186, 'katastrophe': 5187, 'polizistin': 5188, 'orgie': 5189, 'arschfick': 5190, 'tumblr': 5191, 'hausfrau': 5192, 'rapidshare': 5193, 'fachgerecht': 5194, 'verdreherei': 5195, 'dsm': 5196, 'nordkirche': 5197, 'container': 5198, 'kanada': 5199, 'jennywild996': 5200, 'setzen': 5201, 'nude': 5202, 'wild': 5203, 'findom': 5204, 'boobs': 5205, 'foerstercarlo': 5206, 'weglaufen': 5207, 'maori': 5208, 'geldbetrag': 5209, 'abgehoben': 5210, 'erzhngswndrlnd': 5211, 'antonkrell': 5212, 'zddk': 5213, 'abschiedsbesuch': 5214, 'obama': 5215, 'fro': 5216, 'endbossfight': 5217, 'heronooneneeds': 5218, 'mexify': 5219, 'mcky': 5220, 'mikamurstein': 5221, 'saulus': 5222, 'paulus': 5223, 'so1': 5224, 'aware': 5225, 'undso': 5226, 'stimmung': 5227, 'komischerweise': 5228, 'trzd': 5229, 'emmaohnenamen': 5230, 'wenden': 5231, 'waffenhandel': 5232, 'lobbyistin': 5233, 'steuerza': 5234, 'endgame': 5235, 'spoile': 5236, 'dontspoiltheendgame': 5237, 'werner': 5238, 'baumann': 5239, 'schaft': 5240, 'grotesk': 5241, 'abstuerzender': 5242, 'irene97652350': 5243, 'predigen': 5244, 'champagner': 5245, 'saufen': 5246, 'bangros': 5247, 'prag': 5248, 'publik': 5249, 'phenome71810818': 5250, 'quietschenden': 5251, 'iq': 5252, 'stimulator': 5253, 'perfekte': 5254, 'kandidat': 5255, 'bundestagsvizepraesident': 5256, 'cr': 5257, 'wirkst': 5258, 'serioeser': 5259, 'fairdest': 5260, 'cloafleev1606': 5261, 'blizzardcseu': 5262, 'warcraft': 5263, 'anfangen': 5264, 'fehl': 5265, 'taylorlissi': 5266, 'durchschnittliche': 5267, 'umgaenglicher': 5268, 'beute': 5269, 'jungerecato': 5270, 'tol': 5271, 'eranten': 5272, 'hyperintellektuellen': 5273, 'fangt': 5274, 'musikinstrumente': 5275, 'zerschlagen': 5276, 'gaes': 5277, 'andreas69291642': 5278, 'hofstoetter': 5279, 'eddiedonovan': 5280, 'yazidis': 5281, 'konve': 5282, 'ieren': 5283, 'lebendig': 5284, 'kaefigen': 5285, 'verbrannt': 5286, '3000': 5287, 'vielweib': 5288, 'guckst': 5289, 'jawl': 5290, 'miriam': 5291, 'vollmer': 5292, '8xteilzeit': 5293, 'daudi': 5294, 'littlebinf': 5295, 'meist': 5296, 'grundschulalter': 5297, 'andrea': 5298, 'angeblich': 5299, 'fraktionsvorsitz': 5300, 'streitig': 5301, 'briten': 5302, 'schritt': 5303, 'einheimischen': 5304, 'todes': 5305, 'kuehnikev': 5306, 'euwahlen': 5307, 'tektonische': 5308, 'verschiebungen': 5309, 'ausgeloest': 5310, 'sieger': 5311, 'jungwaehl': 5312, 'unentschlossen': 5313, 'dauerapplaus': 5314, 'klimahuepfen': 5315, 'eingebuesst': 5316, 'netteliebe': 5317, 'revo13834527': 5318, 'andauernd': 5319, 'wahlzettel': 5320, 'bauergeorg6': 5321, 'weisshelme': 5322, 'zetteln': 5323, 'akira': 5324, '86': 5325, '74wonnie': 5326, 'wehe': 5327, 'belastbarkeit': 5328, 'son': 5329, 'gitarre159': 5330, 'luna1234luna1': 5331, 'haetten': 5332, 'weder': 5333, 'erwaehnen': 5334, 'bruellbruell': 5335, 'mikromobilitaet': 5336, 'scooter': 5337, 'tel': 5338, 'avi': 5339, 'staedte': 5340, 'zukommt': 5341, 'atzenantifa': 5342, 'brillen': 5343, 'kellerfreak': 5344, 'mrsmarrypoppins': 5345, 'herrpantau': 5346, 'winzerin': 5347, 'flott': 5348, 'joanacotar': 5349, 'osteuropaeer': 5350, 'schulfreunde': 5351, 'fakefreunde': 5352, 'hoechste': 5353, 'rechtspopulisten': 5354, 'newromantiics': 5355, 'willsch': 5356, 'macha': 5357, 'hebbet': 5358, 'glaub': 5359, 'thegreathubini': 5360, 'iliiliiiili': 5361, 'haettet': 5362, 'dergleichen': 5363, 'padophilie': 5364, 'ivanrodionov': 5365, 'fleissiger': 5366, 'unbegabter': 5367, 'platzhalter': 5368, 'provisorisc': 5369, 'marcorouvoet': 5370, 'dha': 5371, 'softgels': 5372, 'jarrow': 5373, 'formulas': 5374, 'sachse02': 5375, 'misterlavender': 5376, 'gewissen': 5377, 'standards': 5378, 'rechtschreibung': 5379, 'grammatik': 5380, 'gorezilla360': 5381, 'graubaer1953': 5382, 'rechtsextremisten': 5383, 'gewaltorientie': 5384, 'innenministerium': 5385, 'alarm': 5386, 'ero692015': 5387, 'sailor': 5388, 'kamikatzerl': 5389, 'tentakelkaiser': 5390, 'hineinpruegeln': 5391, 'herausstreicheln': 5392, 'revo': 5393, 'hea': 5394, 'putscht': 5395, 'kuscht': 5396, 'autoplay': 5397, 'better': 5398, 'lovestory': 5399, 'then': 5400, 'twilight': 5401, 'hah': 5402, 'tschuues': 5403, 'meepmeep': 5404, 'knatterknabe': 5405, 'lillauch': 5406, 'kurzgefasst': 5407, 'heult': 5408, 'pfeil': 5409, 'kriege': 5410, 'meyer': 5411, 'laufstrecke': 5412, 'wagner': 5413, 'saubloed': 5414, 'mariafan812': 5415, 'wohlstandsverwahrlost': 5416, 'proletariat': 5417, 'sxmclk': 5418, 'markanter': 5419, 'hehe': 5420, 'mitbekommen': 5421, 'stromberg': 5422, 'billiger': 5423, 'abklatsch': 5424, 'office': 5425, 'pukhovka': 5426, 'alisffm': 5427, 'reinboth': 5428, 'neiodyn': 5429, 'zitatrecht': 5430, 'blackismyfavc': 5431, 'klapper': 5432, 'schrottplaetze': 5433, 'guenstiger': 5434, 'buchladen': 5435, 'raeucherstaebchen': 5436, 'animeep': 5437, 'shinobi': 5438, 'trainingsjacke': 5439, 'hintern': 5440, 'poppen': 5441, 'schlanke': 5442, 'walnusskipferl': 5443, 'sliden': 5444, 'cousine': 5445, 'dms': 5446, 'realdonaldtrump': 5447, 'amerikanischen': 5448, 'kriegstreiber': 5449, 'uebersaet': 5450, 'beiss': 5451, 'hal': 5452, 'wawnord': 5453, 'che': 5454, 'notte': 5455, 'called': 5456, 'kritische': 5457, 'kdf': 5458, 'st4zbl0od': 5459, 'solmecke': 5460, 'oupsi': 5461, 'ferraeterin': 5462, 'feige': 5463, 'ichnicht': 5464, 'wesen': 5465, 'genesen': 5466, 'weltrettungswahn': 5467, 'diesmal': 5468, 'lijusolid': 5469, 'meinten': 5470, 'aufschwingen': 5471, 'heuteplus': 5472, 'luegenmedienverdrossen': 5473, 'bestehen': 5474, 'fickst': 5475, 'eunionb': 5476, 'befremdlich': 5477, 'nationalen': 5478, 'sundayforfuture': 5479, 'dauerjubelmodus': 5480, 'europawah': 5481, 'mariaq549': 5482, 'gabrielzamora': 5483, 'stop': 5484, 'magnus01182053': 5485, 'ausgerechnet': 5486, 'volksverraeter': 5487, 'koeterklasse': 5488, 'helmut': 5489, 'schmitt': 5490, 'kinderzaenker1': 5491, 'energie': 5492, 'aemtern': 5493, 'immerhin': 5494, 'khmer': 5495, 'klimaleugner': 5496, 'klimafaschisten': 5497, 'okay': 5498, 'kurzes': 5499, 'gomd': 5500, 'tresoren': 5501, '3x': 5502, 'wm35': 5503, 'rey': 5504, 'gable': 5505, 'sheamus': 5506, 'tbg': 5507, 'ciampa': 5508, 'eyo': 5509, 'sebastianhe': 5510, 'geraltwitcher67': 5511, '303': 5512, 'schraege': 5513, 'geschichtsansicht': 5514, 'dwerkopp': 5515, 'autonome': 5516, 'linksbuendig': 5517, 'seenotrettung': 5518, 'erstermai': 5519, 'strassenbahn': 5520, 'janni2872': 5521, 'sinnbildlichen': 5522, 'nachher': 5523, 'beherzten': 5524, 'selbigen': 5525, 'pantherrhei': 5526, 'dolores': 5527, 'umbridge': 5528, 'ciabatta': 5529, 'juriamtresen': 5530, 'toxicsugga': 5531, 'jeansarsch': 5532, 'drueckt': 5533, 'brei': 5534, 'kontaktiere': 5535, 'abmelken': 5536, 'murmelmum': 5537, 'panemetc62': 5538, 'zdfneo': 5539, 'dokus': 5540, 'aufgestellt': 5541, 'grano': 5542, 'duro': 5543, 'pro7': 5544, 'privatsender': 5545, 'xzoddelx': 5546, 'timoreset': 5547, 'benktallmadge': 5548, 'hbrandstaetter': 5549, 'kurierat': 5550, 'babypause': 5551, 'bmeinl': 5552, 'emrich': 5553, '5933': 5554, 'rundfunkbeitrag': 5555, 'eispende': 5556, 'steuerlich': 5557, 'absetzen': 5558, '1207': 5559, 'lehmanowsky': 5560, 'wahlplakaten': 5561, 'vollendet': 5562, 'reif': 5563, 'ustralien': 5564, 'yungdsgnr': 5565, 'argumente': 5566, 'entgegenbringen': 5567, 'weisser': 5568, 'deen321xyz': 5569, 'freak': 5570, 'hope12086051': 5571, 'freches': 5572, 'weib2': 5573, 'geblockt': 5574, 'bad': 5575, 'volksmenge': 5576, 'wagt': 5577, 'oeffentliche': 5578, 'auftrit': 5579, 'gegenkampf': 5580, 'flengulu67': 5581, 'hakenkreuz': 5582, 'schmierereien': 5583, 'svenjaschulze68': 5584, 'garugaathereal': 5585, 'kittyvanwhiskas': 5586, 'victim': 5587, 'harzblume': 5588, 'werd': 5589, 'karma': 5590, 'evt': 5591, 'wiederrum': 5592, 'alwayssomewher4': 5593, 'afgveteran03': 5594, 'wahnsinn': 5595, 'rasenspiesser': 5596, 'liberale': 5597, 'ueberrascht': 5598, 'ordentlich': 5599, 'hatinjuce': 5600, 'prote': 5601, 'luetzowq': 5602, 'louiecrit': 5603, 'umut': 5604, 'landhaustussy': 5605, 'akademikern': 5606, 'facharbeitern': 5607, 'fachkrae': 5608, 'fabian': 5609, 'gabalier': 5610, 'gespiel': 5611, 'fratello': 5612, '2013': 5613, 'entreisst': 5614, 'generalsekretaer': 5615, 'groehe': 5616, 'fahne': 5617, 'hoshisato': 5618, 'halswirbel': 5619, 'auuuaaa': 5620, 'unreine': 5621, 'nervenwasser': 5622, 'dasdrittebein': 5623, 'heyhoheyyy': 5624, 'diktie': 5625, 'naemlic': 5626, 'verena': 5627, 'bahlsen': 5628, 'docboone71': 5629, 'umsetzbar': 5630, 'franksteinbach7': 5631, 'pest': 5632, 'lmaoskar': 5633, 'scralex1899': 5634, 'aids': 5635, 'gehasst': 5636, 'hintergehen': 5637, 'schliche': 5638, 'echtjetzt5': 5639, 'eiffelturm': 5640, 'shlomosapiens': 5641, 'echte': 5642, 'abarbeiten': 5643, 'tipp': 5644, 'beacon4711': 5645, 'zuzusehen': 5646, 'zaehne': 5647, 'unspo': 5648, 'liche': 5649, 'plug': 5650, 'anschliessend': 5651, 'noc': 5652, 'roger896': 5653, 'scheisze': 5654, 'tapeten': 5655, 'besali': 5656, 'naddl0r': 5657, 'endhaltestelle': 5658, 'versuchsweise': 5659, 'wahre': 5660, 'mdemanto': 5661, 'yuna': 5662, 'swimswamnews': 5663, 'jahrgangsmeisterschaften': 5664, 'tobehn': 5665, 'bestzeit': 5666, 'vbqn1': 5667, '1325leon': 5668, 'elvtejan': 5669, 'rqndomabc': 5670, 'skalter': 5671, 'skal': 5672, 'mic': 5673, 'nprncbl': 5674, 'beibootpetri03': 5675, 'eieiei': 5676, 'wiederhole': 5677, 'ungerne': 5678, 'mikemacapple': 5679, 'polizisten': 5680, 'polizeiwache': 5681, 'seelenverbrannt': 5682, 'salty': 5683, 'elli': 5684, 'abgefuckt': 5685, 'h3rzanh3rz': 5686, 'mystisch': 5687, 'besondere': 5688, 'klimafluechtlinge': 5689, 'begriffsklaerung': 5690, 'mallorca': 5691, 'frauenkrper': 5692, 'bae': 5693, 'mathegenies': 5694, 'gtr': 5695, 'anzug': 5696, '160': 5697, 'yoooo': 5698, 'unechtemax': 5699, 'mustixiii': 5700, '04': 5701, 'transe': 5702, 'penisbilder': 5703, '3some': 5704, 'thedouble6': 5705, 'msucrier': 5706, 'thenewlife31': 5707, 'schnurpsen': 5708, 'popcorns': 5709, 'alman': 5710, 'kruzifix': 5711, 'amtsstube': 5712, 'kultursymbol': 5713, 'politischer': 5714, 'sabine': 5715, 'danielkapp': 5716, 'arg': 5717, 'beunruhigend': 5718, 'armseliges': 5719, 'liebendes': 5720, '1938': 5721, 'gew': 5722, 'symbol': 5723, 'synonym': 5724, 'sgewandte': 5725, 'geworde': 5726, 'rattenlinie': 5727, 'flohen': 5728, 'suedamerika': 5729, 'argentinien': 5730, 'juan': 5731, 'albe': 5732, 'fam': 5733, 'wavvyboi': 5734, 'houelle': 5735, 'zeichen': 5736, 'nichtnilo': 5737, 'meld': 5738, 'fragte': 5739, 'mdr': 5740, 'san': 5741, 'ted': 5742, 'telefonumfrage': 5743, 'riefen': 5744, 'zuschau': 5745, 'denniskoch87': 5746, 'jezus': 5747, 'auferstanden': 5748, 'bl0ckversace': 5749, 'nike': 5750, 'serixuz': 5751, 'aso': 5752, 'aufgestanden': 5753, 'gonzos': 5754, 'sympathisieren': 5755, 'holzen': 5756, 'uralte': 5757, 'waelder': 5758, 'baeume': 5759, 'euberu': 5760, 'acuba': 5761, 'genehmige': 5762, 'abends': 5763, 'fuenfe': 5764, 'eichiblubbbel': 5765, 'afpde': 5766, 'greenpeace': 5767, 'ladybitchray1': 5768, 'betruegt': 5769, 'besoffen': 5770, 'najlepse': 5771, 'hotttt': 5772, 'justitz': 5773, 'eraser': 5774, 'org': 5775, 'luegenpack': 5776, 'verscheissern': 5777, 'realbuschkamel': 5778, 'intelligender': 5779, 'positiv': 5780, 'besetzten': 5781, 'themen': 5782, 'kindererzieh': 5783, 'funkhauszorra': 5784, 'politikstandard': 5785, 'einwanderungs': 5786, 'integrationsland': 5787, 'verbindet': 5788, 'fu': 5789, 'you': 5790, 'androidcentral': 5791, 'mate9': 5792, 'mate20x': 5793, 'geworden': 5794, 'seitdem': 5795, 'scuderi': 5796, 'espol': 5797, 'khentay': 5798, 'rusalochka': 5799, 'kaeffchen': 5800, 'reparieren': 5801, 'treff': 5802, 'schwarzeloewe': 5803, 'christoph': 5804, 'schwoer': 5805, 'allerbeste': 5806, 'friss': 5807, 'crunchy': 5808, 'nuts': 5809, 'sasiiii000': 5810, 'ahhh': 5811, 'xpandorya': 5812, 'fana': 5813, 'eosandy': 5814, 'iunahri': 5815, 'blabla': 5816, 'unterschiedlich': 5817, 'drop': 5818, 'temperatur': 5819, 'celsius': 5820, 'starlucycat': 5821, 'got': 5822, 'penis': 5823, 'halb': 5824, 'doppelte': 5825, 'heidiklum': 5826, 'vogelsabine': 5827, 'weidel': 5828, 'steinzeit': 5829, 'antwerpairpo': 5830, 'grove': 5831, 'schendng': 5832, 'skeyes': 5833, 'belgocontrol': 5834, 'rgls': 5835, '3257ft': 5836, 'snake': 5837, 'kaa': 5838, 'ploetzlich': 5839, 'russischer': 5840, 'kriegsgefange': 5841, 'indoktrinierung': 5842, 'unis': 5843, 'dauerwerbung': 5844, 'krstdt': 5845, 'schueler': 5846, 'uniformierung': 5847, 'gewe': 5848, 'maxheld': 5849, 'civey': 5850, 'umm': 5851, 'korrektes': 5852, 'bayesianisches': 5853, 'updating': 5854, 'dreccksack': 5855, 'stehst': 5856, 'kolben': 5857, 'herrlich': 5858, 'streamen': 5859, 'klopp': 5860, 'lfc': 5861, 'skt': 5862, 'johann': 5863, 'nodumballiance': 5864, 'flowerpowe': 5865, 'ric': 5866, 'kanzleramtsmann': 5867, 'andree': 5868, 'dominik': 5869, 'jfliegenschmidt': 5870, 'quazanga': 5871, 'schuessi': 5872, 'areimanios': 5873, 'mittwoch': 5874, 'briefwahl': 5875, 'linksfaschismus': 5876, 'marschie': 5877, 'brandgefaehrliche': 5878, 'stilisieren': 5879, 'dummdreist': 5880, 'gesinnung': 5881, 'baron': 5882, 'snoopy': 5883, 'verstehn': 5884, 'clevnestfn': 5885, 'beschaeftige': 5886, 'sinnvollem': 5887, 'borispalmer': 5888, 'intelligenteren': 5889, 'toxisch': 5890, 'wehgetan': 5891, 'bleibe': 5892, 'torstenbeeck': 5893, 'nationalhymne': 5894, 'bax': 5895, 'schulpflicht': 5896, 'heilig': 5897, 'saekulare': 5898, 'proletdo': 5899, '52': 5900, 'hoerder': 5901, 'neumarkt': 5902, 'do2505': 5903, 'nonazisdo': 5904, 'nonazis': 5905, 'huehner': 5906, 'hof': 5907, 'steuden': 5908, 'nudelkoenigin': 5909, 'sandra': 5910, 'nudelkoenigen': 5911, 'bo': 5912, 'moment': 5913, 'therocketbeans': 5914, 'waiputv': 5915, 'schwarzbild': 5916, '089': 5917, '32168': 5918, 'konservativen': 5919, 'cumkitten': 5920, 'faelle': 5921, 'p1nkl': 5922, 'f1': 5923, 'verstappen': 5924, 'sefi99': 5925, 'spasspa': 5926, 'satirepa': 5927, 'umzudenken': 5928, 'picturepunxx': 5929, 'strahl': 5930, 'orginal': 5931, 'baeder': 5932, 'ichalter': 5933, 'fuxking': 5934, 'xanax': 5935, 'ufxdl': 5936, 'politikstube': 5937, 'korny382': 5938, '19micha09': 5939, 'dachte': 5940, 'sacht': 5941, 'sammer': 5942, 'movie': 5943, 'deal': 5944, 'merida': 5945, 'highlands': 5946, 'itunes': 5947, 'tonspur': 5948, 'zeitgeschehen': 5949, 'press': 5950, 'play': 5951, 'milfs': 5952, 'nylons': 5953, 'ytalk': 5954, 'wichs': 5955, 'ulrabia': 5956, 'faekalgewitter': 5957, 'entsprechung': 5958, 'anglizismus': 5959, 'shitstorm': 5960, 'etablieren': 5961, 'ziel': 5962, 'thetickit': 5963, 'sonnensicht': 5964, 'inflationaer': 5965, 'gaehn': 5966, 'ide': 5967, 'stereotype': 5968, 'malen': 5969, 'know': 5970, 'rztin': 5971, 'orgien': 5972, 'kino': 5973, 'muschifotos': 5974, 'gedson': 5975, 'gelson': 5976, '59karli82': 5977, 'nicolabeerfdp': 5978, 'finanzminister': 5979, 'profitie': 5980, 'niedrigzinspolitik': 5981, 'chaoten': 5982, 'kuemmern': 5983, 'schlawiner8': 5984, 'meedia': 5985, 'nuetzlichen': 5986, 'eidiger': 5987, 'indianern': 5988, 'luchste': 5989, 'glasperlen': 5990, 'feuerwasser': 5991, 'humanitaer': 5992, 'lukkkkkkas': 5993, 'sashimi': 5994, 'chipundcharge': 5995, 'spektakulaerer': 5996, 'tiebreak': 5997, 'thiem': 5998, 'matchball': 5999, 'chanyeolbucky': 6000, 'wokeupcry1ng': 6001, 'juukichiix': 6002, 'uebelst': 6003, 'allaboutnext': 6004, 'dtrnsfrmtn': 6005, 'tierschutz': 6006, 'mitgliedsantrag': 6007, 'brettwelten': 6008, 'grinseschaf': 6009, 'gras': 6010, 'achsooo': 6011, 'captblwillard': 6012, 'politikverdrossenheit': 6013, 'neukoellner': 6014, 'innen': 6015, 'wohngeld': 6016, 'berlinpass': 6017, 'vorweisung': 6018, 'g4rl1n': 6019, 'reicher': 6020, 'eusebio': 6021, 'statik': 6022, 'fettleibig': 6023, 'groesse': 6024, '36': 6025, 'auc': 6026, 'pyramoscgn1': 6027, 'faste': 6028, 'straw': 6029, 'berry': 6030, 'wichtigtuer': 6031, 'halbblutjurist': 6032, 'bashing': 6033, 'ehrenmannerich': 6034, 'kocht': 6035, 'chilli': 6036, 'ketchup': 6037, 'geldgierig': 6038, 'geringsten': 6039, 'tipps': 6040, 'immofux': 6041, 'hoteltagebuch': 6042, 'immorogers': 6043, 'makler1muenchen': 6044, 'ramathiasmuench': 6045, 'immovation': 6046, 'stadtvermieter': 6047, 'seriously': 6048, 'anxiety': 6049, 'kicken': 6050, 'high': 6051, 'farge': 6052, '41': 6053, '59': 6054, 'betriebliche': 6055, 'sey': 6056, 'prons': 6057, 'joujzz': 6058, 'nakte': 6059, 'vidios': 6060, 'faint': 6061, 'visions': 6062, 'live': 6063, 'erlebe': 6064, 'sitzplatzknigge': 6065, 'zug': 6066, 'sitzplatz': 6067, 'taschen': 6068, 'kei': 6069, 'somext': 6070, 'migrationspolitik': 6071, 'geforde': 6072, 'supergefaehrliche': 6073, 'kernkraft': 6074, 'gerettet': 6075, 'aerzte': 6076, 'baekaktuell': 6077, 'diskussionsbeitraege': 6078, 'urlaub': 6079, 'theologisches': 6080, 'erzeugt': 6081, 'geschichte': 6082, 'vorschein': 6083, 'sinnvoll': 6084, 'verbot': 6085, 'schwarzer': 6086, 'kleindungsstueck': 6087, 'namevergeben': 6088, 'lgbt': 6089, 'livbar': 6090, 'neuer': 6091, 'natalie': 6092, 'alba': 6093, 'pornstarscms': 6094, 'mehrkill': 6095, 'krimigranten': 6096, 'higgins': 6097, 'zaentschurie': 6098, 'decider': 6099, 'come': 6100, 'john': 6101, '147sf': 6102, 'ausgenutzt': 6103, 'pornoclips': 6104, 'sinnlicher': 6105, 'paralleluniversum': 6106, 'sylt': 6107, 'foto': 6108, 'solltest': 6109, 'beeilen': 6110, 'duscht': 6111, 'fruehstueck': 6112, 'liba443': 6113, 'verpasste': 6114, 'anrufe': 6115, 'mama': 6116, 'zuhause': 6117, 'frxnckisdead': 6118, 'makeup': 6119, 'traegst': 6120, 'schwul': 6121, 'mindset': 6122, 'tassenhalskette': 6123, 'meme': 6124, 'ungebildete': 6125, 'schulschwaenzer': 6126, 'schnauft': 6127, 'genervt': 6128, 'anrah83': 6129, 'wichtigste': 6130, 'sonstwo': 6131, 'dplautzi': 6132, 'fiqqqqqhure': 6133, 'akskshs': 6134, 'indiestrolche': 6135, 'indiearenabooth': 6136, 'stand': 6137, 'maskulin': 6138, 'iab': 6139, 'europarat': 6140, 'bundesaussenminister': 6141, 'ministe': 6142, 'reffen': 6143, 'europarats': 6144, 'helsink': 6145, 'sprueche': 6146, 'bekannt': 6147, 'kittodario': 6148, 'stephan535': 6149, 'buje78': 6150, 'berxe': 6151, 'enes': 6152, 'gekuesst': 6153, 'lil': 6154, 'juri': 6155, 'besoffene': 6156, 'sklave': 6157, 'onlien': 6158, 'beeg': 6159, 'juegos': 6160, 'uebersetzen': 6161, 'mehrzahl': 6162, 'kommentare': 6163, 'zeitsparend': 6164, 'zusammenzufassen': 6165, 'bilgiliueretmen': 6166, 'sultan44613857': 6167, 'bilgili': 6168, 'wei': 6169, 'thez0ldyck': 6170, 'faito': 6171, 'volkswagen': 6172, 'laurent': 6173, 'janmod': 6174, 'elrobtossohn': 6175, 'gitarre3': 6176, 'luxiboxde': 6177, 'nutze': 6178, 'produzieren': 6179, 'rechtssta': 6180, 'sahur': 6181, 'schlafrhythmus': 6182, 'loay': 6183, 'mudhoon': 6184, 'raz': 6185, 'andres': 6186, 'christianruch': 6187, 'politifinnmark': 6188, 'eierdiebe': 6189, 'katarinabarley': 6190, 'udobullmann': 6191, 'dieu': 6192, 'playlist': 6193, 'annarosabrito': 6194, 'tue': 6195, 'politkaste': 6196, 'stampft': 6197, 'wut': 6198, 'dolle': 6199, 'seelennachtinfo': 6200, 'stripen': 6201, 'sexfilm': 6202, 'ltere': 6203, 'frauenpornos': 6204, 'scheinleben': 6205, 'mut': 6206, 'einredest': 6207, 'piss': 6208, 'schwein': 6209, 'vivian': 6210, 'geplatzt': 6211, 'pensi': 6212, 'wichsorgie': 6213, 'explodie': 6214, 'unterscheidet': 6215, 'zorn': 6216, 'hervorgerufen': 6217, 'lissy': 6218, 'extra': 6219, 'ni': 6220, 'archiphilologus': 6221, 'archi': 6222, 'such': 6223, 'most': 6224, 'privileged': 6225, 'shit': 6226, 'imarior': 6227, 'wahlborn': 6228, 'iknowreview': 6229, 'blackpantherrav': 6230, 'lemmystechkiste': 6231, 'image': 6232, 'solang': 6233, 'fruehzeitig': 6234, 'geruechten': 6235, 'machtwo': 6236, 'gipfelkanzlerin': 6237, 'hofreiter': 6238, 'schaeuble': 6239, 'scholz': 6240, 'telepolis': 6241, 'jesidinnen': 6242, 'unterwelt': 6243, 'kuschelt': 6244, 'blase': 6245, 'asoziale': 6246, 'nichtsnutzige': 6247, 'unterstue': 6248, 'massive': 6249, 'kohleabbau': 6250, 'armee': 6251, 'yout': 6252, 'wutuniverse': 6253, 'kuss': 6254, 'heldenwieich': 6255, 'mint': 6256, 'eliteland': 6257, 'schulsystem': 6258, 'theskender': 6259, 'uwe': 6260, 'mdl': 6261, 'diskutieren': 6262, 'denkbar': 6263, 'niewiedercdu': 6264, 'implizie': 6265, 'scharia': 6266, 'einzuschleichen': 6267, 'karlaknows': 6268, 'gesoffen': 6269, 'blau': 6270, 'ueberzeugung': 6271, 'uhl': 6272, 'edu': 6273, 'verdraengt': 6274, 'jk': 6275, 'hase': 6276, 'rauche': 6277, 'verglimmendes': 6278, 'anregende': 6279, 'verpackung': 6280, 'gesc': 6281, 'och': 6282, 'investeringsfirma': 6283, 'steekt': 6284, 'blockchain': 6285, 'bloxroute': 6286, 'postmichel1': 6287, 'halbswegs': 6288, 'ausgestatte': 6289, 'haustuer': 6290, 'votzen': 6291, 'bionde': 6292, 'kvinna': 6293, 'hopp': 6294, 'severinbrandis': 6295, 'invasoren': 6296, 'ahahahaaaa': 6297, 'zweitstaerkste': 6298, 'abe': 6299, 'blackyellowl0ve': 6300, 'letrabe': 6301, 'behaind': 6302, 'gebirgsjager1': 6303, 'fuehrung': 6304, 'ch': 6305, 'ungenie': 6306, 'weltoffene': 6307, 'mensche': 6308, 'weitkamp': 6309, 'alleingang': 6310, 'lehne': 6311, 'dur': 6312, 'music': 6313, 'einzuschlafen': 6314, 'ufdieblende': 6315, 'adaequate': 6316, 'entschaedigung': 6317, 'verrammeltes': 6318, 'findisch': 6319, 'fredericlebrun': 6320, 'osram': 6321, 'deckenleuchte': 6322, 'leuchte': 6323, 'ausse': 6324, 'meets': 6325, 'monitoring': 6326, 'criteria': 6327, 'fuenferpasch': 6328, 'existie': 6329, 'meinungsfreiheit': 6330, 'atemschutz': 6331, 'deo': 6332, 'parfuem': 6333, 'drin': 6334, 'thecat': 6335, '240x200': 6336, 'leinen': 6337, 'bettwaesche': 6338, 'buegeln': 6339, 'abzuziehen': 6340, 'drpeternagel': 6341, 'elementares': 6342, 'missverstaendnis': 6343, 'merz': 6344, 'mckstf': 6345, 'buerzl': 6346, 'bisherigen': 6347, 'fakts': 6348, 'fynn': 6349, 'gefragt': 6350, 'jan69161843': 6351, 'camanpour': 6352, 'berlusco': 6353, 'einschlafe': 6354, 'barkley': 6355, 'xavi': 6356, '223bpm': 6357, 'druckluft': 6358, 'floor': 6359, 'wenig': 6360, 'benedetusmc': 6361, 'freuts': 6362, 'kovac': 6363, 'rollex': 6364, 'kalle': 6365, 'abgezogen': 6366, 'gesundem': 6367, 'menschenverstand': 6368, 'ottensheim': 6369, 'schlierbach': 6370, 'uebersiedelt': 6371, 'beruflich': 6372, 'mytrans': 6373, 'formel': 6374, 'zaandvoo': 6375, 'ariiiish': 6376, 'blonder': 6377, 'spdde': 6378, 'coribuhh': 6379, 'abtreibungen': 6380, 'dran': 6381, 'paradies': 6382, 'roterpaenda': 6383, 'wuermer': 6384, 'monetas': 6385, 'geldherrin': 6386, 'mevsimherk': 6387, 'ahhaha': 6388, 'playing': 6389, 'aquagen': 6390, '2011': 6391, 'radio': 6392, 'edit': 6393, '6ponge': 6394, 'slipknot': 6395, 'oral': 6396, 'techische': 6397, 'bondage': 6398, 'weiterer': 6399, 'fahren': 6400, 'nebe': 6401, 'kleid': 6402, 'fixifoxy': 6403, 'juliepulie3': 6404, 'astriddorothea': 6405, 'kade': 6406, 'albanien': 6407, 'heinzschmidt41': 6408, 'u21': 6409, 'spielern': 6410, 'trainingslager': 6411, 'suedtirol': 6412, 'vorlaeufige': 6413, 'kader': 6414, 'olafolafson1': 6415, 'orita': 6416, 'bella': 6417, 'donna': 6418, 'teletubbies': 6419, 'titelmelodie': 6420, 'teamalessio': 6421, '70m': 6422, 'kami': 6423, 'keins': 6424, 'japan': 6425, 'birnendung': 6426, 'goku': 6427, 'switch': 6428, 'reaktion': 6429, 'haftbefehl': 6430, 'nennt': 6431, 'vergifte': 6432, 'verfickte': 6433, 'ungluecklich': 6434, 'drecksleben': 6435, 'zentralrat1': 6436, 'vergangenheit': 6437, 'ideologische': 6438, 'verblendung': 6439, 'sprachinkompetenz': 6440, 'arbeitsleben': 6441, 'asiaten': 6442, 'euphorisch': 6443, 'skeptisch': 6444, 'dreilaender': 6445, 'ohnenahme': 6446, 'nobby1949z': 6447, 'bullshitt': 6448, 'kimmathei': 6449, 'taddl': 6450, 'dummer': 6451, 'akenoad': 6452, 'bo3': 6453, 'lorde': 6454, 'sorrynotsorry': 6455, 'alpeninitiative': 6456, 'kapitalistische': 6457, 'warenwelt': 6458, 'verdreht': 6459, 'rennt': 6460, 'anlauf': 6461, 'nicolastransgay': 6462, 'zeugen': 6463, 'repeat': 6464, 'michaellehmann': 6465, 'elltra': 6466, 'ruecktritt': 6467, 'germanletsplay': 6468, 'rate': 6469, 'unitymedia': 6470, '5minuten': 6471, 'vielleicht': 6472, '20m': 6473, 'bit': 6474, 'erikwuensche': 6475, 'wundermittel': 6476, 'unserer': 6477, 'loese': 6478, 'peitelwein': 6479, 'noringerk': 6480, 'oesterreichische': 6481, 'gaebs': 6482, '4kolner': 6483, 'soisset': 6484, 'geholfen': 6485, 'verwunde': 6486, 'erneut': 6487, 'juedische': 6488, 'weltuebernahmewaffe': 6489, 'nwo': 6490, 'goyim': 6491, 'sklavenstaat': 6492, 'nacazafps': 6493, 'spoilerst': 6494, 'garnichts': 6495, 'fuckt': 6496, 'hardcore': 6497, 'damn': 6498, 'weeberwolfgang': 6499, 'chiquitaflanke': 6500, 'ahrens': 6501, 'marcofuchs74': 6502, 'thies': 6503, 'guek62': 6504, 'hildering': 6505, 'verderben': 6506, 'infiltration': 6507, 'katze': 6508, 'bett': 6509, 'heben': 6510, 'geschlafen': 6511, 'neothemarius': 6512, 'niemehrgruen': 6513, 'moderaten': 6514, 'unbequem': 6515, 'steck': 6516, 'ikea': 6517, 'hotdogs': 6518, 'katjarosch': 6519, 'patriziavdlahn': 6520, 'vorsitzende': 6521, 'jana': 6522, 'nachrichtenagentur': 6523, 'headlessdrowned': 6524, 'fpoefails': 6525, 'heimliches': 6526, 'vorbild': 6527, 'wegsperren': 6528, 'gell': 6529, 'decken': 6530, 'linksl': 6531, 'ihea': 6532, 'langwierig': 6533, 'ugh': 6534, 'schreibfehler': 6535, 'brillant': 6536, 'englischen': 6537, 'brilliant': 6538, 'durchein': 6539, 'racconti': 6540, 'bellissime': 6541, 'pfefferminzboi': 6542, 'ehe': 6543, 'amateur': 6544, 'anziane': 6545, 'blenderbottle': 6546, 'whiskware': 6547, 'gostack': 6548, 'eisern': 6549, 'bog': 6550, 'reissen': 6551, 'tust': 6552, 'werktagen': 6553, 'angelam21983732': 6554, 'petra58249513': 6555, 'pipo124567': 6556, 'ingenieure': 6557, 'sadsleepyloser': 6558, 'madchen': 6559, 'unwreq23': 6560, 'spoookeyy': 6561, 'vinyu23': 6562, 'akame': 6563, 'owo': 6564, 'sentakuu71': 6565, 'abgeranzte': 6566, 'tukke': 6567, 'trumps': 6568, 'knallfroesche': 6569, 'swinger': 6570, 'noticias': 6571, 'hausgemacht': 6572, 'eidigung': 6573, 'nachdenkseiten': 6574, 'sanktionieren': 6575, 'faeustchen': 6576, 'robe': 6577, '19594': 6578, 'rebound541': 6579, 'datdiscordboy': 6580, '64': 6581, 'galaxy': 6582, 'odyssey': 6583, 'homobehaviorali': 6584, 'rechtliches': 6585, 'fernsehen': 6586, 'cutie': 6587, 'ariana': 6588, 'grande': 6589, 'toll': 6590, 'lebenshaltungskosten': 6591, 'gestiegen': 6592, 'karsten71': 6593, 'typische': 6594, 'lallend': 6595, 'gregormodos': 6596, 'ltwth19': 6597, 'afdwaehlen': 6598, 'thueringen': 6599, 'joroe14': 6600, 'goerlitz': 6601, 'franziskaol': 6602, 'kasse': 6603, 'dadurch': 6604, 'absichtlich': 6605, 'dreister': 6606, 'haeuser': 6607, 'asylbewerber': 6608, 'notunterkuenfte': 6609, 'unzumutbare': 6610, 'zustaende': 6611, 'wettbewerb': 6612, 'peinlichste': 6613, 'form': 6614, 'eskapismus': 6615, 'buehlbecker': 6616, 'reil': 6617, 'pickel': 6618, 'parlamentsverach': 6619, 'bemerken': 6620, 'suspendie': 6621, 'slimemock': 6622, 'kollege': 6623, 'hau': 6624, 'euli': 6625, 'perfektes': 6626, 'date': 6627, 'kramerga': 6628, 'enbau': 6629, 'bringen': 6630, 'livingwall': 6631, 'aufdassdiestaedtegruenerwerden': 6632, 'jochenflasba': 6633, 'einzusparen': 6634, 'eheluder': 6635, 'enfrogge': 6636, 'suechtig': 6637, 'offensiv': 6638, 'ablaeuft': 6639, 'kandidatin': 6640, 'derzeitigen': 6641, 'ausg': 6642, 'interaktiv': 6643, 'wande': 6644, 'euelections2019': 6645, 'waehlerwa': 6646, 'kloebermeraxl': 6647, 'buerostuhlgrossepersonen': 6648, 'buerostuehlmeraxl': 6649, 'buerostuhl': 6650, 'gesundes': 6651, 'mer78': 6652, 'xs': 6653, 'juliusivx': 6654, 'frauproper': 6655, 'darlings': 6656, 'sebastiankurz': 6657, 'boomer': 6658, 'herzberg': 6659, 'jchristandl': 6660, 'bagasch': 6661, 'versagt': 6662, 'dinge': 6663, 'schaltplaene': 6664, 'latex': 6665, 'frittenmelly': 6666, 'bilda': 6667, 'honestly': 6668, 'james': 6669, 'palette': 6670, 'gut': 6671, 'loswer': 6672, 'french': 6673, 'open': 6674, 'aussenseiter': 6675, 'chancenlos': 6676, 'tennis': 6677, 'nadal': 6678, 'parents4future': 6679, 'wozukunft': 6680, 'ansichten': 6681, 'breezypayback': 6682, 'stattwie': 6683, 'dasitzt': 6684, 'romannervnicht': 6685, 'kah': 6686, 'falsche': 6687, 'herangehensweise': 6688, 'veterinaer': 6689, 'duschen': 6690, 'handtuch': 6691, 'grin': 6692, 'leopoldstammler': 6693, 'guenschl': 6694, 'aprestros': 6695, 'hoebi75': 6696, 'helenesteiner4': 6697, 'befehlsempfaenger': 6698, 'mimmismama': 6699, 'christophnebgen': 6700, 'suuuper': 6701, 'rhythmusgefuehl': 6702, 'sparkurs': 6703, 'abgaben': 6704, 'unternehmensteuern': 6705, 'senken': 6706, 'hilfebinhure': 6707, 'htoastbrot': 6708, 'brauner': 6709, '254': 6710, '122': 6711, 'madia': 6712, 'rasmusandresen': 6713, 'vorfahr': 6714, 'abbaurecht': 6715, 'enneaeterisch': 6716, 'kamnonym': 6717, 'frontet': 6718, 'kanak': 6719, 'stabilen': 6720, 'sponsorn': 6721, 'kleinerdonner': 6722, 'aergern': 6723, 'helarctos': 6724, 'gegenueber': 6725, 'katzentisch': 6726, 'obvsthiam': 6727, 'immo': 6728, 'alscumbro': 6729, 'wowyyyy': 6730, 'aqosteee': 6731, 'cclearz': 6732, 'dikka': 6733, 'ratter': 6734, 'verballer': 6735, 'kugeln': 6736, 'kuda': 6737, 'lindner': 6738, 'welle': 6739, 'haidball': 6740, 'charaktere': 6741, 'nowottny': 6742, 'warmes': 6743, 'koelsch': 6744, 'gefrieren': 6745, 'dwarfplanet': 6746, 'wahlsieg': 6747, 'tuebingen': 6748, 'gruener': 6749, 'wandazietz': 6750, 'wegschmeissen': 6751, 'einzigste': 6752, 'geliebten': 6753, 'baka': 6754, 'exfreund': 6755, 'uebri': 6756, 'nationalsozialisten': 6757, 'idealisten': 6758, 'spdler': 6759, 'stein': 6760, 'chemnitz': 6761, 'identitaeren': 6762, 'dburschenschaft': 6763, 'kalbitz': 6764, 'hoecke': 6765, 'alex': 6766, 'malenki': 6767, 'senajulya': 6768, 'passivalerio': 6769, 'christianxxx1': 6770, 'dos': 6771, 'meninos': 6772, 'transexclub': 6773, 'spritzt': 6774, 'retweeten': 6775, 'bastarde': 6776, 'helgebruhn': 6777, 'ollilein69': 6778, 'insgesamt': 6779, 'beinfrei': 6780, 'rico': 6781, 'hihi': 6782, 'spr': 6783, 'matteosalvinimi': 6784, 'macrons': 6785, 'junckers': 6786, 'grit': 6787, 'itookmyprozac': 6788, 'kuck': 6789, 'kriminalitaetsstatistik': 6790, 'iaminhellandyou': 6791, 'mlchelangelhoe': 6792, 'currygewuerz': 6793, 'iamomarscurr': 6794, 'iulieeer': 6795, 'valuwunr2': 6796, 'alben': 6797, 'cooler': 6798, 'permanenten': 6799, 'releases': 6800, 'nicoivang19': 6801, 'uber': 6802, 'uninteressant': 6803, 'verblendeten': 6804, 'anluegen': 6805, 'sooooo': 6806, 'kalllllttttt': 6807, 'friere': 6808, 'dialyse': 6809, 'animus': 6810, 'rooz': 6811, 'verstehst': 6812, 'zurueckzuschlagen': 6813, 'influenzer': 6814, 'irgend': 6815, 'clown': 6816, 'angerufen': 6817, 'peruecke': 6818, 'hoodie': 6819, 'aermel': 6820, 'hochkrempeln': 6821, 'shi': 6822, 'entgegengeifern': 6823, 'kanzler': 6824, 'herbeisch': 6825, 'angolanischen': 6826, 'steht': 6827, 'hinzufuegen': 6828, 'angolani': 6829, 'ballou381': 6830, 'sauer': 6831, 'steu': 6832, 'easpo': 6833, 'sfifa': 6834, 'ea': 6835, 'vollziehen': 6836, 'polygamistischen': 6837, 'einbuergerungsgesetz': 6838, 'rechtlich': 6839, 'jen': 6840, 'dieliebeanna': 6841, 'echtnichtstevo': 6842, '2theskyy': 6843, 'verden': 6844, '07': 6845, '08': 6846, 'betrieblich': 6847, 'kingabrieu': 6848, 'kkkkkkkkkkkm': 6849, 'oer': 6850, 'explosion': 6851, 'berichten': 6852, 'wahrheitsgemaess': 6853, 'anschl': 6854, 'falco': 6855, 'richie': 6856, 'turi2': 6857, 'handwerks': 6858, 'verleger': 6859, 'haenden': 6860, 'nagel': 6861, 'fj': 6862, 'murau': 6863, 'liebe': 6864, 'virginia': 6865, 'woolf': 6866, 'romantiker': 6867, 'rotwein': 6868, 'chansons': 6869, 'tanz': 6870, 'geschlechter': 6871, 'sonnenuntergang': 6872, 'neospiesser': 6873, 'hingehen': 6874, 'ab19868': 6875, 'intramorus': 6876, 'vorne': 6877, 'menschenverachtend': 6878, 'boese': 6879, 'avukatramo': 6880, 'sjetzt': 6881, 'hauptjob': 6882, 'kopftu': 6883, 'heiligen': 6884, 'hallen': 6885, 'neonlicht': 6886, 'christine': 6887, 'palleti': 6888, 'huehnchens': 6889, 'speck': 6890, 'schweinch': 6891, 'schalten': 6892, 'flashskynews': 6893, 'ex1lity': 6894, 'untagt': 6895, 'liefern': 6896, 'vorlage': 6897, 'aktionen': 6898, 'rotfaschisten': 6899, 'vlkrdhr': 6900, 'khs': 6901, 'herrenuhr': 6902, 'reaper': 6903, 'taucherband': 6904, '169': 6905, 'hanbunkurai': 6906, 'investie': 6907, 'unnormal': 6908, 'sandy4love': 6909, 'blas': 6910, 'pruegel': 6911, 'satinarsch': 6912, 'hausmeister': 6913, 'anschauen': 6914, 'mastubieren': 6915, 'fernsehfrauen': 6916, 'campingtisch': 6917, 'endozentrisch': 6918, 'yos': 6919, 'sonic': 6920, 'immernoch9': 6921, 'motivieren': 6922, 'time1608': 6923, 'alphasoulmaster': 6924, 'livault': 6925, 'smt': 6926, 'ma2ju': 6927, 'annitheduck': 6928, 'foetus': 6929, 'verhindern': 6930, 'fruehlingssonne': 6931, 'erfreut': 6932, 'gluecklic': 6933, 'messen': 6934, 'verlassene': 6935, 'ferraris': 6936, 'ferrari': 6937, 'pewdiepie': 6938, 'netzwerke': 6939, 'icke': 6940, 'nrwzum0': 6941, 'manuvoice': 6942, 'gruppe': 6943, 'lachkicks': 6944, 'beniourigal': 6945, 'davon': 6946, 'pruefungen': 6947, 'frauenstreik': 6948, 'dimensionen': 6949, 'staa': 6950, 'hangen': 6951, 'claude': 6952, 'wunderblokk': 6953, 'internetausdrucker': 6954, 'rechtskonservativ': 6955, 'rechtsradikal': 6956, 'printformat': 6957, 'tauschen': 6958, 'aurelme': 6959, 'rule': 6960, 'veli0801': 6961, 'vaderyu91': 6962, 'gaming20003': 6963, 'hilf': 6964, 'sauvagecrim': 6965, 'kanaken': 6966, 'pressefreiheit': 6967, 'zuvor': 6968, 'arac': 6969, 'yla': 6970, 'kohlekraftwerke': 6971, 'pflaster': 6972, 'windraedern': 6973, 'oeffnet': 6974, 'lobt': 6975, 'fierce': 6976, 'friday': 6977, 'apologet': 6978, 'minderwe': 6979, 'fang': 6980, 'krad75': 6981, 'festgestellt': 6982, 'metal': 6983, 'attraktiv': 6984, 'sabaton': 6985, 'haesslichen': 6986, 'hhawkeye24': 6987, 'europaweit': 6988, 'inearlierdays': 6989, 'einzige': 6990, 'schriftzug': 6991, 'tuerkischer': 6992, 'br24': 6993, 'staatsversagens': 6994, 'mildtaetigkeitswettbewerb': 6995, 'wisag': 6996, 'transpo': 6997, 'lichtenberg': 6998, 'tamaarriiss': 6999, 'toete': 7000, 'bruch': 7001, 'zivilisation': 7002, 'zivilisationsbruch': 7003, 'ronaldsullivan': 7004, 'linkermob': 7005, 'verwuestet': 7006, 'letzten': 7007, 'unglaeubigen': 7008, 'vernichtet': 7009, 'beaarep': 7010, 'erikasdreck': 7011, 'niemalsafd': 7012, 'faengt': 7013, 'auszubreiten': 7014, 'schwierigste': 7015, 'entfernen': 7016, 'performt': 7017, '03': 7018, 'btc': 7019, 'tauwetter': 7020, 'bitcoin': 7021, 'bakkt': 7022, 'deckt': 7023, 'assets': 7024, 'woker': 7025, 'danielaklucke': 7026, 'begegnungszonen': 7027, 'gescheite': 7028, 'begriffen': 7029, 'masse': 7030, 'berufsbezeichnung': 7031, 'speaker': 7032, 'trendexpe': 7033, 'hiesse': 7034, 'booknerd': 7035, 'weinen': 7036, 'lustigralf': 7037, 'johannahh2': 7038, '28': 7039, 'absoluter': 7040, 'alleinlage': 7041, 'kauften': 7042, 'sagten': 7043, 'buh': 7044, 'langwe': 7045, 'drumrum': 7046, 'gjsh': 7047, 'glueckliche': 7048, 'aminajxx': 7049, 'denise': 7050, 'loop': 7051, 'ltwsh': 7052, 'szenecode': 7053, 'wies': 7054, 'senfmaedchen': 7055, 'meh': 7056, 'trottel': 7057, 'raffen': 7058, 'verfassungsschutz': 7059, 'sma': 7060, 'traderbulls': 7061, 'fragdenstaat': 7062, 'zensurheberrecht': 7063, 'bfr': 7064, 'zugangscodes': 7065, 'glyphosat': 7066, 'gutachten': 7067, 'antragstellern': 7068, '73rieck': 7069, 'torben12045934': 7070, 'linksgruenen': 7071, 'auspraegung': 7072, 'kampagnengesteue': 7073, 'undemokratisch': 7074, 'schlafen': 7075, 'freehippiegirl': 7076, 'leichten': 7077, 'kotzreiz': 7078, 'verspottet': 7079, 'palastluger': 7080, 'pelzige': 7081, 'ergergruesse': 7082, 'suskadse': 7083, 'hapelanger': 7084, 'atemlos': 7085, 'wau': 7086, 'hottt': 7087, 'hbsch': 7088, 'relazione': 7089, 'vidio': 7090, 'pono': 7091, 'warschau': 7092, 'abgeschaut': 7093, 'montage': 7094, 'mrln63': 7095, 'hxnaz': 7096, 'sarma': 7097, 'weinblaetter': 7098, 'ahah': 7099, 'sksks': 7100, 'rande': 7101, 'momente': 7102, 'natasnoctem': 7103, 'jerk': 7104, 'step': 7105, 'focusonline': 7106, 'wiedereinfuehrung': 7107, 'todesstrafe': 7108, 'faho74': 7109, 'hochstapler': 7110, 'narzisstisches': 7111, 'kleinanzeigen': 7112, 'geizigste': 7113, 'gefuellteste': 7114, 'erde': 7115, 'probeabstimmungen': 7116, 'derstandardat': 7117, 'flygskam': 7118, 'klimaproteste': 7119, 'inlandsfluegen': 7120, 'henningmayone': 7121, 'ahh': 7122, 'biene': 7123, '26maicdu': 7124, 'freubier': 7125, 'bwjetzt': 7126, 'cardigan': 7127, 'friendship': 7128, 'marwosdeath': 7129, 'hallenbadbau': 7130, 'kamenz': 7131, 'metalgod1975': 7132, 'ruppen': 7133, 'erinnerungen': 7134, 'derplietscher': 7135, 'quatsch': 7136, 'wicht': 7137, 'erdokan': 7138, 'aniesmann': 7139, 'kandidie': 7140, 'nachfolge': 7141, 'fraktionskollegen': 7142, 'klausur': 7143, 'aufgab': 7144, 'beat': 7145, 'konzentriere': 7146, 'injamorgan': 7147, 'erotikliteratur': 7148, 'directo': 7149, 'grosse': 7150, 'yung': 7151, 'arkan2': 7152, 'lieferzeit': 7153, 'stornieren': 7154, '9': 7155, 'apuleius': 7156, 'doktorhut': 7157, 'molligekleinesie83': 7158, 'amunet': 7159, 'ac': 7160, 'danielrschmidt': 7161, 'judith': 7162, 'kerr': 7163, 'rosa': 7164, 'kaninchen': 7165, 'stahl': 7166, 'konfrontation': 7167, 'bunny': 7168, 'huh': 7169, 'versauter': 7170, 'geschlechtsverkehr': 7171, 'frauenporno': 7172, 'gesund': 7173, 'faz': 7174, 'verfasster': 7175, 'dieseratze': 7176, 'hoere': 7177, 'utawie': 7178, 'herauslassen': 7179, 'm95': 7180, 'stefanhechl': 7181, 'playbook': 7182, '1930er': 7183, 'glitzeratom': 7184, 'muetter': 7185, 'selbsterhoehung': 7186, 'suhlen': 7187, 'tickt': 7188, 'pappnasen': 7189, 'politclowns': 7190, 'bestimmen': 7191, 'lizarussiahorny': 7192, 'geilsten': 7193, 'beweisen': 7194, 'nachbarin': 7195, 'gebumst': 7196, 'sado': 7197, 'mirbuergerin': 7198, 'stoeckli': 7199, 'winkelzuege': 7200, 'einseitig': 7201, 'orientie': 7202, 'augenaufde': 7203, 'vielfalt': 7204, 'moechtet': 7205, 'schmiddiemaik': 7206, 'josephine': 7207, 'gleichen': 7208, 'ausrufung': 7209, 'klimanotstand': 7210, 'verabschiedung': 7211, 'klimas': 7212, 'grafiken': 7213, 'plaetze': 7214, 'dominanz': 7215, 'fetish': 7216, 'branchenblaetter': 7217, 'headlines': 7218, 'allerdings': 7219, 'omr': 7220, 'lalilein': 7221, 'teste': 7222, 'woelken': 7223, 'kniekehle': 7224, 'zucken': 7225, 'hambi': 7226, 'hie': 7227, 'philosophen': 7228, 'uni': 7229, 'schaebigen': 7230, 'grauen': 7231, 'gebaeude': 7232, 'kennenlernten': 7233, 'daesh': 7234, 'ottos': 7235, 'hueftsteak': 7236, 'online': 7237, 'metzgereien': 7238, 'betreiben': 7239, 'bordeauxdogge2': 7240, 'trainieren': 7241, 'trockenfutter': 7242, 'stueckchen': 7243, 'einerhgw': 7244, 's11': 7245, 'bergisch': 7246, 'gladbach': 7247, '54': 7248, 'dormagen': 7249, '27': 7250, 'neuss': 7251, '45': 7252, 'outen': 7253, 'sprachrohr': 7254, 'paedophilen': 7255, 'kinderschaender': 7256, 'ovg': 7257, 'bautzen': 7258, 'volksverhetzend': 7259, 'ovgbautzen': 7260, 'strahlen': 7261, 'jahrgang': 7262, 'kanidaten': 7263, 'buergerrat': 7264, 'vaterkomplex': 7265, 'gayspacegulag': 7266, 'koenige': 7267, 'neger': 7268, 'oefter': 7269, 'gesellschaftlicher': 7270, 'rueckentwicklung': 7271, 'complaxes': 7272, 'fans': 7273, 'vereins': 7274, 'unsaegliche': 7275, 'umvolkung': 7276, 'bevoelkerung': 7277, 'veredelt': 7278, 'nachhaltig': 7279, 'bzberlin': 7280, 'grenzenlose': 7281, 'hohl': 7282, 'traurigen': 7283, 'thorsten0711': 7284, 'senioren': 7285, 'ueberfallen': 7286, 'misshandeln': 7287, 'aktenzeichenxy': 7288, 'weiteren': 7289, 'verrat': 7290, 'ehrendokto': 7291, 'itel': 7292, 'aufschwungs': 7293, 'tiptopgeheim': 7294, 'ermordung': 7295, 'zutun': 7296, 'rudolfzlabinger': 7297, 'box': 7298, 'latschen': 7299, 'airliners': 7300, 'airbus': 7301, 'informie': 7302, 'postillon': 7303, 'pervers': 7304, 'witten': 7305, 'arminschon': 7306, 'lilien': 7307, 'mspazieren': 7308, 'missbjarmstrong': 7309, 'mupfmama': 7310, 'mupf': 7311, 'kreativsten': 7312, 'sinnigsten': 7313, 'neuschoepfungen': 7314, 'juussyyy': 7315, 'rollo': 7316, 'zufrieden': 7317, 'poetmehmet': 7318, 'witziger': 7319, 'rolle': 7320, 'spielt': 7321, 'fue': 7322, 'hasst': 7323, 'aufgebaut': 7324, 'geleistet': 7325, 'taeglich': 7326, 'borussen': 7327, 'tom09': 7328, 'eafussball': 7329, 'spiele': 7330, 'aufregen': 7331, 'weekend': 7332, 'psychomolehappy': 7333, 'euc': 7334, 'schwaetzerinnen': 7335, 'rosenkohl': 7336, 'krone': 7337, 'massenzuwanderer': 7338, 'keinerlei': 7339, 'oekologisches': 7340, 'bewusstsein': 7341, 'verlaub': 7342, 'unreflektie': 7343, 'kommentaren': 7344, 'geduld': 7345, 'dic': 7346, 'evamolau': 7347, 'unterbrochen': 7348, 'geduzt': 7349, 'mansplainen': 7350, 'tr': 7351, 'fiischyyy': 7352, 'marcelmolitor2': 7353, 'codeveingame': 7354, 'psn': 7355, 'eingeben': 7356, 'anzeigefehler': 7357, 'cd': 7358, 'macco': 7359, 'ekofreezy': 7360, 'german': 7361, 'dream': 7362, 'represented': 7363, 'muahaha': 7364, 'bratzenbuch': 7365, 'klickt': 7366, 'niemalsfacebook': 7367, 'sternzeichen': 7368, 'bedeutender': 7369, 'stierhoerner': 7370, 'ophelia': 7371, 'bdsm': 7372, 'grillgeruch': 7373, 'nase': 7374, 'bratwurst': 7375, 'pharaotom': 7376, 'kaadeeey': 7377, 'pearsxon': 7378, 'lxckz': 7379, 'eskalationzz': 7380, 'zatox95': 7381, 'fxbz': 7382, 'einhorngate': 7383, 'humorlosen': 7384, 'schwaebisch': 7385, 'gmuend': 7386, 'nervermittlung': 7387, 'italienische': 7388, 'monster': 7389, 'desso': 7390, 'wasdges': 7391, 'dior20001': 7392, 'abkuerzungen': 7393, 'galt': 7394, 'gegenpol': 7395, 'heimatminister': 7396, 'teite99': 7397, 'abstimmung': 7398, 'eilen': 7399, 'kioskmein': 7400, '99bluemarlin': 7401, 'dasland': 7402, 'opoe': 7403, 'saubere': 7404, 'sexfilme': 7405, 'marcel': 7406, 'mille': 7407, 'ritter': 7408, 'roter': 7409, 'lediglich': 7410, '145': 7411, 'quellen': 7412, 'abges': 7413, 'ausweisen': 7414, 'dingenskirchenj': 7415, 'fanpost': 7416, 'laed': 7417, 'trolle': 7418, 'playoffcaleb': 7419, 'efg': 7420, 'fg': 7421, 'landesmedienanstalt': 7422, 'veraltet': 7423, 'pharmazeutisches': 7424, 'markenerzeugnis': 7425, 'schaefer': 7426, 'vgtlnd': 7427, 'heltedskelted': 7428, 'credo': 7429, 'lanas08819497': 7430, 'soziale': 7431, 'haengematte': 7432, 'achtmannstark': 7433, 'move': 7434, 'gerlet1': 7435, 'verachtens': 7436, 'zick': 7437, 'le2jh': 7438, 'ijoba': 7439, 'xpensive': 7440, 'zinhle': 7441, 'dammy': 7442, 'krane': 7443, 'youngstar': 7444, 'heavy': 7445, 'duty': 7446, 'plusdemurs': 7447, 'saalschutz': 7448, 'hm': 7449, 'stosstrupp': 7450, 'realitaet': 7451, 'queer': 7452, 'gleiche': 7453, 'scientology': 7454, 'geworben': 7455, 'melodygahlen': 7456, 'zurueckwuensche': 7457, 'marcuserlebach': 7458, 'fault': 7459, 'badespassbarbie': 7460, 'empfehle': 7461, 'riebenen': 7462, 'unterhalten': 7463, 'nac': 7464, 'sebgreiner': 7465, 'atomausstiegs': 7466, 'atomausstieg': 7467, 'speed': 7468, 'magen': 7469, 'gntm2019': 7470, 'hocke': 7471, 'fahre': 7472, '30min': 7473, 'angekommen': 7474, 'klingel': 7475, 'dezent': 7476, 'verzweife': 7477, 'andy93893217': 7478, 'wahlkampfmaschine': 7479, 'wolfgang': 7480, 'wzb': 7481, 'krillin': 7482, 'auseinanderzuhalten': 7483, 'schlussmachen': 7484, 'bakaray': 7485, 'freundlich': 7486, 'niemalscdu': 7487, 'faelt': 7488, 'vergleich': 7489, 'newcomern': 7490, 'haft': 7491, 'xatar': 7492, 'beef': 7493, 'newcomer': 7494, 'europawahlen': 7495, 'hampelmaennchen': 7496, 'verdingen': 7497, 'trommelt': 7498, 'ishaiqz': 7499, 'rrivexx': 7500, 'dopamin': 7501, 'vergeuden': 7502, 'gewunde': 7503, 'andreas': 7504, 'bvb': 7505, 'balerdi': 7506, 'abwehrspieler': 7507, 'enttaeuschung': 7508, 'luftnummer': 7509, 'hofnarr': 7510, 'studierenden': 7511, 'edeka': 7512, 'rumheulen': 7513, 'verstaendlich': 7514, 'sylviapantel': 7515, 'hgmaassen': 7516, 'sigrid': 7517, 'herrmannmarschall': 7518, 'kreises': 7519, 'filme': 7520, 'putze': 7521, 'ultra': 7522, 'nicen': 7523, 'stuff': 7524, 'evil': 7525, 'kapitalismus': 7526, 'bla': 7527, 'chrizzie93': 7528, 'andre09': 7529, '19mei89': 7530, '0610': 7531, 'flobvb666': 7532, 'borusse08': 7533, 'xvoffo': 7534, 'gruss': 7535, 'rezept': 7536, 'illegalen': 7537, 'legalen': 7538, 'sozialsstaats': 7539, 'bereicherern': 7540, 'fluten': 7541, 'city0815': 7542, 'anfange': 7543, 'sheelockmaier': 7544, 'jegliches': 7545, 'rueckstaendigkeit': 7546, 'inkompatibilitaet': 7547, 'trademonkeys': 7548, 'movement': 7549, 'ttcm': 7550, 'ibgr': 7551, 'krfg': 7552, 'canales': 7553, 'aupair': 7554, 'emoticon': 7555, 'anale': 7556, 'ddrmuseum': 7557, 'pocketkamera': 7558, 'pentacon': 7559, 'k16': 7560, 'ideal': 7561, 'negativformat': 7562, '13x17mm': 7563, 'museumweek': 7564, 'photomw': 7565, 'timo': 7566, 'reeg': 7567, 'fifaprogamer213': 7568, 'aglibic': 7569, 'mxlanax': 7570, 'goekan': 7571, 'derschulze': 7572, 'fediverse': 7573, 'leichter': 7574, 'landesverband': 7575, 'rechnung': 7576, 'tempelhofer': 7577, 'gerhardschwar11': 7578, 'derwanderer4': 7579, 'truppe': 7580, '55uli': 7581, 'reingeholt': 7582, 'uciwwt': 7583, 'emakumeen': 7584, 'bira': 7585, 'uwt': 7586, 'liste': 7587, 'etappenprofile': 7588, 'ace': 7589, 'oute': 7590, 'sexist': 7591, 'schoene': 7592, 'tevsa': 7593, 'sondergipfel': 7594, 'traut': 7595, 'persona': 7596, 'non': 7597, 'grata': 7598, 'jemxkn': 7599, 'henlo': 7600, 'ate': 7601, 'jem': 7602, 'hnnnng': 7603, 'fabigumpeyt': 7604, 'leit': 7605, 'hoxatbox': 7606, 'snowowlem': 7607, 'markenbutter': 7608, 'backstage0000': 7609, 'prioritaet': 7610, 'linksradikale': 7611, 'loft': 7612, 'bekannter': 7613, 'gefluechtete': 7614, 'moria': 7615, 'zelten': 7616, 'baracken': 7617, 'mokoffiziell': 7618, '9000': 7619, 'unattraktiver': 7620, 'mateu': 7621, 'morey': 7622, 'ilkayguendogan': 7623, 'volkerweise': 7624, 'maphimoto': 7625, 'juliahorny1': 7626, 'salsapicantona': 7627, 'spanische': 7628, 'generalanwaltschaft': 7629, 'hassverbrechen': 7630, 'interpretie': 7631, 'verbre': 7632, 'eruiere': 7633, 'nextnews': 7634, 'obamas': 7635, 'harvad': 7636, 'universitaet': 7637, 'ehrend': 7638, 'wachstumspfad': 7639, 'aktienanalyse': 7640, 'kulmbach': 7641, 'extrakaese': 7642, 'frustessen': 7643, 'jansen': 7644, 'ungesund': 7645, 'fresst': 7646, 'to': 7647, 'leude': 7648, 'pspresseschau': 7649, 'huettl': 7650, 'demokratisches': 7651, 'benuetzt': 7652, 'schuetze': 7653, 'hansmll89138006': 7654, 'derherrz': 7655, 'laecherlicher': 7656, 'historie': 7657, 'loetzschmdb': 7658, 'altvorderen': 7659, 'schein': 7660, 'lautstaerke': 7661, 'ps4': 7662, 'unnuetzer': 7663, 'plastikscheisse': 7664, 'street': 7665, 'fighter': 7666, 'hooligans': 7667, 'steelerjungs': 7668, 'scheibe': 7669, 'knaeckebrot': 7670, 'lonsdale': 7671, 'gaysex': 7672, 'verdammten': 7673, 'braune': 7674, 'aj79er': 7675, 'hyracexd': 7676, '1mai': 7677, 'geistige': 7678, 'vorgaenger': 7679, 'verboten': 7680, 'mai': 7681, 'gewer': 7682, 'idiologisch': 7683, 'verblendete': 7684, 'ali': 7685, 'ans': 7686, 'mikrofon': 7687, 'verschlafn': 7688, 'nanny': 7689, 'index': 7690, 'ungesundes': 7691, 'albtraum': 7692, 'krankenversicherer': 7693, 'intellekt': 7694, 'low': 7695, 'hanging': 7696, 'fruit': 7697, 'much': 7698, 'grundrauschens': 7699, 'hoetang': 7700, 'blinder': 7701, 'krueckstock': 7702, 'skinny': 7703, 'zahnstocherbitch': 7704, 'heeeey': 7705, 'duuu': 7706, 'secondcircleosu': 7707, 'trefft': 7708, 'dokomi': 7709, 'osu': 7710, 'turnierveranstalter': 7711, 'bieten': 7712, 'moeglichkeit': 7713, 'fridgeguy': 7714, 'paulo': 7715, 'vaeterchen': 7716, 'duss': 7717, 'machtverlust': 7718, 'klarkommen': 7719, 'babysetter': 7720, 'jeans': 7721, 'adultos': 7722, 'oporno': 7723, 'vwstd': 7724, 'kordimvp': 7725, 'neeyrox': 7726, 'hahahaha': 7727, 'grandel1': 7728, 'meinanusbrennt': 7729, 'foxoderfuchs': 7730, 'eis': 7731, 'buergerliche': 7732, 'pflicht': 7733, 'abzusetzen': 7734, 'inakoslows1': 7735, 'nylonfacesitting': 7736, 'vergoetterst': 7737, 'roxyred19589189': 7738, 'fullgoonzone': 7739, 'hundefriedhoof': 7740, 'profis': 7741, 'zustand': 7742, 'angreifer': 7743, 'verlangten': 7744, 'bekehren': 7745, 'pastor': 7746, 'lehnten': 7747, 'littlepeeps1963': 7748, 'gerueche': 7749, 'jemandem': 7750, 'wahrhe': 7751, 'mount': 7752, 'stupid': 7753, 'dunningkruger': 7754, 'auslaendischen': 7755, 'hochgeschrieben': 7756, 'knuddelbacke': 7757, 'froebelschule': 7758, 'aschaffenburg': 7759, 'integrie': 7760, 'fellgerber': 7761, 'afdnbg': 7762, 'ehemalige': 7763, 'umweltpa': 7764, 'ziele': 7765, 'feuer': 7766, 'seyfe': 7767, 'rad': 7768, 'habende': 7769, 'kathrin': 7770, 'habenschaden': 7771, 'gothano': 7772, 'mitreissende': 7773, 'aufbruch': 7774, 'totalem': 7775, 'spitzenpolitikerin': 7776, 'schwulerfurry': 7777, 'freekringeh': 7778, 'discord': 7779, 'patrickkul': 7780, 'stickerbrush': 7781, 'bittersweet': 7782, 'michalocalpixel': 7783, 'realbuschpilot': 7784, 'schmeissfliege': 7785, 'tiempo': 7786, 'secure': 7787, 'joins': 7788, 'nusim': 7789, 'nering': 7790, 'network': 7791, 'rza': 7792, 'cons': 7793, 'autsch': 7794, 'ipad': 7795, 'svenishell': 7796, 'pegida': 7797, 'montagen': 7798, 'nurindresden': 7799, 'nopegidadd': 7800, 'schwiegersohn': 7801, 'schwiegermutter': 7802, 'perverse': 7803, 'amathure': 7804, 'dachbalken': 7805, 'dicklich': 7806, 'mutti': 7807, 'kuemme': 7808, 'ums': 7809, 'berufstaetigkeit': 7810, 'erlaubt': 7811, 'pflichten': 7812, 'warumeli': 7813, 'opfi': 7814, 'lsss': 7815, 'satansbrut': 7816, 'okee42203068': 7817, 'stroeermedia': 7818, 'dabiggapicta': 7819, 'twitpatli': 7820, 'operationlibero': 7821, 'knarren': 7822, 'muslima': 7823, 'keeprespect79': 7824, 'naiv': 7825, 'aelter': 7826, 'city': 7827, 'roller': 7828, 'rumschleude': 7829, 'knoechel': 7830, 'heutzutage': 7831, 'yungestablismnt': 7832, 'panzerfahrenbot': 7833, 'zonenbiest': 7834, 'taschentuecher': 7835, 'papier': 7836, 'wegwerfen': 7837, 'sollten': 7838, 'furry': 7839, 'knallfrog': 7840, 'fussballfans': 7841, 'daenk': 7842, 'ritaliddle': 7843, 'vatikans': 7844, 'terrorista': 7845, 'komme': 7846, 'next': 7847, '138b': 7848, 'claymation': 7849, 'zwicki': 7850, 'zwacki': 7851, 'platsch': 7852, 'grunneldude': 7853, 'schnapp': 7854, 'lieblingsmenschen': 7855, 'sobald': 7856, 'kuscheln': 7857, 'rueckgaengen': 7858, 'gegensteuern': 7859, 'vergleicht': 7860, 'volkskammer': 7861, 'urgh': 7862, 'wahl2019': 7863, 'disch': 7864, 'gleisch': 7865, 'lan': 7866, 'staatliche': 7867, 'brisantes': 7868, 'dokument': 7869, 'belegt': 7870, 'linksgruene': 7871, 'gehirnwaesche': 7872, 'theviice': 7873, 'spursofficial': 7874, 'klatsche': 7875, 'overperformed': 7876, 'genuss': 7877, 'cdsuerklaerer': 7878, 'stasi': 7879, 'braunste': 7880, 'umlackie': 7881, 'sedfdj': 7882, 'seltsamerweise': 7883, 'ruebenhorst': 7884, 'erscheinen': 7885, 'undankbar': 7886, 'brehm25502987': 7887, 'teilhaben': 7888, 'eskalie': 7889, 'uebersetze': 7890, 'koeppel': 7891, 'sozialdetektive': 7892, 'spionieren': 7893, 'schwerk': 7894, 'surny': 7895, 'pedo': 7896, 'tf2': 7897, 'vielweiberei': 7898, 'mische': 7899, 'creamspeak': 7900, 'life': 7901, 'hack': 7902, 'magenspiegelung': 7903, 'hummer': 7904, 'arzt': 7905, 'verkl': 7906, 'schmidja2017': 7907, 'vorgeschickt': 7908, 'auszuloten': 7909, 'oberen': 7910, 'reagieren': 7911, 'koks': 7912, 'faust': 7913, 'wolff1': 7914, 'wolff': 7915, 'unwaehlbar': 7916, 'bussi': 7917, 'bier': 7918, 'ruegt': 7919, 'bierdeckel': 7920, 'putzt': 7921, 'wichtiger': 7922, 'tiera': 7923, 'reisewut': 7924, 'tiefenunscharf': 7925, 'puste': 7926, 'reagie': 7927, 'scheffel': 7928, 'drdav': 7929, 'lasset': 7930, 'danken': 7931, 'benabdelazizc': 7932, 'thannith': 7933, 'scrogneugneu': 7934, 'weltweit': 7935, 'koryphaeen': 7936, 'steckst': 7937, 'bloedheit': 7938, 'staatszersetzend': 7939, 'krasavice': 7940, 'wessen': 7941, 'frauenarsch': 7942, 'hahn41729786': 7943, 'arbeitslager': 7944, 'aggressive': 7945, 'rauskommen': 7946, 'kurzistweg': 7947, 'imageberatungen': 7948, 'reglementarisch': 7949, 'eingre': 7950, 'laender': 7951, 'vereinigen': 7952, 'verbruedern': 7953, 'konse': 7954, 'duracellsheep': 7955, 'tippe': 7956, 'ohrlaeppchen': 7957, 'ojobamiji': 7958, 'players': 7959, 'alexe1789': 7960, 'unscharf': 7961, 'linkspopulisten': 7962, 'sites': 7963, 'convento': 7964, 'lantermann': 7965, 'intervenie': 7966, 'pormno': 7967, 'nahaufnahme': 7968, 'completi': 7969, 'brak': 7970, 'rothen': 7971, 'schwer': 7972, 'herbst': 7973, 'infantilen': 7974, 'trullas': 7975, 'analena': 7976, 'ska': 7977, 'kats': 7978, 'willk': 7979, 'knastdichti': 7980, 'bekaempfen': 7981, 'hoh': 7982, 'einziger': 7983, 'koscher': 7984, 'jarnderhund': 7985, 'introlohd': 7986, 'rineya': 7987, 'weeb': 7988, 'bastetfurry': 7989, 'iran': 7990, 'wahlveranstaltung': 7991, 'strachegate': 7992, 'strachepk': 7993, 'gottnan': 7994, 'akaprious': 7995, 'adulto': 7996, 'teey': 7997, 'geeh': 7998, 'deutschlandfeindlich': 7999, 'poolshark1910': 8000, 'impft': 8001, '5256verletzter1': 8002, 'evidenz': 8003, 'basie': 8004, 'inkl': 8005, 'annageilgirl': 8006, 'sagst': 8007, 'entscheide': 8008, 'tifftxxxxf': 8009, 'facts': 8010, 'ch1990ris': 8011, 'nobodysheroine': 8012, 'xdonna': 8013, 'mies': 8014, 'hugs': 8015, 'urlaubsstimmung': 8016, 'vermiesen': 8017, 'quentindupont19': 8018, 'dunkerque': 8019, 'schmusedogamos': 8020, 'itcollie': 8021, 'wem': 8022, 'vorwiegend': 8023, 'problemvie': 8024, 'chefredakteur': 8025, 'run': 8026, 'rannilein': 8027, 'mean': 8028, 'ansichtandere': 8029, 'jaehrige': 8030, '70': 8031, 'jaehrigen': 8032, 'zusammengeschlagen': 8033, 'lebensgefaehrlich': 8034, 'verle': 8035, 'juicydiablo': 8036, 'wow': 8037, 'meistens': 8038, 'sow': 8039, 'apa': 8040, 'mentnr9': 8041, 'einzigen': 8042, 'verehren': 8043, 'pauschal': 8044, 'verachten': 8045, 'allmachts': 8046, 'ichbinscaspa': 8047, 'raumplanungtv': 8048, 'lohnt': 8049, 'muehe': 8050, 'verneig': 8051, 'freyafolke': 8052, 'spooeki': 8053, 'lbe': 8054, 'kuba': 8055, 'zutreffend': 8056, 'bilat': 8057, 'denrfun': 8058, 'gottverdammt': 8059, 'ipompeule': 8060, 'vermuellte': 8061, 'verdreckte': 8062, 'afdeppen': 8063, 'pseudopatrioten': 8064, 'meilenweit': 8065, 'vorbei': 8066, 'periklesmeier': 8067, 'mextase': 8068, 'kaelter': 8069, 'sonnenaktivitaet': 8070, 'abnimmt': 8071, 'fleisch': 8072, 'abw': 8073, 'teilzeitotaku': 8074, 'denkweise': 8075, 'polen': 8076, 'crazyivan1979': 8077, 'tommykrappweis': 8078, 'gehwaehlen': 8079, 'waehl': 8080, 'istangelico': 8081, 'archangel': 8082, 'annunciate': 8083, '1433': 8084, 'earlyrenaissance': 8085, 'italiana': 8086, 'darude': 8087, 'sandstorm': 8088, '6th': 8089, 'mix': 8090, 'couchionista': 8091, 'liege': 8092, 'mizunowaverider': 8093, 'pictimundi': 8094, 'erzaehl': 8095, 'bloeder': 8096, 'sebbe2704': 8097, 'fifakadabra': 8098, 'pavard': 8099, 'rfejerwgoje4g0w4ogvkregh0e': 8100, 'beschuetzen': 8101, '5g': 8102, 'mast': 8103, 'guter': 8104, 'einwurf': 8105, 'absenkung': 8106, 'wahlalters': 8107, 'muy': 8108, 'tetonas': 8109, 'mdels': 8110, 'prominente': 8111, 'organisationen': 8112, 'werdens': 8113, 'richten': 8114, 'sammeln': 8115, 'ep': 8116, 'ansammlung': 8117, 'vollidioten': 8118, 'kolonne': 8119, 'moskaus': 8120, 'jusosdresden': 8121, 'gegoogelt': 8122, 'speer': 8123, '02': 8124, 'krokodilgemuese': 8125, 'grafik': 8126, 'erschreckend': 8127, 'bisher': 8128, 'eingeredet': 8129, 'ungebildet': 8130, 'rodrigonavarror': 8131, 'gebrochener': 8132, 'foersterjoerg': 8133, 'kapital': 8134, 'preis': 8135, 'pun': 8136, 'intended': 8137, 'schweinerei': 8138, 'neutralisie': 8139, 'befuerwo': 8140, 'klimanotstandes': 8141, 'grundrechte': 8142, 'nadelstiche': 8143, 'jh': 8144, 'gruszecki': 8145, 'jah': 8146, 'ausends': 8147, 'verein': 8148, 'wochenlang': 8149, 'gefahren': 8150, 'saeckeweise': 8151, 'tobiasinfo': 8152, 'una': 8153, 'programme': 8154, 'zusammenfassen': 8155, 'haben': 8156, 'h4usmeister': 8157, 'vollidiot': 8158, 'entsorgen': 8159, 'marokanischen': 8160, 'hintergrund': 8161, 'sende': 8162, 'fakeblondinchen': 8163, 'raz0rfist': 8164, 'schloothuessi1': 8165, 'machtergreifung': 8166, 'naht': 8167, 'beissen': 8168, 'corgis': 8169, 'hol': 8170, 'biete': 8171, 'displate': 8172, 'wund': 8173, 'stjepan': 8174, 'ivan': 8175, 'stroemungstoene': 8176, 'fuzo': 8177, 'undefinierbares': 8178, 'sprachengewirr': 8179, 'venitroll': 8180, 'mathyvin': 8181, 'zurzeit': 8182, 'thars0n': 8183, 'mirjam': 8184, 'fischer': 8185, 'rand': 8186, 'ner': 8187, 'elstunde': 8188, 'anfaengt': 8189, 'devisen': 8190, 'eurokurs': 8191, 'broeckelt': 8192, 'phelps12347': 8193, 'reimst': 8194, 'kranken': 8195, 'seastarhd': 8196, 'pause': 8197, 'wurde': 8198, 'suro': 8199, 'meg': 8200, 'efganidoenmez': 8201, 'bilden': 8202, 'monoblock': 8203, 'nachtkoenig': 8204, 'realbryanleib': 8205, 'dcexaminer': 8206, 'edlaborcmte': 8207, 'bobbyscott': 8208, 'nenne': 8209, 'niacavaon': 8210, 'irgendwo': 8211, 'maschine': 8212, 'geputzt': 8213, 'proudeucitizen': 8214, 'nation': 8215, 'ehesten': 8216, 'nationalc': 8217, 'sam': 8218, 'reisst': 8219, 'rolandnelles': 8220, 'lebenslange': 8221, 'gastprofessur': 8222, 'realjohr': 8223, 'moralischer': 8224, 'landesverrat': 8225, 'auszeichnung': 8226, 'rueckgratlos': 8227, 'wahlvieh': 8228, 'weltordnung': 8229, 'uebervo': 8230, 'handelsueberschuss': 8231, 'afrikanische': 8232, 'bauern': 8233, 'bankenabhaengikeit': 8234, 'glaesernen': 8235, 'pastelpinkjm': 8236, 'est': 8237, 'raegt': 8238, 'einfaellt': 8239, 'aerger': 8240, 'nachfolger': 8241, 'blatter': 8242, 'wil': 8243, 'hacklauch': 8244, 'vshangrila': 8245, 'tiny': 8246, 'house': 8247, 'migraene': 8248, 'mischung': 8249, 'bravehea': 8250, 'einsamer': 8251, 'hobbit': 8252, 'witzfigur': 8253, 'anonymous': 8254, 'teller': 8255, 'tassen': 8256, 'besteck': 8257, 'geklaut': 8258, 'heule': 8259, 'kkb': 8260, 'zeug': 8261, 'saschakam': 8262, 'hannoderbus': 8263, 'originaltitel': 8264, 'aiararose': 8265, 'fbieger': 8266, 'kormosklaus': 8267, 'verseucht': 8268, 'pazifik': 8269, 'stroemungen': 8270, 'meere': 8271, 'tinosoph': 8272, 'fluegel': 8273, 'fuehler': 8274, 'summst': 8275, 'maaaaannnn': 8276, 'unentschieden': 8277, 'mannschaxtdn': 8278, 'zielen': 8279, 'svwbvb': 8280, 'geisteskrank': 8281, 'rootsroy1': 8282, 'mitregie': 8283, 'armutssc': 8284, 'kazi': 8285, 'suesser': 8286, 'concealer': 8287, 'foundation': 8288, 'ausreise': 8289, 'sperre': 8290, 'verhaengt': 8291, 'inhaftie': 8292, 'mutte': 8293, 'foseti': 8294, 'hals': 8295, 'frauaufunddavon': 8296, 'alexcwha': 8297, 'ziegenstall': 8298, 'einbaerliii': 8299, 'filmen': 8300, 'tristanteuto': 8301, 'ausschnitt': 8302, 'schnelllaufdurchlauf': 8303, 'grossa': 8304, 'maedels': 8305, 'bruellen': 8306, 'contra': 8307, 'mateta': 8308, 'respektlos': 8309, 'mainz05': 8310, 'fsvmainz05': 8311, 'bundesliga': 8312, 'nachtlos': 8313, 'spekuliere': 8314, 'karmadingsbums': 8315, 'ueberlegen': 8316, 'schiethus': 8317, 'wka': 8318, 'flaechen': 8319, 'envielfalt': 8320, 'ingen': 8321, 'mountaindream5': 8322, 'dissidentder': 8323, 'frankvanvossen': 8324, 'derjenige': 8325, 'tro': 8326, 'menno': 8327, 'erkaeltet': 8328, 'klimawandel': 8329, 'fatma': 8330, 'morgana': 8331, 'lieblingsbotschaft': 8332, 'buchlaeden': 8333, '1425833': 8334, 'mails': 8335, 'mentions': 8336, 'botaniker3': 8337, 'knuddelmon': 8338, 'christianklink4': 8339, 'plenken': 8340, 'marlboroplatin': 8341, 'flugangst': 8342, 'bammel': 8343, 'soja': 8344, 'bean': 8345, 'mood': 8346, 'schwingt': 8347, 'snacc': 8348, 'ansc': 8349, 'lufthansanews': 8350, 'vorhang': 8351, 'freiraum': 8352, 'tablet': 8353, 'halterung': 8354, 'usb': 8355, 'anschluesse': 8356, 'a321neo': 8357, 'sirius': 8358, 'cmdkrieger': 8359, 'jettekrokette': 8360, 'zahlsklaven': 8361, 'supplies': 8362, 'teuer': 8363, 'hornyturkgerman': 8364, 'kaeseberg': 8365, 'infotweet': 8366, 'melissapfs': 8367, 'frreschke': 8368, 'grapsch': 8369, 'strolch': 8370, 'sinnvollen': 8371, 'anschreiben': 8372, 'kerstinwagner': 8373, 'innovative': 8374, 'myteam': 8375, 'proudtobepa': 8376, 'giutamat': 8377, 'stolzer': 8378, 'gleich': 8379, 'zielwe': 8380, 'zumindest': 8381, 'yaoi': 8382, 'boys': 8383, 'awww': 8384, 'moser': 8385, 'uniformjacken': 8386, 'saying': 8387, 'marie0ffical': 8388, 'depressed': 8389, 'cum': 8390, 'mouth': 8391, 'lutschen': 8392, 'flugzeug': 8393, 'tschonka': 8394, 'wohnun': 8395, 'wweshieldguy': 8396, 'ernst': 8397, 'saubern': 8398, 'kuerzlich': 8399, 'ramadanan': 8400, 'realredknight': 8401, 'mh120480': 8402, 'jagrost': 8403, 'meldemuschi': 8404, 'punktabzug': 8405, 'verstoesse': 8406, 'grasundespresso': 8407, 'altmnds': 8408, 'jasmrw': 8409, 'shampoos': 8410, 'congratulations': 8411, 'vancullo': 8412, 'vermeh': 8413, 'bienen': 8414, 'erwecken': 8415, 'auserwaehlt': 8416, 'kuenstli': 8417, '09': 8418, 'goddessyasemin': 8419, 'bewundere': 8420, 'bluejeans': 8421, 'breit': 8422, 'draussen': 8423, 'tauben': 8424, 'ah': 8425, 'narzisstische': 8426, 'egomanie': 8427, 'boris': 8428, 'verlassen': 8429, 'brigitte': 8430, 'broken': 8431, 'ueberlebende': 8432, 'wahlkampfauftakt': 8433, 'petadeutschland': 8434, 'hoehle': 8435, 'masturbation': 8436, 'l00ser': 8437, 'ykanak': 8438, 'lieferando': 8439, 'haxe': 8440, 'codingcookey': 8441, 'imao': 8442, 'mohssen': 8443, 'massarrat': 8444, 'aussenminister': 8445, 'youngca': 8446, 'ridge': 8447, 'auftrage': 8448, 'dietmarba': 8449, 'langzeitschaedigung': 8450, 'galactictimmy': 8451, 'sandmann': 8452, 'mitliest': 8453, 'binaprivat': 8454, 'kernbehinde': 8455, 'bums': 8456, 'schraube': 8457, 'ssalto': 8458, 'saftigen': 8459, 'ninchen': 8460, 'deadname': 8461, 'surkunde': 8462, 'wahrscheinlich': 8463, 'marcito2018': 8464, 'misscharlez': 8465, 'aufregt': 8466, 'mitgemeint': 8467, 'drbrandner': 8468, 'spiegelredakteure': 8469, 'verschrieben': 8470, 'finsternis': 8471, 'primevideode': 8472, 'baem': 8473, 'style': 8474, 'fleabag2': 8475, 'phoebewallerbridge': 8476, 'primevideo': 8477, 'cauldron': 8478, 'kathari37057708': 8479, 'begruesst': 8480, '32etr02': 8481, 'heuchl': 8482, 'furzkissenn': 8483, 'vetovsvictory': 8484, 'loeblich': 8485, 'packen': 8486, 'latzhosen': 8487, 'diskriminie': 8488, 'gefuehlt': 8489, 'lildidgeridoo1': 8490, 'olafwedekind': 8491, 'paedophilenpolitik': 8492, 'rbarris': 8493, 'reuterspolitics': 8494, 'abides': 8495, 'lsterne': 8496, 'nutten': 8497, 'chatarrero': 8498, 'zwirn': 8499, 'iban': 8500, 'leerzeichen': 8501, 'angeben': 8502, 'schmoren': 8503, 'dreizack': 8504, 'magnumphotos': 8505, 'susan': 8506, 'meiselas': 8507, 'wins': 8508, 'prize': 8509, 'sohrab': 8510, 'hura': 8511, 'collaborates': 8512, 'with': 8513, 'fashion': 8514, 'designer': 8515, 'kiko': 8516, 'kostadinov': 8517, 'plus': 8518, 'manuel': 8519, 'dokto': 8520, 'itelklauenden': 8521, 'erwischten': 8522, 'eidbrechenden': 8523, 'hinstellt': 8524, 'beliebteste': 8525, 'vereidigt': 8526, 'uraltes': 8527, 'postulat': 8528, 'ga': 8529, 'haniawiatrek': 8530, 'tierquaelerei': 8531, 'halal': 8532, 'tiere': 8533, 'mantelgesc1': 8534, 'anemalon19': 8535, 'funktionaerin': 8536, 'hetz': 8537, 'april': 8538, 'braunauer': 8539, 'vizebuergermeister': 8540, 'dorr': 8541, 'gestoe': 8542, 'heit': 8543, 'waffen': 8544, 'dschland': 8545, 'badets': 8546, 'nuevocanario13': 8547, 'youtube': 8548, 'buntepraesident': 8549, 'versammlugsbehoerde': 8550, 'aufraeumen': 8551, 'alex1990glubb': 8552, 'privilegie': 8553, 'taetscheln': 8554, 'leine': 8555, 'asltf': 8556, 'falschinfo': 8557, 'widerspricht': 8558, 'dunn': 8559, 'akita': 8560, 'rocky': 8561, 'syrer': 8562, 'gue': 8563, 'verpruegel': 8564, 'gossenkomiker': 8565, 'bezeichnet': 8566, 'oesterreicher': 8567, 'schnell': 8568, 'statt': 8569, 'weitaus': 8570, 'geschrittener': 8571, 'arbeits': 8572, 'privatsex': 8573, 'vonerlenbach': 8574, 'bolzandrea': 8575, 'ohnehin': 8576, 'dianekrass': 8577, 'gegenwae': 8578, 'regelrechten': 8579, 'dsarkast': 8580, 'grob': 8581, 'gehst': 8582, 'gedankengut': 8583, 'uebst': 8584, 'kri': 8585, 'schoeoeoeoeoen': 8586, 'marine': 8587, 'lepen': 8588, 'suseschmitt': 8589, 'jault': 8590, 'bas': 8591, 'ton': 8592, 'gemein': 8593, 'klagen': 8594, 'bayerns': 8595, 'grenzpolizei': 8596, 'wolfgs2': 8597, 'vergessene': 8598, 'massaker': 8599, 'aleviten': 8600, 'kayemenner': 8601, 'boogie': 8602, 'underground': 8603, 'alhanda': 8604, 'kuzeng': 8605, 'zeitlinie': 8606, 'spuelen': 8607, 'felix': 8608, 'primitiven': 8609, 'gesteinigt': 8610, 'yokuzuna': 8611, 'sumo': 8612, 'pushkick': 8613, 'luft': 8614, 'kialohq': 8615, 'lieber': 8616, 'anandahasbi': 8617, 'internetmarketing': 8618, 'subversivaktiv': 8619, 'individuum': 8620, 'russophobe': 8621, 'alfunterwegs70': 8622, 'beluegen': 8623, 'kapieren': 8624, 'attacken': 8625, 'edwin': 8626, 'iboe': 8627, 'farben': 8628, 'clowns': 8629, 'verwenden': 8630, 'suanahilt': 8631, 'anstrengend': 8632, 'sandralustig13': 8633, 'mannomann': 8634, 'verwoehnte': 8635, 'furor': 8636, 'ethischen': 8637, 'ueberhoehung': 8638, 'kernkraftzwerg': 8639, 'vernascht': 8640, 'herzenssachen': 8641, 'staube': 8642, 'gezahlte': 8643, 'zeche': 8644, 'charakterschwaeche': 8645, 'alternativlose': 8646, 'gottkanzlerin': 8647, 'sammelt': 8648, 'einwanderer': 8649, 'maloche': 8650, 'gesucht': 8651, 'zis': 8652, 'versuchter': 8653, 'tots': 8654, 'shcin': 8655, 'konfermation': 8656, 'konfirmation': 8657, 'joergschindler': 8658, 'rfd': 8659, 'getoetet': 8660, 'dankeschoen': 8661, 'tisoow': 8662, 'gefaellst': 8663, 'naiven': 8664, 'wessis': 8665, 'klimaluege': 8666, 'nachr': 8667, 'pot': 8668, 'verpixelt': 8669, 'zeitw': 8670, 'hoher': 8671, 'natascher': 8672, 'toenung': 8673, 'kurzhaltende': 8674, 'haarfarbe': 8675, 'wodojiban': 8676, 'princhillmaru9': 8677, 'pussy': 8678, 'enger': 8679, 'babe': 8680, 'fraeulein': 8681, 'tessa': 8682, 'debatten': 8683, 'voranbringen': 8684, 'breche': 8685, 'fingernaegel': 8686, 'waisyszn': 8687, 'tommy': 8688, 'mufc11': 8689, 'juicycoman': 8690, 'clearmindset': 8691, 'bredasared': 8692, 'domestizieren': 8693, 'geschweige': 8694, 'integri': 8695, 'ddcyclist': 8696, 'aufklebern': 8697, 'abc321xyblabla': 8698, 'wodurch': 8699, 'ifikat': 8700, 'erwerbe': 8701, 'zerp': 8702, 'matthiashoehn': 8703, 'diegruenen': 8704, 'schafspelz': 8705, 'mollige': 8706, 'schwanzlutscher': 8707, 'asmr': 8708, 'gangbangpornos': 8709, 'gespochen': 8710, 'paddyvomdorf': 8711, 'appt': 8712, 'flug': 8713, 'capetown': 8714, 'klo': 8715, 'steuersenkung': 8716, 'steuerversagen': 8717, 'fli': 8718, 'subventionie': 8719, 'julia': 8720, 'verlinden': 8721, 'schneckentempo': 8722, 'bureg': 8723, 'punkte': 8724, '2086': 8725, 'waermeverso': 8726, 'annakatrein': 8727, 'weltpolikerin': 8728, 'biographie': 8729, 'mutige': 8730, 'progressive': 8731, 'agenda': 8732, 'ableitet': 8733, 'psemy': 8734, 'fut': 8735, 'aerge': 8736, 'improvisie': 8737, 'nagelneuen': 8738, 'glaenzenden': 8739, 'kacheln': 8740, 'dagegen': 8741, 'lackie': 8742, 'gelblich': 8743, 'wuens': 8744, 'schulle99a': 8745, 'engel': 8746, 'laien': 8747, 'schwesig': 8748, 'mafia': 8749, 'beaurisz': 8750, 'laerm': 8751, 'kaiserstrasse': 8752, 'laeutet': 8753, 'glocken': 8754, 'fenstern': 8755, 'droehnt': 8756, 'groenemeyer': 8757, 'sachsenkrieger4': 8758, 'as': 8759, 'untrade': 8760, 'ziehst': 8761, 'conclusion': 8762, 'fritzalter1': 8763, 'abitur': 8764, 'lucabbm': 8765, 'hurnsoehnen': 8766, 'allein': 8767, 'schanz': 8768, 'depressionen': 8769}\n"
          ]
        }
      ]
    },
    {
      "cell_type": "markdown",
      "source": [
        "\n",
        "# encoding or sequencing\n"
      ],
      "metadata": {
        "id": "Om2LhTM7ePG0"
      }
    },
    {
      "cell_type": "code",
      "source": [
        "\n",
        "\n",
        "encoded_clean_text_stem = tok_all.texts_to_sequences(clean_text_stem)\n",
        "print(clean_text_stem[0])\n",
        "print(encoded_clean_text_stem[0])\n",
        "\n"
      ],
      "metadata": {
        "colab": {
          "base_uri": "https://localhost:8080/"
        },
        "id": "GfIcTyo4eLR1",
        "outputId": "c4852834-fef7-4fdb-c41c-bdc39883c7e6"
      },
      "execution_count": null,
      "outputs": [
        {
          "output_type": "stream",
          "name": "stdout",
          "text": [
            "deutsche rothaarige porno reife deutsche frauen porno  deutsche politessen pornos porno deutsch inzets  \n",
            "[2, 1990, 16, 328, 2, 13, 16, 2, 1991, 85, 16, 64, 1992]\n"
          ]
        }
      ]
    },
    {
      "cell_type": "markdown",
      "source": [
        "# Pre-padding\n"
      ],
      "metadata": {
        "id": "HcMvR-6AeTRR"
      }
    },
    {
      "cell_type": "code",
      "source": [
        "\n",
        "\n",
        "from keras.preprocessing import sequence \n",
        "max_length = 100\n",
        "padded_clean_text_stem = sequence.pad_sequences(encoded_clean_text_stem, maxlen=max_length, padding='pre')\n",
        "\n"
      ],
      "metadata": {
        "id": "USSQJ15Pd5qP"
      },
      "execution_count": null,
      "outputs": []
    },
    {
      "cell_type": "markdown",
      "source": [
        "#ADASYN"
      ],
      "metadata": {
        "id": "_mOsBpxQeXce"
      }
    },
    {
      "cell_type": "code",
      "source": [
        "\n",
        "\n",
        "from imblearn.over_sampling import ADASYN\n",
        "ad = ADASYN(random_state=2)\n",
        "\n"
      ],
      "metadata": {
        "id": "pgVjZhlueVqI"
      },
      "execution_count": null,
      "outputs": []
    },
    {
      "cell_type": "code",
      "source": [
        "padded_clean_text_ADASYN, label_twoDimension_ADASYN = ad.fit_resample(padded_clean_text_stem, label_twoDimension)"
      ],
      "metadata": {
        "id": "5fBhYxgBeeDs"
      },
      "execution_count": null,
      "outputs": []
    },
    {
      "cell_type": "code",
      "source": [
        "\n",
        "\n",
        "label_twoDimension.shape\n",
        "padded_clean_text_stem.shape\n",
        "\n"
      ],
      "metadata": {
        "colab": {
          "base_uri": "https://localhost:8080/"
        },
        "id": "m3Suz-aneecn",
        "outputId": "53735cc0-49bf-418d-9fb0-e12547079292"
      },
      "execution_count": null,
      "outputs": [
        {
          "output_type": "execute_result",
          "data": {
            "text/plain": [
              "(2373, 100)"
            ]
          },
          "metadata": {},
          "execution_count": 29
        }
      ]
    },
    {
      "cell_type": "code",
      "source": [
        "label_twoDimension_ADASYN.shape"
      ],
      "metadata": {
        "colab": {
          "base_uri": "https://localhost:8080/"
        },
        "id": "PqArmWYxeoXe",
        "outputId": "df82f461-5442-42b2-c375-7f13beb4543d"
      },
      "execution_count": null,
      "outputs": [
        {
          "output_type": "execute_result",
          "data": {
            "text/plain": [
              "(6683, 4)"
            ]
          },
          "metadata": {},
          "execution_count": 30
        }
      ]
    },
    {
      "cell_type": "code",
      "source": [
        ""
      ],
      "metadata": {
        "id": "bDwOkruhepp-"
      },
      "execution_count": null,
      "outputs": []
    },
    {
      "cell_type": "markdown",
      "source": [
        "# Reading Test Data and Pre-processing\n"
      ],
      "metadata": {
        "id": "HF8sVjL5eq_t"
      }
    },
    {
      "cell_type": "code",
      "source": [
        "\n",
        "\n",
        "data_t = pd.read_csv('/content/german_test_1509.csv')\n",
        "pd.set_option('display.max_colwidth',150)\n",
        "data_t.head(10)\n",
        "\n"
      ],
      "metadata": {
        "colab": {
          "base_uri": "https://localhost:8080/",
          "height": 363
        },
        "id": "7jcCRH_Eer6z",
        "outputId": "40687070-930c-445a-9526-2ecf48f36d34"
      },
      "execution_count": null,
      "outputs": [
        {
          "output_type": "execute_result",
          "data": {
            "text/plain": [
              "              tweet_id  \\\n",
              "0  1129095874242650112   \n",
              "1  1129004308396236800   \n",
              "2  1130896929355907080   \n",
              "3  1132251534329307136   \n",
              "4  1124941869115498496   \n",
              "5  1129712298531184641   \n",
              "6  1123981478361219073   \n",
              "7  1124978296628961287   \n",
              "8  1129473948813541376   \n",
              "9  1131048922527424512   \n",
              "\n",
              "                                                                                                                                            text  \\\n",
              "0                                                                                                @derCarsti Boykottieren hört sich besser an. 💙💙   \n",
              "1  RT @ibikus31: Es wird spekuliert, ob Merkel ein Amt in Brüssel übernimmt.\\nWäre es so, wie schätzen Sie dann die Zukunft der Mitgliedstaaten…   \n",
              "2                           Hat #Hitler wirklich den Krieg in der Wüste verloren? Nach der #Welt Schlagzeile hat die #Tagesschau nicht reagiert.   \n",
              "3   RT @Beatrix_vStorch: #May tritt in UK unter Tränen zurück. Wenn #Merkel zurücktritt, dann auch unter Tränen – unter den Freudentränen von M…   \n",
              "4                                                   @justmeDoro Eher nicht. Das Gänse hauen wieder ab in ihre warmen Überwinterungsquartiere. 😅😂   \n",
              "5   RT @VonSchwer: Ein guter Patriot geht von Bord‼️Gestürzt durch einen, vom ZDF finanzierten, linken Schmierenkomödianten 😡‼️ https://t.co/rl…   \n",
              "6                   @yooli_derechte @MontanaBlack Mich wundert es echt wie du noch keine Cockschelle bekommen hast. Du kinderfickender Hurensohn   \n",
              "7                                                      Da war #SPD #Kuehnert und am Ende auch #Nahles einfach nur dumm:  https://t.co/aj001ZKeWk   \n",
              "8                      Nazan, komm bittebitte zurück, löse die „Punggdä“-Trulla ab und werde wieder LD-Moderatorin! 🙏🏻 #letsdance2019 #letsdance   \n",
              "9   RT @Junge_Freiheit: Die europäische Spitzenkandidatin der Grünen im Europawahlkampf, Franziska Keller, hat sich für eine CO2-Steuer ausgesp…   \n",
              "\n",
              "  task1 task2                  ID  \n",
              "0   NOT  NONE  hasoc_2020_de_1053  \n",
              "1   NOT  NONE   hasoc_2020_de_671  \n",
              "2   NOT  NONE  hasoc_2020_de_2977  \n",
              "3   NOT  NONE  hasoc_2020_de_1746  \n",
              "4   NOT  NONE  hasoc_2020_de_2416  \n",
              "5   HOF  NONE  hasoc_2020_de_1112  \n",
              "6   HOF  OFFN  hasoc_2020_de_2938  \n",
              "7   NOT  NONE  hasoc_2020_de_2205  \n",
              "8   NOT  NONE   hasoc_2020_de_387  \n",
              "9   NOT  NONE   hasoc_2020_de_459  "
            ],
            "text/html": [
              "\n",
              "  <div id=\"df-a593d8b1-1976-403f-b96f-2241ca5a9840\">\n",
              "    <div class=\"colab-df-container\">\n",
              "      <div>\n",
              "<style scoped>\n",
              "    .dataframe tbody tr th:only-of-type {\n",
              "        vertical-align: middle;\n",
              "    }\n",
              "\n",
              "    .dataframe tbody tr th {\n",
              "        vertical-align: top;\n",
              "    }\n",
              "\n",
              "    .dataframe thead th {\n",
              "        text-align: right;\n",
              "    }\n",
              "</style>\n",
              "<table border=\"1\" class=\"dataframe\">\n",
              "  <thead>\n",
              "    <tr style=\"text-align: right;\">\n",
              "      <th></th>\n",
              "      <th>tweet_id</th>\n",
              "      <th>text</th>\n",
              "      <th>task1</th>\n",
              "      <th>task2</th>\n",
              "      <th>ID</th>\n",
              "    </tr>\n",
              "  </thead>\n",
              "  <tbody>\n",
              "    <tr>\n",
              "      <th>0</th>\n",
              "      <td>1129095874242650112</td>\n",
              "      <td>@derCarsti Boykottieren hört sich besser an. 💙💙</td>\n",
              "      <td>NOT</td>\n",
              "      <td>NONE</td>\n",
              "      <td>hasoc_2020_de_1053</td>\n",
              "    </tr>\n",
              "    <tr>\n",
              "      <th>1</th>\n",
              "      <td>1129004308396236800</td>\n",
              "      <td>RT @ibikus31: Es wird spekuliert, ob Merkel ein Amt in Brüssel übernimmt.\\nWäre es so, wie schätzen Sie dann die Zukunft der Mitgliedstaaten…</td>\n",
              "      <td>NOT</td>\n",
              "      <td>NONE</td>\n",
              "      <td>hasoc_2020_de_671</td>\n",
              "    </tr>\n",
              "    <tr>\n",
              "      <th>2</th>\n",
              "      <td>1130896929355907080</td>\n",
              "      <td>Hat #Hitler wirklich den Krieg in der Wüste verloren? Nach der #Welt Schlagzeile hat die #Tagesschau nicht reagiert.</td>\n",
              "      <td>NOT</td>\n",
              "      <td>NONE</td>\n",
              "      <td>hasoc_2020_de_2977</td>\n",
              "    </tr>\n",
              "    <tr>\n",
              "      <th>3</th>\n",
              "      <td>1132251534329307136</td>\n",
              "      <td>RT @Beatrix_vStorch: #May tritt in UK unter Tränen zurück. Wenn #Merkel zurücktritt, dann auch unter Tränen – unter den Freudentränen von M…</td>\n",
              "      <td>NOT</td>\n",
              "      <td>NONE</td>\n",
              "      <td>hasoc_2020_de_1746</td>\n",
              "    </tr>\n",
              "    <tr>\n",
              "      <th>4</th>\n",
              "      <td>1124941869115498496</td>\n",
              "      <td>@justmeDoro Eher nicht. Das Gänse hauen wieder ab in ihre warmen Überwinterungsquartiere. 😅😂</td>\n",
              "      <td>NOT</td>\n",
              "      <td>NONE</td>\n",
              "      <td>hasoc_2020_de_2416</td>\n",
              "    </tr>\n",
              "    <tr>\n",
              "      <th>5</th>\n",
              "      <td>1129712298531184641</td>\n",
              "      <td>RT @VonSchwer: Ein guter Patriot geht von Bord‼️Gestürzt durch einen, vom ZDF finanzierten, linken Schmierenkomödianten 😡‼️ https://t.co/rl…</td>\n",
              "      <td>HOF</td>\n",
              "      <td>NONE</td>\n",
              "      <td>hasoc_2020_de_1112</td>\n",
              "    </tr>\n",
              "    <tr>\n",
              "      <th>6</th>\n",
              "      <td>1123981478361219073</td>\n",
              "      <td>@yooli_derechte @MontanaBlack Mich wundert es echt wie du noch keine Cockschelle bekommen hast. Du kinderfickender Hurensohn</td>\n",
              "      <td>HOF</td>\n",
              "      <td>OFFN</td>\n",
              "      <td>hasoc_2020_de_2938</td>\n",
              "    </tr>\n",
              "    <tr>\n",
              "      <th>7</th>\n",
              "      <td>1124978296628961287</td>\n",
              "      <td>Da war #SPD #Kuehnert und am Ende auch #Nahles einfach nur dumm:  https://t.co/aj001ZKeWk</td>\n",
              "      <td>NOT</td>\n",
              "      <td>NONE</td>\n",
              "      <td>hasoc_2020_de_2205</td>\n",
              "    </tr>\n",
              "    <tr>\n",
              "      <th>8</th>\n",
              "      <td>1129473948813541376</td>\n",
              "      <td>Nazan, komm bittebitte zurück, löse die „Punggdä“-Trulla ab und werde wieder LD-Moderatorin! 🙏🏻 #letsdance2019 #letsdance</td>\n",
              "      <td>NOT</td>\n",
              "      <td>NONE</td>\n",
              "      <td>hasoc_2020_de_387</td>\n",
              "    </tr>\n",
              "    <tr>\n",
              "      <th>9</th>\n",
              "      <td>1131048922527424512</td>\n",
              "      <td>RT @Junge_Freiheit: Die europäische Spitzenkandidatin der Grünen im Europawahlkampf, Franziska Keller, hat sich für eine CO2-Steuer ausgesp…</td>\n",
              "      <td>NOT</td>\n",
              "      <td>NONE</td>\n",
              "      <td>hasoc_2020_de_459</td>\n",
              "    </tr>\n",
              "  </tbody>\n",
              "</table>\n",
              "</div>\n",
              "      <button class=\"colab-df-convert\" onclick=\"convertToInteractive('df-a593d8b1-1976-403f-b96f-2241ca5a9840')\"\n",
              "              title=\"Convert this dataframe to an interactive table.\"\n",
              "              style=\"display:none;\">\n",
              "        \n",
              "  <svg xmlns=\"http://www.w3.org/2000/svg\" height=\"24px\"viewBox=\"0 0 24 24\"\n",
              "       width=\"24px\">\n",
              "    <path d=\"M0 0h24v24H0V0z\" fill=\"none\"/>\n",
              "    <path d=\"M18.56 5.44l.94 2.06.94-2.06 2.06-.94-2.06-.94-.94-2.06-.94 2.06-2.06.94zm-11 1L8.5 8.5l.94-2.06 2.06-.94-2.06-.94L8.5 2.5l-.94 2.06-2.06.94zm10 10l.94 2.06.94-2.06 2.06-.94-2.06-.94-.94-2.06-.94 2.06-2.06.94z\"/><path d=\"M17.41 7.96l-1.37-1.37c-.4-.4-.92-.59-1.43-.59-.52 0-1.04.2-1.43.59L10.3 9.45l-7.72 7.72c-.78.78-.78 2.05 0 2.83L4 21.41c.39.39.9.59 1.41.59.51 0 1.02-.2 1.41-.59l7.78-7.78 2.81-2.81c.8-.78.8-2.07 0-2.86zM5.41 20L4 18.59l7.72-7.72 1.47 1.35L5.41 20z\"/>\n",
              "  </svg>\n",
              "      </button>\n",
              "      \n",
              "  <style>\n",
              "    .colab-df-container {\n",
              "      display:flex;\n",
              "      flex-wrap:wrap;\n",
              "      gap: 12px;\n",
              "    }\n",
              "\n",
              "    .colab-df-convert {\n",
              "      background-color: #E8F0FE;\n",
              "      border: none;\n",
              "      border-radius: 50%;\n",
              "      cursor: pointer;\n",
              "      display: none;\n",
              "      fill: #1967D2;\n",
              "      height: 32px;\n",
              "      padding: 0 0 0 0;\n",
              "      width: 32px;\n",
              "    }\n",
              "\n",
              "    .colab-df-convert:hover {\n",
              "      background-color: #E2EBFA;\n",
              "      box-shadow: 0px 1px 2px rgba(60, 64, 67, 0.3), 0px 1px 3px 1px rgba(60, 64, 67, 0.15);\n",
              "      fill: #174EA6;\n",
              "    }\n",
              "\n",
              "    [theme=dark] .colab-df-convert {\n",
              "      background-color: #3B4455;\n",
              "      fill: #D2E3FC;\n",
              "    }\n",
              "\n",
              "    [theme=dark] .colab-df-convert:hover {\n",
              "      background-color: #434B5C;\n",
              "      box-shadow: 0px 1px 3px 1px rgba(0, 0, 0, 0.15);\n",
              "      filter: drop-shadow(0px 1px 2px rgba(0, 0, 0, 0.3));\n",
              "      fill: #FFFFFF;\n",
              "    }\n",
              "  </style>\n",
              "\n",
              "      <script>\n",
              "        const buttonEl =\n",
              "          document.querySelector('#df-a593d8b1-1976-403f-b96f-2241ca5a9840 button.colab-df-convert');\n",
              "        buttonEl.style.display =\n",
              "          google.colab.kernel.accessAllowed ? 'block' : 'none';\n",
              "\n",
              "        async function convertToInteractive(key) {\n",
              "          const element = document.querySelector('#df-a593d8b1-1976-403f-b96f-2241ca5a9840');\n",
              "          const dataTable =\n",
              "            await google.colab.kernel.invokeFunction('convertToInteractive',\n",
              "                                                     [key], {});\n",
              "          if (!dataTable) return;\n",
              "\n",
              "          const docLinkHtml = 'Like what you see? Visit the ' +\n",
              "            '<a target=\"_blank\" href=https://colab.research.google.com/notebooks/data_table.ipynb>data table notebook</a>'\n",
              "            + ' to learn more about interactive tables.';\n",
              "          element.innerHTML = '';\n",
              "          dataTable['output_type'] = 'display_data';\n",
              "          await google.colab.output.renderOutput(dataTable, element);\n",
              "          const docLink = document.createElement('div');\n",
              "          docLink.innerHTML = docLinkHtml;\n",
              "          element.appendChild(docLink);\n",
              "        }\n",
              "      </script>\n",
              "    </div>\n",
              "  </div>\n",
              "  "
            ]
          },
          "metadata": {},
          "execution_count": 31
        }
      ]
    },
    {
      "cell_type": "code",
      "source": [
        "data_t.shape"
      ],
      "metadata": {
        "colab": {
          "base_uri": "https://localhost:8080/"
        },
        "id": "NW-1CzCGe0Kg",
        "outputId": "1e717b5e-09ab-454c-e010-2e7cf0d909a4"
      },
      "execution_count": null,
      "outputs": [
        {
          "output_type": "execute_result",
          "data": {
            "text/plain": [
              "(526, 5)"
            ]
          },
          "metadata": {},
          "execution_count": 32
        }
      ]
    },
    {
      "cell_type": "code",
      "source": [
        "print(data_t.dtypes)"
      ],
      "metadata": {
        "colab": {
          "base_uri": "https://localhost:8080/"
        },
        "id": "iL9u8d38e0kR",
        "outputId": "2561df46-cec6-4bd3-b6c9-09c5b4aa72b5"
      },
      "execution_count": null,
      "outputs": [
        {
          "output_type": "stream",
          "name": "stdout",
          "text": [
            "tweet_id     int64\n",
            "text        object\n",
            "task1       object\n",
            "task2       object\n",
            "ID          object\n",
            "dtype: object\n"
          ]
        }
      ]
    },
    {
      "cell_type": "code",
      "source": [
        "label_t = data_t['task2']\n",
        "label_t.head()"
      ],
      "metadata": {
        "colab": {
          "base_uri": "https://localhost:8080/"
        },
        "id": "9e0_KBn9e17_",
        "outputId": "a540c3c9-9292-4886-fee5-42aee46e4485"
      },
      "execution_count": null,
      "outputs": [
        {
          "output_type": "execute_result",
          "data": {
            "text/plain": [
              "0    NONE\n",
              "1    NONE\n",
              "2    NONE\n",
              "3    NONE\n",
              "4    NONE\n",
              "Name: task2, dtype: object"
            ]
          },
          "metadata": {},
          "execution_count": 34
        }
      ]
    },
    {
      "cell_type": "code",
      "source": [
        "\n",
        "\n",
        "print(label_t.value_counts())\n",
        "import matplotlib.pyplot as plt\n",
        "label_t.value_counts().plot(kind='bar', color='red')\n",
        "\n"
      ],
      "metadata": {
        "colab": {
          "base_uri": "https://localhost:8080/",
          "height": 392
        },
        "id": "x6u0-WRae3aC",
        "outputId": "c9c29afd-1a9b-4709-99d1-5a3e04b71155"
      },
      "execution_count": null,
      "outputs": [
        {
          "output_type": "stream",
          "name": "stdout",
          "text": [
            "NONE    378\n",
            "PRFN     88\n",
            "OFFN     36\n",
            "HATE     24\n",
            "Name: task2, dtype: int64\n"
          ]
        },
        {
          "output_type": "execute_result",
          "data": {
            "text/plain": [
              "<matplotlib.axes._subplots.AxesSubplot at 0x7f21d9dcc2d0>"
            ]
          },
          "metadata": {},
          "execution_count": 35
        },
        {
          "output_type": "display_data",
          "data": {
            "text/plain": [
              "<Figure size 432x288 with 1 Axes>"
            ],
            "image/png": "[encoded data removed]"
          },
          "metadata": {
            "needs_background": "light"
          }
        }
      ]
    },
    {
      "cell_type": "code",
      "source": [
        "\n",
        "\n",
        "import numpy as np\n",
        "classes_list_t = [\"NONE\",\"HATE\",\"OFFN\",\"PRFN\"]\n",
        "label_t_index = data_t['task2'].apply(classes_list_t.index)\n",
        "final_label_t = np.asarray(label_t_index)\n",
        "print(final_label_t[:10])\n",
        "\n"
      ],
      "metadata": {
        "colab": {
          "base_uri": "https://localhost:8080/"
        },
        "id": "3VCOozK-e45u",
        "outputId": "492e467e-fe99-4a6c-cf73-66031f5dbf57"
      },
      "execution_count": null,
      "outputs": [
        {
          "output_type": "stream",
          "name": "stdout",
          "text": [
            "[0 0 0 0 0 0 2 0 0 0]\n"
          ]
        }
      ]
    },
    {
      "cell_type": "code",
      "source": [
        "\n",
        "\n",
        "from keras.utils.np_utils import to_categorical\n",
        "label_twoDimension_t = to_categorical(final_label_t, num_classes=4)\n",
        "\n"
      ],
      "metadata": {
        "id": "fkIJ6_WNe6q5"
      },
      "execution_count": null,
      "outputs": []
    },
    {
      "cell_type": "code",
      "source": [
        "print(label_twoDimension_t[:10])"
      ],
      "metadata": {
        "colab": {
          "base_uri": "https://localhost:8080/"
        },
        "id": "6bxOjUb6e8aY",
        "outputId": "9f073e1a-06e4-44fc-c58d-8cf0abb6b07f"
      },
      "execution_count": null,
      "outputs": [
        {
          "output_type": "stream",
          "name": "stdout",
          "text": [
            "[[1. 0. 0. 0.]\n",
            " [1. 0. 0. 0.]\n",
            " [1. 0. 0. 0.]\n",
            " [1. 0. 0. 0.]\n",
            " [1. 0. 0. 0.]\n",
            " [1. 0. 0. 0.]\n",
            " [0. 0. 1. 0.]\n",
            " [1. 0. 0. 0.]\n",
            " [1. 0. 0. 0.]\n",
            " [1. 0. 0. 0.]]\n"
          ]
        }
      ]
    },
    {
      "cell_type": "code",
      "source": [
        "\n",
        "\n",
        "text_t = data_t['text']\n",
        "text_t.head(10)\n",
        "\n"
      ],
      "metadata": {
        "colab": {
          "base_uri": "https://localhost:8080/"
        },
        "id": "3KGReXCDe9ur",
        "outputId": "5db5630b-c807-4f61-fa5d-e00afbef1d66"
      },
      "execution_count": null,
      "outputs": [
        {
          "output_type": "execute_result",
          "data": {
            "text/plain": [
              "0                                                                                                  @derCarsti Boykottieren hört sich besser an. 💙💙\n",
              "1    RT @ibikus31: Es wird spekuliert, ob Merkel ein Amt in Brüssel übernimmt.\\nWäre es so, wie schätzen Sie dann die Zukunft der Mitgliedstaaten…\n",
              "2                             Hat #Hitler wirklich den Krieg in der Wüste verloren? Nach der #Welt Schlagzeile hat die #Tagesschau nicht reagiert.\n",
              "3     RT @Beatrix_vStorch: #May tritt in UK unter Tränen zurück. Wenn #Merkel zurücktritt, dann auch unter Tränen – unter den Freudentränen von M…\n",
              "4                                                     @justmeDoro Eher nicht. Das Gänse hauen wieder ab in ihre warmen Überwinterungsquartiere. 😅😂\n",
              "5     RT @VonSchwer: Ein guter Patriot geht von Bord‼️Gestürzt durch einen, vom ZDF finanzierten, linken Schmierenkomödianten 😡‼️ https://t.co/rl…\n",
              "6                     @yooli_derechte @MontanaBlack Mich wundert es echt wie du noch keine Cockschelle bekommen hast. Du kinderfickender Hurensohn\n",
              "7                                                        Da war #SPD #Kuehnert und am Ende auch #Nahles einfach nur dumm:  https://t.co/aj001ZKeWk\n",
              "8                        Nazan, komm bittebitte zurück, löse die „Punggdä“-Trulla ab und werde wieder LD-Moderatorin! 🙏🏻 #letsdance2019 #letsdance\n",
              "9     RT @Junge_Freiheit: Die europäische Spitzenkandidatin der Grünen im Europawahlkampf, Franziska Keller, hat sich für eine CO2-Steuer ausgesp…\n",
              "Name: text, dtype: object"
            ]
          },
          "metadata": {},
          "execution_count": 39
        }
      ]
    },
    {
      "cell_type": "code",
      "source": [
        "test_wo_umlauts = text_t.apply(lambda x: remove_umlaut(x))"
      ],
      "metadata": {
        "id": "8nDl_cl1aXcb"
      },
      "execution_count": null,
      "outputs": []
    },
    {
      "cell_type": "code",
      "source": [
        "\n",
        "\n",
        "import re \n",
        "\n",
        "def text_clean(text):\n",
        "    ''' Pre process and convert texts to a list of words '''\n",
        "    \n",
        "    text=text.lower()\n",
        "\n",
        "    # Clean the text\n",
        "    text = re.sub(r\"[^A-Za-z0-9^,!.\\/'+-=]\", \" \", text)\n",
        "    text = re.sub('https?://\\S+|www\\.\\S+', \"\", text)\n",
        "    text = re.sub(r\"rt\", \" \", text)\n",
        "\n",
        "    return text\n",
        "\n"
      ],
      "metadata": {
        "id": "yWXcraAde_Kk"
      },
      "execution_count": null,
      "outputs": []
    },
    {
      "cell_type": "code",
      "source": [
        "clean_text_t = test_wo_umlauts.apply(lambda x:text_clean(x))"
      ],
      "metadata": {
        "id": "bTZn995vfA09"
      },
      "execution_count": null,
      "outputs": []
    },
    {
      "cell_type": "code",
      "source": [
        "clean_text_t.head(10)"
      ],
      "metadata": {
        "colab": {
          "base_uri": "https://localhost:8080/"
        },
        "id": "7bRLFvuGfCg5",
        "outputId": "9bf4ba10-0cec-4f85-c3c9-b8396b3ead80"
      },
      "execution_count": null,
      "outputs": [
        {
          "output_type": "execute_result",
          "data": {
            "text/plain": [
              "0                                                                                                      dercarsti boykottieren hoe  sich besser an.   \n",
              "1         ibikus31: es wird spekulie , ob merkel ein amt in bruessel uebernimmt. waere es so, wie schaetzen sie dann die zukunft der mitgliedstaaten \n",
              "2                                hat  hitler wirklich den krieg in der wueste verloren  nach der  welt schlagzeile hat die  tagesschau nicht reagie .\n",
              "3       beatrix vstorch:  may tritt in uk unter traenen zurueck. wenn  merkel zuruecktritt, dann auch unter traenen   unter den freudentraenen von m \n",
              "4                                                        justmedoro eher nicht. das gaense hauen wieder ab in ihre warmen ueberwinterungsqua iere.   \n",
              "5                          vonschwer: ein guter patriot geht von bord  gestuerzt durch einen, vom zdf finanzie en, linken schmierenkomoedianten      \n",
              "6                          yooli derechte  montanablack mich wunde  es echt wie du noch keine cockschelle bekommen hast. du kinderfickender hurensohn\n",
              "7                                                                                   da war  spd  kuehne  und am ende auch  nahles einfach nur dumm:  \n",
              "8                        nazan, komm bittebitte zurueck, loese die  punggdae -trulla ab und werde wieder ld-moderatorin!     letsdance2019  letsdance\n",
              "9         junge freiheit: die europaeische spitzenkandidatin der gruenen im europawahlkampf, franziska keller, hat sich fuer eine co2-steuer ausgesp \n",
              "Name: text, dtype: object"
            ]
          },
          "metadata": {},
          "execution_count": 43
        }
      ]
    },
    {
      "cell_type": "code",
      "source": [
        "import nltk\n",
        "from nltk.corpus import stopwords\n",
        "nltk.download('stopwords')\n",
        "def stop_words_removal(text1):\n",
        "    text1=[w for w in  text1.split(\" \")  if w not in stopwords.words('german')]\n",
        "    return \" \".join(text1)"
      ],
      "metadata": {
        "colab": {
          "base_uri": "https://localhost:8080/"
        },
        "id": "Q5sKb1JFfDot",
        "outputId": "698d0855-05f3-4837-e6bd-dd378feed9db"
      },
      "execution_count": null,
      "outputs": [
        {
          "output_type": "stream",
          "name": "stdout",
          "text": [
            "[nltk_data] Downloading package stopwords to /root/nltk_data...\n",
            "[nltk_data]   Package stopwords is already up-to-date!\n"
          ]
        }
      ]
    },
    {
      "cell_type": "code",
      "source": [
        "clean_text_t_ns=clean_text_t.apply(lambda x: stop_words_removal(x))"
      ],
      "metadata": {
        "id": "QKY4NGykfFOc"
      },
      "execution_count": null,
      "outputs": []
    },
    {
      "cell_type": "code",
      "source": [
        "print(clean_text_t_ns.head(10))"
      ],
      "metadata": {
        "colab": {
          "base_uri": "https://localhost:8080/"
        },
        "id": "ZOBmOqr_fGqd",
        "outputId": "a8b83f1d-5689-4a8c-ebd0-b075acdc9542"
      },
      "execution_count": null,
      "outputs": [
        {
          "output_type": "stream",
          "name": "stdout",
          "text": [
            "0                                                                                dercarsti boykottieren hoe  besser an.   \n",
            "1                        ibikus31: spekulie , merkel amt bruessel uebernimmt. waere so, schaetzen zukunft mitgliedstaaten \n",
            "2                                            hitler wirklich krieg wueste verloren   welt schlagzeile  tagesschau reagie .\n",
            "3                        beatrix vstorch:  may tritt uk traenen zurueck.  merkel zuruecktritt, traenen   freudentraenen m \n",
            "4                                                justmedoro eher nicht. gaense hauen ab warmen ueberwinterungsqua iere.   \n",
            "5                 vonschwer: guter patriot geht bord  gestuerzt einen, zdf finanzie en, linken schmierenkomoedianten      \n",
            "6                            yooli derechte  montanablack wunde  echt cockschelle bekommen hast. kinderfickender hurensohn\n",
            "7                                                                                spd  kuehne  ende  nahles einfach dumm:  \n",
            "8                  nazan, komm bittebitte zurueck, loese  punggdae -trulla ab ld-moderatorin!     letsdance2019  letsdance\n",
            "9       junge freiheit: europaeische spitzenkandidatin gruenen europawahlkampf, franziska keller, fuer co2-steuer ausgesp \n",
            "Name: text, dtype: object\n"
          ]
        }
      ]
    },
    {
      "cell_type": "code",
      "source": [
        "\n",
        "\n",
        "# Stemming\n",
        "from nltk.stem import SnowballStemmer \n",
        "stemmer = SnowballStemmer(\"german\")\n",
        "\n",
        "def word_stemmer(text):\n",
        "    stem_text = \"\".join([stemmer.stem(i) for i in text])\n",
        "    return stem_text\n",
        "\n"
      ],
      "metadata": {
        "id": "ln81c149fILv"
      },
      "execution_count": null,
      "outputs": []
    },
    {
      "cell_type": "code",
      "source": [
        "clean_text_t_stem = clean_text_t_ns.apply(lambda x : word_stemmer(x))"
      ],
      "metadata": {
        "id": "JPBBb0ykfJuB"
      },
      "execution_count": null,
      "outputs": []
    },
    {
      "cell_type": "code",
      "source": [
        "print(clean_text_t_stem.head(10))"
      ],
      "metadata": {
        "colab": {
          "base_uri": "https://localhost:8080/"
        },
        "id": "YDHwF9L3fLoN",
        "outputId": "b8d5a22e-6fd5-4e27-f7c7-aa093b23e4a1"
      },
      "execution_count": null,
      "outputs": [
        {
          "output_type": "stream",
          "name": "stdout",
          "text": [
            "0                                                                                dercarsti boykottieren hoe  besser an.   \n",
            "1                        ibikus31: spekulie , merkel amt bruessel uebernimmt. waere so, schaetzen zukunft mitgliedstaaten \n",
            "2                                            hitler wirklich krieg wueste verloren   welt schlagzeile  tagesschau reagie .\n",
            "3                        beatrix vstorch:  may tritt uk traenen zurueck.  merkel zuruecktritt, traenen   freudentraenen m \n",
            "4                                                justmedoro eher nicht. gaense hauen ab warmen ueberwinterungsqua iere.   \n",
            "5                 vonschwer: guter patriot geht bord  gestuerzt einen, zdf finanzie en, linken schmierenkomoedianten      \n",
            "6                            yooli derechte  montanablack wunde  echt cockschelle bekommen hast. kinderfickender hurensohn\n",
            "7                                                                                spd  kuehne  ende  nahles einfach dumm:  \n",
            "8                  nazan, komm bittebitte zurueck, loese  punggdae -trulla ab ld-moderatorin!     letsdance2019  letsdance\n",
            "9       junge freiheit: europaeische spitzenkandidatin gruenen europawahlkampf, franziska keller, fuer co2-steuer ausgesp \n",
            "Name: text, dtype: object\n"
          ]
        }
      ]
    },
    {
      "cell_type": "code",
      "source": [
        "\n",
        "\n",
        "import keras\n",
        "import tensorflow\n",
        "from keras.preprocessing.text import Tokenizer\n",
        "tok_test = Tokenizer(filters='!\"#$%&\\'()*+,-./:;<=>?@[\\\\]^_`{|}~', lower=True, char_level = False)\n",
        "tok_test.fit_on_texts(clean_text_t_stem)\n",
        "\n"
      ],
      "metadata": {
        "id": "ANZ_LGnBfM78"
      },
      "execution_count": null,
      "outputs": []
    },
    {
      "cell_type": "code",
      "source": [
        "\n",
        "\n",
        "vocabulary_all_test = len(tok_test.word_counts)\n",
        "print(vocabulary_all_test)\n",
        "\n"
      ],
      "metadata": {
        "colab": {
          "base_uri": "https://localhost:8080/"
        },
        "id": "OX9cHBuCfOgf",
        "outputId": "5cedddee-355b-4fc0-cb52-957ab9550d22"
      },
      "execution_count": null,
      "outputs": [
        {
          "output_type": "stream",
          "name": "stdout",
          "text": [
            "2687\n"
          ]
        }
      ]
    },
    {
      "cell_type": "code",
      "source": [
        "\n",
        "\n",
        "test_list = tok_test.word_index\n",
        "print(test_list)\n",
        "\n"
      ],
      "metadata": {
        "colab": {
          "base_uri": "https://localhost:8080/"
        },
        "id": "yoK0GEGUfP_5",
        "outputId": "4b12e0fe-b2f4-4580-ba3f-8c7841959434"
      },
      "execution_count": null,
      "outputs": [
        {
          "output_type": "stream",
          "name": "stdout",
          "text": [
            "{'einfach': 1, 'deutsche': 2, 'arsch': 3, 'merkel': 4, 'fuer': 5, 'schon': 6, 'gruenen': 7, 'scheiss': 8, 'gt': 9, 'ab': 10, 'mal': 11, 'halt': 12, 'linken': 13, 'dumm': 14, 'porno': 15, 'welt': 16, 'hurensohn': 17, 'immer': 18, 'nazis': 19, 'frau': 20, 'mehr': 21, 'scheisse': 22, 'frauen': 23, 'ja': 24, 'zurueck': 25, 'gratis': 26, 'echt': 27, 'gruene': 28, 'warum': 29, 'tagesschau': 30, 'islam': 31, 'gibt': 32, 'en': 33, 'kinder': 34, 'ficken': 35, 'pack': 36, 'heute': 37, 'idioten': 38, 'ueber': 39, 'hoe': 40, 'besser': 41, 'lange': 42, 'eu': 43, 'dumme': 44, 'e': 45, 'schulz': 46, '3': 47, 'linke': 48, 'wuerde': 49, 'erst': 50, 'leben': 51, 'bild': 52, 'europa': 53, 'ist': 54, 'kopf': 55, 's': 56, 'kurz': 57, '5': 58, '12': 59, 'hasse': 60, 'deutschland': 61, 'eigentlich': 62, 'fresse': 63, 'b': 64, 'gabriel': 65, 'neue': 66, 'an': 67, 'waere': 68, 'eher': 69, 'nicht': 70, 'ganzen': 71, 'lassen': 72, 'a': 73, 'grund': 74, 'kotzen': 75, 'de': 76, 'dummen': 77, 'ma': 78, 'afd': 79, 'politiker': 80, 'h': 81, 'gesicht': 82, 'nie': 83, 'so': 84, 'hitler': 85, 'zdf': 86, 'spd': 87, '2019': 88, 'deutschen': 89, 'c': 90, 'habt': 91, 'neuen': 92, 'stimmt': 93, 'd': 94, 'gehirn': 95, 'moslems': 96, 'koennen': 97, 'reicht': 98, 'sowas': 99, 'x': 100, '10': 101, '99': 102, 'macht': 103, '50': 104, 'geile': 105, 'gruen': 106, 'pornos': 107, 'gerne': 108, 'sta': 109, 'm': 110, 'bekommen': 111, 'junge': 112, 'nich': 113, 'eh': 114, 'weiss': 115, '06': 116, '14': 117, '05': 118, 'wollen': 119, 'net': 120, '2': 121, 'ahnung': 122, 'richtig': 123, 'sitzen': 124, 'seehofer': 125, 'nazi': 126, 'zdfheute': 127, 'gefickt': 128, 'darf': 129, 'meisten': 130, 'politik': 131, 'usa': 132, 'u': 133, 'haben': 134, 'tuerken': 135, 'mutter': 136, 'luegen': 137, 'deutsch': 138, 'tief': 139, 'quak': 140, 'deal': 141, 'auch': 142, 'essen': 143, 'groesste': 144, 'maul': 145, 'schoen': 146, 'mdchen': 147, 'sawsanchebli': 148, 'pa': 149, 'peter': 150, 'jungen': 151, '29': 152, 'zeigt': 153, 'hennef': 154, 'amp': 155, 'bruessel': 156, 'vonschwer': 157, 'geht': 158, 'ende': 159, 'nahles': 160, 'is': 161, 'ideologie': 162, '4': 163, 'vorbei': 164, 'schaut': 165, 'hbf': 166, 'europas': 167, 'willst': 168, 'ard': 169, 'gehoe': 170, 'ausfall': 171, '21': 172, '11': 173, '01': 174, 'land': 175, 'moechte': 176, 'ifb': 177, 'zusammen': 178, 'v': 179, 'warn': 180, 'westen': 181, 'bald': 182, 'dafuer': 183, 'hoer': 184, 'lass': 185, '20': 186, 'wurde': 187, 'koennte': 188, 'f': 189, 'sehen': 190, 'ka': 191, 'damals': 192, 'oma': 193, 'ddr': 194, 'likes': 195, 'bezahlt': 196, 'lt': 197, 'dummes': 198, 'gewaehlt': 199, 'sicherheit': 200, 'frueher': 201, 'sirschnee': 202, 'angela': 203, 'gehoeren': 204, 'geld': 205, 'arschloch': 206, 'be': 207, 'tuerkei': 208, 'aufraeumen': 209, 'tragen': 210, 'sollen': 211, 'ausser': 212, 'fette': 213, 'voll': 214, 'geiler': 215, 'richtiger': 216, 'rot': 217, 'kyshera': 218, 'ei': 219, 'watch': 220, 'alten': 221, 'do': 222, 'passt': 223, 'geil': 224, 'arschloecher': 225, 'sehe': 226, 'dummer': 227, 'liebe': 228, '13': 229, 'wegen': 230, 'dr': 231, '6': 232, 'kostenlose': 233, 'fluechtlinge': 234, 'irgendwie': 235, 'glaube': 236, 'z': 237, 'wand': 238, 'merkels': 239, 'reden': 240, 'leute': 241, '7': 242, '8': 243, 'ibikus31': 244, 'wirklich': 245, 'verloren': 246, 'beatrix': 247, 'vstorch': 248, 'may': 249, 'traenen': 250, 'yooli': 251, 'derechte': 252, 'montanablack': 253, 'wunde': 254, 'hast': 255, 'kuehne': 256, 'komm': 257, 'freiheit': 258, 'europaeische': 259, 'europawahlkampf': 260, 'heissen': 261, 'drauf': 262, 'esc2019': 263, 'menschen': 264, 'bezeichnen': 265, 'ach': 266, 'gar': 267, 'sagt': 268, 'waehlen': 269, 'tot': 270, 'fuern': 271, 'lol': 272, 'fr': 273, 'ueberall': 274, 'gib': 275, 'dorsten': 276, 'teilausfall': 277, 'kommt': 278, 'einfuehren': 279, 'fah': 280, 'wild': 281, 'ne': 282, 'reg': 283, 'wahl': 284, 'erste': 285, 'schlimm': 286, '19': 287, 'one': 288, 'fies': 289, 'arme': 290, 'typ': 291, 'bremen': 292, 'kommen': 293, 'schaffen': 294, 'eva': 295, 'spiegelonline': 296, 'gibts': 297, 'unglaublich': 298, 'russische': 299, 'nackt': 300, 'alte': 301, 'muschi': 302, 'boden': 303, 'mir': 304, 'fahren': 305, '36': 306, 'alle': 307, 'regierung': 308, 'sagen': 309, 'hund': 310, 'sieht': 311, 'unfollow': 312, 'drdavidberger': 313, 'heulen': 314, '33': 315, 'brot': 316, 'seit': 317, 'findom': 318, 'teilen': 319, 'europawahl2019': 320, 'lachen': 321, 'islamisierung': 322, 'werden': 323, 'schlimmer': 324, 'same': 325, 'nic': 326, 'automaten': 327, 'verdammt': 328, 'waehler': 329, 'anfang': 330, 'sachen': 331, 'aufklaerer2017': 332, 'los': 333, 'verdanken': 334, 'erwa': 335, 'et': 336, 'schlagabtausch': 337, 'live': 338, 'rede': 339, 'propaganda': 340, 'sex': 341, 'muessen': 342, 'd2s': 343, '38': 344, 'eur': 345, 'raus': 346, 'mdr': 347, 'versucht': 348, 'pennen': 349, 'kacke': 350, 'merkst': 351, 'unserer': 352, 'tun': 353, 'kostenlos': 354, 'deutscher': 355, 'xd': 356, 'soviel': 357, 'haut': 358, 'movie': 359, '9': 360, 'itunes': 361, 'sale': 362, 'ueberhaupt': 363, 'korrupt': 364, 'w': 365, 'passie': 366, 'claudia': 367, 'religion': 368, 'friedens': 369, 'verkaufen': 370, 'luegenpresse': 371, 'erdogan': 372, 'trotzdem': 373, 'millionen': 374, '1': 375, 'ig': 376, 'loeffel': 377, 'penner': 378, 'wer': 379, 'brief': 380, 'at': 381, 'stbrandner': 382, 'das': 383, 'es': 384, 'der': 385, 'auf': 386, 'rechte': 387, 'rein': 388, 'wird': 389, 'no': 390, 'langsam': 391, 'vergewaltigung': 392, 'bereits': 393, 'tv': 394, 'eingeladen': 395, 'sofo': 396, 'update': 397, 'ca': 398, 'ramsen': 399, 'hoffe': 400, 'eier': 401, 'derb': 402, 'abseits': 403, 'zivilisation': 404, 'abgelegen': 405, 'umschrieben': 406, 'einlauf': 407, 'gerade': 408, 'fickt': 409, 'koblenz': 410, 'akk': 411, 'cdu': 412, 'funktionie': 413, 'wissenschaft': 414, 'bareholebitch': 415, 'frank': 416, 'song': 417, 'freundin': 418, 'werbung': 419, 'union': 420, 'machen': 421, 'geilen': 422, 'moegen': 423, 'bitte': 424, 'via': 425, 'erkenntnis': 426, 'cem': 427, 'oezdemir': 428, 'schlampen': 429, 'wisst': 430, 'nutte': 431, 'sorry': 432, 'nix': 433, 'nen': 434, 'fick': 435, 'nigromontanus': 436, 'milf': 437, 'merkelmussweg': 438, 'system': 439, 'warnung': 440, 'kant': 441, 'ko': 442, 'hr': 443, 'erlaubt': 444, 'berlin': 445, 'mitte': 446, 'i': 447, 'wuerselen': 448, 'harvard': 449, 'af': 450, 'stueck': 451, 'schwanz': 452, 'maas': 453, 'ltere': 454, '57': 455, 'xdeanmusicx': 456, 'gauland': 457, 'denken': 458, 'nazisraus': 459, 'vllt': 460, 'schwester': 461, 'gesagt': 462, 'naja': 463, 'si': 464, 'iq': 465, 'stimulator': 466, 'konservative': 467, 'troisdorf': 468, 'verspaetungskuerzung': 469, 'schere': 470, 'trump': 471, 'steine': 472, 'herrn': 473, 'aus': 474, 'tyske': 475, 'verantwo': 476, 'heimat': 477, 've': 478, 'berliner': 479, 'ziemlich': 480, 'sterben': 481, 'koennt': 482, 'yeah': 483, 'welle': 484, 'schiebt': 485, 'gaebe': 486, 'bereit': 487, 'gab': 488, 'downloaden': 489, 'nackte': 490, 'rp19': 491, '0': 492, 'al': 493, 'sozialisten': 494, 'freilichmagazin': 495, 'interfilm': 496, 'horrem': 497, 'lets': 498, 'plays': 499, 'fcbayern': 500, 'dercarsti': 501, 'boykottieren': 502, 'spekulie': 503, 'amt': 504, 'uebernimmt': 505, 'schaetzen': 506, 'zukunft': 507, 'mitgliedstaaten': 508, 'krieg': 509, 'wueste': 510, 'schlagzeile': 511, 'reagie': 512, 'tritt': 513, 'uk': 514, 'zuruecktritt': 515, 'freudentraenen': 516, 'justmedoro': 517, 'gaense': 518, 'hauen': 519, 'warmen': 520, 'ueberwinterungsqua': 521, 'iere': 522, 'guter': 523, 'patriot': 524, 'bord': 525, 'gestuerzt': 526, 'einen': 527, 'finanzie': 528, 'schmierenkomoedianten': 529, 'cockschelle': 530, 'kinderfickender': 531, 'nazan': 532, 'bittebitte': 533, 'loese': 534, 'punggdae': 535, 'trulla': 536, 'ld': 537, 'moderatorin': 538, 'letsdance2019': 539, 'letsdance': 540, 'spitzenkandidatin': 541, 'franziska': 542, 'keller': 543, 'co2': 544, 'steuer': 545, 'ausgesp': 546, 'mknhofheim': 547, 'backstage0000': 548, 'graubaer1953': 549, 'dduric': 550, 'yorck': 551, 'weber': 552, 'altmaier': 553, 'haen': 554, 'denkausfall': 555, 'lenarogl': 556, 'zunaechst': 557, 'beschraenken': 558, 'monsieur': 559, 'belier': 560, 'swiftxcited': 561, 'arsenal': 562, 'lady': 563, 'blockieren': 564, 'gut': 565, 'pakinson': 566, 'hand': 567, 'gbr': 568, 'jemandoriginal': 569, 'bestimmten': 570, 'folgen': 571, 'crazydigital': 572, 'vor': 573, 'uhr': 574, 'die': 575, '31': 576, 'jahre': 577, 'mach': 578, 'mit': 579, 'festpreise': 580, 'lob': 581, 'holzen': 582, 'amazonas': 583, 'sche': 584, 'cwbwelias': 585, 'theresagesper': 586, 'note': 587, 'verbessern': 588, 'physik': 589, 'referat': 590, 'stabile': 591, 'sahel': 592, 'staaten': 593, 'hilfe': 594, 'andyamholst': 595, 'sozialdarwinistische': 596, 'vorstufe': 597, 'froh': 598, 'saison': 599, 'verlaengerung': 600, 'leidens': 601, 'vfb': 602, 'sgepeeti': 603, 'verdursten': 604, 'gam': 605, 'fo': 606, 'nitegame': 607, 'almans': 608, 'problem': 609, 'gntm': 610, 'hyperbushido': 611, 'streu': 612, 'symon634': 613, 'ficke': 614, 'enkeltochter': 615, 'opas': 616, 'opis': 617, 'alter': 618, 'sack': 619, 'nwbrb44': 620, 'oberhausen': 621, '51': 622, '15': 623, 'greenziegel': 624, 'idee': 625, 'parkgebuehr': 626, 'fahrrader': 627, 'parkgebuehren': 628, 'comfeekazu': 629, 'freigeist': 630, 'nicolasjanzen': 631, 'och': 632, 'haha': 633, 'wohne': 634, 'schwelm': 635, 'nerd': 636, 'tj': 637, 'tweets': 638, 'rezomusik': 639, 'erinnerungen': 640, 'lefloid': 641, 'wach': 642, 'nationalismus': 643, 'feind': 644, 'europawahl19': 645, 'saufkumpel': 646, 'betiteln': 647, 'talent': 648, 'chrisepunkt': 649, 'doh': 650, 'bruder': 651, 'beides': 652, 'theitcrowdblog': 653, 'theitcrowd': 654, '04': 655, '07': 656, 'freetv': 657, 'itcrowd': 658, 'islamiqde': 659, 'amifabnow': 660, 'ashie': 661, 'pandabrchenthe1': 662, 'unbequem': 663, 'dwntwnbeats': 664, 'nachbarn': 665, 'laut': 666, 'musik': 667, 'anmacht': 668, 'messen': 669, 'anlange': 670, 'spucke': 671, 'seife': 672, 'nwbrs2': 673, 'burg': 674, '08': 675, 'twistringen': 676, '09': 677, 'betriebliche': 678, 'gruend': 679, 'wincent': 680, 'lanz': 681, 'kaum': 682, 'respekt': 683, 'deutscheamateu1': 684, 'sahne': 685, 'julia42833681': 686, 'leisner': 687, 'finde': 688, 'gewinne': 689, 'ekelhaft': 690, 'schockierend': 691, 'robdoubleyoo': 692, 'mialleixa34': 693, 'idiot': 694, 'veg': 695, 'and': 696, 'were': 697, 'pro': 698, 'animals': 699, 'sionist': 700, 'priv': 701, 'girl': 702, 'froehliches': 703, 'nationalitaetenraten': 704, 'angesagt': 705, 'degenerie': 706, 'master': 707, 'dlx': 708, 'lieben': 709, 'staendiger': 710, 'suppo': 711, 'exclusiv': 712, 'orientales': 713, 'follando': 714, 'fotosammlung': 715, 'pneumannberlin': 716, 'flixbus': 717, 'sebczaja': 718, 'omnibus': 719, 'bdo': 720, 'fernbus': 721, 'kasi': 722, 'alb': 723, 'lieblingslied': 724, 'innenminister': 725, 'kehre': 726, 'pisst': 727, 'stroemen': 728, 'fahrrad': 729, 'grillen': 730, 'unt': 731, 'hab': 732, 'durch': 733, 'jahren': 734, 'du': 735, 'hoehepunkt': 736, 'olivia': 737, 'frey55': 738, 'maltekaufmann': 739, 'maltchen': 740, 'hetze': 741, 'genutzt': 742, 'geschaetzt': 743, 'ra': 744, 'unglaublicher': 745, 'sigrid': 746, 'aktiv': 747, 'paranoia': 748, 'bestaeubung': 749, 'fridaysforfu': 750, 'ure': 751, 'voraus': 752, 'ooh': 753, 'narzisstischen': 754, 'ih': 755, 'seppgamsbichler': 756, 'joachimkessel': 757, 'soleylifa': 758, 'hockerrocker80': 759, 'exgruene': 760, 'mauschwitz': 761, 'joerg': 762, 'meuthen': 763, 'darauf': 764, 'organisie': 765, 'jutta': 766, 'ditfu': 767, 'tanturs': 768, 'jaaaa': 769, 'maxscurscur': 770, 'sah': 771, 'hurensoehne': 772, 'uech': 773, 'tadelloser': 774, 'wolf': 775, 'rudere': 776, 'verdammte': 777, 'ufer': 778, 'moza': 779, '2018': 780, 'sponse': 781, 'bau': 782, 'bloedsinn': 783, 'steuerzahler': 784, 'brutal': 785, 'abgemolken': 786, 'moment': 787, 'zugewandt': 788, 'zeitgleich': 789, 'ruecken': 790, 'hintern': 791, 'semihkrll': 792, 'hkktndr': 793, 'immediately': 794, 'xadlive': 795, 'cool': 796, 'bemuehtes': 797, 'ikelchen': 798, 'stellen': 799, 'kongress': 800, 'waegen': 801, 'wider': 802, 'skandaaaaaa': 803, 'bundestagsabgeordnete': 804, 'hoechst': 805, 'steigender': 806, 'verfolgung': 807, 'homosexueller': 808, 'riegel': 809, 'vorschieben': 810, 'lassmichbitteee': 811, 'eltern': 812, 'spass': 813, 'hurensohne': 814, 'fucking': 815, 'rum': 816, 'fuxking': 817, 'piraten': 818, 'nbb': 819, 'oranienburg': 820, 'sowie': 821, 'kreistag': 822, 'oberhavel': 823, 'kandidie': 824, 'ria': 825, 'nicola': 826, 'patchworkmutter': 827, 'quasseltier': 828, 'cyberramona': 829, 'huensoehne': 830, 'wuaaaaaaa': 831, 'fettes': 832, 'nordisch': 833, 'by': 834, 'nature': 835, 'hip': 836, 'hop': 837, 'legende': 838, 'neuem': 839, 'album': 840, 'lovestory': 841, 'moegt': 842, 'neueste': 843, 'bilder': 844, 'mandala': 845, 'retweet': 846, 'setzen': 847, 'sexy': 848, 'nude': 849, 'young': 850, 'germany': 851, 'ass': 852, 'nichtleslo': 853, 'erdkunde': 854, 'dermassen': 855, 'hauptstaede': 856, 'palastluger': 857, 'koepi': 858, 'momentanen': 859, 'abgeht': 860, 'laecherlich': 861, 'just': 862, 'sayin': 863, 'sackhaarfrisur': 864, 'gemuetlichen': 865, 'feie': 866, 'ags': 867, 'abend': 868, 'bissele': 869, 'trans': 870, 'warp': 871, 'gleichung': 872, 'tuefteln': 873, 'kr': 874, 'drumheadberlin': 875, 'unheil': 876, 'groessten': 877, 'anteil': 878, 'rest': 879, 'vasallen': 880, 'fern': 881, 'schreiber': 882, 'klasse': 883, 'zwei': 884, 'scheissegal': 885, 'opfer': 886, 'rapperin': 887, 'juju': 888, 'aktue': 889, 'zeitung': 890, 'energie': 891, 'vattenfall': 892, 'wasserstoff': 893, 'stayawakexo': 894, 'icys0da': 895, 'kongstrongru': 896, 'saskia': 897, 'harmon': 898, 'stellst': 899, 'triggern': 900, 'eucap': 901, 'niger': 902, 'funkeberlin': 903, 'westiebot': 904, 'mamafus': 905, 'peiwei': 906, 'apatzwahl': 907, 'nachdenkenswe': 908, 'siegeszug': 909, 'netzfund': 910, 'guidodietel': 911, 'entzauberung': 912, 'gestoppt': 913, 'skakeller': 914, 'geheimwaffe': 915, 'lautet': 916, 'labern': 917, 'aufgibt': 918, 'holgerewald1': 919, 'imam': 920, 'warnt': 921, 'uns': 922, 'gemaessigten': 923, 'helfen': 924, 'amy': 925, 'fliegenderelf': 926, 'suesseste': 927, 'koesst': 928, 'feiern': 929, 'klimawandelskeptikerin': 930, 'ruth': 931, 'townsley': 932, 'gefeue': 933, 'saeure': 934, 'farage': 935, 'gespritzt': 936, 'eklig': 937, 'charity': 938, 'policy': 939, 'chief': 940, 'kontoauszug': 941, 'drucken': 942, 'kassei': 943, 'tretet': 944, 'nochmal': 945, 'parlaments': 946, 'zieht': 947, 'hasser': 948, 'ulihaase': 949, 'sounds2move': 950, 'therealmrboccia': 951, 'taunusabbel': 952, 'eintracht': 953, 'merk': 954, 'freie': 955, 'gemeinderat': 956, 'multitain': 957, 'haticeakyuen': 958, 'kuehe': 959, 'unfinanzierbaren': 960, 'zukunftsvisionen': 961, 'melken': 962, 'kann': 963, 'buje78': 964, 'abgestiegen': 965, 'egal': 966, 'liga': 967, 'hsv': 968, 'hapaxlegomenos': 969, 'gestellt': 970, 'grunde': 971, 'normativ': 972, 'fakuum': 973, 'abgespaceste': 974, 'leipzig': 975, 'eisenbahnstrasse': 976, 'gingen': 977, 'araber': 978, 'aufeinander': 979, 'tuerke': 980, 'abgestochen': 981, 'bruststich': 982, 'alido': 983, 'olivari': 984, 'pepper46477330': 985, 'studienabbrechern': 986, 'subjekten': 987, 'ausbildung': 988, 'halbg': 989, 'ragazzi': 990, 'viele': 991, 'ticker': 992, 'spannung': 993, 'spricht': 994, 'havard': 995, 'absolventen': 996, 'swatch': 997, 'uhren': 998, 'toblerone': 999, 'muesst': 1000, 'schweizer': 1001, 'fernse': 1002, 'nebelniek': 1003, 'schlafen': 1004, 'kacken': 1005, 'jeky': 1006, 'veroeffentlicht': 1007, 'weitaus': 1008, 'bka': 1009, 'lagebild': 1010, 'gewalt': 1011, 'zuwanderern': 1012, 'nimm': 1013, 'analulla': 1014, 'fickgeilste': 1015, 'sekretaerin': 1016, 'ever': 1017, 'ruebenhorst': 1018, 'lernen': 1019, 'fehlern': 1020, 'quittung': 1021, 'steuerfinanzie': 1022, 'herbs': 1023, 'muttis': 1024, 'kostenloser': 1025, 'frankfu': 1026, 'erotik': 1027, 'massage': 1028, 'fkk': 1029, 'schweden': 1030, 'sitze': 1031, 'halbie': 1032, 'tja': 1033, 'ohren': 1034, 'klingeln': 1035, 'osram': 1036, '66240clc': 1037, 'xenarc': 1038, 'classic': 1039, 'duo': 1040, '61': 1041, 'new': 1042, 'lampen': 1043, 'xenon': 1044, 'brenner': 1045, 'xenonlampen': 1046, 'hallaschka': 1047, 'hh': 1048, 'konataplayz': 1049, 'mofuggaffm': 1050, 'tacoskr': 1051, '68': 1052, 'mdraktuell': 1053, 'soso': 1054, 'gelogen': 1055, 'war': 1056, 'plaer': 1057, 'tof': 1058, 'spekulieren': 1059, 'geliebt': 1060, 'worden': 1061, 'besinnunglos': 1062, 'abends': 1063, 'penis': 1064, 'aschenbecher': 1065, 'prdgrmn': 1066, 'renft1964': 1067, 'vorstellen': 1068, 'dinge': 1069, 'findet': 1070, 'traditionelles': 1071, 'backhausfest': 1072, 'tetscher': 1073, 'zwiebelkuchen': 1074, 'kuchen': 1075, 'special': 1076, 'heujahr': 1077, 'lauchkuchen': 1078, 'niederlaendische': 1079, 'abn': 1080, 'amro': 1081, 'bank': 1082, 'schwaechelt': 1083, 'jahresbeginn': 1084, 'tradesfeed': 1085, 'lanaaloveless': 1086, 'eiern': 1087, 'militaerhubschrauber': 1088, 'spezielle': 1089, 'zyklonfilter': 1090, 'shaden': 1091, 'aufgewirbeltem': 1092, 'turbinen': 1093, 'ninchen': 1094, 'lebst': 1095, 'feminismusgruppe': 1096, 'frauelo': 1097, 'sempfglas': 1098, 'herbstgefuehl': 1099, 'abtreibung': 1100, 'unmoralisch': 1101, 'erkennt': 1102, 'hinsicht': 1103, 'hirnverbrannte': 1104, 'drunkenraindrop': 1105, 'gefragt': 1106, 'presse': 1107, 'altpa': 1108, 'eien': 1109, '1000': 1110, 'islamisch': 1111, 'motivie': 1112, 'gewalttaten': 1113, 'abe': 1114, 'titten': 1115, 'nylon': 1116, 'parkplatzsex': 1117, 'kmoneydom': 1118, 'dunkle': 1119, 'jeans': 1120, 'l': 1121, 'brauchen': 1122, 'vibrator': 1123, 'ytbestofsjonas': 1124, 'redet': 1125, 'tag': 1126, 'kong': 1127, 'skull': 1128, 'island': 1129, 'regieren': 1130, 'ewig': 1131, 'hin': 1132, 'wiskundig': 1133, 'onjuist': 1134, 'disfosgen': 1135, 'geschwafel': 1136, 'schreiberling': 1137, 'buerokratie': 1138, 'joy333': 1139, 'fremde': 1140, 'frech': 1141, 'bekannte': 1142, 'freunde': 1143, 'etc': 1144, 'jagdfieber': 1145, 'kinderleben': 1146, 'fahne': 1147, 'nationalfahnen': 1148, 'hunde': 1149, 'tausende': 1150, 'naechsterunde': 1151, 'allerdings': 1152, 'bgefahren': 1153, 'machtgeil': 1154, 'jetzigen': 1155, 'charge': 1156, 'beschleicht': 1157, 'verdacht': 1158, 'waeren': 1159, 'einfa': 1160, 'officialnuplays': 1161, 'lowerclassmag': 1162, 'wichtig': 1163, 'liberalos': 1164, 'auslaendische': 1165, 'insbesondere': 1166, 'oligarchin': 1167, 'adele66661': 1168, 'schreddern': 1169, 'voegeln': 1170, 'vernichten': 1171, 'bienen': 1172, 'anbau': 1173, 'monokulturen': 1174, 'inf': 1175, 'blickch': 1176, 'erwiesen': 1177, 'muell': 1178, 'mikelontour': 1179, 'hasselfeld': 1180, 'wahlkampfhelferin': 1181, 'deepstateexpose': 1182, 'rothschild': 1183, 'lineage': 1184, 'houelle': 1185, 'beck': 1186, 'lu': 1187, 'rasend': 1188, 'windraeder': 1189, 'dazu': 1190, 'toetungs': 1191, 'crazy': 1192, 'umgehen': 1193, 'guennitack': 1194, 'teuren': 1195, 'karre': 1196, 'geizig': 1197, 'paar': 1198, 'euro': 1199, 'fuers': 1200, 'parkhaus': 1201, 'verraet': 1202, 'strenge': 1203, 'vorschriften': 1204, 'mimini97': 1205, 'kade': 1206, 're': 1207, 'gnocchi': 1208, 'mane': 1209, 'unbegreiflich': 1210, 'nido': 1211, 'magazin': 1212, 'grossbritannien': 1213, 'verhaltensforscher': 1214, 'unverheiratete': 1215, 'gluecklichsten': 1216, 'matthewsnow777': 1217, 'kevinalpha100': 1218, 'fernsehga': 1219, 'roterpaenda': 1220, 'piapale': 1221, 'niere': 1222, 'blutplasma': 1223, 'sebaso': 1224, 'grenzen': 1225, 'wachstums': 1226, 'billige': 1227, 'unwissenschaftliche': 1228, 'modellrechnung': 1229, 'verher': 1230, 'afternoonsand': 1231, 'acosta': 1232, 'seik': 1233, 'heilp': 1234, 'for': 1235, 'your': 1236, 'bullshit': 1237, 'hake': 1238, 'nach': 1239, 'europaweit': 1240, 'deutschla': 1241, 'wetter': 1242, 'wind': 1243, 'nnw': 1244, 'feuchtigkeit': 1245, 'luftdruck': 1246, '1039': 1247, 'hpa': 1248, 'eclipsesquirrei': 1249, 'doris': 1250, 'voice': 1251, 'valeriehoehne': 1252, 'oeffentlich': 1253, 'rechtlichen': 1254, 'grossteil': 1255, 'medien': 1256, 'infl': 1257, 'outofvalhalla': 1258, 'all': 1259, 'draussen': 1260, 'kritiker': 1261, 'leichtfe': 1262, 'nennt': 1263, 'kaempfen': 1264, 'dirkhafermann': 1265, 'kippa': 1266, 'refugeeswelcome': 1267, 'button': 1268, 'fancy': 1269, 'vorkommen': 1270, 'spaghetti': 1271, 'nem': 1272, 'gabel': 1273, 'sinnlos': 1274, 'dasperfektedinner': 1275, 'horopat': 1276, 'verfassungsschutz': 1277, 'lumpenverein': 1278, 'wollt': 1279, 'hier': 1280, 'andersdenkende': 1281, 'ueb': 1282, 'isis': 1283, 'anhaenger': 1284, 'updayde': 1285, 'gesendet': 1286, 'philippkirchbe2': 1287, 'regsprecher': 1288, 'peinliches': 1289, 'yasinaygan': 1290, 'tdoernb': 1291, 'alican': 1292, '2023': 1293, 'provomed': 1294, 'halts': 1295, 'stolz': 1296, 'har41637914': 1297, 'juergenbraunafd': 1298, 'volksterroristen': 1299, 'keiner': 1300, 'lamijaparker': 1301, 'zugzwang74': 1302, 'dave': 1303, 'mitchell': 1304, 'fsv': 1305, 'dfr38314168': 1306, 'devote': 1307, 'unweigerlich': 1308, 'geben': 1309, 'abgeschlossen': 1310, 'erol19732': 1311, 'zeitonline': 1312, 'sollten': 1313, 'ehemaligen': 1314, 'ueberprueft': 1315, 'stasi': 1316, 'boogie': 1317, 'underground': 1318, 'alhanda': 1319, 'amerikas': 1320, 'avengersendgame': 1321, 'b4rr0th': 1322, 'rufe': 1323, 'axel': 1324, 'voss': 1325, 'reisst': 1326, 'pepinosten': 1327, 'macher': 1328, 'gegensatz': 1329, 'lachern': 1330, 'ghile': 1331, 'ungesunde': 1332, 'schweinerei': 1333, 'knapper': 1334, 'zirkus': 1335, 'ceeembo': 1336, 'marcedonia': 1337, 'schroeder': 1338, 'vergleich': 1339, 'politicalbeauty': 1340, 'identitaeren': 1341, 'politische': 1342, 'kuenstler': 1343, 'radi': 1344, 'schule': 1345, 'gestern': 1346, 'abistress': 1347, 'wichsvorlage': 1348, 'teen': 1349, 'groe': 1350, 'schwnze': 1351, 'sexfilmegratis': 1352, 'clip': 1353, 'rickj78': 1354, 'fuuuuu': 1355, 'davinismus': 1356, 'rassist': 1357, 'supermarkt': 1358, 'weisse': 1359, 'bohnen': 1360, 'kauft': 1361, 'taschen': 1362, 'papier': 1363, 'zweitstaerkste': 1364, 'kraft': 1365, 'erzeit': 1366, 'fakt': 1367, 'sinnvoll': 1368, 'vi': 1369, 'lawyerberlin': 1370, 'staats': 1371, 'wurden': 1372, 'habeck': 1373, 'abaerbock': 1374, 'talk': 1375, 'shows': 1376, 'wahlmanipulatio': 1377, 'vazhnicza76765': 1378, 'tamaraberlin85': 1379, 'noverclaudia': 1380, 'kennst': 1381, 'embodiment': 1382, 'biete': 1383, 'coachingangebot': 1384, 'monate': 1385, 'embodimentcoaching': 1386, 'demutsch': 1387, 'busnotverkehr': 1388, 'gruenstadt': 1389, '40': 1390, 'matthiasmeisner': 1391, 'irr': 1392, 'news': 1393, 'dernbachan': 1394, 'ricarda': 1395, 'lang': 1396, 'fliegen': 1397, 'nerven': 1398, 'irgendwann': 1399, 'flieg': 1400, 'holyvitality': 1401, 'justvnty': 1402, 'verpiss': 1403, 'bineuerboss': 1404, 'fivethrsix': 1405, 'unlustig': 1406, 'sexistisch': 1407, 'hirntot': 1408, 'icj': 1409, 'fallen': 1410, 'berraschend': 1411, 'puff': 1412, 'thringen': 1413, 'tittenfick': 1414, 'german': 1415, 'brazer': 1416, 'gogollafit': 1417, 'reinscrolle': 1418, 'merke': 1419, 'ich': 1420, 'kompletten': 1421, 'gegenrealitaet': 1422, 'kon': 1423, 'lepenseur': 1424, 'treu': 1425, 'unserm': 1426, 'volkstum': 1427, 'fragolin': 1428, 'mitlesenden': 1429, 'blockwa': 1430, 'rausch': 1431, 'fetter': 1432, 'gynkologe': 1433, 'amate': 1434, 'jugendtliche': 1435, 'outdoor': 1436, 'isariuzcs': 1437, 'erstmal': 1438, 'bissel': 1439, 'klinik': 1440, 'goennen': 1441, 'neuwied': 1442, 'vanillelikoer': 1443, 'tuerkin': 1444, 'anfuehrungszeichen': 1445, 'kurdin': 1446, 'ausspionie': 1447, 'rbrinkhaus': 1448, 'rassistisch': 1449, 'verschissenen': 1450, 'externe': 1451, 'adapter': 1452, 'eingebaute': 1453, 'sfgjklkf': 1454, 'chrisjcsgo': 1455, 'fazeniko': 1456, 'eslcs': 1457, 'thanks': 1458, 'meterphysik': 1459, 'diversitaet': 1460, 'nikab': 1461, 'burka': 1462, 'tjador': 1463, 'hijab': 1464, 'jungs': 1465, 'duerfen': 1466, 'fetten': 1467, 'schwaenze': 1468, 'blank': 1469, 'schieben': 1470, 'reinspritzen': 1471, 'anne': 1472, 'kyf': 1473, 'destandaard': 1474, 'schwarz': 1475, 'gelb': 1476, 'blau': 1477, 'dreck': 1478, 'antidemokraten': 1479, 'verenden': 1480, 'glubschauge': 1481, 'barley': 1482, 'buergerrechtler': 1483, 'carsten': 1484, 'moralapostel': 1485, 'verschwoerer': 1486, 'walter': 1487, 'stei': 1488, 'bamberg': 1489, 'adac': 1490, 'beunruhigung': 1491, 'sargtraeger': 1492, 'ueberholte': 1493, 'autokultur': 1494, 'grabe': 1495, 'germanymisfits': 1496, 'juekofubago5': 1497, 'hexehanna8': 1498, 'philip': 1499, 'sympathisch': 1500, 'queen': 1501, 'bin': 1502, 'fan': 1503, 'heutige': 1504, 'grummelmann': 1505, 'ckmeine': 1506, 'explizit': 1507, 'sharebenhaufen': 1508, 'nachhaltig': 1509, 'pornofoto': 1510, 'sveta': 1511, 'belochkina': 1512, 'jugendliche': 1513, 'pono': 1514, 'italiano': 1515, 'perspective': 1516, '1978': 1517, 'interscope': 1518, 'hevellia64': 1519, 'ralf64904117': 1520, 'chrisfuerafd': 1521, 'kaempften': 1522, 'raeaechts': 1523, 'enkel': 1524, 'fridayforfuture': 1525, 'ser0599': 1526, 'elba': 1527, 'o08973042': 1528, 'missionen': 1529, 'merlethewizard': 1530, 'beweg': 1531, 'berxe': 1532, 'oesterreichischen': 1533, 'heraus': 1534, 'halten': 1535, 'sie': 1536, 'karina140911': 1537, 'herman': 1538, 'seid': 1539, 'politikstube': 1540, 'jogg': 1541, 'pfad': 1542, 'stopfe': 1543, 'wellensittich': 1544, 'ente': 1545, 'yannikau': 1546, 'abschieben': 1547, 'nackter': 1548, 'pornogratis': 1549, 'movil': 1550, 'extrem': 1551, 'ficksau': 1552, 'ost': 1553, 'carpediem041703': 1554, 'reichts': 1555, 'fluechtling': 1556, 'roten': 1557, 'braunen': 1558, 'meinungsfaschisten': 1559, 'hau': 1560, 'blog': 1561, 'fefe': 1562, 'ihr': 1563, 'kraftvollen': 1564, 'firefox': 1565, 'fuckup': 1566, 'voellig': 1567, 'unvorhergesehen': 1568, 'ueberraschen': 1569, 'dreckige': 1570, 'sterbanen': 1571, 'reachtruckchauffeur': 1572, 'vm': 1573, 'dittrich': 1574, 'bloed': 1575, 'lied': 1576, 'gone': 1577, 'jameskennedyuk': 1578, 'soundcloud': 1579, 'netreaper': 1580, 'miatamuc': 1581, 'kachelmann': 1582, 'gaaarrrrnix': 1583, 'tabulosen': 1584, 'touristenschreck': 1585, 'public': 1586, 'murksel': 1587, 'kopftuchtante': 1588, 'neckar67': 1589, 'nur': 1590, 'andr': 1591, 'ficktitze': 1592, 'praesentie': 1593, 'snipzh': 1594, 'staender': 1595, 'gebrauchen': 1596, 'drwaumiau': 1597, 'alexa': 1598, 'single': 1599, 'heisse': 1600, 'siri': 1601, 'anal': 1602, 'fahrschlerin': 1603, 'hausfrauen': 1604, 'lukaschenkaver1': 1605, 'belgien': 1606, 'failed': 1607, 'state': 1608, 'siehe': 1609, 'dutroux': 1610, 'bande': 1611, 'brabant': 1612, 'friedenau': 1613, 'matzegeisthardt': 1614, 'niedrig': 1615, 'loehne': 1616, 'spinner': 1617, 'frolleinvommeer': 1618, 'daue': 1619, 'frage': 1620, 'apotheke': 1621, 'haeufiger': 1622, 'versuche': 1623, 'meist': 1624, 'parallel': 1625, 'schade': 1626, 'drphiloponus': 1627, 'einmaersche': 1628, 'hui': 1629, 'einmischung': 1630, 'pfui': 1631, 'humor': 1632, 'xxx': 1633, 'vater': 1634, 'tweetba': 1635, 'hals': 1636, 'blockchains': 1637, 'denen': 1638, 'sebastiankurz': 1639, 'reinlegen': 1640, 'nwbrb84': 1641, 'holzminden': 1642, 'stadtoldendorf': 1643, 'fahrzeugstoerung': 1644, 'araujo': 1645, 'feltscher': 1646, 'exprofis': 1647, 'vengaboys': 1648, 'aidrieeen': 1649, 'ueberforde': 1650, 'katzenhaxen': 1651, 'dark': 1652, 'fighter': 1653, '87': 1654, 'r3tu4s': 1655, 'wenked': 1656, 'doch': 1657, 'verbiete': 1658, 'deswe': 1659, 'lowl3v3l': 1660, 'saftmoppel': 1661, 'klingt': 1662, 'allzu': 1663, 'faelle': 1664, 'irgendein': 1665, 'funktionierendes': 1666, 'militr49': 1667, 'irren': 1668, 'personen': 1669, 'roth': 1670, 'fdj': 1671, 'lerin': 1672, 'meinung': 1673, 'ichbinkoelnerin': 1674, 'menschheitsgeschichte': 1675, 'agitation': 1676, 'jackcaroni': 1677, 'metastabil': 1678, 'mateundottdrei': 1679, 'flexxer': 1680, 'sohn': 1681, 'vergewaltigt': 1682, 'blondine': 1683, 'spanking': 1684, 'po': 1685, 'katharinalotter': 1686, 'genial': 1687, 'trigger': 1688, 'crazy21292822': 1689, 'ons': 1690, 'angegeben': 1691, 'null': 1692, 'durchschnitt': 1693, 'unskilledjosh3': 1694, 'klassische': 1695, 'strecke': 1696, 'stadtstrecke': 1697, 'tilke': 1698, 'klarnamehornet': 1699, 'usw': 1700, 'genannt': 1701, 'hohlkoerper': 1702, 'lehnt': 1703, 'morden': 1704, 'vergewaltigen': 1705, 'erk': 1706, 'wohnungsbelegung': 1707, 'reglementieren': 1708, 'omi': 1709, 'raum': 1710, 'wohnung': 1711, 'bones': 1712, 'eiffel65': 1713, 'teamsesh': 1714, 'send': 1715, 'music': 1716, 'tage': 1717, 'woche': 1718, 'done': 1719, 'erleben': 1720, 'legendaeren': 1721, 'the': 1722, 'schulzzug': 1723, 'richtngfreiheit': 1724, 'woaaaah': 1725, 'knuffig': 1726, 'suesse': 1727, 'mietze': 1728, 'vickershv10': 1729, 'wohnungen': 1730, '3785': 1731, 'monatlich': 1732, 'syrien': 1733, 'zurue': 1734, 'tsuga1453': 1735, 'ehrensackhaar': 1736, 'permanent': 1737, 'verlie': 1738, 'jegliche': 1739, 'bedeutung': 1740, 'obwohl': 1741, 'oftmals': 1742, 'stefanolix': 1743, 'sagte': 1744, 'orban': 1745, 'nuetzliche': 1746, 'rolandgiersig': 1747, 'tuerkisen': 1748, 'blaunen': 1749, 'hauptsache': 1750, 'manipulie': 1751, 'weiterverbreiten': 1752, '1hver': 1753, 'dem': 1754, 'blauen': 1755, 'franzoesisch': 1756, 'olafundsabrina': 1757, 'schaeme': 1758, 'bunt': 1759, 'gewollt': 1760, 'offene': 1761, 'abc': 1762, 'einsatz': 1763, 'postve': 1764, 'eilzentrum': 1765, 'herford': 1766, 'will': 1767, 'duenkelhafter': 1768, 'kasernenhofton': 1769, 'strache': 1770, 'skandal': 1771, 'oesterreich': 1772, 'nwz': 1773, 'kommentar': 1774, 'xqualli': 1775, 'quallen': 1776, 'arrogante': 1777, 'grinsen': 1778, 'bayernspieler': 1779, 'geistigen': 1780, 'auge': 1781, 'schrder47552341': 1782, 'kvomlande': 1783, 'liz': 1784, 'skripte': 1785, 'liefen': 1786, '4kolner': 1787, 'bimmermann': 1788, 'dreckiges': 1789, 'ratte': 1790, 'verfuehredich': 1791, 'versenken': 1792, 'cootuegpa': 1793, 'migos': 1794, 'melekwtr': 1795, 'samsunspor': 1796, 'lutfen': 1797, 'aktuelle': 1798, 'stunde': 1799, 'damit': 1800, 'dusche': 1801, 'neuken': 1802, 'eindhoven': 1803, 'sexfilme': 1804, 'trinkt': 1805, 'reagenzglas': 1806, 'wohl': 1807, 'mrs': 1808, 'hyde': 1809, 'celestescoeurs': 1810, 'fussmatte': 1811, 'versiffte': 1812, 'kindermaschine': 1813, 'aka': 1814, 'papi': 1815, 'geholfen': 1816, 'fckafd': 1817, 'harburg': 1818, 'noafd': 1819, 'noafdhh': 1820, 'nonazishh': 1821, 'gerhardschwar11': 1822, 'wohlhabender': 1823, 'nebenjobs': 1824, 'verdienen': 1825, 'leistungsbeziehern': 1826, 'abzugspfl': 1827, 'serotoninaffine': 1828, 'aba': 1829, 'maria': 1830, 'zuckerfreie': 1831, 'free': 1832, 'porrno': 1833, 'tubes': 1834, 'vgeln': 1835, 'zeiten': 1836, 'back': 1837, 'chillig': 1838, 'dead': 1839, 'heinz': 1840, 'a1': 1841, 'linuzifer': 1842, 'eimer': 1843, 'dfkring': 1844, 'kuanqia': 1845, 'film': 1846, 'keksen': 1847, 'charlton': 1848, 'heston': 1849, 'quick': 1850, 'bzberlin': 1851, 'stellt': 1852, 'schicksalsfrage': 1853, 'enteignungen': 1854, 'kreditaufnahme': 1855, 'seenotrettung': 1856, 'mittelmeer': 1857, 'sea': 1858, 'kapitaenin': 1859, 'pia': 1860, 'klemp': 1861, 'beklagte': 1862, 'jokoundklaas': 1863, 'besatzung': 1864, 'kriminal': 1865, 'karlv1954': 1866, 'buerstmayr': 1867, 'spoe': 1868, 'kompletter': 1869, 'schwachsinn': 1870, 'waehlt': 1871, 'missbababelle': 1872, 'gestoe': 1873, 'sat1': 1874, 'fruehstuecksfernsehen': 1875, 'behauptet': 1876, 'bruenette': 1877, 'kuh': 1878, 'tatsaechlich': 1879, 'gefeie': 1880, 'digitalfarmer3': 1881, 'benoetigen': 1882, 'betreutes': 1883, 'impfanoffiziell': 1884, 'joe': 1885, 'rogan': 1886, 'bitte1bitcoin': 1887, 'bitcoin': 1888, 'initiative': 1889, 'schaumstoff': 1890, 'riesigen': 1891, 'stuecken': 1892, 'stopf': 1893, 'shoulderpads': 1894, 'kissenfuellung': 1895, 'krzyx0': 1896, 'fickfilme': 1897, 'geschichten': 1898, 'denise': 1899, 'pornovideo': 1900, 'besprechung': 1901, 'kollege': 1902, 'vergangenheit': 1903, 'oefteren': 1904, 'gerettet': 1905, 'doktordab': 1906, 'views': 1907, 'wuerzburg': 1908, 'gewohnheiten': 1909, 'haemophagus': 1910, 'gegroele': 1911, 'gif': 1912, 'dickelippe': 1913, 'stehen': 1914, 'betten': 1915, 'dachbalkon': 1916, 'hollywoodschaukel': 1917, 'famosa': 1918, 'style': 1919, 'camoesdeluis': 1920, 'dormdkepmsnfkw': 1921, 'birnstinglausro': 1922, 'mehrehe': 1923, 'maenner': 1924, 'kibaseasons': 1925, 'patronus': 1926, 'donalphonso': 1927, 'dachten': 1928, 'wahrheit': 1929, 'halbem': 1930, 'strauss': 1931, 'mielke': 1932, 'liegen': 1933, 'muesste': 1934, 'mi': 1935, 'natebmccann': 1936, 'larabmccann': 1937, 'icon': 1938, 'unnormal': 1939, 'heiss': 1940, 'hornyturkgerman': 1941, 'hammer': 1942, 'juliereichwein1': 1943, 'nanunan32440900': 1944, '72': 1945, 'jungfrauen': 1946, 'paradies': 1947, 'julia': 1948, 'kloeckner': 1949, 'weigern': 1950, 'anreichen': 1951, 'archiv': 1952, 'puettmann': 1953, 'bonn': 1954, 'alt': 1955, 'erklaeren': 1956, 'sch': 1957, 'geschafft': 1958, 'kollektivistischen': 1959, 'sozialistischen': 1960, 'ungebeten1': 1961, 'pinkcrazypony': 1962, 'gottseidank': 1963, 'vate': 1964, 'ag': 1965, 'wegsaufen': 1966, 'wahlplakate': 1967, 'ressourcen': 1968, 'verschwendungen': 1969, 'haraldlaatsch': 1970, 'isseshalt': 1971, 's19': 1972, '48': 1973, '02': 1974, 'arm': 1975, 'reich': 1976, 'gesehen': 1977, 'neomagazin': 1978, 'organisationsstruktur': 1979, 'black': 1980, 'to': 1981, 'illeras': 1982, 'geilereife': 1983, 'thzoern': 1984, 'huettl': 1985, 'alicewo18626168': 1986, 'donald': 1987, 'volk': 1988, 'stuerzen': 1989, 'eusouvizzy': 1990, 'digga': 1991, 'hose': 1992, '19steffen09': 1993, 'nina2776': 1994, 'raeuber': 1995, 'hoemma': 1996, 'schokokitsune': 1997, 'kriege': 1998, 'bla': 1999, 'wars': 2000, 'hirnwixerei': 2001, 'dpolgthueringen': 2002, 'eigenen': 2003, 'moechtegern': 2004, 'heilen': 2005, 'scheinwelt': 2006, '20j': 2007, 'bremehafen': 2008, 'afrikaner': 2009, 'kontainerschiffen': 2010, 'eingeschleust': 2011, 'geldsumme': 2012, 'uniondermitte': 2013, 'cm2111': 2014, 'prienkarin': 2015, 'bekannt': 2016, 'eivorsitzende': 2017, 'homasbruns': 2018, 'feministinnen': 2019, 'kanzleramtsmann': 2020, 'andree': 2021, 'dominik': 2022, 'jfliegenschmidt': 2023, 'quazanga': 2024, 'inpfgegner': 2025, 'homoeopathie': 2026, 'befuerwo': 2027, 'tro': 2028, 'blubeiia': 2029, 'kannst': 2030, 'benutz': 2031, 'deko': 2032, 'aussieht': 2033, 'inflation': 2034, 'atomreisfleisch': 2035, 'sascha2801': 2036, 'masochisten': 2037, 'mutie': 2038, 'luege': 2039, 'pepsovic': 2040, 'aceofm': 2041, 'beef': 2042, 'chiarerra': 2043, 'unterschrift': 2044, 'groupie': 2045, 'wuensche': 2046, 'sitcom': 2047, 'maassen': 2048, 'erika': 2049, 'steinbach': 2050, 'kramp': 2051, 'karrenbauer': 2052, 'sabineosman': 2053, 'sozialdemokrat': 2054, 'aeusse': 2055, 'sozialdemokratische': 2056, 'ideen': 2057, 'flippt': 2058, 'hissy': 2059, 'fits': 2060, 'latschen': 2061, 'block': 2062, 'esraschelt': 2063, 'instant': 2064, 'uniformen': 2065, 'frueh': 2066, 'geknallt': 2067, 'badewannenrand': 2068, 'gestossen': 2069, 'autsch': 2070, 'krafts': 2071, 'werk': 2072, 'wahlomat': 2073, 'stimme': 2074, 'komplett': 2075, 'infohunter161': 2076, 'leibhaftige': 2077, 'imaginaere': 2078, 'rote': 2079, 'gespenst': 2080, 'steuersenkung': 2081, 'video': 2082, 'geeignet': 2083, 'teddybaerenwerfer': 2084, 'bahnhofsklatscher': 2085, 'asylfans': 2086, 'gutmenschen': 2087, 'denniswe': 2088, 'versteh': 2089, 'schaue': 2090, 'gern': 2091, 'rainbow': 2092, 'arbeitest': 2093, 'level': 2094, 'licher': 2095, 'up': 2096, 'fragst': 2097, 'bikini': 2098, 'ischen': 2099, 'notgeiles': 2100, 'schlefaz': 2101, 'ruiner110': 2102, 'schwultuete': 2103, 'blickt': 2104, 'csu': 2105, 'yui': 2106, 'cristate': 2107, 'werd': 2108, 'ansonsten': 2109, 'wuerd': 2110, 'zeichnen': 2111, 'ars': 2112, 'halile': 2113, 'em67': 2114, 'berichterstattung': 2115, 'putschversuch': 2116, 'venezuela': 2117, 'aegypten': 2118, 'reiben': 2119, 'christen': 2120, 'asylunterkuenften': 2121, 'netzeitung': 2122, 'dann': 2123, 'ze': 2124, 'ruemmern': 2125, 'erdloch': 2126, 'abziehen': 2127, 'pferden': 2128, 'primamuslima': 2129, 'fall': 2130, 'sogenannten': 2131, 'ehrenmordes': 2132, 'islamischen': 2133, 'milieu': 2134, 'ehrenmorde': 2135, 'neoxynx': 2136, 'gittib2': 2137, 'bohnenstroh': 2138, 'argumente': 2139, 'nazikeule': 2140, 'geschwungen': 2141, 'kayrytter': 2142, 'compactmagazin': 2143, 'mitschuldig': 2144, 'gemacht': 2145, 'mord': 2146, 'totschlag': 2147, 'hofie': 2148, 'gaest': 2149, 'vollidiot': 2150, 'natur': 2151, 'entsorgen': 2152, 'treffen': 2153, 'venezolanischer': 2154, 'opposition': 2155, 'sanktionen': 2156, 'maduro': 2157, 'pruefen': 2158, 'haufen': 2159, 's1': 2160, 'mund': 2161, 'bochum': 2162, '56': 2163, 'umgeleitet': 2164, 'vorheriger': 2165, 'toll': 2166, 'einzigen': 2167, 'relevanten': 2168, 'zuwaechsen': 2169, '43': 2170, 'links': 2171, 'vielleic': 2172, 'hypnose': 2173, 'domina': 2174, 'blondinen': 2175, 'weiber': 2176, 'hermannuli': 2177, 'helgebruhn': 2178, 'blocken': 2179, 'imageberatungen': 2180, 'totale': 2181, 'polit': 2182, 'soaps': 2183, 'circa': 2184, '620': 2185, 'arabien': 2186, 'mohamme': 2187, 'teutonis52': 2188, 'verbrecher': 2189, 'abschaum': 2190, 'bowserofs': 2191, 'captaina': 2192, 'sephyr': 2193, 'yoshi': 2194, 'fett': 2195, 'zwannabe': 2196, 'draisaitl': 2197, 'gigant': 2198, 'jungwaehler': 2199, 'gebt': 2200, 'fuehrerscheine': 2201, 'bzw': 2202, 'keinen': 2203, 'autos': 2204, 'durchaus': 2205, 'dawa': 2206, 'aufrufe': 2207, 'hoeheren': 2208, 'gebu': 2209, 'enraten': 2210, 'peachcentral': 2211, 'jaehyunctzen': 2212, 'dealo': 2213, 'ru': 2214, 'intro': 2215, 'europaeer': 2216, 'amthor': 2217, 'aggro': 2218, 'hoo': 2219, 'nichtdasgrinsel': 2220, 'runtervomradweg': 2221, 'genauso': 2222, 'wenig': 2223, 'autofahrern': 2224, 'verhalten': 2225, 'achimspiegel': 2226, 'nichts': 2227, 'zerfall': 2228, 'armut': 2229, 'unterdrueckung': 2230, 'niewiedersozialismus': 2231, 'finanzidee': 2232, 'realistisch': 2233, 'spurengas': 2234, 'helllud123': 2235, 'messerverbot': 2236, 'oeffentlichen': 2237, 'o': 2238, 'massenhaft': 2239, 'messerstechereien': 2240, 'mckstf': 2241, 'ipcc': 2242, 'berichte': 2243, 'fibel': 2244, 'nachfolgendes': 2245, 'lesen': 2246, 'trottel': 2247, 'hauptpost': 2248, 'mitten': 2249, 'innenstadt': 2250, 'beim': 2251, 'telephonieren': 2252, 'paare': 2253, 'baseballschlger': 2254, 'hd': 2255, 'faznet': 2256, 'gefaellt': 2257, 'luvtigbiddies': 2258, 'liebs': 2259, 'mature': 2260, 'trkische': 2261, 'jue': 2262, 'iss': 2263, 'verkalkten': 2264, 'senil': 2265, 'krank': 2266, 'einheitlichen': 2267, 'nagen': 2268, 'hunge': 2269, 'uch': 2270, 'kalidreadful': 2271, 'dachte': 2272, 'zuerst': 2273, 'gluehendes': 2274, 'eisen': 2275, 'justin': 2276, 'bieber': 2277, 'such': 2278, 'kackjob': 2279, 'anfuehlt': 2280, 'ehrlich': 2281, 'ministerium': 2282, 'entscheidungen': 2283, 'tref': 2284, 'vielen': 2285, 'wuessten': 2286, 'bevorsteht': 2287, 'un': 2288, 'sprung': 2289, 'ung': 2290, 'schicksal': 2291, 'kuemmern': 2292, 'cmielinski': 2293, 'wvdnord': 2294, 'verbindung': 2295, 'bringen': 2296, 'offenbar': 2297, 'pragmatische': 2298, 'we': 2299, 'stoffhof': 2300, 'sperrmuell': 2301, 'entsorgt': 2302, 'zeitgedanke': 2303, 'eidigen': 2304, 'mag': 2305, 'doktor': 2306, 'glatt': 2307, 'jemand': 2308, 'doktorarbeit': 2309, 'angeschaut': 2310, 'kosmar': 2311, 'stage': 2312, 'gebaerdendolmetscher': 2313, 'mitschrift': 2314, 'pasemann': 2315, 'san': 2316, 'afdimbundestag': 2317, 'lillauch': 2318, 'knatterknabe': 2319, 'jailbreak': 2320, 'schafe': 2321, 'gras': 2322, 'viel': 2323, 'beaengstigend': 2324, 'solche': 2325, 'vollpfosten': 2326, 'ga': 2327, 'insekt': 2328, 'wegscheuchen': 2329, 'zack': 2330, 'schickt': 2331, 'groesseren': 2332, 'kollegen': 2333, 'kim53688025': 2334, 'fingern': 2335, 'bevor': 2336, 'loecher': 2337, 'lasse': 2338, 'ewingo13': 2339, 'vemoegen': 2340, 'beharrungsvermoegen': 2341, 'saschalobo': 2342, 'tut': 2343, 'klar': 2344, 'gabs': 2345, 'duemmer': 2346, 'wicket': 2347, 'ireland': 2348, '159': 2349, 'target': 2350, '382': 2351, 'balbirnie': 2352, 'ambris': 2353, '35': 2354, 'kobo013': 2355, 'grundeis': 2356, 'oben': 2357, 'sauerstoff': 2358, 'fehlt': 2359, 'dcberlin18': 2360, 'gelungene': 2361, 'horrorvision': 2362, 'sozialistischeren': 2363, 'deutschlands': 2364, 'eingeleitete': 2365, 'selbstz': 2366, 'wzwuppe': 2367, 'wuppe': 2368, 'seilbahn': 2369, 'staerksten': 2370, 'canellabini': 2371, 'brueste': 2372, 'da': 2373, 'abzulenken': 2374, 'ntvde': 2375, 'hoeren': 2376, 'tommayereuropa': 2377, 'mittlerweile': 2378, 'erstarkten': 2379, 'blockade': 2380, 'umaufen': 2381, 'dd0105': 2382, 'dd': 2383, 'nazifrei': 2384, 'dirkerik': 2385, 'dirk': 2386, 'erik': 2387, 'meinte': 2388, 'sz': 2389, 'muenchen': 2390, 'stadt': 2391, 'ns': 2392, 'dokuzentrum': 2393, 'ausstellung': 2394, 'gesellschaft': 2395, 'polarisie': 2396, 'jud': 2397, 'meinereiner76': 2398, 'tomaten': 2399, 'abwaschen': 2400, 'trocken': 2401, 'rubbeln': 2402, 'infotweet': 2403, 'firebro': 2404, 'kult': 2405, 'klassiker': 2406, 'drruschka': 2407, 'vbohrnmena': 2408, 'chuck': 2409, 'norris': 2410, 'kam': 2411, 'fand': 2412, 'faust': 2413, 'anti': 2414, 'baby': 2415, 'pille': 2416, 'unterscheidet': 2417, 'zorn': 2418, 'hass': 2419, 'hervorgeru': 2420, 'j': 2421, 'oo7': 2422, 'weit': 2423, 'denkmal': 2424, 'aufstellen': 2425, 'denkliebernicht': 2426, 'maximalist': 2427, 'spinnt': 2428, 'verrueckter': 2429, 'spitze': 2430, 'des': 2431, 'staates': 2432, 'steht': 2433, 'ausversehen': 2434, 'fickst': 2435, 'anstatt': 2436, 'netto': 2437, 'gehst': 2438, 'milch': 2439, 'kaufen': 2440, 'batalhadaldeia': 2441, 'lebensformation': 2442, 'kuendigt': 2443, 'kriminellen': 2444, 'clans': 2445, 'kampf': 2446, 'captblwillard': 2447, 'quergedachtblog': 2448, 'dasschafi': 2449, 'migraene': 2450, 'muslim': 2451, 'brueder': 2452, 'terroristen': 2453, 'streng': 2454, 'anscheinend': 2455, 'tomk19941417': 2456, 'paulvernica': 2457, 'heikomaas': 2458, 'kennt': 2459, 'wirkung': 2460, 'yungchristus': 2461, 'rules': 2462, 'ernennt': 2463, 'hauptgegner': 2464, 'huren': 2465, 'krankenschwester': 2466, 'kleines': 2467, 'missgebu': 2468, 'lifestyle': 2469, 'ethik': 2470, 'lic': 2471, 'ang': 2472, 'bezahlst': 2473, '18': 2474, 'jaehrige': 2475, 'unterhaelt': 2476, 'erbaermlich': 2477, 'reinduerfen': 2478, 'baehhh': 2479, 'inarenner': 2480, 'niveau': 2481, '21withcon': 2482, 'newhopereece': 2483, 'thevampscon': 2484, 'corbynbesson': 2485, 'pretty': 2486, 'mlkr': 2487, 'tigerelch': 2488, 'altermananne': 2489, 'gespult': 2490, 'ansatzweise': 2491, 'filmfestivalsb': 2492, 'bln': 2493, 'filmfestivalszene': 2494, 'zetix': 2495, 'maki': 2496, 'jolosohn': 2497, 'erforde': 2498, 'groben': 2499, 'mangel': 2500, 'skill': 2501, 'nachhause': 2502, 'weg': 2503, 'solch': 2504, 'andreasandy3131': 2505, 'sachsen': 2506, 'begruesst': 2507, 'angestossene': 2508, 'debatte': 2509, 'eigene': 2510, 'nase': 2511, 'fassen': 2512, 'sa': 2513, 'rablpeter': 2514, 'genau': 2515, 'deswegen': 2516, 'oevp': 2517, 'erfolgreich': 2518, 'kapieren': 2519, 'verkauft': 2520, 'maxxxporco': 2521, 'riesen': 2522, 'toy': 2523, 's12': 2524, '32': 2525, '30': 2526, 'betrieblicher': 2527, 'steinbacherika': 2528, 'gewisse': 2529, 'fehler': 2530, 'bringt': 2531, 'haette': 2532, 'trends': 2533, 'tony': 2534, 'hawk': 2535, 'ratchet': 2536, 'clank': 2537, 'jb': 2538, 'tagedieb': 2539, 'guerillahistori': 2540, 'bmjv': 2541, 'bund': 2542, 'erzaehlt': 2543, 'karl': 2544, 'yoongisbottle': 2545, 'zurueckgebliebenen': 2546, 'mensch': 2547, 'intelligent': 2548, 'don': 2549, 't': 2550, 'hard': 2551, 'on': 2552, 'yourself': 2553, 'ralf': 2554, 'stegner': 2555, 'obacht': 2556, 'ralle': 2557, 'schlappe': 2558, 'sushisascha1': 2559, 'besonders': 2560, 'verwe': 2561, 'bare': 2562, 'objekte': 2563, 'sparen': 2564, 'lego': 2565, 'legodimensions': 2566, '71170': 2567, 'playstation': 2568, '49': 2569, 'brickmerge': 2570, 'preisvergleich': 2571, 'can65schalke': 2572, 'goet': 2573, 'tuerkisch': 2574, 'heisst': 2575, 'maxotte': 2576, 'says': 2577, 'elite': 2578, 'universitaet': 2579, 'holen': 2580, 'studieren': 2581, 'ruinie': 2582, 'chhuegel': 2583, 'manfredweber': 2584, 'uebergeschnappten': 2585, 'ueberlassen': 2586, 'eine': 2587, 'anmassung': 2588, 'westwald1974': 2589, 'milvus84': 2590, 'waldenmonk': 2591, 'britainopello5': 2592, 'chrdorner': 2593, 'hoecke': 2594, 'uboot': 2595, 'vizzionsxi': 2596, 'le': 2597, 'grand': 2598, 'hizokay': 2599, 'chikitauz': 2600, 'babosa': 2601, 'espo': 2602, 'rep': 2603, 'maschine': 2604, 'filip': 2605, 'pog': 2606, 'digitale': 2607, 'stadionzeitung': 2608, 'puenktlich': 2609, 'meister': 2610, 'finale': 2611, 'packmas': 2612, 'fcbs': 2613, 'evoli': 2614, 'zelda': 2615, 'majoras': 2616, 'mask': 2617, 'derpepo': 2618, 's04': 2619, 'schalke': 2620, 'gg': 2621, 'leitbild': 2622, 'ziff': 2623, 'amtlich': 2624, 'olgatatala': 2625, 'uebermachst': 2626, 'tauss': 2627, 'erlebe': 2628, 'dielinke': 2629, 'absenkung': 2630, 'zahlungen': 2631, 'nato': 2632, 'forde': 2633, 'neues': 2634, 'lukasinho01': 2635, 'beschaef': 2636, 'noelmgb': 2637, 'sebbe2704': 2638, 'bass': 2639, 'atmosphaere': 2640, 'entspannt': 2641, 'dicke': 2642, 'steifen': 2643, 'ha': 2644, 'bettinaschimak': 2645, 'gschamig': 2646, 'mokoffiziell': 2647, 'wesentlich': 2648, 'timeline': 2649, 'doku': 2650, 'europakrise': 2651, 'machtpoker': 2652, 'theunwantedpath': 2653, 'offen': 2654, 'skyspo': 2655, 'spiel': 2656, 'lief': 2657, 'noch': 2658, 'verfickte': 2659, 'sonstwo': 2660, 'sgdfcsp': 2661, 'vegetarisch': 2662, 'aergern': 2663, 'garamsalami': 2664, 'graf': 2665, 'persephone': 2666, 'denk': 2667, 'sibel': 2668, 'schreibt': 2669, 'abgrund': 2670, 'einladend': 2671, 'chanmachtso': 2672, 'schmerzen': 2673, 'au': 2674, 'auuuuuu': 2675, 'zerstoerung': 2676, 'pparzival': 2677, 'antideutsche': 2678, 'pseudo': 2679, 'sache': 2680, 'innerhalb': 2681, 'bewegung': 2682, 'etablie': 2683, 'klug': 2684, 'wissen': 2685, 'hat': 2686, 'erfahren': 2687}\n"
          ]
        }
      ]
    },
    {
      "cell_type": "code",
      "source": [
        "encoded_clean_text_t_stem = tok_all.texts_to_sequences(clean_text_t_stem)\n",
        "print(clean_text_t_stem[0])\n",
        "print(encoded_clean_text_t_stem[0])"
      ],
      "metadata": {
        "colab": {
          "base_uri": "https://localhost:8080/"
        },
        "id": "IJusPqL9fRV4",
        "outputId": "fa1cdc33-41d9-4b68-89b4-234447f3f9a1"
      },
      "execution_count": null,
      "outputs": [
        {
          "output_type": "stream",
          "name": "stdout",
          "text": [
            " dercarsti boykottieren hoe  besser an.   \n",
            "[35, 84]\n"
          ]
        }
      ]
    },
    {
      "cell_type": "code",
      "source": [
        "\n",
        "\n",
        "from keras.preprocessing import sequence\n",
        "max_length = 100\n",
        "padded_clean_text_t_stem = sequence.pad_sequences(encoded_clean_text_t_stem, maxlen=max_length, padding='pre')\n",
        "\n"
      ],
      "metadata": {
        "id": "DdYCPMBgfUB3"
      },
      "execution_count": null,
      "outputs": []
    },
    {
      "cell_type": "markdown",
      "source": [
        "\n",
        "# FastText Embeddings\n"
      ],
      "metadata": {
        "id": "pCNwYmHhfXNn"
      }
    },
    {
      "cell_type": "code",
      "source": [
        "from google.colab import drive\n",
        "drive.mount('/content/drive')"
      ],
      "metadata": {
        "colab": {
          "base_uri": "https://localhost:8080/"
        },
        "id": "-QlUZ1o6fbsp",
        "outputId": "2c36bac2-e448-4710-d1ca-b4579c29e66e"
      },
      "execution_count": null,
      "outputs": [
        {
          "output_type": "stream",
          "name": "stdout",
          "text": [
            "Mounted at /content/drive\n"
          ]
        }
      ]
    },
    {
      "cell_type": "code",
      "source": [
        "!gunzip /content/drive/MyDrive/cc.de.300.vec.gz"
      ],
      "metadata": {
        "id": "VmNPB1l9f-1l"
      },
      "execution_count": null,
      "outputs": []
    },
    {
      "cell_type": "code",
      "source": [
        "\n",
        "\n",
        "# FastText Emdedding link - https://fasttext.cc/docs/en/crawl-vectors.html\n",
        "\n",
        "import os\n",
        "embeddings_index = {}\n",
        "f = open('/content/drive/MyDrive/cc.de.300.vec',encoding='utf-8',errors='ignore')\n",
        "for line in f:\n",
        "    values = line.split()\n",
        "    word = values[0]\n",
        "    coefs = np.asarray(values[1:], dtype='float32')\n",
        "    embeddings_index[word] = coefs\n",
        "f.close()\n",
        "print('Loaded %s word vectors.' % len(embeddings_index))\n",
        "\n"
      ],
      "metadata": {
        "colab": {
          "base_uri": "https://localhost:8080/"
        },
        "id": "0QPrNrdSfVtl",
        "outputId": "82fb73ea-b4d3-4881-dafb-6e1026252dcc"
      },
      "execution_count": null,
      "outputs": [
        {
          "output_type": "stream",
          "name": "stdout",
          "text": [
            "Loaded 2000000 word vectors.\n"
          ]
        }
      ]
    },
    {
      "cell_type": "code",
      "source": [
        "\n",
        "\n",
        "embedding_matrix = np.zeros((vocabulary_all+1, 300))\n",
        "for word, i in tok_all.word_index.items():\n",
        "    embedding_vector = embeddings_index.get(word)\n",
        "    if embedding_vector is not None:\n",
        "         embedding_matrix[i] = embedding_vector\n",
        "\n"
      ],
      "metadata": {
        "id": "T9scAw4HetmC"
      },
      "execution_count": null,
      "outputs": []
    },
    {
      "cell_type": "markdown",
      "source": [
        "# CNN1 Model\n"
      ],
      "metadata": {
        "id": "_9gbZSBkiTiS"
      }
    },
    {
      "cell_type": "code",
      "source": [
        "\n",
        "\n",
        "from keras.preprocessing import sequence\n",
        "from keras.preprocessing import text\n",
        "import numpy as np\n",
        "from keras.models import Sequential\n",
        "from keras.layers import Dense, Dropout, Activation\n",
        "from keras.layers import Embedding, LSTM, Bidirectional\n",
        "from keras.layers import Conv1D, Flatten\n",
        "from keras.preprocessing import text\n",
        "from keras.models import Sequential,Model\n",
        "from keras.layers import Dense ,Activation,MaxPool1D,Conv1D,Flatten,Dropout,Activation,Dropout,Input,Lambda,concatenate\n",
        "from keras.utils import np_utils\n",
        "from nltk.corpus import stopwords\n",
        "from nltk.tokenize import RegexpTokenizer\n",
        "from nltk.stem.porter import PorterStemmer\n",
        "import nltk\n",
        "import csv\n",
        "import pandas as pd\n",
        "\n",
        "from keras.preprocessing import text as keras_text, sequence as keras_seq\n",
        "\n"
      ],
      "metadata": {
        "id": "dA1Av3esiVdt"
      },
      "execution_count": null,
      "outputs": []
    },
    {
      "cell_type": "code",
      "source": [
        "Embedding_Layer = Embedding(vocabulary_all+1, 300, weights=[embedding_matrix], input_length=max_length)"
      ],
      "metadata": {
        "id": "8nJ-tYHMiZJJ"
      },
      "execution_count": null,
      "outputs": []
    },
    {
      "cell_type": "code",
      "source": [
        "\n",
        "\n",
        "CNN1_network=Sequential([Embedding_Layer,\n",
        "                        Conv1D(128,3,activation=\"relu\",padding='same'),\n",
        "                       Dropout(0.2),\n",
        "                       MaxPool1D(2),\n",
        "                       Flatten(),\n",
        "                       Dense(64,activation=\"relu\"),\n",
        "                       Dropout(0.3),\n",
        "                       Dense(4,activation=\"sigmoid\")\n",
        "                       ])\n",
        "\n"
      ],
      "metadata": {
        "id": "WvvBUiFoiZa0"
      },
      "execution_count": null,
      "outputs": []
    },
    {
      "cell_type": "code",
      "source": [
        "CNN1_network.summary()"
      ],
      "metadata": {
        "colab": {
          "base_uri": "https://localhost:8080/"
        },
        "id": "qo0OZemhia5r",
        "outputId": "167db3c5-109b-49fc-b173-20e16badc354"
      },
      "execution_count": null,
      "outputs": [
        {
          "output_type": "stream",
          "name": "stdout",
          "text": [
            "Model: \"sequential\"\n",
            "_________________________________________________________________\n",
            " Layer (type)                Output Shape              Param #   \n",
            "=================================================================\n",
            " embedding (Embedding)       (None, 100, 300)          2631000   \n",
            "                                                                 \n",
            " conv1d (Conv1D)             (None, 100, 128)          115328    \n",
            "                                                                 \n",
            " dropout (Dropout)           (None, 100, 128)          0         \n",
            "                                                                 \n",
            " max_pooling1d (MaxPooling1D  (None, 50, 128)          0         \n",
            " )                                                               \n",
            "                                                                 \n",
            " flatten (Flatten)           (None, 6400)              0         \n",
            "                                                                 \n",
            " dense (Dense)               (None, 64)                409664    \n",
            "                                                                 \n",
            " dropout_1 (Dropout)         (None, 64)                0         \n",
            "                                                                 \n",
            " dense_1 (Dense)             (None, 4)                 260       \n",
            "                                                                 \n",
            "=================================================================\n",
            "Total params: 3,156,252\n",
            "Trainable params: 3,156,252\n",
            "Non-trainable params: 0\n",
            "_________________________________________________________________\n"
          ]
        }
      ]
    },
    {
      "cell_type": "code",
      "source": [
        "# https://stackoverflow.com/questions/62707558/importerror-cannot-import-name-adam-from-keras-optimizers\n",
        "from tensorflow.keras.optimizers import Adam\n",
        "CNN1_network.compile(loss = \"binary_crossentropy\", optimizer=Adam(lr=0.00003), metrics=[\"accuracy\"])\n",
        "\n",
        "\n"
      ],
      "metadata": {
        "colab": {
          "base_uri": "https://localhost:8080/"
        },
        "id": "8ROftzHCicQH",
        "outputId": "237ddd78-dc42-4cce-a40c-9fc7431e0a0d"
      },
      "execution_count": null,
      "outputs": [
        {
          "output_type": "stream",
          "name": "stderr",
          "text": [
            "/usr/local/lib/python3.7/dist-packages/keras/optimizer_v2/adam.py:105: UserWarning: The `lr` argument is deprecated, use `learning_rate` instead.\n",
            "  super(Adam, self).__init__(name, **kwargs)\n"
          ]
        }
      ]
    },
    {
      "cell_type": "code",
      "source": [
        "\n",
        "\n",
        "from keras.utils.vis_utils import plot_model\n",
        "plot_model(CNN1_network, to_file='CNN1_model.png', show_shapes=True, show_layer_names=True)\n",
        "\n"
      ],
      "metadata": {
        "colab": {
          "base_uri": "https://localhost:8080/",
          "height": 976
        },
        "id": "6edavZ58iksK",
        "outputId": "93888aad-d4e7-4834-d684-46db1d8a805e"
      },
      "execution_count": null,
      "outputs": [
        {
          "output_type": "execute_result",
          "data": {
            "text/plain": [
              "<IPython.core.display.Image object>"
            ],
            "image/png": "[encoded data removed]"
          },
          "metadata": {},
          "execution_count": 65
        }
      ]
    },
    {
      "cell_type": "markdown",
      "source": [
        "# Making of \"earlystopper\" and \"reduce_lr\"\n"
      ],
      "metadata": {
        "id": "QB532PzZioo-"
      }
    },
    {
      "cell_type": "code",
      "source": [
        "\n",
        "\n",
        "from keras.callbacks import EarlyStopping, ReduceLROnPlateau,ModelCheckpoint\n",
        "earlystopper = EarlyStopping(patience=8, verbose=1)\n",
        "\n",
        "reduce_lr = ReduceLROnPlateau(monitor='val_loss', factor=0.9,\n",
        "                              patience=2, min_lr=0.00001, verbose=1)\n",
        "\n"
      ],
      "metadata": {
        "id": "-jCIrgSbinFf"
      },
      "execution_count": null,
      "outputs": []
    },
    {
      "cell_type": "markdown",
      "source": [
        "# Model Fitting or Training\n"
      ],
      "metadata": {
        "id": "9ohV9HtzirgL"
      }
    },
    {
      "cell_type": "code",
      "source": [
        "hist = CNN1_network.fit(padded_clean_text_stem,label_twoDimension,epochs=200,batch_size=32,callbacks=[earlystopper, reduce_lr])"
      ],
      "metadata": {
        "colab": {
          "base_uri": "https://localhost:8080/"
        },
        "id": "UzcF5tneirDQ",
        "outputId": "f8389dd7-74da-4377-b4d5-2aa0143b06ce"
      },
      "execution_count": null,
      "outputs": [
        {
          "output_type": "stream",
          "name": "stdout",
          "text": [
            "Epoch 1/200\n",
            "75/75 [==============================] - ETA: 0s - loss: 0.6548 - accuracy: 0.5605WARNING:tensorflow:Early stopping conditioned on metric `val_loss` which is not available. Available metrics are: loss,accuracy\n",
            "WARNING:tensorflow:Learning rate reduction is conditioned on metric `val_loss` which is not available. Available metrics are: loss,accuracy,lr\n",
            "75/75 [==============================] - 11s 12ms/step - loss: 0.6548 - accuracy: 0.5605 - lr: 3.0000e-05\n",
            "Epoch 2/200\n",
            "72/75 [===========================>..] - ETA: 0s - loss: 0.4826 - accuracy: 0.7031WARNING:tensorflow:Early stopping conditioned on metric `val_loss` which is not available. Available metrics are: loss,accuracy\n",
            "WARNING:tensorflow:Learning rate reduction is conditioned on metric `val_loss` which is not available. Available metrics are: loss,accuracy,lr\n",
            "75/75 [==============================] - 1s 11ms/step - loss: 0.4796 - accuracy: 0.7046 - lr: 3.0000e-05\n",
            "Epoch 3/200\n",
            "72/75 [===========================>..] - ETA: 0s - loss: 0.3910 - accuracy: 0.7148WARNING:tensorflow:Early stopping conditioned on metric `val_loss` which is not available. Available metrics are: loss,accuracy\n",
            "WARNING:tensorflow:Learning rate reduction is conditioned on metric `val_loss` which is not available. Available metrics are: loss,accuracy,lr\n",
            "75/75 [==============================] - 1s 11ms/step - loss: 0.3903 - accuracy: 0.7160 - lr: 3.0000e-05\n",
            "Epoch 4/200\n",
            "74/75 [============================>.] - ETA: 0s - loss: 0.3865 - accuracy: 0.7162WARNING:tensorflow:Early stopping conditioned on metric `val_loss` which is not available. Available metrics are: loss,accuracy\n",
            "WARNING:tensorflow:Learning rate reduction is conditioned on metric `val_loss` which is not available. Available metrics are: loss,accuracy,lr\n",
            "75/75 [==============================] - 1s 11ms/step - loss: 0.3865 - accuracy: 0.7160 - lr: 3.0000e-05\n",
            "Epoch 5/200\n",
            "71/75 [===========================>..] - ETA: 0s - loss: 0.3908 - accuracy: 0.7148WARNING:tensorflow:Early stopping conditioned on metric `val_loss` which is not available. Available metrics are: loss,accuracy\n",
            "WARNING:tensorflow:Learning rate reduction is conditioned on metric `val_loss` which is not available. Available metrics are: loss,accuracy,lr\n",
            "75/75 [==============================] - 1s 10ms/step - loss: 0.3897 - accuracy: 0.7151 - lr: 3.0000e-05\n",
            "Epoch 6/200\n",
            "70/75 [===========================>..] - ETA: 0s - loss: 0.3873 - accuracy: 0.7112WARNING:tensorflow:Early stopping conditioned on metric `val_loss` which is not available. Available metrics are: loss,accuracy\n",
            "WARNING:tensorflow:Learning rate reduction is conditioned on metric `val_loss` which is not available. Available metrics are: loss,accuracy,lr\n",
            "75/75 [==============================] - 1s 10ms/step - loss: 0.3842 - accuracy: 0.7147 - lr: 3.0000e-05\n",
            "Epoch 7/200\n",
            "74/75 [============================>.] - ETA: 0s - loss: 0.3818 - accuracy: 0.7171WARNING:tensorflow:Early stopping conditioned on metric `val_loss` which is not available. Available metrics are: loss,accuracy\n",
            "WARNING:tensorflow:Learning rate reduction is conditioned on metric `val_loss` which is not available. Available metrics are: loss,accuracy,lr\n",
            "75/75 [==============================] - 1s 10ms/step - loss: 0.3818 - accuracy: 0.7168 - lr: 3.0000e-05\n",
            "Epoch 8/200\n",
            "75/75 [==============================] - ETA: 0s - loss: 0.3784 - accuracy: 0.7143WARNING:tensorflow:Early stopping conditioned on metric `val_loss` which is not available. Available metrics are: loss,accuracy\n",
            "WARNING:tensorflow:Learning rate reduction is conditioned on metric `val_loss` which is not available. Available metrics are: loss,accuracy,lr\n",
            "75/75 [==============================] - 1s 10ms/step - loss: 0.3784 - accuracy: 0.7143 - lr: 3.0000e-05\n",
            "Epoch 9/200\n",
            "75/75 [==============================] - ETA: 0s - loss: 0.3722 - accuracy: 0.7168WARNING:tensorflow:Early stopping conditioned on metric `val_loss` which is not available. Available metrics are: loss,accuracy\n",
            "WARNING:tensorflow:Learning rate reduction is conditioned on metric `val_loss` which is not available. Available metrics are: loss,accuracy,lr\n",
            "75/75 [==============================] - 1s 11ms/step - loss: 0.3722 - accuracy: 0.7168 - lr: 3.0000e-05\n",
            "Epoch 10/200\n",
            "74/75 [============================>.] - ETA: 0s - loss: 0.3711 - accuracy: 0.7158WARNING:tensorflow:Early stopping conditioned on metric `val_loss` which is not available. Available metrics are: loss,accuracy\n",
            "WARNING:tensorflow:Learning rate reduction is conditioned on metric `val_loss` which is not available. Available metrics are: loss,accuracy,lr\n",
            "75/75 [==============================] - 1s 10ms/step - loss: 0.3709 - accuracy: 0.7160 - lr: 3.0000e-05\n",
            "Epoch 11/200\n",
            "74/75 [============================>.] - ETA: 0s - loss: 0.3634 - accuracy: 0.7162WARNING:tensorflow:Early stopping conditioned on metric `val_loss` which is not available. Available metrics are: loss,accuracy\n",
            "WARNING:tensorflow:Learning rate reduction is conditioned on metric `val_loss` which is not available. Available metrics are: loss,accuracy,lr\n",
            "75/75 [==============================] - 1s 10ms/step - loss: 0.3631 - accuracy: 0.7168 - lr: 3.0000e-05\n",
            "Epoch 12/200\n",
            "72/75 [===========================>..] - ETA: 0s - loss: 0.3563 - accuracy: 0.7174WARNING:tensorflow:Early stopping conditioned on metric `val_loss` which is not available. Available metrics are: loss,accuracy\n",
            "WARNING:tensorflow:Learning rate reduction is conditioned on metric `val_loss` which is not available. Available metrics are: loss,accuracy,lr\n",
            "75/75 [==============================] - 1s 11ms/step - loss: 0.3556 - accuracy: 0.7181 - lr: 3.0000e-05\n",
            "Epoch 13/200\n",
            "72/75 [===========================>..] - ETA: 0s - loss: 0.3506 - accuracy: 0.7248WARNING:tensorflow:Early stopping conditioned on metric `val_loss` which is not available. Available metrics are: loss,accuracy\n",
            "WARNING:tensorflow:Learning rate reduction is conditioned on metric `val_loss` which is not available. Available metrics are: loss,accuracy,lr\n",
            "75/75 [==============================] - 1s 10ms/step - loss: 0.3512 - accuracy: 0.7244 - lr: 3.0000e-05\n",
            "Epoch 14/200\n",
            "74/75 [============================>.] - ETA: 0s - loss: 0.3417 - accuracy: 0.7259WARNING:tensorflow:Early stopping conditioned on metric `val_loss` which is not available. Available metrics are: loss,accuracy\n",
            "WARNING:tensorflow:Learning rate reduction is conditioned on metric `val_loss` which is not available. Available metrics are: loss,accuracy,lr\n",
            "75/75 [==============================] - 1s 10ms/step - loss: 0.3416 - accuracy: 0.7261 - lr: 3.0000e-05\n",
            "Epoch 15/200\n",
            "75/75 [==============================] - ETA: 0s - loss: 0.3332 - accuracy: 0.7337WARNING:tensorflow:Early stopping conditioned on metric `val_loss` which is not available. Available metrics are: loss,accuracy\n",
            "WARNING:tensorflow:Learning rate reduction is conditioned on metric `val_loss` which is not available. Available metrics are: loss,accuracy,lr\n",
            "75/75 [==============================] - 1s 11ms/step - loss: 0.3332 - accuracy: 0.7337 - lr: 3.0000e-05\n",
            "Epoch 16/200\n",
            "72/75 [===========================>..] - ETA: 0s - loss: 0.3201 - accuracy: 0.7478WARNING:tensorflow:Early stopping conditioned on metric `val_loss` which is not available. Available metrics are: loss,accuracy\n",
            "WARNING:tensorflow:Learning rate reduction is conditioned on metric `val_loss` which is not available. Available metrics are: loss,accuracy,lr\n",
            "75/75 [==============================] - 1s 10ms/step - loss: 0.3195 - accuracy: 0.7488 - lr: 3.0000e-05\n",
            "Epoch 17/200\n",
            "71/75 [===========================>..] - ETA: 0s - loss: 0.3082 - accuracy: 0.7654WARNING:tensorflow:Early stopping conditioned on metric `val_loss` which is not available. Available metrics are: loss,accuracy\n",
            "WARNING:tensorflow:Learning rate reduction is conditioned on metric `val_loss` which is not available. Available metrics are: loss,accuracy,lr\n",
            "75/75 [==============================] - 1s 10ms/step - loss: 0.3077 - accuracy: 0.7649 - lr: 3.0000e-05\n",
            "Epoch 18/200\n",
            "74/75 [============================>.] - ETA: 0s - loss: 0.2982 - accuracy: 0.7724WARNING:tensorflow:Early stopping conditioned on metric `val_loss` which is not available. Available metrics are: loss,accuracy\n",
            "WARNING:tensorflow:Learning rate reduction is conditioned on metric `val_loss` which is not available. Available metrics are: loss,accuracy,lr\n",
            "75/75 [==============================] - 1s 11ms/step - loss: 0.2979 - accuracy: 0.7729 - lr: 3.0000e-05\n",
            "Epoch 19/200\n",
            "73/75 [============================>.] - ETA: 0s - loss: 0.2867 - accuracy: 0.7949WARNING:tensorflow:Early stopping conditioned on metric `val_loss` which is not available. Available metrics are: loss,accuracy\n",
            "WARNING:tensorflow:Learning rate reduction is conditioned on metric `val_loss` which is not available. Available metrics are: loss,accuracy,lr\n",
            "75/75 [==============================] - 1s 11ms/step - loss: 0.2874 - accuracy: 0.7944 - lr: 3.0000e-05\n",
            "Epoch 20/200\n",
            "71/75 [===========================>..] - ETA: 0s - loss: 0.2761 - accuracy: 0.8077WARNING:tensorflow:Early stopping conditioned on metric `val_loss` which is not available. Available metrics are: loss,accuracy\n",
            "WARNING:tensorflow:Learning rate reduction is conditioned on metric `val_loss` which is not available. Available metrics are: loss,accuracy,lr\n",
            "75/75 [==============================] - 1s 11ms/step - loss: 0.2750 - accuracy: 0.8095 - lr: 3.0000e-05\n",
            "Epoch 21/200\n",
            "74/75 [============================>.] - ETA: 0s - loss: 0.2611 - accuracy: 0.8184WARNING:tensorflow:Early stopping conditioned on metric `val_loss` which is not available. Available metrics are: loss,accuracy\n",
            "WARNING:tensorflow:Learning rate reduction is conditioned on metric `val_loss` which is not available. Available metrics are: loss,accuracy,lr\n",
            "75/75 [==============================] - 1s 10ms/step - loss: 0.2608 - accuracy: 0.8188 - lr: 3.0000e-05\n",
            "Epoch 22/200\n",
            "74/75 [============================>.] - ETA: 0s - loss: 0.2518 - accuracy: 0.8269WARNING:tensorflow:Early stopping conditioned on metric `val_loss` which is not available. Available metrics are: loss,accuracy\n",
            "WARNING:tensorflow:Learning rate reduction is conditioned on metric `val_loss` which is not available. Available metrics are: loss,accuracy,lr\n",
            "75/75 [==============================] - 1s 11ms/step - loss: 0.2517 - accuracy: 0.8272 - lr: 3.0000e-05\n",
            "Epoch 23/200\n",
            "73/75 [============================>.] - ETA: 0s - loss: 0.2418 - accuracy: 0.8322WARNING:tensorflow:Early stopping conditioned on metric `val_loss` which is not available. Available metrics are: loss,accuracy\n",
            "WARNING:tensorflow:Learning rate reduction is conditioned on metric `val_loss` which is not available. Available metrics are: loss,accuracy,lr\n",
            "75/75 [==============================] - 1s 11ms/step - loss: 0.2425 - accuracy: 0.8314 - lr: 3.0000e-05\n",
            "Epoch 24/200\n",
            "70/75 [===========================>..] - ETA: 0s - loss: 0.2328 - accuracy: 0.8429WARNING:tensorflow:Early stopping conditioned on metric `val_loss` which is not available. Available metrics are: loss,accuracy\n",
            "WARNING:tensorflow:Learning rate reduction is conditioned on metric `val_loss` which is not available. Available metrics are: loss,accuracy,lr\n",
            "75/75 [==============================] - 1s 11ms/step - loss: 0.2345 - accuracy: 0.8403 - lr: 3.0000e-05\n",
            "Epoch 25/200\n",
            "72/75 [===========================>..] - ETA: 0s - loss: 0.2265 - accuracy: 0.8433WARNING:tensorflow:Early stopping conditioned on metric `val_loss` which is not available. Available metrics are: loss,accuracy\n",
            "WARNING:tensorflow:Learning rate reduction is conditioned on metric `val_loss` which is not available. Available metrics are: loss,accuracy,lr\n",
            "75/75 [==============================] - 1s 11ms/step - loss: 0.2259 - accuracy: 0.8441 - lr: 3.0000e-05\n",
            "Epoch 26/200\n",
            "72/75 [===========================>..] - ETA: 0s - loss: 0.2167 - accuracy: 0.8490WARNING:tensorflow:Early stopping conditioned on metric `val_loss` which is not available. Available metrics are: loss,accuracy\n",
            "WARNING:tensorflow:Learning rate reduction is conditioned on metric `val_loss` which is not available. Available metrics are: loss,accuracy,lr\n",
            "75/75 [==============================] - 1s 11ms/step - loss: 0.2186 - accuracy: 0.8470 - lr: 3.0000e-05\n",
            "Epoch 27/200\n",
            "70/75 [===========================>..] - ETA: 0s - loss: 0.2091 - accuracy: 0.8473WARNING:tensorflow:Early stopping conditioned on metric `val_loss` which is not available. Available metrics are: loss,accuracy\n",
            "WARNING:tensorflow:Learning rate reduction is conditioned on metric `val_loss` which is not available. Available metrics are: loss,accuracy,lr\n",
            "75/75 [==============================] - 1s 10ms/step - loss: 0.2087 - accuracy: 0.8487 - lr: 3.0000e-05\n",
            "Epoch 28/200\n",
            "73/75 [============================>.] - ETA: 0s - loss: 0.1995 - accuracy: 0.8549WARNING:tensorflow:Early stopping conditioned on metric `val_loss` which is not available. Available metrics are: loss,accuracy\n",
            "WARNING:tensorflow:Learning rate reduction is conditioned on metric `val_loss` which is not available. Available metrics are: loss,accuracy,lr\n",
            "75/75 [==============================] - 1s 11ms/step - loss: 0.2005 - accuracy: 0.8538 - lr: 3.0000e-05\n",
            "Epoch 29/200\n",
            "75/75 [==============================] - ETA: 0s - loss: 0.1957 - accuracy: 0.8546WARNING:tensorflow:Early stopping conditioned on metric `val_loss` which is not available. Available metrics are: loss,accuracy\n",
            "WARNING:tensorflow:Learning rate reduction is conditioned on metric `val_loss` which is not available. Available metrics are: loss,accuracy,lr\n",
            "75/75 [==============================] - 1s 10ms/step - loss: 0.1957 - accuracy: 0.8546 - lr: 3.0000e-05\n",
            "Epoch 30/200\n",
            "72/75 [===========================>..] - ETA: 0s - loss: 0.1925 - accuracy: 0.8572WARNING:tensorflow:Early stopping conditioned on metric `val_loss` which is not available. Available metrics are: loss,accuracy\n",
            "WARNING:tensorflow:Learning rate reduction is conditioned on metric `val_loss` which is not available. Available metrics are: loss,accuracy,lr\n",
            "75/75 [==============================] - 1s 11ms/step - loss: 0.1906 - accuracy: 0.8588 - lr: 3.0000e-05\n",
            "Epoch 31/200\n",
            "72/75 [===========================>..] - ETA: 0s - loss: 0.1807 - accuracy: 0.8585WARNING:tensorflow:Early stopping conditioned on metric `val_loss` which is not available. Available metrics are: loss,accuracy\n",
            "WARNING:tensorflow:Learning rate reduction is conditioned on metric `val_loss` which is not available. Available metrics are: loss,accuracy,lr\n",
            "75/75 [==============================] - 1s 11ms/step - loss: 0.1824 - accuracy: 0.8571 - lr: 3.0000e-05\n",
            "Epoch 32/200\n",
            "73/75 [============================>.] - ETA: 0s - loss: 0.1767 - accuracy: 0.8600WARNING:tensorflow:Early stopping conditioned on metric `val_loss` which is not available. Available metrics are: loss,accuracy\n",
            "WARNING:tensorflow:Learning rate reduction is conditioned on metric `val_loss` which is not available. Available metrics are: loss,accuracy,lr\n",
            "75/75 [==============================] - 1s 10ms/step - loss: 0.1757 - accuracy: 0.8618 - lr: 3.0000e-05\n",
            "Epoch 33/200\n",
            "74/75 [============================>.] - ETA: 0s - loss: 0.1701 - accuracy: 0.8666WARNING:tensorflow:Early stopping conditioned on metric `val_loss` which is not available. Available metrics are: loss,accuracy\n",
            "WARNING:tensorflow:Learning rate reduction is conditioned on metric `val_loss` which is not available. Available metrics are: loss,accuracy,lr\n",
            "75/75 [==============================] - 1s 11ms/step - loss: 0.1701 - accuracy: 0.8664 - lr: 3.0000e-05\n",
            "Epoch 34/200\n",
            "73/75 [============================>.] - ETA: 0s - loss: 0.1620 - accuracy: 0.8673WARNING:tensorflow:Early stopping conditioned on metric `val_loss` which is not available. Available metrics are: loss,accuracy\n",
            "WARNING:tensorflow:Learning rate reduction is conditioned on metric `val_loss` which is not available. Available metrics are: loss,accuracy,lr\n",
            "75/75 [==============================] - 1s 11ms/step - loss: 0.1623 - accuracy: 0.8673 - lr: 3.0000e-05\n",
            "Epoch 35/200\n",
            "74/75 [============================>.] - ETA: 0s - loss: 0.1588 - accuracy: 0.8699WARNING:tensorflow:Early stopping conditioned on metric `val_loss` which is not available. Available metrics are: loss,accuracy\n",
            "WARNING:tensorflow:Learning rate reduction is conditioned on metric `val_loss` which is not available. Available metrics are: loss,accuracy,lr\n",
            "75/75 [==============================] - 1s 11ms/step - loss: 0.1586 - accuracy: 0.8702 - lr: 3.0000e-05\n",
            "Epoch 36/200\n",
            "71/75 [===========================>..] - ETA: 0s - loss: 0.1511 - accuracy: 0.8759WARNING:tensorflow:Early stopping conditioned on metric `val_loss` which is not available. Available metrics are: loss,accuracy\n",
            "WARNING:tensorflow:Learning rate reduction is conditioned on metric `val_loss` which is not available. Available metrics are: loss,accuracy,lr\n",
            "75/75 [==============================] - 1s 11ms/step - loss: 0.1529 - accuracy: 0.8736 - lr: 3.0000e-05\n",
            "Epoch 37/200\n",
            "71/75 [===========================>..] - ETA: 0s - loss: 0.1503 - accuracy: 0.8746WARNING:tensorflow:Early stopping conditioned on metric `val_loss` which is not available. Available metrics are: loss,accuracy\n",
            "WARNING:tensorflow:Learning rate reduction is conditioned on metric `val_loss` which is not available. Available metrics are: loss,accuracy,lr\n",
            "75/75 [==============================] - 1s 11ms/step - loss: 0.1497 - accuracy: 0.8748 - lr: 3.0000e-05\n",
            "Epoch 38/200\n",
            "75/75 [==============================] - ETA: 0s - loss: 0.1433 - accuracy: 0.8833WARNING:tensorflow:Early stopping conditioned on metric `val_loss` which is not available. Available metrics are: loss,accuracy\n",
            "WARNING:tensorflow:Learning rate reduction is conditioned on metric `val_loss` which is not available. Available metrics are: loss,accuracy,lr\n",
            "75/75 [==============================] - 1s 11ms/step - loss: 0.1433 - accuracy: 0.8833 - lr: 3.0000e-05\n",
            "Epoch 39/200\n",
            "70/75 [===========================>..] - ETA: 0s - loss: 0.1384 - accuracy: 0.8844WARNING:tensorflow:Early stopping conditioned on metric `val_loss` which is not available. Available metrics are: loss,accuracy\n",
            "WARNING:tensorflow:Learning rate reduction is conditioned on metric `val_loss` which is not available. Available metrics are: loss,accuracy,lr\n",
            "75/75 [==============================] - 1s 11ms/step - loss: 0.1398 - accuracy: 0.8837 - lr: 3.0000e-05\n",
            "Epoch 40/200\n",
            "75/75 [==============================] - ETA: 0s - loss: 0.1354 - accuracy: 0.8904WARNING:tensorflow:Early stopping conditioned on metric `val_loss` which is not available. Available metrics are: loss,accuracy\n",
            "WARNING:tensorflow:Learning rate reduction is conditioned on metric `val_loss` which is not available. Available metrics are: loss,accuracy,lr\n",
            "75/75 [==============================] - 1s 11ms/step - loss: 0.1354 - accuracy: 0.8904 - lr: 3.0000e-05\n",
            "Epoch 41/200\n",
            "75/75 [==============================] - ETA: 0s - loss: 0.1303 - accuracy: 0.8892WARNING:tensorflow:Early stopping conditioned on metric `val_loss` which is not available. Available metrics are: loss,accuracy\n",
            "WARNING:tensorflow:Learning rate reduction is conditioned on metric `val_loss` which is not available. Available metrics are: loss,accuracy,lr\n",
            "75/75 [==============================] - 1s 11ms/step - loss: 0.1303 - accuracy: 0.8892 - lr: 3.0000e-05\n",
            "Epoch 42/200\n",
            "75/75 [==============================] - ETA: 0s - loss: 0.1262 - accuracy: 0.9022WARNING:tensorflow:Early stopping conditioned on metric `val_loss` which is not available. Available metrics are: loss,accuracy\n",
            "WARNING:tensorflow:Learning rate reduction is conditioned on metric `val_loss` which is not available. Available metrics are: loss,accuracy,lr\n",
            "75/75 [==============================] - 1s 11ms/step - loss: 0.1262 - accuracy: 0.9022 - lr: 3.0000e-05\n",
            "Epoch 43/200\n",
            "75/75 [==============================] - ETA: 0s - loss: 0.1223 - accuracy: 0.9018WARNING:tensorflow:Early stopping conditioned on metric `val_loss` which is not available. Available metrics are: loss,accuracy\n",
            "WARNING:tensorflow:Learning rate reduction is conditioned on metric `val_loss` which is not available. Available metrics are: loss,accuracy,lr\n",
            "75/75 [==============================] - 1s 11ms/step - loss: 0.1223 - accuracy: 0.9018 - lr: 3.0000e-05\n",
            "Epoch 44/200\n",
            "70/75 [===========================>..] - ETA: 0s - loss: 0.1198 - accuracy: 0.9067WARNING:tensorflow:Early stopping conditioned on metric `val_loss` which is not available. Available metrics are: loss,accuracy\n",
            "WARNING:tensorflow:Learning rate reduction is conditioned on metric `val_loss` which is not available. Available metrics are: loss,accuracy,lr\n",
            "75/75 [==============================] - 1s 13ms/step - loss: 0.1189 - accuracy: 0.9090 - lr: 3.0000e-05\n",
            "Epoch 45/200\n",
            "75/75 [==============================] - ETA: 0s - loss: 0.1154 - accuracy: 0.9060WARNING:tensorflow:Early stopping conditioned on metric `val_loss` which is not available. Available metrics are: loss,accuracy\n",
            "WARNING:tensorflow:Learning rate reduction is conditioned on metric `val_loss` which is not available. Available metrics are: loss,accuracy,lr\n",
            "75/75 [==============================] - 1s 11ms/step - loss: 0.1154 - accuracy: 0.9060 - lr: 3.0000e-05\n",
            "Epoch 46/200\n",
            "70/75 [===========================>..] - ETA: 0s - loss: 0.1154 - accuracy: 0.9098WARNING:tensorflow:Early stopping conditioned on metric `val_loss` which is not available. Available metrics are: loss,accuracy\n",
            "WARNING:tensorflow:Learning rate reduction is conditioned on metric `val_loss` which is not available. Available metrics are: loss,accuracy,lr\n",
            "75/75 [==============================] - 1s 11ms/step - loss: 0.1128 - accuracy: 0.9132 - lr: 3.0000e-05\n",
            "Epoch 47/200\n",
            "70/75 [===========================>..] - ETA: 0s - loss: 0.1097 - accuracy: 0.9196WARNING:tensorflow:Early stopping conditioned on metric `val_loss` which is not available. Available metrics are: loss,accuracy\n",
            "WARNING:tensorflow:Learning rate reduction is conditioned on metric `val_loss` which is not available. Available metrics are: loss,accuracy,lr\n",
            "75/75 [==============================] - 1s 11ms/step - loss: 0.1099 - accuracy: 0.9195 - lr: 3.0000e-05\n",
            "Epoch 48/200\n",
            "71/75 [===========================>..] - ETA: 0s - loss: 0.1078 - accuracy: 0.9168WARNING:tensorflow:Early stopping conditioned on metric `val_loss` which is not available. Available metrics are: loss,accuracy\n",
            "WARNING:tensorflow:Learning rate reduction is conditioned on metric `val_loss` which is not available. Available metrics are: loss,accuracy,lr\n",
            "75/75 [==============================] - 1s 11ms/step - loss: 0.1087 - accuracy: 0.9157 - lr: 3.0000e-05\n",
            "Epoch 49/200\n",
            "72/75 [===========================>..] - ETA: 0s - loss: 0.1024 - accuracy: 0.9223WARNING:tensorflow:Early stopping conditioned on metric `val_loss` which is not available. Available metrics are: loss,accuracy\n",
            "WARNING:tensorflow:Learning rate reduction is conditioned on metric `val_loss` which is not available. Available metrics are: loss,accuracy,lr\n",
            "75/75 [==============================] - 1s 11ms/step - loss: 0.1026 - accuracy: 0.9220 - lr: 3.0000e-05\n",
            "Epoch 50/200\n",
            "71/75 [===========================>..] - ETA: 0s - loss: 0.0985 - accuracy: 0.9252WARNING:tensorflow:Early stopping conditioned on metric `val_loss` which is not available. Available metrics are: loss,accuracy\n",
            "WARNING:tensorflow:Learning rate reduction is conditioned on metric `val_loss` which is not available. Available metrics are: loss,accuracy,lr\n",
            "75/75 [==============================] - 1s 11ms/step - loss: 0.0991 - accuracy: 0.9241 - lr: 3.0000e-05\n",
            "Epoch 51/200\n",
            "74/75 [============================>.] - ETA: 0s - loss: 0.0969 - accuracy: 0.9307WARNING:tensorflow:Early stopping conditioned on metric `val_loss` which is not available. Available metrics are: loss,accuracy\n",
            "WARNING:tensorflow:Learning rate reduction is conditioned on metric `val_loss` which is not available. Available metrics are: loss,accuracy,lr\n",
            "75/75 [==============================] - 1s 11ms/step - loss: 0.0972 - accuracy: 0.9309 - lr: 3.0000e-05\n",
            "Epoch 52/200\n",
            "71/75 [===========================>..] - ETA: 0s - loss: 0.0934 - accuracy: 0.9344WARNING:tensorflow:Early stopping conditioned on metric `val_loss` which is not available. Available metrics are: loss,accuracy\n",
            "WARNING:tensorflow:Learning rate reduction is conditioned on metric `val_loss` which is not available. Available metrics are: loss,accuracy,lr\n",
            "75/75 [==============================] - 1s 11ms/step - loss: 0.0939 - accuracy: 0.9326 - lr: 3.0000e-05\n",
            "Epoch 53/200\n",
            "75/75 [==============================] - ETA: 0s - loss: 0.0924 - accuracy: 0.9359WARNING:tensorflow:Early stopping conditioned on metric `val_loss` which is not available. Available metrics are: loss,accuracy\n",
            "WARNING:tensorflow:Learning rate reduction is conditioned on metric `val_loss` which is not available. Available metrics are: loss,accuracy,lr\n",
            "75/75 [==============================] - 1s 11ms/step - loss: 0.0924 - accuracy: 0.9359 - lr: 3.0000e-05\n",
            "Epoch 54/200\n",
            "74/75 [============================>.] - ETA: 0s - loss: 0.0878 - accuracy: 0.9350WARNING:tensorflow:Early stopping conditioned on metric `val_loss` which is not available. Available metrics are: loss,accuracy\n",
            "WARNING:tensorflow:Learning rate reduction is conditioned on metric `val_loss` which is not available. Available metrics are: loss,accuracy,lr\n",
            "75/75 [==============================] - 1s 11ms/step - loss: 0.0876 - accuracy: 0.9351 - lr: 3.0000e-05\n",
            "Epoch 55/200\n",
            "74/75 [============================>.] - ETA: 0s - loss: 0.0846 - accuracy: 0.9447WARNING:tensorflow:Early stopping conditioned on metric `val_loss` which is not available. Available metrics are: loss,accuracy\n",
            "WARNING:tensorflow:Learning rate reduction is conditioned on metric `val_loss` which is not available. Available metrics are: loss,accuracy,lr\n",
            "75/75 [==============================] - 1s 11ms/step - loss: 0.0849 - accuracy: 0.9444 - lr: 3.0000e-05\n",
            "Epoch 56/200\n",
            "74/75 [============================>.] - ETA: 0s - loss: 0.0824 - accuracy: 0.9472WARNING:tensorflow:Early stopping conditioned on metric `val_loss` which is not available. Available metrics are: loss,accuracy\n",
            "WARNING:tensorflow:Learning rate reduction is conditioned on metric `val_loss` which is not available. Available metrics are: loss,accuracy,lr\n",
            "75/75 [==============================] - 1s 11ms/step - loss: 0.0824 - accuracy: 0.9469 - lr: 3.0000e-05\n",
            "Epoch 57/200\n",
            "75/75 [==============================] - ETA: 0s - loss: 0.0800 - accuracy: 0.9448WARNING:tensorflow:Early stopping conditioned on metric `val_loss` which is not available. Available metrics are: loss,accuracy\n",
            "WARNING:tensorflow:Learning rate reduction is conditioned on metric `val_loss` which is not available. Available metrics are: loss,accuracy,lr\n",
            "75/75 [==============================] - 1s 11ms/step - loss: 0.0800 - accuracy: 0.9448 - lr: 3.0000e-05\n",
            "Epoch 58/200\n",
            "74/75 [============================>.] - ETA: 0s - loss: 0.0805 - accuracy: 0.9464WARNING:tensorflow:Early stopping conditioned on metric `val_loss` which is not available. Available metrics are: loss,accuracy\n",
            "WARNING:tensorflow:Learning rate reduction is conditioned on metric `val_loss` which is not available. Available metrics are: loss,accuracy,lr\n",
            "75/75 [==============================] - 1s 11ms/step - loss: 0.0807 - accuracy: 0.9465 - lr: 3.0000e-05\n",
            "Epoch 59/200\n",
            "74/75 [============================>.] - ETA: 0s - loss: 0.0771 - accuracy: 0.9523WARNING:tensorflow:Early stopping conditioned on metric `val_loss` which is not available. Available metrics are: loss,accuracy\n",
            "WARNING:tensorflow:Learning rate reduction is conditioned on metric `val_loss` which is not available. Available metrics are: loss,accuracy,lr\n",
            "75/75 [==============================] - 1s 12ms/step - loss: 0.0772 - accuracy: 0.9520 - lr: 3.0000e-05\n",
            "Epoch 60/200\n",
            "75/75 [==============================] - ETA: 0s - loss: 0.0751 - accuracy: 0.9536WARNING:tensorflow:Early stopping conditioned on metric `val_loss` which is not available. Available metrics are: loss,accuracy\n",
            "WARNING:tensorflow:Learning rate reduction is conditioned on metric `val_loss` which is not available. Available metrics are: loss,accuracy,lr\n",
            "75/75 [==============================] - 1s 11ms/step - loss: 0.0751 - accuracy: 0.9536 - lr: 3.0000e-05\n",
            "Epoch 61/200\n",
            "74/75 [============================>.] - ETA: 0s - loss: 0.0736 - accuracy: 0.9506WARNING:tensorflow:Early stopping conditioned on metric `val_loss` which is not available. Available metrics are: loss,accuracy\n",
            "WARNING:tensorflow:Learning rate reduction is conditioned on metric `val_loss` which is not available. Available metrics are: loss,accuracy,lr\n",
            "75/75 [==============================] - 1s 11ms/step - loss: 0.0734 - accuracy: 0.9507 - lr: 3.0000e-05\n",
            "Epoch 62/200\n",
            "75/75 [==============================] - ETA: 0s - loss: 0.0714 - accuracy: 0.9570WARNING:tensorflow:Early stopping conditioned on metric `val_loss` which is not available. Available metrics are: loss,accuracy\n",
            "WARNING:tensorflow:Learning rate reduction is conditioned on metric `val_loss` which is not available. Available metrics are: loss,accuracy,lr\n",
            "75/75 [==============================] - 1s 11ms/step - loss: 0.0714 - accuracy: 0.9570 - lr: 3.0000e-05\n",
            "Epoch 63/200\n",
            "70/75 [===========================>..] - ETA: 0s - loss: 0.0707 - accuracy: 0.9540WARNING:tensorflow:Early stopping conditioned on metric `val_loss` which is not available. Available metrics are: loss,accuracy\n",
            "WARNING:tensorflow:Learning rate reduction is conditioned on metric `val_loss` which is not available. Available metrics are: loss,accuracy,lr\n",
            "75/75 [==============================] - 1s 11ms/step - loss: 0.0696 - accuracy: 0.9553 - lr: 3.0000e-05\n",
            "Epoch 64/200\n",
            "75/75 [==============================] - ETA: 0s - loss: 0.0688 - accuracy: 0.9566WARNING:tensorflow:Early stopping conditioned on metric `val_loss` which is not available. Available metrics are: loss,accuracy\n",
            "WARNING:tensorflow:Learning rate reduction is conditioned on metric `val_loss` which is not available. Available metrics are: loss,accuracy,lr\n",
            "75/75 [==============================] - 1s 11ms/step - loss: 0.0688 - accuracy: 0.9566 - lr: 3.0000e-05\n",
            "Epoch 65/200\n",
            "70/75 [===========================>..] - ETA: 0s - loss: 0.0655 - accuracy: 0.9625WARNING:tensorflow:Early stopping conditioned on metric `val_loss` which is not available. Available metrics are: loss,accuracy\n",
            "WARNING:tensorflow:Learning rate reduction is conditioned on metric `val_loss` which is not available. Available metrics are: loss,accuracy,lr\n",
            "75/75 [==============================] - 1s 11ms/step - loss: 0.0666 - accuracy: 0.9612 - lr: 3.0000e-05\n",
            "Epoch 66/200\n",
            "74/75 [============================>.] - ETA: 0s - loss: 0.0647 - accuracy: 0.9633WARNING:tensorflow:Early stopping conditioned on metric `val_loss` which is not available. Available metrics are: loss,accuracy\n",
            "WARNING:tensorflow:Learning rate reduction is conditioned on metric `val_loss` which is not available. Available metrics are: loss,accuracy,lr\n",
            "75/75 [==============================] - 1s 11ms/step - loss: 0.0647 - accuracy: 0.9633 - lr: 3.0000e-05\n",
            "Epoch 67/200\n",
            "74/75 [============================>.] - ETA: 0s - loss: 0.0640 - accuracy: 0.9628WARNING:tensorflow:Early stopping conditioned on metric `val_loss` which is not available. Available metrics are: loss,accuracy\n",
            "WARNING:tensorflow:Learning rate reduction is conditioned on metric `val_loss` which is not available. Available metrics are: loss,accuracy,lr\n",
            "75/75 [==============================] - 1s 11ms/step - loss: 0.0640 - accuracy: 0.9629 - lr: 3.0000e-05\n",
            "Epoch 68/200\n",
            "75/75 [==============================] - ETA: 0s - loss: 0.0610 - accuracy: 0.9642WARNING:tensorflow:Early stopping conditioned on metric `val_loss` which is not available. Available metrics are: loss,accuracy\n",
            "WARNING:tensorflow:Learning rate reduction is conditioned on metric `val_loss` which is not available. Available metrics are: loss,accuracy,lr\n",
            "75/75 [==============================] - 1s 11ms/step - loss: 0.0610 - accuracy: 0.9642 - lr: 3.0000e-05\n",
            "Epoch 69/200\n",
            "72/75 [===========================>..] - ETA: 0s - loss: 0.0584 - accuracy: 0.9661WARNING:tensorflow:Early stopping conditioned on metric `val_loss` which is not available. Available metrics are: loss,accuracy\n",
            "WARNING:tensorflow:Learning rate reduction is conditioned on metric `val_loss` which is not available. Available metrics are: loss,accuracy,lr\n",
            "75/75 [==============================] - 1s 11ms/step - loss: 0.0592 - accuracy: 0.9646 - lr: 3.0000e-05\n",
            "Epoch 70/200\n",
            "75/75 [==============================] - ETA: 0s - loss: 0.0591 - accuracy: 0.9654WARNING:tensorflow:Early stopping conditioned on metric `val_loss` which is not available. Available metrics are: loss,accuracy\n",
            "WARNING:tensorflow:Learning rate reduction is conditioned on metric `val_loss` which is not available. Available metrics are: loss,accuracy,lr\n",
            "75/75 [==============================] - 1s 11ms/step - loss: 0.0591 - accuracy: 0.9654 - lr: 3.0000e-05\n",
            "Epoch 71/200\n",
            "74/75 [============================>.] - ETA: 0s - loss: 0.0583 - accuracy: 0.9679WARNING:tensorflow:Early stopping conditioned on metric `val_loss` which is not available. Available metrics are: loss,accuracy\n",
            "WARNING:tensorflow:Learning rate reduction is conditioned on metric `val_loss` which is not available. Available metrics are: loss,accuracy,lr\n",
            "75/75 [==============================] - 1s 11ms/step - loss: 0.0582 - accuracy: 0.9680 - lr: 3.0000e-05\n",
            "Epoch 72/200\n",
            "70/75 [===========================>..] - ETA: 0s - loss: 0.0549 - accuracy: 0.9737WARNING:tensorflow:Early stopping conditioned on metric `val_loss` which is not available. Available metrics are: loss,accuracy\n",
            "WARNING:tensorflow:Learning rate reduction is conditioned on metric `val_loss` which is not available. Available metrics are: loss,accuracy,lr\n",
            "75/75 [==============================] - 1s 11ms/step - loss: 0.0550 - accuracy: 0.9739 - lr: 3.0000e-05\n",
            "Epoch 73/200\n",
            "74/75 [============================>.] - ETA: 0s - loss: 0.0555 - accuracy: 0.9688WARNING:tensorflow:Early stopping conditioned on metric `val_loss` which is not available. Available metrics are: loss,accuracy\n",
            "WARNING:tensorflow:Learning rate reduction is conditioned on metric `val_loss` which is not available. Available metrics are: loss,accuracy,lr\n",
            "75/75 [==============================] - 1s 11ms/step - loss: 0.0556 - accuracy: 0.9688 - lr: 3.0000e-05\n",
            "Epoch 74/200\n",
            "71/75 [===========================>..] - ETA: 0s - loss: 0.0530 - accuracy: 0.9714WARNING:tensorflow:Early stopping conditioned on metric `val_loss` which is not available. Available metrics are: loss,accuracy\n",
            "WARNING:tensorflow:Learning rate reduction is conditioned on metric `val_loss` which is not available. Available metrics are: loss,accuracy,lr\n",
            "75/75 [==============================] - 1s 11ms/step - loss: 0.0529 - accuracy: 0.9722 - lr: 3.0000e-05\n",
            "Epoch 75/200\n",
            "74/75 [============================>.] - ETA: 0s - loss: 0.0515 - accuracy: 0.9730WARNING:tensorflow:Early stopping conditioned on metric `val_loss` which is not available. Available metrics are: loss,accuracy\n",
            "WARNING:tensorflow:Learning rate reduction is conditioned on metric `val_loss` which is not available. Available metrics are: loss,accuracy,lr\n",
            "75/75 [==============================] - 1s 11ms/step - loss: 0.0517 - accuracy: 0.9730 - lr: 3.0000e-05\n",
            "Epoch 76/200\n",
            "70/75 [===========================>..] - ETA: 0s - loss: 0.0525 - accuracy: 0.9692WARNING:tensorflow:Early stopping conditioned on metric `val_loss` which is not available. Available metrics are: loss,accuracy\n",
            "WARNING:tensorflow:Learning rate reduction is conditioned on metric `val_loss` which is not available. Available metrics are: loss,accuracy,lr\n",
            "75/75 [==============================] - 1s 11ms/step - loss: 0.0520 - accuracy: 0.9697 - lr: 3.0000e-05\n",
            "Epoch 77/200\n",
            "75/75 [==============================] - ETA: 0s - loss: 0.0487 - accuracy: 0.9768WARNING:tensorflow:Early stopping conditioned on metric `val_loss` which is not available. Available metrics are: loss,accuracy\n",
            "WARNING:tensorflow:Learning rate reduction is conditioned on metric `val_loss` which is not available. Available metrics are: loss,accuracy,lr\n",
            "75/75 [==============================] - 1s 11ms/step - loss: 0.0487 - accuracy: 0.9768 - lr: 3.0000e-05\n",
            "Epoch 78/200\n",
            "74/75 [============================>.] - ETA: 0s - loss: 0.0488 - accuracy: 0.9738WARNING:tensorflow:Early stopping conditioned on metric `val_loss` which is not available. Available metrics are: loss,accuracy\n",
            "WARNING:tensorflow:Learning rate reduction is conditioned on metric `val_loss` which is not available. Available metrics are: loss,accuracy,lr\n",
            "75/75 [==============================] - 1s 11ms/step - loss: 0.0488 - accuracy: 0.9739 - lr: 3.0000e-05\n",
            "Epoch 79/200\n",
            "73/75 [============================>.] - ETA: 0s - loss: 0.0472 - accuracy: 0.9782WARNING:tensorflow:Early stopping conditioned on metric `val_loss` which is not available. Available metrics are: loss,accuracy\n",
            "WARNING:tensorflow:Learning rate reduction is conditioned on metric `val_loss` which is not available. Available metrics are: loss,accuracy,lr\n",
            "75/75 [==============================] - 1s 12ms/step - loss: 0.0473 - accuracy: 0.9781 - lr: 3.0000e-05\n",
            "Epoch 80/200\n",
            "74/75 [============================>.] - ETA: 0s - loss: 0.0458 - accuracy: 0.9751WARNING:tensorflow:Early stopping conditioned on metric `val_loss` which is not available. Available metrics are: loss,accuracy\n",
            "WARNING:tensorflow:Learning rate reduction is conditioned on metric `val_loss` which is not available. Available metrics are: loss,accuracy,lr\n",
            "75/75 [==============================] - 1s 12ms/step - loss: 0.0461 - accuracy: 0.9747 - lr: 3.0000e-05\n",
            "Epoch 81/200\n",
            "73/75 [============================>.] - ETA: 0s - loss: 0.0449 - accuracy: 0.9803WARNING:tensorflow:Early stopping conditioned on metric `val_loss` which is not available. Available metrics are: loss,accuracy\n",
            "WARNING:tensorflow:Learning rate reduction is conditioned on metric `val_loss` which is not available. Available metrics are: loss,accuracy,lr\n",
            "75/75 [==============================] - 1s 11ms/step - loss: 0.0446 - accuracy: 0.9806 - lr: 3.0000e-05\n",
            "Epoch 82/200\n",
            "72/75 [===========================>..] - ETA: 0s - loss: 0.0432 - accuracy: 0.9805WARNING:tensorflow:Early stopping conditioned on metric `val_loss` which is not available. Available metrics are: loss,accuracy\n",
            "WARNING:tensorflow:Learning rate reduction is conditioned on metric `val_loss` which is not available. Available metrics are: loss,accuracy,lr\n",
            "75/75 [==============================] - 1s 12ms/step - loss: 0.0434 - accuracy: 0.9806 - lr: 3.0000e-05\n",
            "Epoch 83/200\n",
            "73/75 [============================>.] - ETA: 0s - loss: 0.0432 - accuracy: 0.9782WARNING:tensorflow:Early stopping conditioned on metric `val_loss` which is not available. Available metrics are: loss,accuracy\n",
            "WARNING:tensorflow:Learning rate reduction is conditioned on metric `val_loss` which is not available. Available metrics are: loss,accuracy,lr\n",
            "75/75 [==============================] - 1s 12ms/step - loss: 0.0428 - accuracy: 0.9785 - lr: 3.0000e-05\n",
            "Epoch 84/200\n",
            "71/75 [===========================>..] - ETA: 0s - loss: 0.0417 - accuracy: 0.9815WARNING:tensorflow:Early stopping conditioned on metric `val_loss` which is not available. Available metrics are: loss,accuracy\n",
            "WARNING:tensorflow:Learning rate reduction is conditioned on metric `val_loss` which is not available. Available metrics are: loss,accuracy,lr\n",
            "75/75 [==============================] - 1s 13ms/step - loss: 0.0421 - accuracy: 0.9810 - lr: 3.0000e-05\n",
            "Epoch 85/200\n",
            "72/75 [===========================>..] - ETA: 0s - loss: 0.0408 - accuracy: 0.9848WARNING:tensorflow:Early stopping conditioned on metric `val_loss` which is not available. Available metrics are: loss,accuracy\n",
            "WARNING:tensorflow:Learning rate reduction is conditioned on metric `val_loss` which is not available. Available metrics are: loss,accuracy,lr\n",
            "75/75 [==============================] - 1s 12ms/step - loss: 0.0408 - accuracy: 0.9848 - lr: 3.0000e-05\n",
            "Epoch 86/200\n",
            "73/75 [============================>.] - ETA: 0s - loss: 0.0400 - accuracy: 0.9829WARNING:tensorflow:Early stopping conditioned on metric `val_loss` which is not available. Available metrics are: loss,accuracy\n",
            "WARNING:tensorflow:Learning rate reduction is conditioned on metric `val_loss` which is not available. Available metrics are: loss,accuracy,lr\n",
            "75/75 [==============================] - 1s 12ms/step - loss: 0.0397 - accuracy: 0.9831 - lr: 3.0000e-05\n",
            "Epoch 87/200\n",
            "71/75 [===========================>..] - ETA: 0s - loss: 0.0381 - accuracy: 0.9837WARNING:tensorflow:Early stopping conditioned on metric `val_loss` which is not available. Available metrics are: loss,accuracy\n",
            "WARNING:tensorflow:Learning rate reduction is conditioned on metric `val_loss` which is not available. Available metrics are: loss,accuracy,lr\n",
            "75/75 [==============================] - 1s 12ms/step - loss: 0.0381 - accuracy: 0.9840 - lr: 3.0000e-05\n",
            "Epoch 88/200\n",
            "73/75 [============================>.] - ETA: 0s - loss: 0.0390 - accuracy: 0.9812WARNING:tensorflow:Early stopping conditioned on metric `val_loss` which is not available. Available metrics are: loss,accuracy\n",
            "WARNING:tensorflow:Learning rate reduction is conditioned on metric `val_loss` which is not available. Available metrics are: loss,accuracy,lr\n",
            "75/75 [==============================] - 1s 11ms/step - loss: 0.0386 - accuracy: 0.9815 - lr: 3.0000e-05\n",
            "Epoch 89/200\n",
            "74/75 [============================>.] - ETA: 0s - loss: 0.0382 - accuracy: 0.9831WARNING:tensorflow:Early stopping conditioned on metric `val_loss` which is not available. Available metrics are: loss,accuracy\n",
            "WARNING:tensorflow:Learning rate reduction is conditioned on metric `val_loss` which is not available. Available metrics are: loss,accuracy,lr\n",
            "75/75 [==============================] - 1s 11ms/step - loss: 0.0382 - accuracy: 0.9831 - lr: 3.0000e-05\n",
            "Epoch 90/200\n",
            "73/75 [============================>.] - ETA: 0s - loss: 0.0355 - accuracy: 0.9842WARNING:tensorflow:Early stopping conditioned on metric `val_loss` which is not available. Available metrics are: loss,accuracy\n",
            "WARNING:tensorflow:Learning rate reduction is conditioned on metric `val_loss` which is not available. Available metrics are: loss,accuracy,lr\n",
            "75/75 [==============================] - 1s 12ms/step - loss: 0.0356 - accuracy: 0.9844 - lr: 3.0000e-05\n",
            "Epoch 91/200\n",
            "74/75 [============================>.] - ETA: 0s - loss: 0.0341 - accuracy: 0.9873WARNING:tensorflow:Early stopping conditioned on metric `val_loss` which is not available. Available metrics are: loss,accuracy\n",
            "WARNING:tensorflow:Learning rate reduction is conditioned on metric `val_loss` which is not available. Available metrics are: loss,accuracy,lr\n",
            "75/75 [==============================] - 1s 12ms/step - loss: 0.0341 - accuracy: 0.9874 - lr: 3.0000e-05\n",
            "Epoch 92/200\n",
            "71/75 [===========================>..] - ETA: 0s - loss: 0.0341 - accuracy: 0.9881WARNING:tensorflow:Early stopping conditioned on metric `val_loss` which is not available. Available metrics are: loss,accuracy\n",
            "WARNING:tensorflow:Learning rate reduction is conditioned on metric `val_loss` which is not available. Available metrics are: loss,accuracy,lr\n",
            "75/75 [==============================] - 1s 12ms/step - loss: 0.0333 - accuracy: 0.9886 - lr: 3.0000e-05\n",
            "Epoch 93/200\n",
            "75/75 [==============================] - ETA: 0s - loss: 0.0330 - accuracy: 0.9886WARNING:tensorflow:Early stopping conditioned on metric `val_loss` which is not available. Available metrics are: loss,accuracy\n",
            "WARNING:tensorflow:Learning rate reduction is conditioned on metric `val_loss` which is not available. Available metrics are: loss,accuracy,lr\n",
            "75/75 [==============================] - 1s 12ms/step - loss: 0.0330 - accuracy: 0.9886 - lr: 3.0000e-05\n",
            "Epoch 94/200\n",
            "72/75 [===========================>..] - ETA: 0s - loss: 0.0311 - accuracy: 0.9891WARNING:tensorflow:Early stopping conditioned on metric `val_loss` which is not available. Available metrics are: loss,accuracy\n",
            "WARNING:tensorflow:Learning rate reduction is conditioned on metric `val_loss` which is not available. Available metrics are: loss,accuracy,lr\n",
            "75/75 [==============================] - 1s 12ms/step - loss: 0.0312 - accuracy: 0.9886 - lr: 3.0000e-05\n",
            "Epoch 95/200\n",
            "72/75 [===========================>..] - ETA: 0s - loss: 0.0310 - accuracy: 0.9887WARNING:tensorflow:Early stopping conditioned on metric `val_loss` which is not available. Available metrics are: loss,accuracy\n",
            "WARNING:tensorflow:Learning rate reduction is conditioned on metric `val_loss` which is not available. Available metrics are: loss,accuracy,lr\n",
            "75/75 [==============================] - 1s 12ms/step - loss: 0.0309 - accuracy: 0.9890 - lr: 3.0000e-05\n",
            "Epoch 96/200\n",
            "75/75 [==============================] - ETA: 0s - loss: 0.0310 - accuracy: 0.9903WARNING:tensorflow:Early stopping conditioned on metric `val_loss` which is not available. Available metrics are: loss,accuracy\n",
            "WARNING:tensorflow:Learning rate reduction is conditioned on metric `val_loss` which is not available. Available metrics are: loss,accuracy,lr\n",
            "75/75 [==============================] - 1s 12ms/step - loss: 0.0310 - accuracy: 0.9903 - lr: 3.0000e-05\n",
            "Epoch 97/200\n",
            "74/75 [============================>.] - ETA: 0s - loss: 0.0303 - accuracy: 0.9894WARNING:tensorflow:Early stopping conditioned on metric `val_loss` which is not available. Available metrics are: loss,accuracy\n",
            "WARNING:tensorflow:Learning rate reduction is conditioned on metric `val_loss` which is not available. Available metrics are: loss,accuracy,lr\n",
            "75/75 [==============================] - 1s 12ms/step - loss: 0.0303 - accuracy: 0.9895 - lr: 3.0000e-05\n",
            "Epoch 98/200\n",
            "74/75 [============================>.] - ETA: 0s - loss: 0.0288 - accuracy: 0.9911WARNING:tensorflow:Early stopping conditioned on metric `val_loss` which is not available. Available metrics are: loss,accuracy\n",
            "WARNING:tensorflow:Learning rate reduction is conditioned on metric `val_loss` which is not available. Available metrics are: loss,accuracy,lr\n",
            "75/75 [==============================] - 1s 12ms/step - loss: 0.0287 - accuracy: 0.9912 - lr: 3.0000e-05\n",
            "Epoch 99/200\n",
            "74/75 [============================>.] - ETA: 0s - loss: 0.0264 - accuracy: 0.9937WARNING:tensorflow:Early stopping conditioned on metric `val_loss` which is not available. Available metrics are: loss,accuracy\n",
            "WARNING:tensorflow:Learning rate reduction is conditioned on metric `val_loss` which is not available. Available metrics are: loss,accuracy,lr\n",
            "75/75 [==============================] - 1s 12ms/step - loss: 0.0263 - accuracy: 0.9937 - lr: 3.0000e-05\n",
            "Epoch 100/200\n",
            "71/75 [===========================>..] - ETA: 0s - loss: 0.0256 - accuracy: 0.9903WARNING:tensorflow:Early stopping conditioned on metric `val_loss` which is not available. Available metrics are: loss,accuracy\n",
            "WARNING:tensorflow:Learning rate reduction is conditioned on metric `val_loss` which is not available. Available metrics are: loss,accuracy,lr\n",
            "75/75 [==============================] - 1s 12ms/step - loss: 0.0254 - accuracy: 0.9907 - lr: 3.0000e-05\n",
            "Epoch 101/200\n",
            "71/75 [===========================>..] - ETA: 0s - loss: 0.0245 - accuracy: 0.9947WARNING:tensorflow:Early stopping conditioned on metric `val_loss` which is not available. Available metrics are: loss,accuracy\n",
            "WARNING:tensorflow:Learning rate reduction is conditioned on metric `val_loss` which is not available. Available metrics are: loss,accuracy,lr\n",
            "75/75 [==============================] - 1s 12ms/step - loss: 0.0251 - accuracy: 0.9945 - lr: 3.0000e-05\n",
            "Epoch 102/200\n",
            "73/75 [============================>.] - ETA: 0s - loss: 0.0246 - accuracy: 0.9961WARNING:tensorflow:Early stopping conditioned on metric `val_loss` which is not available. Available metrics are: loss,accuracy\n",
            "WARNING:tensorflow:Learning rate reduction is conditioned on metric `val_loss` which is not available. Available metrics are: loss,accuracy,lr\n",
            "75/75 [==============================] - 1s 11ms/step - loss: 0.0250 - accuracy: 0.9958 - lr: 3.0000e-05\n",
            "Epoch 103/200\n",
            "72/75 [===========================>..] - ETA: 0s - loss: 0.0250 - accuracy: 0.9952WARNING:tensorflow:Early stopping conditioned on metric `val_loss` which is not available. Available metrics are: loss,accuracy\n",
            "WARNING:tensorflow:Learning rate reduction is conditioned on metric `val_loss` which is not available. Available metrics are: loss,accuracy,lr\n",
            "75/75 [==============================] - 1s 12ms/step - loss: 0.0251 - accuracy: 0.9954 - lr: 3.0000e-05\n",
            "Epoch 104/200\n",
            "73/75 [============================>.] - ETA: 0s - loss: 0.0241 - accuracy: 0.9902WARNING:tensorflow:Early stopping conditioned on metric `val_loss` which is not available. Available metrics are: loss,accuracy\n",
            "WARNING:tensorflow:Learning rate reduction is conditioned on metric `val_loss` which is not available. Available metrics are: loss,accuracy,lr\n",
            "75/75 [==============================] - 1s 12ms/step - loss: 0.0239 - accuracy: 0.9903 - lr: 3.0000e-05\n",
            "Epoch 105/200\n",
            "72/75 [===========================>..] - ETA: 0s - loss: 0.0235 - accuracy: 0.9935WARNING:tensorflow:Early stopping conditioned on metric `val_loss` which is not available. Available metrics are: loss,accuracy\n",
            "WARNING:tensorflow:Learning rate reduction is conditioned on metric `val_loss` which is not available. Available metrics are: loss,accuracy,lr\n",
            "75/75 [==============================] - 1s 12ms/step - loss: 0.0237 - accuracy: 0.9937 - lr: 3.0000e-05\n",
            "Epoch 106/200\n",
            "72/75 [===========================>..] - ETA: 0s - loss: 0.0221 - accuracy: 0.9957WARNING:tensorflow:Early stopping conditioned on metric `val_loss` which is not available. Available metrics are: loss,accuracy\n",
            "WARNING:tensorflow:Learning rate reduction is conditioned on metric `val_loss` which is not available. Available metrics are: loss,accuracy,lr\n",
            "75/75 [==============================] - 1s 12ms/step - loss: 0.0222 - accuracy: 0.9949 - lr: 3.0000e-05\n",
            "Epoch 107/200\n",
            "71/75 [===========================>..] - ETA: 0s - loss: 0.0228 - accuracy: 0.9930WARNING:tensorflow:Early stopping conditioned on metric `val_loss` which is not available. Available metrics are: loss,accuracy\n",
            "WARNING:tensorflow:Learning rate reduction is conditioned on metric `val_loss` which is not available. Available metrics are: loss,accuracy,lr\n",
            "75/75 [==============================] - 1s 12ms/step - loss: 0.0224 - accuracy: 0.9933 - lr: 3.0000e-05\n",
            "Epoch 108/200\n",
            "72/75 [===========================>..] - ETA: 0s - loss: 0.0215 - accuracy: 0.9952WARNING:tensorflow:Early stopping conditioned on metric `val_loss` which is not available. Available metrics are: loss,accuracy\n",
            "WARNING:tensorflow:Learning rate reduction is conditioned on metric `val_loss` which is not available. Available metrics are: loss,accuracy,lr\n",
            "75/75 [==============================] - 1s 12ms/step - loss: 0.0217 - accuracy: 0.9954 - lr: 3.0000e-05\n",
            "Epoch 109/200\n",
            "71/75 [===========================>..] - ETA: 0s - loss: 0.0204 - accuracy: 0.9965WARNING:tensorflow:Early stopping conditioned on metric `val_loss` which is not available. Available metrics are: loss,accuracy\n",
            "WARNING:tensorflow:Learning rate reduction is conditioned on metric `val_loss` which is not available. Available metrics are: loss,accuracy,lr\n",
            "75/75 [==============================] - 1s 12ms/step - loss: 0.0205 - accuracy: 0.9966 - lr: 3.0000e-05\n",
            "Epoch 110/200\n",
            "71/75 [===========================>..] - ETA: 0s - loss: 0.0196 - accuracy: 0.9952WARNING:tensorflow:Early stopping conditioned on metric `val_loss` which is not available. Available metrics are: loss,accuracy\n",
            "WARNING:tensorflow:Learning rate reduction is conditioned on metric `val_loss` which is not available. Available metrics are: loss,accuracy,lr\n",
            "75/75 [==============================] - 1s 12ms/step - loss: 0.0195 - accuracy: 0.9954 - lr: 3.0000e-05\n",
            "Epoch 111/200\n",
            "73/75 [============================>.] - ETA: 0s - loss: 0.0195 - accuracy: 0.9961WARNING:tensorflow:Early stopping conditioned on metric `val_loss` which is not available. Available metrics are: loss,accuracy\n",
            "WARNING:tensorflow:Learning rate reduction is conditioned on metric `val_loss` which is not available. Available metrics are: loss,accuracy,lr\n",
            "75/75 [==============================] - 1s 12ms/step - loss: 0.0195 - accuracy: 0.9962 - lr: 3.0000e-05\n",
            "Epoch 112/200\n",
            "74/75 [============================>.] - ETA: 0s - loss: 0.0184 - accuracy: 0.9958WARNING:tensorflow:Early stopping conditioned on metric `val_loss` which is not available. Available metrics are: loss,accuracy\n",
            "WARNING:tensorflow:Learning rate reduction is conditioned on metric `val_loss` which is not available. Available metrics are: loss,accuracy,lr\n",
            "75/75 [==============================] - 1s 12ms/step - loss: 0.0183 - accuracy: 0.9958 - lr: 3.0000e-05\n",
            "Epoch 113/200\n",
            "73/75 [============================>.] - ETA: 0s - loss: 0.0192 - accuracy: 0.9949WARNING:tensorflow:Early stopping conditioned on metric `val_loss` which is not available. Available metrics are: loss,accuracy\n",
            "WARNING:tensorflow:Learning rate reduction is conditioned on metric `val_loss` which is not available. Available metrics are: loss,accuracy,lr\n",
            "75/75 [==============================] - 1s 11ms/step - loss: 0.0190 - accuracy: 0.9949 - lr: 3.0000e-05\n",
            "Epoch 114/200\n",
            "74/75 [============================>.] - ETA: 0s - loss: 0.0199 - accuracy: 0.9949WARNING:tensorflow:Early stopping conditioned on metric `val_loss` which is not available. Available metrics are: loss,accuracy\n",
            "WARNING:tensorflow:Learning rate reduction is conditioned on metric `val_loss` which is not available. Available metrics are: loss,accuracy,lr\n",
            "75/75 [==============================] - 1s 12ms/step - loss: 0.0198 - accuracy: 0.9949 - lr: 3.0000e-05\n",
            "Epoch 115/200\n",
            "74/75 [============================>.] - ETA: 0s - loss: 0.0187 - accuracy: 0.9954WARNING:tensorflow:Early stopping conditioned on metric `val_loss` which is not available. Available metrics are: loss,accuracy\n",
            "WARNING:tensorflow:Learning rate reduction is conditioned on metric `val_loss` which is not available. Available metrics are: loss,accuracy,lr\n",
            "75/75 [==============================] - 1s 11ms/step - loss: 0.0187 - accuracy: 0.9954 - lr: 3.0000e-05\n",
            "Epoch 116/200\n",
            "72/75 [===========================>..] - ETA: 0s - loss: 0.0179 - accuracy: 0.9970WARNING:tensorflow:Early stopping conditioned on metric `val_loss` which is not available. Available metrics are: loss,accuracy\n",
            "WARNING:tensorflow:Learning rate reduction is conditioned on metric `val_loss` which is not available. Available metrics are: loss,accuracy,lr\n",
            "75/75 [==============================] - 1s 12ms/step - loss: 0.0176 - accuracy: 0.9971 - lr: 3.0000e-05\n",
            "Epoch 117/200\n",
            "73/75 [============================>.] - ETA: 0s - loss: 0.0161 - accuracy: 0.9970WARNING:tensorflow:Early stopping conditioned on metric `val_loss` which is not available. Available metrics are: loss,accuracy\n",
            "WARNING:tensorflow:Learning rate reduction is conditioned on metric `val_loss` which is not available. Available metrics are: loss,accuracy,lr\n",
            "75/75 [==============================] - 1s 12ms/step - loss: 0.0160 - accuracy: 0.9971 - lr: 3.0000e-05\n",
            "Epoch 118/200\n",
            "72/75 [===========================>..] - ETA: 0s - loss: 0.0154 - accuracy: 0.9983WARNING:tensorflow:Early stopping conditioned on metric `val_loss` which is not available. Available metrics are: loss,accuracy\n",
            "WARNING:tensorflow:Learning rate reduction is conditioned on metric `val_loss` which is not available. Available metrics are: loss,accuracy,lr\n",
            "75/75 [==============================] - 1s 12ms/step - loss: 0.0153 - accuracy: 0.9983 - lr: 3.0000e-05\n",
            "Epoch 119/200\n",
            "73/75 [============================>.] - ETA: 0s - loss: 0.0155 - accuracy: 0.9961WARNING:tensorflow:Early stopping conditioned on metric `val_loss` which is not available. Available metrics are: loss,accuracy\n",
            "WARNING:tensorflow:Learning rate reduction is conditioned on metric `val_loss` which is not available. Available metrics are: loss,accuracy,lr\n",
            "75/75 [==============================] - 1s 12ms/step - loss: 0.0156 - accuracy: 0.9962 - lr: 3.0000e-05\n",
            "Epoch 120/200\n",
            "71/75 [===========================>..] - ETA: 0s - loss: 0.0152 - accuracy: 0.9960WARNING:tensorflow:Early stopping conditioned on metric `val_loss` which is not available. Available metrics are: loss,accuracy\n",
            "WARNING:tensorflow:Learning rate reduction is conditioned on metric `val_loss` which is not available. Available metrics are: loss,accuracy,lr\n",
            "75/75 [==============================] - 1s 12ms/step - loss: 0.0155 - accuracy: 0.9958 - lr: 3.0000e-05\n",
            "Epoch 121/200\n",
            "71/75 [===========================>..] - ETA: 0s - loss: 0.0138 - accuracy: 0.9982WARNING:tensorflow:Early stopping conditioned on metric `val_loss` which is not available. Available metrics are: loss,accuracy\n",
            "WARNING:tensorflow:Learning rate reduction is conditioned on metric `val_loss` which is not available. Available metrics are: loss,accuracy,lr\n",
            "75/75 [==============================] - 1s 12ms/step - loss: 0.0143 - accuracy: 0.9979 - lr: 3.0000e-05\n",
            "Epoch 122/200\n",
            "73/75 [============================>.] - ETA: 0s - loss: 0.0156 - accuracy: 0.9974WARNING:tensorflow:Early stopping conditioned on metric `val_loss` which is not available. Available metrics are: loss,accuracy\n",
            "WARNING:tensorflow:Learning rate reduction is conditioned on metric `val_loss` which is not available. Available metrics are: loss,accuracy,lr\n",
            "75/75 [==============================] - 1s 12ms/step - loss: 0.0157 - accuracy: 0.9975 - lr: 3.0000e-05\n",
            "Epoch 123/200\n",
            "75/75 [==============================] - ETA: 0s - loss: 0.0146 - accuracy: 0.9971WARNING:tensorflow:Early stopping conditioned on metric `val_loss` which is not available. Available metrics are: loss,accuracy\n",
            "WARNING:tensorflow:Learning rate reduction is conditioned on metric `val_loss` which is not available. Available metrics are: loss,accuracy,lr\n",
            "75/75 [==============================] - 1s 12ms/step - loss: 0.0146 - accuracy: 0.9971 - lr: 3.0000e-05\n",
            "Epoch 124/200\n",
            "72/75 [===========================>..] - ETA: 0s - loss: 0.0133 - accuracy: 0.9974WARNING:tensorflow:Early stopping conditioned on metric `val_loss` which is not available. Available metrics are: loss,accuracy\n",
            "WARNING:tensorflow:Learning rate reduction is conditioned on metric `val_loss` which is not available. Available metrics are: loss,accuracy,lr\n",
            "75/75 [==============================] - 1s 12ms/step - loss: 0.0132 - accuracy: 0.9975 - lr: 3.0000e-05\n",
            "Epoch 125/200\n",
            "74/75 [============================>.] - ETA: 0s - loss: 0.0132 - accuracy: 0.9970WARNING:tensorflow:Early stopping conditioned on metric `val_loss` which is not available. Available metrics are: loss,accuracy\n",
            "WARNING:tensorflow:Learning rate reduction is conditioned on metric `val_loss` which is not available. Available metrics are: loss,accuracy,lr\n",
            "75/75 [==============================] - 1s 12ms/step - loss: 0.0132 - accuracy: 0.9971 - lr: 3.0000e-05\n",
            "Epoch 126/200\n",
            "74/75 [============================>.] - ETA: 0s - loss: 0.0132 - accuracy: 0.9970WARNING:tensorflow:Early stopping conditioned on metric `val_loss` which is not available. Available metrics are: loss,accuracy\n",
            "WARNING:tensorflow:Learning rate reduction is conditioned on metric `val_loss` which is not available. Available metrics are: loss,accuracy,lr\n",
            "75/75 [==============================] - 1s 14ms/step - loss: 0.0132 - accuracy: 0.9971 - lr: 3.0000e-05\n",
            "Epoch 127/200\n",
            "72/75 [===========================>..] - ETA: 0s - loss: 0.0135 - accuracy: 0.9965WARNING:tensorflow:Early stopping conditioned on metric `val_loss` which is not available. Available metrics are: loss,accuracy\n",
            "WARNING:tensorflow:Learning rate reduction is conditioned on metric `val_loss` which is not available. Available metrics are: loss,accuracy,lr\n",
            "75/75 [==============================] - 1s 13ms/step - loss: 0.0136 - accuracy: 0.9966 - lr: 3.0000e-05\n",
            "Epoch 128/200\n",
            "72/75 [===========================>..] - ETA: 0s - loss: 0.0114 - accuracy: 0.9978WARNING:tensorflow:Early stopping conditioned on metric `val_loss` which is not available. Available metrics are: loss,accuracy\n",
            "WARNING:tensorflow:Learning rate reduction is conditioned on metric `val_loss` which is not available. Available metrics are: loss,accuracy,lr\n",
            "75/75 [==============================] - 1s 12ms/step - loss: 0.0115 - accuracy: 0.9979 - lr: 3.0000e-05\n",
            "Epoch 129/200\n",
            "75/75 [==============================] - ETA: 0s - loss: 0.0129 - accuracy: 0.9975WARNING:tensorflow:Early stopping conditioned on metric `val_loss` which is not available. Available metrics are: loss,accuracy\n",
            "WARNING:tensorflow:Learning rate reduction is conditioned on metric `val_loss` which is not available. Available metrics are: loss,accuracy,lr\n",
            "75/75 [==============================] - 1s 12ms/step - loss: 0.0129 - accuracy: 0.9975 - lr: 3.0000e-05\n",
            "Epoch 130/200\n",
            "74/75 [============================>.] - ETA: 0s - loss: 0.0115 - accuracy: 0.9970WARNING:tensorflow:Early stopping conditioned on metric `val_loss` which is not available. Available metrics are: loss,accuracy\n",
            "WARNING:tensorflow:Learning rate reduction is conditioned on metric `val_loss` which is not available. Available metrics are: loss,accuracy,lr\n",
            "75/75 [==============================] - 1s 12ms/step - loss: 0.0114 - accuracy: 0.9971 - lr: 3.0000e-05\n",
            "Epoch 131/200\n",
            "71/75 [===========================>..] - ETA: 0s - loss: 0.0107 - accuracy: 0.9978WARNING:tensorflow:Early stopping conditioned on metric `val_loss` which is not available. Available metrics are: loss,accuracy\n",
            "WARNING:tensorflow:Learning rate reduction is conditioned on metric `val_loss` which is not available. Available metrics are: loss,accuracy,lr\n",
            "75/75 [==============================] - 1s 12ms/step - loss: 0.0106 - accuracy: 0.9979 - lr: 3.0000e-05\n",
            "Epoch 132/200\n",
            "74/75 [============================>.] - ETA: 0s - loss: 0.0105 - accuracy: 0.9983WARNING:tensorflow:Early stopping conditioned on metric `val_loss` which is not available. Available metrics are: loss,accuracy\n",
            "WARNING:tensorflow:Learning rate reduction is conditioned on metric `val_loss` which is not available. Available metrics are: loss,accuracy,lr\n",
            "75/75 [==============================] - 1s 12ms/step - loss: 0.0105 - accuracy: 0.9983 - lr: 3.0000e-05\n",
            "Epoch 133/200\n",
            "73/75 [============================>.] - ETA: 0s - loss: 0.0104 - accuracy: 0.9991WARNING:tensorflow:Early stopping conditioned on metric `val_loss` which is not available. Available metrics are: loss,accuracy\n",
            "WARNING:tensorflow:Learning rate reduction is conditioned on metric `val_loss` which is not available. Available metrics are: loss,accuracy,lr\n",
            "75/75 [==============================] - 1s 12ms/step - loss: 0.0104 - accuracy: 0.9992 - lr: 3.0000e-05\n",
            "Epoch 134/200\n",
            "71/75 [===========================>..] - ETA: 0s - loss: 0.0102 - accuracy: 0.9991WARNING:tensorflow:Early stopping conditioned on metric `val_loss` which is not available. Available metrics are: loss,accuracy\n",
            "WARNING:tensorflow:Learning rate reduction is conditioned on metric `val_loss` which is not available. Available metrics are: loss,accuracy,lr\n",
            "75/75 [==============================] - 1s 12ms/step - loss: 0.0101 - accuracy: 0.9992 - lr: 3.0000e-05\n",
            "Epoch 135/200\n",
            "74/75 [============================>.] - ETA: 0s - loss: 0.0096 - accuracy: 0.9983WARNING:tensorflow:Early stopping conditioned on metric `val_loss` which is not available. Available metrics are: loss,accuracy\n",
            "WARNING:tensorflow:Learning rate reduction is conditioned on metric `val_loss` which is not available. Available metrics are: loss,accuracy,lr\n",
            "75/75 [==============================] - 1s 12ms/step - loss: 0.0096 - accuracy: 0.9983 - lr: 3.0000e-05\n",
            "Epoch 136/200\n",
            "73/75 [============================>.] - ETA: 0s - loss: 0.0094 - accuracy: 0.9987WARNING:tensorflow:Early stopping conditioned on metric `val_loss` which is not available. Available metrics are: loss,accuracy\n",
            "WARNING:tensorflow:Learning rate reduction is conditioned on metric `val_loss` which is not available. Available metrics are: loss,accuracy,lr\n",
            "75/75 [==============================] - 1s 12ms/step - loss: 0.0095 - accuracy: 0.9987 - lr: 3.0000e-05\n",
            "Epoch 137/200\n",
            "75/75 [==============================] - ETA: 0s - loss: 0.0106 - accuracy: 0.9979WARNING:tensorflow:Early stopping conditioned on metric `val_loss` which is not available. Available metrics are: loss,accuracy\n",
            "WARNING:tensorflow:Learning rate reduction is conditioned on metric `val_loss` which is not available. Available metrics are: loss,accuracy,lr\n",
            "75/75 [==============================] - 1s 12ms/step - loss: 0.0106 - accuracy: 0.9979 - lr: 3.0000e-05\n",
            "Epoch 138/200\n",
            "73/75 [============================>.] - ETA: 0s - loss: 0.0097 - accuracy: 0.9979WARNING:tensorflow:Early stopping conditioned on metric `val_loss` which is not available. Available metrics are: loss,accuracy\n",
            "WARNING:tensorflow:Learning rate reduction is conditioned on metric `val_loss` which is not available. Available metrics are: loss,accuracy,lr\n",
            "75/75 [==============================] - 1s 12ms/step - loss: 0.0097 - accuracy: 0.9979 - lr: 3.0000e-05\n",
            "Epoch 139/200\n",
            "75/75 [==============================] - ETA: 0s - loss: 0.0093 - accuracy: 0.9983WARNING:tensorflow:Early stopping conditioned on metric `val_loss` which is not available. Available metrics are: loss,accuracy\n",
            "WARNING:tensorflow:Learning rate reduction is conditioned on metric `val_loss` which is not available. Available metrics are: loss,accuracy,lr\n",
            "75/75 [==============================] - 1s 12ms/step - loss: 0.0093 - accuracy: 0.9983 - lr: 3.0000e-05\n",
            "Epoch 140/200\n",
            "74/75 [============================>.] - ETA: 0s - loss: 0.0074 - accuracy: 0.9979WARNING:tensorflow:Early stopping conditioned on metric `val_loss` which is not available. Available metrics are: loss,accuracy\n",
            "WARNING:tensorflow:Learning rate reduction is conditioned on metric `val_loss` which is not available. Available metrics are: loss,accuracy,lr\n",
            "75/75 [==============================] - 1s 12ms/step - loss: 0.0074 - accuracy: 0.9979 - lr: 3.0000e-05\n",
            "Epoch 141/200\n",
            "73/75 [============================>.] - ETA: 0s - loss: 0.0089 - accuracy: 0.9991WARNING:tensorflow:Early stopping conditioned on metric `val_loss` which is not available. Available metrics are: loss,accuracy\n",
            "WARNING:tensorflow:Learning rate reduction is conditioned on metric `val_loss` which is not available. Available metrics are: loss,accuracy,lr\n",
            "75/75 [==============================] - 1s 12ms/step - loss: 0.0088 - accuracy: 0.9992 - lr: 3.0000e-05\n",
            "Epoch 142/200\n",
            "74/75 [============================>.] - ETA: 0s - loss: 0.0090 - accuracy: 0.9987WARNING:tensorflow:Early stopping conditioned on metric `val_loss` which is not available. Available metrics are: loss,accuracy\n",
            "WARNING:tensorflow:Learning rate reduction is conditioned on metric `val_loss` which is not available. Available metrics are: loss,accuracy,lr\n",
            "75/75 [==============================] - 1s 11ms/step - loss: 0.0090 - accuracy: 0.9987 - lr: 3.0000e-05\n",
            "Epoch 143/200\n",
            "74/75 [============================>.] - ETA: 0s - loss: 0.0074 - accuracy: 0.9987WARNING:tensorflow:Early stopping conditioned on metric `val_loss` which is not available. Available metrics are: loss,accuracy\n",
            "WARNING:tensorflow:Learning rate reduction is conditioned on metric `val_loss` which is not available. Available metrics are: loss,accuracy,lr\n",
            "75/75 [==============================] - 1s 11ms/step - loss: 0.0074 - accuracy: 0.9987 - lr: 3.0000e-05\n",
            "Epoch 144/200\n",
            "75/75 [==============================] - ETA: 0s - loss: 0.0074 - accuracy: 0.9983WARNING:tensorflow:Early stopping conditioned on metric `val_loss` which is not available. Available metrics are: loss,accuracy\n",
            "WARNING:tensorflow:Learning rate reduction is conditioned on metric `val_loss` which is not available. Available metrics are: loss,accuracy,lr\n",
            "75/75 [==============================] - 1s 11ms/step - loss: 0.0074 - accuracy: 0.9983 - lr: 3.0000e-05\n",
            "Epoch 145/200\n",
            "71/75 [===========================>..] - ETA: 0s - loss: 0.0089 - accuracy: 0.9978WARNING:tensorflow:Early stopping conditioned on metric `val_loss` which is not available. Available metrics are: loss,accuracy\n",
            "WARNING:tensorflow:Learning rate reduction is conditioned on metric `val_loss` which is not available. Available metrics are: loss,accuracy,lr\n",
            "75/75 [==============================] - 1s 12ms/step - loss: 0.0092 - accuracy: 0.9975 - lr: 3.0000e-05\n",
            "Epoch 146/200\n",
            "75/75 [==============================] - ETA: 0s - loss: 0.0081 - accuracy: 0.9983WARNING:tensorflow:Early stopping conditioned on metric `val_loss` which is not available. Available metrics are: loss,accuracy\n",
            "WARNING:tensorflow:Learning rate reduction is conditioned on metric `val_loss` which is not available. Available metrics are: loss,accuracy,lr\n",
            "75/75 [==============================] - 1s 12ms/step - loss: 0.0081 - accuracy: 0.9983 - lr: 3.0000e-05\n",
            "Epoch 147/200\n",
            "71/75 [===========================>..] - ETA: 0s - loss: 0.0071 - accuracy: 0.9991WARNING:tensorflow:Early stopping conditioned on metric `val_loss` which is not available. Available metrics are: loss,accuracy\n",
            "WARNING:tensorflow:Learning rate reduction is conditioned on metric `val_loss` which is not available. Available metrics are: loss,accuracy,lr\n",
            "75/75 [==============================] - 1s 12ms/step - loss: 0.0070 - accuracy: 0.9992 - lr: 3.0000e-05\n",
            "Epoch 148/200\n",
            "73/75 [============================>.] - ETA: 0s - loss: 0.0080 - accuracy: 0.9987WARNING:tensorflow:Early stopping conditioned on metric `val_loss` which is not available. Available metrics are: loss,accuracy\n",
            "WARNING:tensorflow:Learning rate reduction is conditioned on metric `val_loss` which is not available. Available metrics are: loss,accuracy,lr\n",
            "75/75 [==============================] - 1s 13ms/step - loss: 0.0079 - accuracy: 0.9987 - lr: 3.0000e-05\n",
            "Epoch 149/200\n",
            "74/75 [============================>.] - ETA: 0s - loss: 0.0074 - accuracy: 0.9992WARNING:tensorflow:Early stopping conditioned on metric `val_loss` which is not available. Available metrics are: loss,accuracy\n",
            "WARNING:tensorflow:Learning rate reduction is conditioned on metric `val_loss` which is not available. Available metrics are: loss,accuracy,lr\n",
            "75/75 [==============================] - 1s 12ms/step - loss: 0.0074 - accuracy: 0.9992 - lr: 3.0000e-05\n",
            "Epoch 150/200\n",
            "74/75 [============================>.] - ETA: 0s - loss: 0.0071 - accuracy: 0.9983WARNING:tensorflow:Early stopping conditioned on metric `val_loss` which is not available. Available metrics are: loss,accuracy\n",
            "WARNING:tensorflow:Learning rate reduction is conditioned on metric `val_loss` which is not available. Available metrics are: loss,accuracy,lr\n",
            "75/75 [==============================] - 1s 12ms/step - loss: 0.0070 - accuracy: 0.9983 - lr: 3.0000e-05\n",
            "Epoch 151/200\n",
            "72/75 [===========================>..] - ETA: 0s - loss: 0.0067 - accuracy: 0.9978WARNING:tensorflow:Early stopping conditioned on metric `val_loss` which is not available. Available metrics are: loss,accuracy\n",
            "WARNING:tensorflow:Learning rate reduction is conditioned on metric `val_loss` which is not available. Available metrics are: loss,accuracy,lr\n",
            "75/75 [==============================] - 1s 12ms/step - loss: 0.0067 - accuracy: 0.9979 - lr: 3.0000e-05\n",
            "Epoch 152/200\n",
            "74/75 [============================>.] - ETA: 0s - loss: 0.0061 - accuracy: 0.9987WARNING:tensorflow:Early stopping conditioned on metric `val_loss` which is not available. Available metrics are: loss,accuracy\n",
            "WARNING:tensorflow:Learning rate reduction is conditioned on metric `val_loss` which is not available. Available metrics are: loss,accuracy,lr\n",
            "75/75 [==============================] - 1s 12ms/step - loss: 0.0061 - accuracy: 0.9987 - lr: 3.0000e-05\n",
            "Epoch 153/200\n",
            "72/75 [===========================>..] - ETA: 0s - loss: 0.0065 - accuracy: 0.9987WARNING:tensorflow:Early stopping conditioned on metric `val_loss` which is not available. Available metrics are: loss,accuracy\n",
            "WARNING:tensorflow:Learning rate reduction is conditioned on metric `val_loss` which is not available. Available metrics are: loss,accuracy,lr\n",
            "75/75 [==============================] - 1s 12ms/step - loss: 0.0065 - accuracy: 0.9987 - lr: 3.0000e-05\n",
            "Epoch 154/200\n",
            "71/75 [===========================>..] - ETA: 0s - loss: 0.0068 - accuracy: 0.9978WARNING:tensorflow:Early stopping conditioned on metric `val_loss` which is not available. Available metrics are: loss,accuracy\n",
            "WARNING:tensorflow:Learning rate reduction is conditioned on metric `val_loss` which is not available. Available metrics are: loss,accuracy,lr\n",
            "75/75 [==============================] - 1s 12ms/step - loss: 0.0067 - accuracy: 0.9979 - lr: 3.0000e-05\n",
            "Epoch 155/200\n",
            "73/75 [============================>.] - ETA: 0s - loss: 0.0059 - accuracy: 0.9983WARNING:tensorflow:Early stopping conditioned on metric `val_loss` which is not available. Available metrics are: loss,accuracy\n",
            "WARNING:tensorflow:Learning rate reduction is conditioned on metric `val_loss` which is not available. Available metrics are: loss,accuracy,lr\n",
            "75/75 [==============================] - 1s 12ms/step - loss: 0.0059 - accuracy: 0.9983 - lr: 3.0000e-05\n",
            "Epoch 156/200\n",
            "75/75 [==============================] - ETA: 0s - loss: 0.0066 - accuracy: 0.9979WARNING:tensorflow:Early stopping conditioned on metric `val_loss` which is not available. Available metrics are: loss,accuracy\n",
            "WARNING:tensorflow:Learning rate reduction is conditioned on metric `val_loss` which is not available. Available metrics are: loss,accuracy,lr\n",
            "75/75 [==============================] - 1s 12ms/step - loss: 0.0066 - accuracy: 0.9979 - lr: 3.0000e-05\n",
            "Epoch 157/200\n",
            "71/75 [===========================>..] - ETA: 0s - loss: 0.0052 - accuracy: 0.9991WARNING:tensorflow:Early stopping conditioned on metric `val_loss` which is not available. Available metrics are: loss,accuracy\n",
            "WARNING:tensorflow:Learning rate reduction is conditioned on metric `val_loss` which is not available. Available metrics are: loss,accuracy,lr\n",
            "75/75 [==============================] - 1s 12ms/step - loss: 0.0051 - accuracy: 0.9992 - lr: 3.0000e-05\n",
            "Epoch 158/200\n",
            "73/75 [============================>.] - ETA: 0s - loss: 0.0053 - accuracy: 0.9991WARNING:tensorflow:Early stopping conditioned on metric `val_loss` which is not available. Available metrics are: loss,accuracy\n",
            "WARNING:tensorflow:Learning rate reduction is conditioned on metric `val_loss` which is not available. Available metrics are: loss,accuracy,lr\n",
            "75/75 [==============================] - 1s 12ms/step - loss: 0.0053 - accuracy: 0.9992 - lr: 3.0000e-05\n",
            "Epoch 159/200\n",
            "71/75 [===========================>..] - ETA: 0s - loss: 0.0054 - accuracy: 0.9987WARNING:tensorflow:Early stopping conditioned on metric `val_loss` which is not available. Available metrics are: loss,accuracy\n",
            "WARNING:tensorflow:Learning rate reduction is conditioned on metric `val_loss` which is not available. Available metrics are: loss,accuracy,lr\n",
            "75/75 [==============================] - 1s 12ms/step - loss: 0.0055 - accuracy: 0.9987 - lr: 3.0000e-05\n",
            "Epoch 160/200\n",
            "74/75 [============================>.] - ETA: 0s - loss: 0.0051 - accuracy: 0.9987WARNING:tensorflow:Early stopping conditioned on metric `val_loss` which is not available. Available metrics are: loss,accuracy\n",
            "WARNING:tensorflow:Learning rate reduction is conditioned on metric `val_loss` which is not available. Available metrics are: loss,accuracy,lr\n",
            "75/75 [==============================] - 1s 12ms/step - loss: 0.0050 - accuracy: 0.9987 - lr: 3.0000e-05\n",
            "Epoch 161/200\n",
            "74/75 [============================>.] - ETA: 0s - loss: 0.0048 - accuracy: 0.9987WARNING:tensorflow:Early stopping conditioned on metric `val_loss` which is not available. Available metrics are: loss,accuracy\n",
            "WARNING:tensorflow:Learning rate reduction is conditioned on metric `val_loss` which is not available. Available metrics are: loss,accuracy,lr\n",
            "75/75 [==============================] - 1s 12ms/step - loss: 0.0048 - accuracy: 0.9987 - lr: 3.0000e-05\n",
            "Epoch 162/200\n",
            "72/75 [===========================>..] - ETA: 0s - loss: 0.0055 - accuracy: 0.9987WARNING:tensorflow:Early stopping conditioned on metric `val_loss` which is not available. Available metrics are: loss,accuracy\n",
            "WARNING:tensorflow:Learning rate reduction is conditioned on metric `val_loss` which is not available. Available metrics are: loss,accuracy,lr\n",
            "75/75 [==============================] - 1s 12ms/step - loss: 0.0054 - accuracy: 0.9987 - lr: 3.0000e-05\n",
            "Epoch 163/200\n",
            "73/75 [============================>.] - ETA: 0s - loss: 0.0055 - accuracy: 0.9987WARNING:tensorflow:Early stopping conditioned on metric `val_loss` which is not available. Available metrics are: loss,accuracy\n",
            "WARNING:tensorflow:Learning rate reduction is conditioned on metric `val_loss` which is not available. Available metrics are: loss,accuracy,lr\n",
            "75/75 [==============================] - 1s 12ms/step - loss: 0.0055 - accuracy: 0.9987 - lr: 3.0000e-05\n",
            "Epoch 164/200\n",
            "71/75 [===========================>..] - ETA: 0s - loss: 0.0051 - accuracy: 0.9982WARNING:tensorflow:Early stopping conditioned on metric `val_loss` which is not available. Available metrics are: loss,accuracy\n",
            "WARNING:tensorflow:Learning rate reduction is conditioned on metric `val_loss` which is not available. Available metrics are: loss,accuracy,lr\n",
            "75/75 [==============================] - 1s 13ms/step - loss: 0.0052 - accuracy: 0.9983 - lr: 3.0000e-05\n",
            "Epoch 165/200\n",
            "74/75 [============================>.] - ETA: 0s - loss: 0.0049 - accuracy: 0.9983WARNING:tensorflow:Early stopping conditioned on metric `val_loss` which is not available. Available metrics are: loss,accuracy\n",
            "WARNING:tensorflow:Learning rate reduction is conditioned on metric `val_loss` which is not available. Available metrics are: loss,accuracy,lr\n",
            "75/75 [==============================] - 1s 13ms/step - loss: 0.0049 - accuracy: 0.9983 - lr: 3.0000e-05\n",
            "Epoch 166/200\n",
            "75/75 [==============================] - ETA: 0s - loss: 0.0051 - accuracy: 0.9987WARNING:tensorflow:Early stopping conditioned on metric `val_loss` which is not available. Available metrics are: loss,accuracy\n",
            "WARNING:tensorflow:Learning rate reduction is conditioned on metric `val_loss` which is not available. Available metrics are: loss,accuracy,lr\n",
            "75/75 [==============================] - 1s 13ms/step - loss: 0.0051 - accuracy: 0.9987 - lr: 3.0000e-05\n",
            "Epoch 167/200\n",
            "75/75 [==============================] - ETA: 0s - loss: 0.0053 - accuracy: 0.9983WARNING:tensorflow:Early stopping conditioned on metric `val_loss` which is not available. Available metrics are: loss,accuracy\n",
            "WARNING:tensorflow:Learning rate reduction is conditioned on metric `val_loss` which is not available. Available metrics are: loss,accuracy,lr\n",
            "75/75 [==============================] - 1s 13ms/step - loss: 0.0053 - accuracy: 0.9983 - lr: 3.0000e-05\n",
            "Epoch 168/200\n",
            "72/75 [===========================>..] - ETA: 0s - loss: 0.0044 - accuracy: 0.9996WARNING:tensorflow:Early stopping conditioned on metric `val_loss` which is not available. Available metrics are: loss,accuracy\n",
            "WARNING:tensorflow:Learning rate reduction is conditioned on metric `val_loss` which is not available. Available metrics are: loss,accuracy,lr\n",
            "75/75 [==============================] - 1s 12ms/step - loss: 0.0044 - accuracy: 0.9996 - lr: 3.0000e-05\n",
            "Epoch 169/200\n",
            "74/75 [============================>.] - ETA: 0s - loss: 0.0049 - accuracy: 0.9983WARNING:tensorflow:Early stopping conditioned on metric `val_loss` which is not available. Available metrics are: loss,accuracy\n",
            "WARNING:tensorflow:Learning rate reduction is conditioned on metric `val_loss` which is not available. Available metrics are: loss,accuracy,lr\n",
            "75/75 [==============================] - 1s 13ms/step - loss: 0.0049 - accuracy: 0.9983 - lr: 3.0000e-05\n",
            "Epoch 170/200\n",
            "75/75 [==============================] - ETA: 0s - loss: 0.0043 - accuracy: 0.9996WARNING:tensorflow:Early stopping conditioned on metric `val_loss` which is not available. Available metrics are: loss,accuracy\n",
            "WARNING:tensorflow:Learning rate reduction is conditioned on metric `val_loss` which is not available. Available metrics are: loss,accuracy,lr\n",
            "75/75 [==============================] - 1s 13ms/step - loss: 0.0043 - accuracy: 0.9996 - lr: 3.0000e-05\n",
            "Epoch 171/200\n",
            "72/75 [===========================>..] - ETA: 0s - loss: 0.0039 - accuracy: 0.9996WARNING:tensorflow:Early stopping conditioned on metric `val_loss` which is not available. Available metrics are: loss,accuracy\n",
            "WARNING:tensorflow:Learning rate reduction is conditioned on metric `val_loss` which is not available. Available metrics are: loss,accuracy,lr\n",
            "75/75 [==============================] - 1s 13ms/step - loss: 0.0039 - accuracy: 0.9996 - lr: 3.0000e-05\n",
            "Epoch 172/200\n",
            "72/75 [===========================>..] - ETA: 0s - loss: 0.0042 - accuracy: 0.9987WARNING:tensorflow:Early stopping conditioned on metric `val_loss` which is not available. Available metrics are: loss,accuracy\n",
            "WARNING:tensorflow:Learning rate reduction is conditioned on metric `val_loss` which is not available. Available metrics are: loss,accuracy,lr\n",
            "75/75 [==============================] - 1s 12ms/step - loss: 0.0043 - accuracy: 0.9987 - lr: 3.0000e-05\n",
            "Epoch 173/200\n",
            "74/75 [============================>.] - ETA: 0s - loss: 0.0043 - accuracy: 0.9992WARNING:tensorflow:Early stopping conditioned on metric `val_loss` which is not available. Available metrics are: loss,accuracy\n",
            "WARNING:tensorflow:Learning rate reduction is conditioned on metric `val_loss` which is not available. Available metrics are: loss,accuracy,lr\n",
            "75/75 [==============================] - 1s 13ms/step - loss: 0.0043 - accuracy: 0.9992 - lr: 3.0000e-05\n",
            "Epoch 174/200\n",
            "72/75 [===========================>..] - ETA: 0s - loss: 0.0037 - accuracy: 1.0000WARNING:tensorflow:Early stopping conditioned on metric `val_loss` which is not available. Available metrics are: loss,accuracy\n",
            "WARNING:tensorflow:Learning rate reduction is conditioned on metric `val_loss` which is not available. Available metrics are: loss,accuracy,lr\n",
            "75/75 [==============================] - 1s 13ms/step - loss: 0.0036 - accuracy: 1.0000 - lr: 3.0000e-05\n",
            "Epoch 175/200\n",
            "72/75 [===========================>..] - ETA: 0s - loss: 0.0038 - accuracy: 0.9991WARNING:tensorflow:Early stopping conditioned on metric `val_loss` which is not available. Available metrics are: loss,accuracy\n",
            "WARNING:tensorflow:Learning rate reduction is conditioned on metric `val_loss` which is not available. Available metrics are: loss,accuracy,lr\n",
            "75/75 [==============================] - 1s 13ms/step - loss: 0.0038 - accuracy: 0.9992 - lr: 3.0000e-05\n",
            "Epoch 176/200\n",
            "71/75 [===========================>..] - ETA: 0s - loss: 0.0034 - accuracy: 0.9991WARNING:tensorflow:Early stopping conditioned on metric `val_loss` which is not available. Available metrics are: loss,accuracy\n",
            "WARNING:tensorflow:Learning rate reduction is conditioned on metric `val_loss` which is not available. Available metrics are: loss,accuracy,lr\n",
            "75/75 [==============================] - 1s 12ms/step - loss: 0.0038 - accuracy: 0.9987 - lr: 3.0000e-05\n",
            "Epoch 177/200\n",
            "75/75 [==============================] - ETA: 0s - loss: 0.0039 - accuracy: 0.9992WARNING:tensorflow:Early stopping conditioned on metric `val_loss` which is not available. Available metrics are: loss,accuracy\n",
            "WARNING:tensorflow:Learning rate reduction is conditioned on metric `val_loss` which is not available. Available metrics are: loss,accuracy,lr\n",
            "75/75 [==============================] - 1s 12ms/step - loss: 0.0039 - accuracy: 0.9992 - lr: 3.0000e-05\n",
            "Epoch 178/200\n",
            "71/75 [===========================>..] - ETA: 0s - loss: 0.0040 - accuracy: 0.9982WARNING:tensorflow:Early stopping conditioned on metric `val_loss` which is not available. Available metrics are: loss,accuracy\n",
            "WARNING:tensorflow:Learning rate reduction is conditioned on metric `val_loss` which is not available. Available metrics are: loss,accuracy,lr\n",
            "75/75 [==============================] - 1s 12ms/step - loss: 0.0039 - accuracy: 0.9983 - lr: 3.0000e-05\n",
            "Epoch 179/200\n",
            "73/75 [============================>.] - ETA: 0s - loss: 0.0035 - accuracy: 0.9991WARNING:tensorflow:Early stopping conditioned on metric `val_loss` which is not available. Available metrics are: loss,accuracy\n",
            "WARNING:tensorflow:Learning rate reduction is conditioned on metric `val_loss` which is not available. Available metrics are: loss,accuracy,lr\n",
            "75/75 [==============================] - 1s 12ms/step - loss: 0.0034 - accuracy: 0.9992 - lr: 3.0000e-05\n",
            "Epoch 180/200\n",
            "72/75 [===========================>..] - ETA: 0s - loss: 0.0037 - accuracy: 0.9987WARNING:tensorflow:Early stopping conditioned on metric `val_loss` which is not available. Available metrics are: loss,accuracy\n",
            "WARNING:tensorflow:Learning rate reduction is conditioned on metric `val_loss` which is not available. Available metrics are: loss,accuracy,lr\n",
            "75/75 [==============================] - 1s 12ms/step - loss: 0.0036 - accuracy: 0.9987 - lr: 3.0000e-05\n",
            "Epoch 181/200\n",
            "72/75 [===========================>..] - ETA: 0s - loss: 0.0036 - accuracy: 0.9987WARNING:tensorflow:Early stopping conditioned on metric `val_loss` which is not available. Available metrics are: loss,accuracy\n",
            "WARNING:tensorflow:Learning rate reduction is conditioned on metric `val_loss` which is not available. Available metrics are: loss,accuracy,lr\n",
            "75/75 [==============================] - 1s 12ms/step - loss: 0.0035 - accuracy: 0.9987 - lr: 3.0000e-05\n",
            "Epoch 182/200\n",
            "73/75 [============================>.] - ETA: 0s - loss: 0.0042 - accuracy: 0.9983WARNING:tensorflow:Early stopping conditioned on metric `val_loss` which is not available. Available metrics are: loss,accuracy\n",
            "WARNING:tensorflow:Learning rate reduction is conditioned on metric `val_loss` which is not available. Available metrics are: loss,accuracy,lr\n",
            "75/75 [==============================] - 1s 11ms/step - loss: 0.0042 - accuracy: 0.9983 - lr: 3.0000e-05\n",
            "Epoch 183/200\n",
            "72/75 [===========================>..] - ETA: 0s - loss: 0.0035 - accuracy: 0.9996WARNING:tensorflow:Early stopping conditioned on metric `val_loss` which is not available. Available metrics are: loss,accuracy\n",
            "WARNING:tensorflow:Learning rate reduction is conditioned on metric `val_loss` which is not available. Available metrics are: loss,accuracy,lr\n",
            "75/75 [==============================] - 1s 12ms/step - loss: 0.0034 - accuracy: 0.9996 - lr: 3.0000e-05\n",
            "Epoch 184/200\n",
            "73/75 [============================>.] - ETA: 0s - loss: 0.0037 - accuracy: 0.9983WARNING:tensorflow:Early stopping conditioned on metric `val_loss` which is not available. Available metrics are: loss,accuracy\n",
            "WARNING:tensorflow:Learning rate reduction is conditioned on metric `val_loss` which is not available. Available metrics are: loss,accuracy,lr\n",
            "75/75 [==============================] - 1s 12ms/step - loss: 0.0037 - accuracy: 0.9983 - lr: 3.0000e-05\n",
            "Epoch 185/200\n",
            "72/75 [===========================>..] - ETA: 0s - loss: 0.0027 - accuracy: 0.9996WARNING:tensorflow:Early stopping conditioned on metric `val_loss` which is not available. Available metrics are: loss,accuracy\n",
            "WARNING:tensorflow:Learning rate reduction is conditioned on metric `val_loss` which is not available. Available metrics are: loss,accuracy,lr\n",
            "75/75 [==============================] - 1s 12ms/step - loss: 0.0028 - accuracy: 0.9996 - lr: 3.0000e-05\n",
            "Epoch 186/200\n",
            "75/75 [==============================] - ETA: 0s - loss: 0.0038 - accuracy: 0.9987WARNING:tensorflow:Early stopping conditioned on metric `val_loss` which is not available. Available metrics are: loss,accuracy\n",
            "WARNING:tensorflow:Learning rate reduction is conditioned on metric `val_loss` which is not available. Available metrics are: loss,accuracy,lr\n",
            "75/75 [==============================] - 1s 12ms/step - loss: 0.0038 - accuracy: 0.9987 - lr: 3.0000e-05\n",
            "Epoch 187/200\n",
            "71/75 [===========================>..] - ETA: 0s - loss: 0.0033 - accuracy: 0.9991WARNING:tensorflow:Early stopping conditioned on metric `val_loss` which is not available. Available metrics are: loss,accuracy\n",
            "WARNING:tensorflow:Learning rate reduction is conditioned on metric `val_loss` which is not available. Available metrics are: loss,accuracy,lr\n",
            "75/75 [==============================] - 1s 12ms/step - loss: 0.0032 - accuracy: 0.9992 - lr: 3.0000e-05\n",
            "Epoch 188/200\n",
            "74/75 [============================>.] - ETA: 0s - loss: 0.0031 - accuracy: 0.9992WARNING:tensorflow:Early stopping conditioned on metric `val_loss` which is not available. Available metrics are: loss,accuracy\n",
            "WARNING:tensorflow:Learning rate reduction is conditioned on metric `val_loss` which is not available. Available metrics are: loss,accuracy,lr\n",
            "75/75 [==============================] - 1s 12ms/step - loss: 0.0031 - accuracy: 0.9992 - lr: 3.0000e-05\n",
            "Epoch 189/200\n",
            "74/75 [============================>.] - ETA: 0s - loss: 0.0035 - accuracy: 0.9992WARNING:tensorflow:Early stopping conditioned on metric `val_loss` which is not available. Available metrics are: loss,accuracy\n",
            "WARNING:tensorflow:Learning rate reduction is conditioned on metric `val_loss` which is not available. Available metrics are: loss,accuracy,lr\n",
            "75/75 [==============================] - 1s 12ms/step - loss: 0.0035 - accuracy: 0.9992 - lr: 3.0000e-05\n",
            "Epoch 190/200\n",
            "71/75 [===========================>..] - ETA: 0s - loss: 0.0031 - accuracy: 0.9996WARNING:tensorflow:Early stopping conditioned on metric `val_loss` which is not available. Available metrics are: loss,accuracy\n",
            "WARNING:tensorflow:Learning rate reduction is conditioned on metric `val_loss` which is not available. Available metrics are: loss,accuracy,lr\n",
            "75/75 [==============================] - 1s 12ms/step - loss: 0.0031 - accuracy: 0.9996 - lr: 3.0000e-05\n",
            "Epoch 191/200\n",
            "74/75 [============================>.] - ETA: 0s - loss: 0.0028 - accuracy: 0.9996WARNING:tensorflow:Early stopping conditioned on metric `val_loss` which is not available. Available metrics are: loss,accuracy\n",
            "WARNING:tensorflow:Learning rate reduction is conditioned on metric `val_loss` which is not available. Available metrics are: loss,accuracy,lr\n",
            "75/75 [==============================] - 1s 12ms/step - loss: 0.0028 - accuracy: 0.9996 - lr: 3.0000e-05\n",
            "Epoch 192/200\n",
            "75/75 [==============================] - ETA: 0s - loss: 0.0032 - accuracy: 0.9992WARNING:tensorflow:Early stopping conditioned on metric `val_loss` which is not available. Available metrics are: loss,accuracy\n",
            "WARNING:tensorflow:Learning rate reduction is conditioned on metric `val_loss` which is not available. Available metrics are: loss,accuracy,lr\n",
            "75/75 [==============================] - 1s 12ms/step - loss: 0.0032 - accuracy: 0.9992 - lr: 3.0000e-05\n",
            "Epoch 193/200\n",
            "73/75 [============================>.] - ETA: 0s - loss: 0.0030 - accuracy: 0.9996WARNING:tensorflow:Early stopping conditioned on metric `val_loss` which is not available. Available metrics are: loss,accuracy\n",
            "WARNING:tensorflow:Learning rate reduction is conditioned on metric `val_loss` which is not available. Available metrics are: loss,accuracy,lr\n",
            "75/75 [==============================] - 1s 12ms/step - loss: 0.0030 - accuracy: 0.9996 - lr: 3.0000e-05\n",
            "Epoch 194/200\n",
            "75/75 [==============================] - ETA: 0s - loss: 0.0025 - accuracy: 0.9987WARNING:tensorflow:Early stopping conditioned on metric `val_loss` which is not available. Available metrics are: loss,accuracy\n",
            "WARNING:tensorflow:Learning rate reduction is conditioned on metric `val_loss` which is not available. Available metrics are: loss,accuracy,lr\n",
            "75/75 [==============================] - 1s 12ms/step - loss: 0.0025 - accuracy: 0.9987 - lr: 3.0000e-05\n",
            "Epoch 195/200\n",
            "71/75 [===========================>..] - ETA: 0s - loss: 0.0026 - accuracy: 0.9991WARNING:tensorflow:Early stopping conditioned on metric `val_loss` which is not available. Available metrics are: loss,accuracy\n",
            "WARNING:tensorflow:Learning rate reduction is conditioned on metric `val_loss` which is not available. Available metrics are: loss,accuracy,lr\n",
            "75/75 [==============================] - 1s 12ms/step - loss: 0.0025 - accuracy: 0.9992 - lr: 3.0000e-05\n",
            "Epoch 196/200\n",
            "72/75 [===========================>..] - ETA: 0s - loss: 0.0037 - accuracy: 0.9991WARNING:tensorflow:Early stopping conditioned on metric `val_loss` which is not available. Available metrics are: loss,accuracy\n",
            "WARNING:tensorflow:Learning rate reduction is conditioned on metric `val_loss` which is not available. Available metrics are: loss,accuracy,lr\n",
            "75/75 [==============================] - 1s 12ms/step - loss: 0.0036 - accuracy: 0.9992 - lr: 3.0000e-05\n",
            "Epoch 197/200\n",
            "72/75 [===========================>..] - ETA: 0s - loss: 0.0028 - accuracy: 0.9996WARNING:tensorflow:Early stopping conditioned on metric `val_loss` which is not available. Available metrics are: loss,accuracy\n",
            "WARNING:tensorflow:Learning rate reduction is conditioned on metric `val_loss` which is not available. Available metrics are: loss,accuracy,lr\n",
            "75/75 [==============================] - 1s 12ms/step - loss: 0.0028 - accuracy: 0.9996 - lr: 3.0000e-05\n",
            "Epoch 198/200\n",
            "72/75 [===========================>..] - ETA: 0s - loss: 0.0030 - accuracy: 0.9996WARNING:tensorflow:Early stopping conditioned on metric `val_loss` which is not available. Available metrics are: loss,accuracy\n",
            "WARNING:tensorflow:Learning rate reduction is conditioned on metric `val_loss` which is not available. Available metrics are: loss,accuracy,lr\n",
            "75/75 [==============================] - 1s 12ms/step - loss: 0.0030 - accuracy: 0.9996 - lr: 3.0000e-05\n",
            "Epoch 199/200\n",
            "73/75 [============================>.] - ETA: 0s - loss: 0.0024 - accuracy: 0.9991WARNING:tensorflow:Early stopping conditioned on metric `val_loss` which is not available. Available metrics are: loss,accuracy\n",
            "WARNING:tensorflow:Learning rate reduction is conditioned on metric `val_loss` which is not available. Available metrics are: loss,accuracy,lr\n",
            "75/75 [==============================] - 1s 12ms/step - loss: 0.0023 - accuracy: 0.9992 - lr: 3.0000e-05\n",
            "Epoch 200/200\n",
            "74/75 [============================>.] - ETA: 0s - loss: 0.0027 - accuracy: 0.9996WARNING:tensorflow:Early stopping conditioned on metric `val_loss` which is not available. Available metrics are: loss,accuracy\n",
            "WARNING:tensorflow:Learning rate reduction is conditioned on metric `val_loss` which is not available. Available metrics are: loss,accuracy,lr\n",
            "75/75 [==============================] - 1s 12ms/step - loss: 0.0027 - accuracy: 0.9996 - lr: 3.0000e-05\n"
          ]
        }
      ]
    },
    {
      "cell_type": "markdown",
      "source": [
        "# log loss\n"
      ],
      "metadata": {
        "id": "X-COzVs_i1mx"
      }
    },
    {
      "cell_type": "code",
      "source": [
        "CNN1_model_predictions = CNN1_network.predict(padded_clean_text_t_stem)"
      ],
      "metadata": {
        "id": "Bl30c0mFi1Op"
      },
      "execution_count": null,
      "outputs": []
    },
    {
      "cell_type": "code",
      "source": [
        "from sklearn.metrics import log_loss\n",
        "log_loss_test= log_loss(label_twoDimension_t,CNN1_model_predictions)\n",
        "log_loss_test"
      ],
      "metadata": {
        "colab": {
          "base_uri": "https://localhost:8080/"
        },
        "id": "3T_cTUsai3wZ",
        "outputId": "d028f826-2598-4638-b5b6-b22494c13cd2"
      },
      "execution_count": null,
      "outputs": [
        {
          "output_type": "execute_result",
          "data": {
            "text/plain": [
              "1.6846130183538552"
            ]
          },
          "metadata": {},
          "execution_count": 69
        }
      ]
    },
    {
      "cell_type": "markdown",
      "source": [
        "# Classification Report\n"
      ],
      "metadata": {
        "id": "YmxE2C1pi5jH"
      }
    },
    {
      "cell_type": "code",
      "source": [
        "predictions = np.zeros_like(CNN1_model_predictions)\n",
        "predictions[np.arange(len(CNN1_model_predictions)), CNN1_model_predictions.argmax(1)] = 1"
      ],
      "metadata": {
        "id": "HLtXHbIYi89i"
      },
      "execution_count": null,
      "outputs": []
    },
    {
      "cell_type": "code",
      "source": [
        "\n",
        "\n",
        "predictionInteger=(np.argmax(predictions, axis=1))\n",
        "predictionInteger\n",
        "\n"
      ],
      "metadata": {
        "colab": {
          "base_uri": "https://localhost:8080/"
        },
        "id": "8-mBdpAPi5EH",
        "outputId": "50fbd409-9f3a-47e8-b6cf-522ea998ccda"
      },
      "execution_count": null,
      "outputs": [
        {
          "output_type": "execute_result",
          "data": {
            "text/plain": [
              "array([0, 0, 0, 0, 0, 0, 0, 0, 0, 0, 0, 0, 0, 1, 0, 0, 0, 0, 0, 0, 0, 0,\n",
              "       3, 0, 0, 3, 0, 0, 0, 0, 0, 0, 2, 3, 0, 0, 0, 0, 0, 0, 0, 0, 3, 0,\n",
              "       0, 0, 0, 3, 0, 0, 0, 0, 0, 3, 0, 1, 1, 0, 0, 0, 3, 0, 0, 0, 0, 0,\n",
              "       0, 0, 3, 0, 0, 0, 3, 3, 0, 0, 0, 0, 0, 0, 0, 0, 0, 0, 0, 0, 0, 0,\n",
              "       0, 0, 0, 0, 0, 0, 3, 0, 0, 0, 0, 1, 0, 0, 0, 0, 0, 0, 0, 3, 0, 0,\n",
              "       0, 3, 0, 0, 0, 0, 0, 3, 0, 0, 0, 0, 0, 0, 0, 0, 0, 0, 0, 0, 2, 0,\n",
              "       3, 3, 0, 0, 0, 0, 0, 0, 0, 0, 0, 0, 0, 0, 0, 0, 0, 0, 0, 0, 0, 0,\n",
              "       3, 0, 0, 0, 3, 0, 0, 0, 2, 0, 0, 0, 0, 0, 0, 0, 0, 0, 0, 3, 0, 0,\n",
              "       3, 0, 0, 0, 0, 0, 0, 0, 0, 0, 3, 0, 0, 0, 0, 0, 2, 0, 0, 0, 0, 0,\n",
              "       3, 0, 0, 0, 1, 3, 0, 3, 3, 0, 0, 0, 3, 3, 0, 0, 0, 0, 2, 0, 3, 0,\n",
              "       0, 0, 0, 0, 0, 0, 0, 0, 0, 0, 0, 3, 0, 0, 0, 0, 0, 0, 3, 0, 0, 0,\n",
              "       0, 0, 3, 0, 0, 3, 0, 3, 0, 0, 3, 2, 0, 0, 3, 0, 0, 0, 0, 0, 3, 0,\n",
              "       0, 0, 0, 0, 0, 0, 0, 0, 0, 0, 3, 0, 0, 0, 0, 0, 0, 0, 0, 0, 3, 0,\n",
              "       3, 0, 0, 0, 0, 0, 0, 0, 0, 0, 0, 0, 0, 2, 3, 2, 0, 0, 3, 0, 0, 0,\n",
              "       0, 0, 0, 0, 3, 0, 0, 3, 0, 0, 0, 0, 0, 0, 0, 0, 0, 0, 3, 0, 0, 0,\n",
              "       0, 0, 0, 0, 0, 0, 2, 0, 0, 0, 0, 0, 0, 0, 0, 0, 0, 0, 0, 3, 0, 0,\n",
              "       0, 0, 0, 0, 3, 0, 0, 0, 0, 0, 0, 0, 0, 0, 3, 0, 0, 1, 3, 0, 0, 0,\n",
              "       0, 0, 0, 0, 0, 0, 1, 0, 0, 1, 0, 3, 0, 0, 0, 0, 0, 0, 0, 1, 0, 0,\n",
              "       0, 3, 0, 0, 0, 2, 0, 0, 0, 0, 0, 0, 0, 0, 0, 0, 0, 0, 0, 0, 0, 0,\n",
              "       0, 3, 0, 3, 3, 3, 0, 0, 3, 0, 0, 0, 0, 0, 0, 0, 3, 0, 0, 1, 0, 0,\n",
              "       0, 3, 0, 0, 0, 0, 0, 0, 0, 0, 0, 0, 0, 0, 0, 2, 0, 0, 0, 0, 0, 0,\n",
              "       0, 0, 0, 0, 0, 0, 0, 0, 0, 0, 0, 3, 2, 0, 0, 0, 0, 0, 0, 0, 0, 0,\n",
              "       0, 0, 3, 0, 0, 0, 0, 0, 0, 0, 0, 0, 0, 0, 0, 0, 3, 0, 0, 0, 0, 0,\n",
              "       0, 0, 3, 0, 0, 2, 2, 0, 0, 0, 0, 3, 0, 0, 0, 0, 0, 0, 3, 0])"
            ]
          },
          "metadata": {},
          "execution_count": 71
        }
      ]
    },
    {
      "cell_type": "code",
      "source": [
        "\n",
        "\n",
        "pred_label = np.array(predictionInteger)\n",
        "df = pd.DataFrame(data=pred_label , columns=[\"task2\"])\n",
        "print(df)\n",
        "\n"
      ],
      "metadata": {
        "colab": {
          "base_uri": "https://localhost:8080/"
        },
        "id": "Tv0ZsJnvjAED",
        "outputId": "4004e931-3c04-4986-8494-a3cdabb79a49"
      },
      "execution_count": null,
      "outputs": [
        {
          "output_type": "stream",
          "name": "stdout",
          "text": [
            "     task2\n",
            "0        0\n",
            "1        0\n",
            "2        0\n",
            "3        0\n",
            "4        0\n",
            "..     ...\n",
            "521      0\n",
            "522      0\n",
            "523      0\n",
            "524      3\n",
            "525      0\n",
            "\n",
            "[526 rows x 1 columns]\n"
          ]
        }
      ]
    },
    {
      "cell_type": "code",
      "source": [
        "df.to_csv(\"NSIT_HASOC2020_TASK_B_submission_DE_B.csv\", index=False)"
      ],
      "metadata": {
        "id": "jBqkLudajBpv"
      },
      "execution_count": null,
      "outputs": []
    },
    {
      "cell_type": "code",
      "source": [
        "\n",
        "\n",
        "from sklearn.metrics import classification_report\n",
        "print(classification_report(label_twoDimension_t,predictions))\n",
        "\n"
      ],
      "metadata": {
        "colab": {
          "base_uri": "https://localhost:8080/"
        },
        "id": "fsfeuW-BjDEZ",
        "outputId": "83516e15-8dd7-4284-8762-903cbfdfadc3"
      },
      "execution_count": null,
      "outputs": [
        {
          "output_type": "stream",
          "name": "stdout",
          "text": [
            "              precision    recall  f1-score   support\n",
            "\n",
            "           0       0.82      0.95      0.88       378\n",
            "           1       0.30      0.12      0.18        24\n",
            "           2       0.29      0.11      0.16        36\n",
            "           3       0.65      0.47      0.54        88\n",
            "\n",
            "   micro avg       0.77      0.77      0.77       526\n",
            "   macro avg       0.51      0.41      0.44       526\n",
            "weighted avg       0.73      0.77      0.74       526\n",
            " samples avg       0.77      0.77      0.77       526\n",
            "\n"
          ]
        }
      ]
    },
    {
      "cell_type": "markdown",
      "source": [
        "# Epoch v/s Loss Plot\n"
      ],
      "metadata": {
        "id": "KehHd81EjEQz"
      }
    },
    {
      "cell_type": "code",
      "source": [
        "from matplotlib import pyplot as plt\n",
        "plt.plot(hist.history[\"loss\"],color = 'red', label = 'train_loss')\n",
        "#plt.plot(hist.history[\"val_loss\"],color = 'blue', label = 'val_loss')\n",
        "plt.title('Loss Visualisation')\n",
        "plt.xlabel('Epochs')\n",
        "plt.ylabel('Loss')\n",
        "plt.legend()\n",
        "plt.savefig('CNN1_HASOC2020_TASK_B_Ger_lossPlot.pdf',dpi=1000)\n",
        "\n",
        "from google.colab import files\n",
        "files.download('CNN1_HASOC2020_TASK_B_Ger_lossPlot.pdf')"
      ],
      "metadata": {
        "colab": {
          "base_uri": "https://localhost:8080/",
          "height": 295
        },
        "id": "I4SQi68BjDew",
        "outputId": "e7ec2bbe-36e7-4a41-ed79-ca2af443afc5"
      },
      "execution_count": null,
      "outputs": [
        {
          "output_type": "display_data",
          "data": {
            "text/plain": [
              "<IPython.core.display.Javascript object>"
            ],
            "application/javascript": [
              "\n",
              "    async function download(id, filename, size) {\n",
              "      if (!google.colab.kernel.accessAllowed) {\n",
              "        return;\n",
              "      }\n",
              "      const div = document.createElement('div');\n",
              "      const label = document.createElement('label');\n",
              "      label.textContent = `Downloading \"${filename}\": `;\n",
              "      div.appendChild(label);\n",
              "      const progress = document.createElement('progress');\n",
              "      progress.max = size;\n",
              "      div.appendChild(progress);\n",
              "      document.body.appendChild(div);\n",
              "\n",
              "      const buffers = [];\n",
              "      let downloaded = 0;\n",
              "\n",
              "      const channel = await google.colab.kernel.comms.open(id);\n",
              "      // Send a message to notify the kernel that we're ready.\n",
              "      channel.send({})\n",
              "\n",
              "      for await (const message of channel.messages) {\n",
              "        // Send a message to notify the kernel that we're ready.\n",
              "        channel.send({})\n",
              "        if (message.buffers) {\n",
              "          for (const buffer of message.buffers) {\n",
              "            buffers.push(buffer);\n",
              "            downloaded += buffer.byteLength;\n",
              "            progress.value = downloaded;\n",
              "          }\n",
              "        }\n",
              "      }\n",
              "      const blob = new Blob(buffers, {type: 'application/binary'});\n",
              "      const a = document.createElement('a');\n",
              "      a.href = window.URL.createObjectURL(blob);\n",
              "      a.download = filename;\n",
              "      div.appendChild(a);\n",
              "      a.click();\n",
              "      div.remove();\n",
              "    }\n",
              "  "
            ]
          },
          "metadata": {}
        },
        {
          "output_type": "display_data",
          "data": {
            "text/plain": [
              "<IPython.core.display.Javascript object>"
            ],
            "application/javascript": [
              "download(\"download_e7f2e1d7-d135-4c76-9dd8-3a593d9daba4\", \"CNN1_HASOC2020_TASK_B_Ger_lossPlot.pdf\", 12619)"
            ]
          },
          "metadata": {}
        },
        {
          "output_type": "display_data",
          "data": {
            "text/plain": [
              "<Figure size 432x288 with 1 Axes>"
            ],
            "image/png": "[encoded data removed]"
          },
          "metadata": {
            "needs_background": "light"
          }
        }
      ]
    },
    {
      "cell_type": "markdown",
      "source": [
        "# Epoch v/s Accuracy Plot\n"
      ],
      "metadata": {
        "id": "1oMtXXwPjJdQ"
      }
    },
    {
      "cell_type": "code",
      "source": [
        "\n",
        "\n",
        "plt.plot(hist.history[\"accuracy\"],color = 'red', label = 'train_accuracy')\n",
        "#plt.plot(hist.history[\"val_accuracy\"],color = 'blue', label = 'val_accuracy')\n",
        "plt.title('Accuracy Visualisation')\n",
        "plt.xlabel('Epochs')\n",
        "plt.ylabel('Accuracy')\n",
        "plt.legend()\n",
        "plt.savefig('CNN1_HASOC2020_TASK_B_Ger_accuracyPlot.pdf',dpi=1000)\n",
        "files.download('CNN1_HASOC2020_TASK_B_Ger_accuracyPlot.pdf') \n",
        "\n"
      ],
      "metadata": {
        "colab": {
          "base_uri": "https://localhost:8080/",
          "height": 295
        },
        "id": "Sej7c-CtjHjQ",
        "outputId": "8f356a70-51b1-4354-e7ca-8dd42790b0e6"
      },
      "execution_count": null,
      "outputs": [
        {
          "output_type": "display_data",
          "data": {
            "text/plain": [
              "<IPython.core.display.Javascript object>"
            ],
            "application/javascript": [
              "\n",
              "    async function download(id, filename, size) {\n",
              "      if (!google.colab.kernel.accessAllowed) {\n",
              "        return;\n",
              "      }\n",
              "      const div = document.createElement('div');\n",
              "      const label = document.createElement('label');\n",
              "      label.textContent = `Downloading \"${filename}\": `;\n",
              "      div.appendChild(label);\n",
              "      const progress = document.createElement('progress');\n",
              "      progress.max = size;\n",
              "      div.appendChild(progress);\n",
              "      document.body.appendChild(div);\n",
              "\n",
              "      const buffers = [];\n",
              "      let downloaded = 0;\n",
              "\n",
              "      const channel = await google.colab.kernel.comms.open(id);\n",
              "      // Send a message to notify the kernel that we're ready.\n",
              "      channel.send({})\n",
              "\n",
              "      for await (const message of channel.messages) {\n",
              "        // Send a message to notify the kernel that we're ready.\n",
              "        channel.send({})\n",
              "        if (message.buffers) {\n",
              "          for (const buffer of message.buffers) {\n",
              "            buffers.push(buffer);\n",
              "            downloaded += buffer.byteLength;\n",
              "            progress.value = downloaded;\n",
              "          }\n",
              "        }\n",
              "      }\n",
              "      const blob = new Blob(buffers, {type: 'application/binary'});\n",
              "      const a = document.createElement('a');\n",
              "      a.href = window.URL.createObjectURL(blob);\n",
              "      a.download = filename;\n",
              "      div.appendChild(a);\n",
              "      a.click();\n",
              "      div.remove();\n",
              "    }\n",
              "  "
            ]
          },
          "metadata": {}
        },
        {
          "output_type": "display_data",
          "data": {
            "text/plain": [
              "<IPython.core.display.Javascript object>"
            ],
            "application/javascript": [
              "download(\"download_8fb171bd-7566-4456-8f5b-285e4c02eba0\", \"CNN1_HASOC2020_TASK_B_Ger_accuracyPlot.pdf\", 13186)"
            ]
          },
          "metadata": {}
        },
        {
          "output_type": "display_data",
          "data": {
            "text/plain": [
              "<Figure size 432x288 with 1 Axes>"
            ],
            "image/png": "[encoded data removed]"
          },
          "metadata": {
            "needs_background": "light"
          }
        }
      ]
    },
    {
      "cell_type": "markdown",
      "source": [
        "# Area under Curve-ROC\n"
      ],
      "metadata": {
        "id": "OGLwNZ2mjNb3"
      }
    },
    {
      "cell_type": "code",
      "source": [
        "\n",
        "\n",
        "pred_train = CNN1_network.predict(padded_clean_text_stem)\n",
        "pred_test = CNN1_network.predict(padded_clean_text_t_stem)\n",
        "\n"
      ],
      "metadata": {
        "id": "os4Atge3jOfa"
      },
      "execution_count": null,
      "outputs": []
    },
    {
      "cell_type": "code",
      "source": [
        "\n",
        "\n",
        "import numpy as np\n",
        "import matplotlib.pyplot as plt\n",
        "from itertools import cycle\n",
        "\n",
        "from sklearn import svm, datasets\n",
        "from sklearn.metrics import roc_curve, auc\n",
        "from sklearn.model_selection import train_test_split\n",
        "from sklearn.preprocessing import label_binarize\n",
        "from sklearn.multiclass import OneVsRestClassifier\n",
        "from scipy import interp\n",
        "\n",
        "def plot_AUC_ROC(y_true, y_pred):\n",
        "    n_classes = 2 #change this value according to class value\n",
        "\n",
        "    # Compute ROC curve and ROC area for each class\n",
        "    fpr = dict()\n",
        "    tpr = dict()\n",
        "    roc_auc = dict()\n",
        "    for i in range(n_classes):\n",
        "        fpr[i], tpr[i], _ = roc_curve(y_true[:, i], y_pred[:, i])\n",
        "        roc_auc[i] = auc(fpr[i], tpr[i])\n",
        "\n",
        "    # Compute micro-average ROC curve and ROC area\n",
        "    fpr[\"micro\"], tpr[\"micro\"], _ = roc_curve(y_true.ravel(), y_pred.ravel())\n",
        "    roc_auc[\"micro\"] = auc(fpr[\"micro\"], tpr[\"micro\"])\n",
        "############################################################################################\n",
        "    lw = 2\n",
        "    # Compute macro-average ROC curve and ROC area\n",
        "\n",
        "    # First aggregate all false positive rates\n",
        "    all_fpr = np.unique(np.concatenate([fpr[i] for i in range(n_classes)]))\n",
        "\n",
        "    # Then interpolate all ROC curves at this points\n",
        "    mean_tpr = np.zeros_like(all_fpr)\n",
        "    for i in range(n_classes):\n",
        "        mean_tpr += interp(all_fpr, fpr[i], tpr[i])\n",
        "\n",
        "    # Finally average it and compute AUC\n",
        "    mean_tpr /= n_classes\n",
        "\n",
        "    fpr[\"macro\"] = all_fpr\n",
        "    tpr[\"macro\"] = mean_tpr\n",
        "    roc_auc[\"macro\"] = auc(fpr[\"macro\"], tpr[\"macro\"])\n",
        "\n",
        "    # Plot all ROC curves\n",
        "    plt.figure()\n",
        "    \n",
        "    plt.plot(fpr[\"micro\"], tpr[\"micro\"],\n",
        "            label='micro-average ROC curve (area = {0:0.2f})'\n",
        "               ''.format(roc_auc[\"micro\"]),\n",
        "            color='deeppink', linestyle=':', linewidth=4)\n",
        "\n",
        "    plt.plot(fpr[\"macro\"], tpr[\"macro\"],\n",
        "            label='macro-average ROC curve (area = {0:0.2f})'\n",
        "               ''.format(roc_auc[\"macro\"]),\n",
        "            color='navy', linestyle=':', linewidth=4)\n",
        "    \n",
        "    colors = cycle(['aqua', 'darkorange'])\n",
        "    #classes_list1 = [\"DE\",\"NE\",\"DK\"]\n",
        "    classes_list1 = [\"Non-duplicate\",\"Duplicate\"]\n",
        "    for i, color,c in zip(range(n_classes), colors,classes_list1):\n",
        "        plt.plot(fpr[i], tpr[i], color=color, lw=lw,\n",
        "                label='{0} (AUC = {1:0.2f})'\n",
        "                ''.format(c, roc_auc[i]))\n",
        "\n",
        "    plt.plot([0, 1], [0, 1], 'k--', lw=lw)\n",
        "    plt.xlim([0.0, 1.0])\n",
        "    plt.ylim([0.0, 1.05])\n",
        "    plt.xlabel('False Positive Rate')\n",
        "    plt.ylabel('True Positive Rate')\n",
        "    plt.title('Receiver operating characteristic curve')\n",
        "    plt.legend(loc=\"lower right\")\n",
        "    #plt.show()\n",
        "    plt.savefig('CNN1_HASOC2020_TASK_B_Ger_Area_RocPlot.pdf',dpi=1000)\n",
        "    files.download('CNN1_HASOC2020_TASK_B_Ger_Area_RocPlot.pdf')\n",
        "\n",
        "  \n",
        "\n"
      ],
      "metadata": {
        "id": "zCddahO-jQE8"
      },
      "execution_count": null,
      "outputs": []
    },
    {
      "cell_type": "code",
      "source": [
        "plot_AUC_ROC(label_twoDimension_t,pred_test)"
      ],
      "metadata": {
        "colab": {
          "base_uri": "https://localhost:8080/",
          "height": 313
        },
        "id": "vhyO0ypUjURS",
        "outputId": "fb0d26c0-afa4-4dae-9e43-178369d115ec"
      },
      "execution_count": null,
      "outputs": [
        {
          "output_type": "stream",
          "name": "stderr",
          "text": [
            "/usr/local/lib/python3.7/dist-packages/ipykernel_launcher.py:38: DeprecationWarning: scipy.interp is deprecated and will be removed in SciPy 2.0.0, use numpy.interp instead\n"
          ]
        },
        {
          "output_type": "display_data",
          "data": {
            "text/plain": [
              "<IPython.core.display.Javascript object>"
            ],
            "application/javascript": [
              "\n",
              "    async function download(id, filename, size) {\n",
              "      if (!google.colab.kernel.accessAllowed) {\n",
              "        return;\n",
              "      }\n",
              "      const div = document.createElement('div');\n",
              "      const label = document.createElement('label');\n",
              "      label.textContent = `Downloading \"${filename}\": `;\n",
              "      div.appendChild(label);\n",
              "      const progress = document.createElement('progress');\n",
              "      progress.max = size;\n",
              "      div.appendChild(progress);\n",
              "      document.body.appendChild(div);\n",
              "\n",
              "      const buffers = [];\n",
              "      let downloaded = 0;\n",
              "\n",
              "      const channel = await google.colab.kernel.comms.open(id);\n",
              "      // Send a message to notify the kernel that we're ready.\n",
              "      channel.send({})\n",
              "\n",
              "      for await (const message of channel.messages) {\n",
              "        // Send a message to notify the kernel that we're ready.\n",
              "        channel.send({})\n",
              "        if (message.buffers) {\n",
              "          for (const buffer of message.buffers) {\n",
              "            buffers.push(buffer);\n",
              "            downloaded += buffer.byteLength;\n",
              "            progress.value = downloaded;\n",
              "          }\n",
              "        }\n",
              "      }\n",
              "      const blob = new Blob(buffers, {type: 'application/binary'});\n",
              "      const a = document.createElement('a');\n",
              "      a.href = window.URL.createObjectURL(blob);\n",
              "      a.download = filename;\n",
              "      div.appendChild(a);\n",
              "      a.click();\n",
              "      div.remove();\n",
              "    }\n",
              "  "
            ]
          },
          "metadata": {}
        },
        {
          "output_type": "display_data",
          "data": {
            "text/plain": [
              "<IPython.core.display.Javascript object>"
            ],
            "application/javascript": [
              "download(\"download_af7632b6-96f2-49ed-bb63-5c14ae7fb1a5\", \"CNN1_HASOC2020_TASK_B_Ger_Area_RocPlot.pdf\", 19732)"
            ]
          },
          "metadata": {}
        },
        {
          "output_type": "display_data",
          "data": {
            "text/plain": [
              "<Figure size 432x288 with 1 Axes>"
            ],
            "image/png": "[encoded data removed]"
          },
          "metadata": {
            "needs_background": "light"
          }
        }
      ]
    }
  ]
}
